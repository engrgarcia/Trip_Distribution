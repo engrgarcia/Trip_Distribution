{
 "cells": [
  {
   "cell_type": "markdown",
   "metadata": {},
   "source": [
    "# Introduction"
   ]
  },
  {
   "cell_type": "markdown",
   "metadata": {},
   "source": []
  },
  {
   "cell_type": "markdown",
   "metadata": {},
   "source": [
    "## 1. Importing Libraries"
   ]
  },
  {
   "cell_type": "code",
   "execution_count": 10,
   "metadata": {},
   "outputs": [],
   "source": [
    "# General\n",
    "import warnings\n",
    "import numpy as np\n",
    "import pandas as pd\n",
    "\n",
    "# Plotting\n",
    "import matplotlib.pyplot as plt\n",
    "from matplotlib.ticker import FuncFormatter\n",
    "import seaborn as sns\n",
    "import plotly.express as px\n",
    "import plotly.graph_objects as go\n",
    "import missingno as msno\n",
    "from plotly.subplots import make_subplots\n",
    "from plotly.offline import download_plotlyjs, plot, iplot\n",
    "from plotly.offline import init_notebook_mode\n",
    "import cufflinks as cf\n",
    "import plotly.io as pio\n",
    "from IPython.display import Image"
   ]
  },
  {
   "cell_type": "markdown",
   "metadata": {},
   "source": [
    "General set-up"
   ]
  },
  {
   "cell_type": "code",
   "execution_count": 11,
   "metadata": {},
   "outputs": [
    {
     "name": "stdout",
     "output_type": "stream",
     "text": [
      "The watermark extension is already loaded. To reload it, use:\n",
      "  %reload_ext watermark\n",
      "Last updated: 2024-08-26T21:19:53.385217+08:00\n",
      "\n",
      "Python implementation: CPython\n",
      "Python version       : 3.10.13\n",
      "IPython version      : 8.22.2\n",
      "\n",
      "conda environment: data_analysis_31013\n",
      "\n"
     ]
    },
    {
     "data": {
      "text/html": [
       "        <script type=\"text/javascript\">\n",
       "        window.PlotlyConfig = {MathJaxConfig: 'local'};\n",
       "        if (window.MathJax && window.MathJax.Hub && window.MathJax.Hub.Config) {window.MathJax.Hub.Config({SVG: {font: \"STIX-Web\"}});}\n",
       "        if (typeof require !== 'undefined') {\n",
       "        require.undef(\"plotly\");\n",
       "        requirejs.config({\n",
       "            paths: {\n",
       "                'plotly': ['https://cdn.plot.ly/plotly-2.31.1.min']\n",
       "            }\n",
       "        });\n",
       "        require(['plotly'], function(Plotly) {\n",
       "            window._Plotly = Plotly;\n",
       "        });\n",
       "        }\n",
       "        </script>\n",
       "        "
      ]
     },
     "metadata": {},
     "output_type": "display_data"
    },
    {
     "data": {
      "text/html": [
       "        <script type=\"text/javascript\">\n",
       "        window.PlotlyConfig = {MathJaxConfig: 'local'};\n",
       "        if (window.MathJax && window.MathJax.Hub && window.MathJax.Hub.Config) {window.MathJax.Hub.Config({SVG: {font: \"STIX-Web\"}});}\n",
       "        if (typeof require !== 'undefined') {\n",
       "        require.undef(\"plotly\");\n",
       "        requirejs.config({\n",
       "            paths: {\n",
       "                'plotly': ['https://cdn.plot.ly/plotly-2.31.1.min']\n",
       "            }\n",
       "        });\n",
       "        require(['plotly'], function(Plotly) {\n",
       "            window._Plotly = Plotly;\n",
       "        });\n",
       "        }\n",
       "        </script>\n",
       "        "
      ]
     },
     "metadata": {},
     "output_type": "display_data"
    }
   ],
   "source": [
    "%load_ext watermark\n",
    "%watermark -i -v -u -co\n",
    "init_notebook_mode(connected=True)\n",
    "%matplotlib inline\n",
    "cf.go_offline()\n",
    "pd.set_option(\"display.max_columns\", None)\n",
    "pd.set_option(\"display.max_rows\", None)\n",
    "pd.set_option('display.float_format', '{:.4f}'.format)"
   ]
  },
  {
   "cell_type": "code",
   "execution_count": 12,
   "metadata": {},
   "outputs": [
    {
     "data": {
      "application/vnd.plotly.v1+json": {
       "config": {
        "plotlyServerURL": "https://plot.ly"
       },
       "data": [
        {
         "customdata": [
          0,
          1,
          2,
          3,
          4,
          5,
          6
         ],
         "hovertemplate": "%{y}[%{customdata}] = %{marker.color}<extra></extra>",
         "marker": {
          "color": [
           "rgb(237, 229, 207)",
           "rgb(224, 194, 162)",
           "rgb(211, 156, 131)",
           "rgb(193, 118, 111)",
           "rgb(166, 84, 97)",
           "rgb(129, 55, 83)",
           "rgb(84, 31, 63)"
          ]
         },
         "orientation": "h",
         "type": "bar",
         "x": [
          1,
          1,
          1,
          1,
          1,
          1,
          1
         ],
         "y": [
          "Brwnyl",
          "Brwnyl",
          "Brwnyl",
          "Brwnyl",
          "Brwnyl",
          "Brwnyl",
          "Brwnyl"
         ]
        },
        {
         "customdata": [
          0,
          1,
          2,
          3,
          4,
          5,
          6
         ],
         "hovertemplate": "%{y}[%{customdata}] = %{marker.color}<extra></extra>",
         "marker": {
          "color": [
           "rgb(75, 41, 145)",
           "rgb(135, 44, 162)",
           "rgb(192, 54, 157)",
           "rgb(234, 79, 136)",
           "rgb(250, 120, 118)",
           "rgb(246, 169, 122)",
           "rgb(237, 217, 163)"
          ]
         },
         "orientation": "h",
         "type": "bar",
         "x": [
          1,
          1,
          1,
          1,
          1,
          1,
          1
         ],
         "y": [
          "Agsunset",
          "Agsunset",
          "Agsunset",
          "Agsunset",
          "Agsunset",
          "Agsunset",
          "Agsunset"
         ]
        },
        {
         "customdata": [
          0,
          1,
          2,
          3,
          4,
          5,
          6
         ],
         "hovertemplate": "%{y}[%{customdata}] = %{marker.color}<extra></extra>",
         "marker": {
          "color": [
           "rgb(252, 222, 156)",
           "rgb(250, 164, 118)",
           "rgb(240, 116, 110)",
           "rgb(227, 79, 111)",
           "rgb(220, 57, 119)",
           "rgb(185, 37, 122)",
           "rgb(124, 29, 111)"
          ]
         },
         "orientation": "h",
         "type": "bar",
         "x": [
          1,
          1,
          1,
          1,
          1,
          1,
          1
         ],
         "y": [
          "Sunsetdark",
          "Sunsetdark",
          "Sunsetdark",
          "Sunsetdark",
          "Sunsetdark",
          "Sunsetdark",
          "Sunsetdark"
         ]
        },
        {
         "customdata": [
          0,
          1,
          2,
          3,
          4,
          5,
          6
         ],
         "hovertemplate": "%{y}[%{customdata}] = %{marker.color}<extra></extra>",
         "marker": {
          "color": [
           "rgb(243, 203, 211)",
           "rgb(234, 169, 189)",
           "rgb(221, 136, 172)",
           "rgb(202, 105, 157)",
           "rgb(177, 77, 142)",
           "rgb(145, 53, 125)",
           "rgb(108, 33, 103)"
          ]
         },
         "orientation": "h",
         "type": "bar",
         "x": [
          1,
          1,
          1,
          1,
          1,
          1,
          1
         ],
         "y": [
          "Magenta",
          "Magenta",
          "Magenta",
          "Magenta",
          "Magenta",
          "Magenta",
          "Magenta"
         ]
        },
        {
         "customdata": [
          0,
          1,
          2,
          3,
          4,
          5,
          6
         ],
         "hovertemplate": "%{y}[%{customdata}] = %{marker.color}<extra></extra>",
         "marker": {
          "color": [
           "rgb(243, 231, 155)",
           "rgb(250, 196, 132)",
           "rgb(248, 160, 126)",
           "rgb(235, 127, 134)",
           "rgb(206, 102, 147)",
           "rgb(160, 89, 160)",
           "rgb(92, 83, 165)"
          ]
         },
         "orientation": "h",
         "type": "bar",
         "x": [
          1,
          1,
          1,
          1,
          1,
          1,
          1
         ],
         "y": [
          "Sunset",
          "Sunset",
          "Sunset",
          "Sunset",
          "Sunset",
          "Sunset",
          "Sunset"
         ]
        },
        {
         "customdata": [
          0,
          1,
          2,
          3,
          4,
          5,
          6
         ],
         "hovertemplate": "%{y}[%{customdata}] = %{marker.color}<extra></extra>",
         "marker": {
          "color": [
           "rgb(249, 221, 218)",
           "rgb(242, 185, 196)",
           "rgb(229, 151, 185)",
           "rgb(206, 120, 179)",
           "rgb(173, 95, 173)",
           "rgb(131, 75, 160)",
           "rgb(87, 59, 136)"
          ]
         },
         "orientation": "h",
         "type": "bar",
         "x": [
          1,
          1,
          1,
          1,
          1,
          1,
          1
         ],
         "y": [
          "Purpor",
          "Purpor",
          "Purpor",
          "Purpor",
          "Purpor",
          "Purpor",
          "Purpor"
         ]
        },
        {
         "customdata": [
          0,
          1,
          2,
          3,
          4,
          5,
          6
         ],
         "hovertemplate": "%{y}[%{customdata}] = %{marker.color}<extra></extra>",
         "marker": {
          "color": [
           "rgb(243, 224, 247)",
           "rgb(228, 199, 241)",
           "rgb(209, 175, 232)",
           "rgb(185, 152, 221)",
           "rgb(159, 130, 206)",
           "rgb(130, 109, 186)",
           "rgb(99, 88, 159)"
          ]
         },
         "orientation": "h",
         "type": "bar",
         "x": [
          1,
          1,
          1,
          1,
          1,
          1,
          1
         ],
         "y": [
          "Purp",
          "Purp",
          "Purp",
          "Purp",
          "Purp",
          "Purp",
          "Purp"
         ]
        },
        {
         "customdata": [
          0,
          1,
          2,
          3,
          4,
          5,
          6
         ],
         "hovertemplate": "%{y}[%{customdata}] = %{marker.color}<extra></extra>",
         "marker": {
          "color": [
           "rgb(176, 242, 188)",
           "rgb(137, 232, 172)",
           "rgb(103, 219, 165)",
           "rgb(76, 200, 163)",
           "rgb(56, 178, 163)",
           "rgb(44, 152, 160)",
           "rgb(37, 125, 152)"
          ]
         },
         "orientation": "h",
         "type": "bar",
         "x": [
          1,
          1,
          1,
          1,
          1,
          1,
          1
         ],
         "y": [
          "Tealgrn",
          "Tealgrn",
          "Tealgrn",
          "Tealgrn",
          "Tealgrn",
          "Tealgrn",
          "Tealgrn"
         ]
        },
        {
         "customdata": [
          0,
          1,
          2,
          3,
          4,
          5,
          6
         ],
         "hovertemplate": "%{y}[%{customdata}] = %{marker.color}<extra></extra>",
         "marker": {
          "color": [
           "rgb(209, 238, 234)",
           "rgb(168, 219, 217)",
           "rgb(133, 196, 201)",
           "rgb(104, 171, 184)",
           "rgb(79, 144, 166)",
           "rgb(59, 115, 143)",
           "rgb(42, 86, 116)"
          ]
         },
         "orientation": "h",
         "type": "bar",
         "x": [
          1,
          1,
          1,
          1,
          1,
          1,
          1
         ],
         "y": [
          "Teal",
          "Teal",
          "Teal",
          "Teal",
          "Teal",
          "Teal",
          "Teal"
         ]
        },
        {
         "customdata": [
          0,
          1,
          2,
          3,
          4,
          5,
          6
         ],
         "hovertemplate": "%{y}[%{customdata}] = %{marker.color}<extra></extra>",
         "marker": {
          "color": [
           "rgb(247, 254, 174)",
           "rgb(183, 230, 165)",
           "rgb(124, 203, 162)",
           "rgb(70, 174, 160)",
           "rgb(8, 144, 153)",
           "rgb(0, 113, 139)",
           "rgb(4, 82, 117)"
          ]
         },
         "orientation": "h",
         "type": "bar",
         "x": [
          1,
          1,
          1,
          1,
          1,
          1,
          1
         ],
         "y": [
          "Bluyl",
          "Bluyl",
          "Bluyl",
          "Bluyl",
          "Bluyl",
          "Bluyl",
          "Bluyl"
         ]
        },
        {
         "customdata": [
          0,
          1,
          2,
          3,
          4,
          5,
          6
         ],
         "hovertemplate": "%{y}[%{customdata}] = %{marker.color}<extra></extra>",
         "marker": {
          "color": [
           "rgb(36, 86, 104)",
           "rgb(15, 114, 121)",
           "rgb(13, 143, 129)",
           "rgb(57, 171, 126)",
           "rgb(110, 197, 116)",
           "rgb(169, 220, 103)",
           "rgb(237, 239, 93)"
          ]
         },
         "orientation": "h",
         "type": "bar",
         "x": [
          1,
          1,
          1,
          1,
          1,
          1,
          1
         ],
         "y": [
          "Aggrnyl",
          "Aggrnyl",
          "Aggrnyl",
          "Aggrnyl",
          "Aggrnyl",
          "Aggrnyl",
          "Aggrnyl"
         ]
        },
        {
         "customdata": [
          0,
          1,
          2,
          3,
          4,
          5,
          6
         ],
         "hovertemplate": "%{y}[%{customdata}] = %{marker.color}<extra></extra>",
         "marker": {
          "color": [
           "rgb(211, 242, 163)",
           "rgb(151, 225, 150)",
           "rgb(108, 192, 139)",
           "rgb(76, 155, 130)",
           "rgb(33, 122, 121)",
           "rgb(16, 89, 101)",
           "rgb(7, 64, 80)"
          ]
         },
         "orientation": "h",
         "type": "bar",
         "x": [
          1,
          1,
          1,
          1,
          1,
          1,
          1
         ],
         "y": [
          "Emrld",
          "Emrld",
          "Emrld",
          "Emrld",
          "Emrld",
          "Emrld",
          "Emrld"
         ]
        },
        {
         "customdata": [
          0,
          1,
          2,
          3,
          4,
          5,
          6
         ],
         "hovertemplate": "%{y}[%{customdata}] = %{marker.color}<extra></extra>",
         "marker": {
          "color": [
           "rgb(210, 251, 212)",
           "rgb(165, 219, 194)",
           "rgb(123, 188, 176)",
           "rgb(85, 156, 158)",
           "rgb(58, 124, 137)",
           "rgb(35, 93, 114)",
           "rgb(18, 63, 90)"
          ]
         },
         "orientation": "h",
         "type": "bar",
         "x": [
          1,
          1,
          1,
          1,
          1,
          1,
          1
         ],
         "y": [
          "Darkmint",
          "Darkmint",
          "Darkmint",
          "Darkmint",
          "Darkmint",
          "Darkmint",
          "Darkmint"
         ]
        },
        {
         "customdata": [
          0,
          1,
          2,
          3,
          4,
          5,
          6
         ],
         "hovertemplate": "%{y}[%{customdata}] = %{marker.color}<extra></extra>",
         "marker": {
          "color": [
           "rgb(196, 230, 195)",
           "rgb(150, 210, 164)",
           "rgb(109, 188, 144)",
           "rgb(77, 162, 132)",
           "rgb(54, 135, 122)",
           "rgb(38, 107, 110)",
           "rgb(29, 79, 96)"
          ]
         },
         "orientation": "h",
         "type": "bar",
         "x": [
          1,
          1,
          1,
          1,
          1,
          1,
          1
         ],
         "y": [
          "Blugrn",
          "Blugrn",
          "Blugrn",
          "Blugrn",
          "Blugrn",
          "Blugrn",
          "Blugrn"
         ]
        },
        {
         "customdata": [
          0,
          1,
          2,
          3,
          4,
          5,
          6
         ],
         "hovertemplate": "%{y}[%{customdata}] = %{marker.color}<extra></extra>",
         "marker": {
          "color": [
           "rgb(228, 241, 225)",
           "rgb(180, 217, 204)",
           "rgb(137, 192, 182)",
           "rgb(99, 166, 160)",
           "rgb(68, 140, 138)",
           "rgb(40, 114, 116)",
           "rgb(13, 88, 95)"
          ]
         },
         "orientation": "h",
         "type": "bar",
         "x": [
          1,
          1,
          1,
          1,
          1,
          1,
          1
         ],
         "y": [
          "Mint",
          "Mint",
          "Mint",
          "Mint",
          "Mint",
          "Mint",
          "Mint"
         ]
        },
        {
         "customdata": [
          0,
          1,
          2,
          3,
          4,
          5,
          6
         ],
         "hovertemplate": "%{y}[%{customdata}] = %{marker.color}<extra></extra>",
         "marker": {
          "color": [
           "rgb(254, 246, 181)",
           "rgb(255, 221, 154)",
           "rgb(255, 194, 133)",
           "rgb(255, 166, 121)",
           "rgb(250, 138, 118)",
           "rgb(241, 109, 122)",
           "rgb(225, 83, 131)"
          ]
         },
         "orientation": "h",
         "type": "bar",
         "x": [
          1,
          1,
          1,
          1,
          1,
          1,
          1
         ],
         "y": [
          "Pinkyl",
          "Pinkyl",
          "Pinkyl",
          "Pinkyl",
          "Pinkyl",
          "Pinkyl",
          "Pinkyl"
         ]
        },
        {
         "customdata": [
          0,
          1,
          2,
          3,
          4,
          5,
          6
         ],
         "hovertemplate": "%{y}[%{customdata}] = %{marker.color}<extra></extra>",
         "marker": {
          "color": [
           "rgb(253, 224, 197)",
           "rgb(250, 203, 166)",
           "rgb(248, 181, 139)",
           "rgb(245, 158, 114)",
           "rgb(242, 133, 93)",
           "rgb(239, 106, 76)",
           "rgb(235, 74, 64)"
          ]
         },
         "orientation": "h",
         "type": "bar",
         "x": [
          1,
          1,
          1,
          1,
          1,
          1,
          1
         ],
         "y": [
          "Peach",
          "Peach",
          "Peach",
          "Peach",
          "Peach",
          "Peach",
          "Peach"
         ]
        },
        {
         "customdata": [
          0,
          1,
          2,
          3,
          4,
          5,
          6
         ],
         "hovertemplate": "%{y}[%{customdata}] = %{marker.color}<extra></extra>",
         "marker": {
          "color": [
           "rgb(236, 218, 154)",
           "rgb(239, 196, 126)",
           "rgb(243, 173, 106)",
           "rgb(247, 148, 93)",
           "rgb(249, 123, 87)",
           "rgb(246, 99, 86)",
           "rgb(238, 77, 90)"
          ]
         },
         "orientation": "h",
         "type": "bar",
         "x": [
          1,
          1,
          1,
          1,
          1,
          1,
          1
         ],
         "y": [
          "Oryel",
          "Oryel",
          "Oryel",
          "Oryel",
          "Oryel",
          "Oryel",
          "Oryel"
         ]
        },
        {
         "customdata": [
          0,
          1,
          2,
          3,
          4,
          5,
          6
         ],
         "hovertemplate": "%{y}[%{customdata}] = %{marker.color}<extra></extra>",
         "marker": {
          "color": [
           "rgb(246, 210, 169)",
           "rgb(245, 183, 142)",
           "rgb(241, 156, 124)",
           "rgb(234, 129, 113)",
           "rgb(221, 104, 108)",
           "rgb(202, 82, 104)",
           "rgb(177, 63, 100)"
          ]
         },
         "orientation": "h",
         "type": "bar",
         "x": [
          1,
          1,
          1,
          1,
          1,
          1,
          1
         ],
         "y": [
          "Redor",
          "Redor",
          "Redor",
          "Redor",
          "Redor",
          "Redor",
          "Redor"
         ]
        },
        {
         "customdata": [
          0,
          1,
          2,
          3,
          4,
          5,
          6
         ],
         "hovertemplate": "%{y}[%{customdata}] = %{marker.color}<extra></extra>",
         "marker": {
          "color": [
           "rgb(251, 230, 197)",
           "rgb(245, 186, 152)",
           "rgb(238, 138, 130)",
           "rgb(220, 113, 118)",
           "rgb(200, 88, 108)",
           "rgb(156, 63, 93)",
           "rgb(112, 40, 74)"
          ]
         },
         "orientation": "h",
         "type": "bar",
         "x": [
          1,
          1,
          1,
          1,
          1,
          1,
          1
         ],
         "y": [
          "Burgyl",
          "Burgyl",
          "Burgyl",
          "Burgyl",
          "Burgyl",
          "Burgyl",
          "Burgyl"
         ]
        },
        {
         "customdata": [
          0,
          1,
          2,
          3,
          4,
          5,
          6
         ],
         "hovertemplate": "%{y}[%{customdata}] = %{marker.color}<extra></extra>",
         "marker": {
          "color": [
           "rgb(255, 198, 196)",
           "rgb(244, 163, 168)",
           "rgb(227, 129, 145)",
           "rgb(204, 96, 125)",
           "rgb(173, 70, 108)",
           "rgb(139, 48, 88)",
           "rgb(103, 32, 68)"
          ]
         },
         "orientation": "h",
         "type": "bar",
         "x": [
          1,
          1,
          1,
          1,
          1,
          1,
          1
         ],
         "y": [
          "Burg",
          "Burg",
          "Burg",
          "Burg",
          "Burg",
          "Burg",
          "Burg"
         ]
        },
        {
         "customdata": [
          0,
          1,
          2,
          3,
          4,
          5,
          6,
          7,
          8,
          9,
          10,
          11
         ],
         "hovertemplate": "%{y}[%{customdata}] = %{marker.color}<extra></extra>",
         "marker": {
          "color": [
           "rgb(254, 245, 244)",
           "rgb(222, 224, 210)",
           "rgb(189, 206, 181)",
           "rgb(153, 189, 156)",
           "rgb(110, 173, 138)",
           "rgb(65, 157, 129)",
           "rgb(25, 137, 125)",
           "rgb(18, 116, 117)",
           "rgb(25, 94, 106)",
           "rgb(28, 72, 93)",
           "rgb(25, 51, 80)",
           "rgb(20, 29, 67)"
          ]
         },
         "orientation": "h",
         "type": "bar",
         "x": [
          1,
          1,
          1,
          1,
          1,
          1,
          1,
          1,
          1,
          1,
          1,
          1
         ],
         "y": [
          "tempo",
          "tempo",
          "tempo",
          "tempo",
          "tempo",
          "tempo",
          "tempo",
          "tempo",
          "tempo",
          "tempo",
          "tempo",
          "tempo"
         ]
        },
        {
         "customdata": [
          0,
          1,
          2,
          3,
          4,
          5,
          6,
          7,
          8,
          9,
          10,
          11
         ],
         "hovertemplate": "%{y}[%{customdata}] = %{marker.color}<extra></extra>",
         "marker": {
          "color": [
           "rgb(241, 236, 236)",
           "rgb(230, 209, 203)",
           "rgb(221, 182, 170)",
           "rgb(213, 156, 137)",
           "rgb(205, 129, 103)",
           "rgb(196, 102, 73)",
           "rgb(186, 74, 47)",
           "rgb(172, 44, 36)",
           "rgb(149, 19, 39)",
           "rgb(120, 14, 40)",
           "rgb(89, 13, 31)",
           "rgb(60, 9, 17)"
          ]
         },
         "orientation": "h",
         "type": "bar",
         "x": [
          1,
          1,
          1,
          1,
          1,
          1,
          1,
          1,
          1,
          1,
          1,
          1
         ],
         "y": [
          "amp",
          "amp",
          "amp",
          "amp",
          "amp",
          "amp",
          "amp",
          "amp",
          "amp",
          "amp",
          "amp",
          "amp"
         ]
        },
        {
         "customdata": [
          0,
          1,
          2,
          3,
          4,
          5,
          6,
          7,
          8,
          9,
          10,
          11
         ],
         "hovertemplate": "%{y}[%{customdata}] = %{marker.color}<extra></extra>",
         "marker": {
          "color": [
           "rgb(254, 252, 205)",
           "rgb(239, 225, 156)",
           "rgb(221, 201, 106)",
           "rgb(194, 182, 59)",
           "rgb(157, 167, 21)",
           "rgb(116, 153, 5)",
           "rgb(75, 138, 20)",
           "rgb(35, 121, 36)",
           "rgb(11, 100, 44)",
           "rgb(18, 78, 43)",
           "rgb(25, 56, 34)",
           "rgb(23, 35, 18)"
          ]
         },
         "orientation": "h",
         "type": "bar",
         "x": [
          1,
          1,
          1,
          1,
          1,
          1,
          1,
          1,
          1,
          1,
          1,
          1
         ],
         "y": [
          "speed",
          "speed",
          "speed",
          "speed",
          "speed",
          "speed",
          "speed",
          "speed",
          "speed",
          "speed",
          "speed",
          "speed"
         ]
        },
        {
         "customdata": [
          0,
          1,
          2,
          3,
          4,
          5,
          6,
          7,
          8,
          9,
          10,
          11
         ],
         "hovertemplate": "%{y}[%{customdata}] = %{marker.color}<extra></extra>",
         "marker": {
          "color": [
           "rgb(253, 237, 176)",
           "rgb(250, 205, 145)",
           "rgb(246, 173, 119)",
           "rgb(240, 142, 98)",
           "rgb(231, 109, 84)",
           "rgb(216, 80, 83)",
           "rgb(195, 56, 90)",
           "rgb(168, 40, 96)",
           "rgb(138, 29, 99)",
           "rgb(107, 24, 93)",
           "rgb(76, 21, 80)",
           "rgb(47, 15, 61)"
          ]
         },
         "orientation": "h",
         "type": "bar",
         "x": [
          1,
          1,
          1,
          1,
          1,
          1,
          1,
          1,
          1,
          1,
          1,
          1
         ],
         "y": [
          "matter",
          "matter",
          "matter",
          "matter",
          "matter",
          "matter",
          "matter",
          "matter",
          "matter",
          "matter",
          "matter",
          "matter"
         ]
        },
        {
         "customdata": [
          0,
          1,
          2,
          3,
          4,
          5,
          6,
          7,
          8,
          9,
          10,
          11
         ],
         "hovertemplate": "%{y}[%{customdata}] = %{marker.color}<extra></extra>",
         "marker": {
          "color": [
           "rgb(214, 249, 207)",
           "rgb(186, 228, 174)",
           "rgb(156, 209, 143)",
           "rgb(124, 191, 115)",
           "rgb(85, 174, 91)",
           "rgb(37, 157, 81)",
           "rgb(7, 138, 78)",
           "rgb(13, 117, 71)",
           "rgb(23, 95, 61)",
           "rgb(25, 75, 49)",
           "rgb(23, 55, 35)",
           "rgb(17, 36, 20)"
          ]
         },
         "orientation": "h",
         "type": "bar",
         "x": [
          1,
          1,
          1,
          1,
          1,
          1,
          1,
          1,
          1,
          1,
          1,
          1
         ],
         "y": [
          "algae",
          "algae",
          "algae",
          "algae",
          "algae",
          "algae",
          "algae",
          "algae",
          "algae",
          "algae",
          "algae",
          "algae"
         ]
        },
        {
         "customdata": [
          0,
          1,
          2,
          3,
          4,
          5,
          6,
          7,
          8,
          9,
          10,
          11
         ],
         "hovertemplate": "%{y}[%{customdata}] = %{marker.color}<extra></extra>",
         "marker": {
          "color": [
           "rgb(230, 240, 240)",
           "rgb(191, 221, 229)",
           "rgb(156, 201, 226)",
           "rgb(129, 180, 227)",
           "rgb(115, 154, 228)",
           "rgb(117, 127, 221)",
           "rgb(120, 100, 202)",
           "rgb(119, 74, 175)",
           "rgb(113, 50, 141)",
           "rgb(100, 31, 104)",
           "rgb(80, 20, 66)",
           "rgb(54, 14, 36)"
          ]
         },
         "orientation": "h",
         "type": "bar",
         "x": [
          1,
          1,
          1,
          1,
          1,
          1,
          1,
          1,
          1,
          1,
          1,
          1
         ],
         "y": [
          "dense",
          "dense",
          "dense",
          "dense",
          "dense",
          "dense",
          "dense",
          "dense",
          "dense",
          "dense",
          "dense",
          "dense"
         ]
        },
        {
         "customdata": [
          0,
          1,
          2,
          3,
          4,
          5,
          6,
          7,
          8,
          9,
          10,
          11
         ],
         "hovertemplate": "%{y}[%{customdata}] = %{marker.color}<extra></extra>",
         "marker": {
          "color": [
           "rgb(253, 253, 204)",
           "rgb(206, 236, 179)",
           "rgb(156, 219, 165)",
           "rgb(111, 201, 163)",
           "rgb(86, 177, 163)",
           "rgb(76, 153, 160)",
           "rgb(68, 130, 155)",
           "rgb(62, 108, 150)",
           "rgb(62, 82, 143)",
           "rgb(64, 60, 115)",
           "rgb(54, 43, 77)",
           "rgb(39, 26, 44)"
          ]
         },
         "orientation": "h",
         "type": "bar",
         "x": [
          1,
          1,
          1,
          1,
          1,
          1,
          1,
          1,
          1,
          1,
          1,
          1
         ],
         "y": [
          "deep",
          "deep",
          "deep",
          "deep",
          "deep",
          "deep",
          "deep",
          "deep",
          "deep",
          "deep",
          "deep",
          "deep"
         ]
        },
        {
         "customdata": [
          0,
          1,
          2,
          3,
          4,
          5,
          6,
          7,
          8,
          9,
          10,
          11
         ],
         "hovertemplate": "%{y}[%{customdata}] = %{marker.color}<extra></extra>",
         "marker": {
          "color": [
           "rgb(0, 0, 0)",
           "rgb(16, 16, 16)",
           "rgb(38, 38, 38)",
           "rgb(59, 59, 59)",
           "rgb(81, 80, 80)",
           "rgb(102, 101, 101)",
           "rgb(124, 123, 122)",
           "rgb(146, 146, 145)",
           "rgb(171, 171, 170)",
           "rgb(197, 197, 195)",
           "rgb(224, 224, 223)",
           "rgb(254, 254, 253)"
          ]
         },
         "orientation": "h",
         "type": "bar",
         "x": [
          1,
          1,
          1,
          1,
          1,
          1,
          1,
          1,
          1,
          1,
          1,
          1
         ],
         "y": [
          "gray",
          "gray",
          "gray",
          "gray",
          "gray",
          "gray",
          "gray",
          "gray",
          "gray",
          "gray",
          "gray",
          "gray"
         ]
        },
        {
         "customdata": [
          0,
          1,
          2,
          3,
          4,
          5,
          6,
          7,
          8,
          9,
          10,
          11
         ],
         "hovertemplate": "%{y}[%{customdata}] = %{marker.color}<extra></extra>",
         "marker": {
          "color": [
           "rgb(3, 5, 18)",
           "rgb(25, 25, 51)",
           "rgb(44, 42, 87)",
           "rgb(58, 60, 125)",
           "rgb(62, 83, 160)",
           "rgb(62, 109, 178)",
           "rgb(72, 134, 187)",
           "rgb(89, 159, 196)",
           "rgb(114, 184, 205)",
           "rgb(149, 207, 216)",
           "rgb(192, 229, 232)",
           "rgb(234, 252, 253)"
          ]
         },
         "orientation": "h",
         "type": "bar",
         "x": [
          1,
          1,
          1,
          1,
          1,
          1,
          1,
          1,
          1,
          1,
          1,
          1
         ],
         "y": [
          "ice",
          "ice",
          "ice",
          "ice",
          "ice",
          "ice",
          "ice",
          "ice",
          "ice",
          "ice",
          "ice",
          "ice"
         ]
        },
        {
         "customdata": [
          0,
          1,
          2,
          3,
          4,
          5,
          6,
          7,
          8,
          9,
          10,
          11
         ],
         "hovertemplate": "%{y}[%{customdata}] = %{marker.color}<extra></extra>",
         "marker": {
          "color": [
           "rgb(51, 19, 23)",
           "rgb(79, 28, 33)",
           "rgb(108, 36, 36)",
           "rgb(135, 47, 32)",
           "rgb(157, 66, 25)",
           "rgb(174, 88, 20)",
           "rgb(188, 111, 19)",
           "rgb(199, 137, 22)",
           "rgb(209, 164, 32)",
           "rgb(217, 192, 44)",
           "rgb(222, 222, 59)",
           "rgb(224, 253, 74)"
          ]
         },
         "orientation": "h",
         "type": "bar",
         "x": [
          1,
          1,
          1,
          1,
          1,
          1,
          1,
          1,
          1,
          1,
          1,
          1
         ],
         "y": [
          "solar",
          "solar",
          "solar",
          "solar",
          "solar",
          "solar",
          "solar",
          "solar",
          "solar",
          "solar",
          "solar",
          "solar"
         ]
        },
        {
         "customdata": [
          0,
          1,
          2,
          3,
          4,
          5,
          6,
          7,
          8,
          9,
          10,
          11
         ],
         "hovertemplate": "%{y}[%{customdata}] = %{marker.color}<extra></extra>",
         "marker": {
          "color": [
           "rgb(41, 24, 107)",
           "rgb(42, 35, 160)",
           "rgb(15, 71, 153)",
           "rgb(18, 95, 142)",
           "rgb(38, 116, 137)",
           "rgb(53, 136, 136)",
           "rgb(65, 157, 133)",
           "rgb(81, 178, 124)",
           "rgb(111, 198, 107)",
           "rgb(160, 214, 91)",
           "rgb(212, 225, 112)",
           "rgb(253, 238, 153)"
          ]
         },
         "orientation": "h",
         "type": "bar",
         "x": [
          1,
          1,
          1,
          1,
          1,
          1,
          1,
          1,
          1,
          1,
          1,
          1
         ],
         "y": [
          "haline",
          "haline",
          "haline",
          "haline",
          "haline",
          "haline",
          "haline",
          "haline",
          "haline",
          "haline",
          "haline",
          "haline"
         ]
        },
        {
         "customdata": [
          0,
          1,
          2,
          3,
          4,
          5,
          6,
          7,
          8,
          9,
          10,
          11
         ],
         "hovertemplate": "%{y}[%{customdata}] = %{marker.color}<extra></extra>",
         "marker": {
          "color": [
           "rgb(3, 35, 51)",
           "rgb(13, 48, 100)",
           "rgb(53, 50, 155)",
           "rgb(93, 62, 153)",
           "rgb(126, 77, 143)",
           "rgb(158, 89, 135)",
           "rgb(193, 100, 121)",
           "rgb(225, 113, 97)",
           "rgb(246, 139, 69)",
           "rgb(251, 173, 60)",
           "rgb(246, 211, 70)",
           "rgb(231, 250, 90)"
          ]
         },
         "orientation": "h",
         "type": "bar",
         "x": [
          1,
          1,
          1,
          1,
          1,
          1,
          1,
          1,
          1,
          1,
          1,
          1
         ],
         "y": [
          "thermal",
          "thermal",
          "thermal",
          "thermal",
          "thermal",
          "thermal",
          "thermal",
          "thermal",
          "thermal",
          "thermal",
          "thermal",
          "thermal"
         ]
        },
        {
         "customdata": [
          0,
          1,
          2,
          3,
          4,
          5,
          6,
          7,
          8,
          9,
          10,
          11
         ],
         "hovertemplate": "%{y}[%{customdata}] = %{marker.color}<extra></extra>",
         "marker": {
          "color": [
           "rgb(232, 245, 171)",
           "rgb(220, 219, 137)",
           "rgb(209, 193, 107)",
           "rgb(199, 168, 83)",
           "rgb(186, 143, 66)",
           "rgb(170, 121, 60)",
           "rgb(151, 103, 58)",
           "rgb(129, 87, 56)",
           "rgb(104, 72, 53)",
           "rgb(80, 59, 46)",
           "rgb(57, 45, 37)",
           "rgb(34, 30, 27)"
          ]
         },
         "orientation": "h",
         "type": "bar",
         "x": [
          1,
          1,
          1,
          1,
          1,
          1,
          1,
          1,
          1,
          1,
          1,
          1
         ],
         "y": [
          "turbid",
          "turbid",
          "turbid",
          "turbid",
          "turbid",
          "turbid",
          "turbid",
          "turbid",
          "turbid",
          "turbid",
          "turbid",
          "turbid"
         ]
        },
        {
         "customdata": [
          0,
          1,
          2,
          3,
          4,
          5,
          6,
          7,
          8
         ],
         "hovertemplate": "%{y}[%{customdata}] = %{marker.color}<extra></extra>",
         "marker": {
          "color": [
           "rgb(255,255,204)",
           "rgb(255,237,160)",
           "rgb(254,217,118)",
           "rgb(254,178,76)",
           "rgb(253,141,60)",
           "rgb(252,78,42)",
           "rgb(227,26,28)",
           "rgb(189,0,38)",
           "rgb(128,0,38)"
          ]
         },
         "orientation": "h",
         "type": "bar",
         "x": [
          1,
          1,
          1,
          1,
          1,
          1,
          1,
          1,
          1
         ],
         "y": [
          "YlOrRd",
          "YlOrRd",
          "YlOrRd",
          "YlOrRd",
          "YlOrRd",
          "YlOrRd",
          "YlOrRd",
          "YlOrRd",
          "YlOrRd"
         ]
        },
        {
         "customdata": [
          0,
          1,
          2,
          3,
          4,
          5,
          6,
          7,
          8
         ],
         "hovertemplate": "%{y}[%{customdata}] = %{marker.color}<extra></extra>",
         "marker": {
          "color": [
           "rgb(255,255,229)",
           "rgb(255,247,188)",
           "rgb(254,227,145)",
           "rgb(254,196,79)",
           "rgb(254,153,41)",
           "rgb(236,112,20)",
           "rgb(204,76,2)",
           "rgb(153,52,4)",
           "rgb(102,37,6)"
          ]
         },
         "orientation": "h",
         "type": "bar",
         "x": [
          1,
          1,
          1,
          1,
          1,
          1,
          1,
          1,
          1
         ],
         "y": [
          "YlOrBr",
          "YlOrBr",
          "YlOrBr",
          "YlOrBr",
          "YlOrBr",
          "YlOrBr",
          "YlOrBr",
          "YlOrBr",
          "YlOrBr"
         ]
        },
        {
         "customdata": [
          0,
          1,
          2,
          3,
          4,
          5,
          6,
          7,
          8
         ],
         "hovertemplate": "%{y}[%{customdata}] = %{marker.color}<extra></extra>",
         "marker": {
          "color": [
           "rgb(255,255,217)",
           "rgb(237,248,177)",
           "rgb(199,233,180)",
           "rgb(127,205,187)",
           "rgb(65,182,196)",
           "rgb(29,145,192)",
           "rgb(34,94,168)",
           "rgb(37,52,148)",
           "rgb(8,29,88)"
          ]
         },
         "orientation": "h",
         "type": "bar",
         "x": [
          1,
          1,
          1,
          1,
          1,
          1,
          1,
          1,
          1
         ],
         "y": [
          "YlGnBu",
          "YlGnBu",
          "YlGnBu",
          "YlGnBu",
          "YlGnBu",
          "YlGnBu",
          "YlGnBu",
          "YlGnBu",
          "YlGnBu"
         ]
        },
        {
         "customdata": [
          0,
          1,
          2,
          3,
          4,
          5,
          6,
          7,
          8
         ],
         "hovertemplate": "%{y}[%{customdata}] = %{marker.color}<extra></extra>",
         "marker": {
          "color": [
           "rgb(255,255,229)",
           "rgb(247,252,185)",
           "rgb(217,240,163)",
           "rgb(173,221,142)",
           "rgb(120,198,121)",
           "rgb(65,171,93)",
           "rgb(35,132,67)",
           "rgb(0,104,55)",
           "rgb(0,69,41)"
          ]
         },
         "orientation": "h",
         "type": "bar",
         "x": [
          1,
          1,
          1,
          1,
          1,
          1,
          1,
          1,
          1
         ],
         "y": [
          "YlGn",
          "YlGn",
          "YlGn",
          "YlGn",
          "YlGn",
          "YlGn",
          "YlGn",
          "YlGn",
          "YlGn"
         ]
        },
        {
         "customdata": [
          0,
          1,
          2,
          3,
          4,
          5,
          6,
          7,
          8
         ],
         "hovertemplate": "%{y}[%{customdata}] = %{marker.color}<extra></extra>",
         "marker": {
          "color": [
           "rgb(255,245,240)",
           "rgb(254,224,210)",
           "rgb(252,187,161)",
           "rgb(252,146,114)",
           "rgb(251,106,74)",
           "rgb(239,59,44)",
           "rgb(203,24,29)",
           "rgb(165,15,21)",
           "rgb(103,0,13)"
          ]
         },
         "orientation": "h",
         "type": "bar",
         "x": [
          1,
          1,
          1,
          1,
          1,
          1,
          1,
          1,
          1
         ],
         "y": [
          "Reds",
          "Reds",
          "Reds",
          "Reds",
          "Reds",
          "Reds",
          "Reds",
          "Reds",
          "Reds"
         ]
        },
        {
         "customdata": [
          0,
          1,
          2,
          3,
          4,
          5,
          6,
          7,
          8
         ],
         "hovertemplate": "%{y}[%{customdata}] = %{marker.color}<extra></extra>",
         "marker": {
          "color": [
           "rgb(255,247,243)",
           "rgb(253,224,221)",
           "rgb(252,197,192)",
           "rgb(250,159,181)",
           "rgb(247,104,161)",
           "rgb(221,52,151)",
           "rgb(174,1,126)",
           "rgb(122,1,119)",
           "rgb(73,0,106)"
          ]
         },
         "orientation": "h",
         "type": "bar",
         "x": [
          1,
          1,
          1,
          1,
          1,
          1,
          1,
          1,
          1
         ],
         "y": [
          "RdPu",
          "RdPu",
          "RdPu",
          "RdPu",
          "RdPu",
          "RdPu",
          "RdPu",
          "RdPu",
          "RdPu"
         ]
        },
        {
         "customdata": [
          0,
          1,
          2,
          3,
          4,
          5,
          6,
          7,
          8,
          9,
          10
         ],
         "hovertemplate": "%{y}[%{customdata}] = %{marker.color}<extra></extra>",
         "marker": {
          "color": [
           "rgb(103,0,31)",
           "rgb(178,24,43)",
           "rgb(214,96,77)",
           "rgb(244,165,130)",
           "rgb(253,219,199)",
           "rgb(247,247,247)",
           "rgb(209,229,240)",
           "rgb(146,197,222)",
           "rgb(67,147,195)",
           "rgb(33,102,172)",
           "rgb(5,48,97)"
          ]
         },
         "orientation": "h",
         "type": "bar",
         "x": [
          1,
          1,
          1,
          1,
          1,
          1,
          1,
          1,
          1,
          1,
          1
         ],
         "y": [
          "RdBu",
          "RdBu",
          "RdBu",
          "RdBu",
          "RdBu",
          "RdBu",
          "RdBu",
          "RdBu",
          "RdBu",
          "RdBu",
          "RdBu"
         ]
        },
        {
         "customdata": [
          0,
          1,
          2,
          3,
          4,
          5,
          6,
          7,
          8
         ],
         "hovertemplate": "%{y}[%{customdata}] = %{marker.color}<extra></extra>",
         "marker": {
          "color": [
           "rgb(252,251,253)",
           "rgb(239,237,245)",
           "rgb(218,218,235)",
           "rgb(188,189,220)",
           "rgb(158,154,200)",
           "rgb(128,125,186)",
           "rgb(106,81,163)",
           "rgb(84,39,143)",
           "rgb(63,0,125)"
          ]
         },
         "orientation": "h",
         "type": "bar",
         "x": [
          1,
          1,
          1,
          1,
          1,
          1,
          1,
          1,
          1
         ],
         "y": [
          "Purples",
          "Purples",
          "Purples",
          "Purples",
          "Purples",
          "Purples",
          "Purples",
          "Purples",
          "Purples"
         ]
        },
        {
         "customdata": [
          0,
          1,
          2,
          3,
          4,
          5,
          6,
          7,
          8
         ],
         "hovertemplate": "%{y}[%{customdata}] = %{marker.color}<extra></extra>",
         "marker": {
          "color": [
           "rgb(247,244,249)",
           "rgb(231,225,239)",
           "rgb(212,185,218)",
           "rgb(201,148,199)",
           "rgb(223,101,176)",
           "rgb(231,41,138)",
           "rgb(206,18,86)",
           "rgb(152,0,67)",
           "rgb(103,0,31)"
          ]
         },
         "orientation": "h",
         "type": "bar",
         "x": [
          1,
          1,
          1,
          1,
          1,
          1,
          1,
          1,
          1
         ],
         "y": [
          "PuRd",
          "PuRd",
          "PuRd",
          "PuRd",
          "PuRd",
          "PuRd",
          "PuRd",
          "PuRd",
          "PuRd"
         ]
        },
        {
         "customdata": [
          0,
          1,
          2,
          3,
          4,
          5,
          6,
          7,
          8
         ],
         "hovertemplate": "%{y}[%{customdata}] = %{marker.color}<extra></extra>",
         "marker": {
          "color": [
           "rgb(255,247,251)",
           "rgb(236,226,240)",
           "rgb(208,209,230)",
           "rgb(166,189,219)",
           "rgb(103,169,207)",
           "rgb(54,144,192)",
           "rgb(2,129,138)",
           "rgb(1,108,89)",
           "rgb(1,70,54)"
          ]
         },
         "orientation": "h",
         "type": "bar",
         "x": [
          1,
          1,
          1,
          1,
          1,
          1,
          1,
          1,
          1
         ],
         "y": [
          "PuBuGn",
          "PuBuGn",
          "PuBuGn",
          "PuBuGn",
          "PuBuGn",
          "PuBuGn",
          "PuBuGn",
          "PuBuGn",
          "PuBuGn"
         ]
        },
        {
         "customdata": [
          0,
          1,
          2,
          3,
          4,
          5,
          6,
          7,
          8
         ],
         "hovertemplate": "%{y}[%{customdata}] = %{marker.color}<extra></extra>",
         "marker": {
          "color": [
           "rgb(255,247,251)",
           "rgb(236,231,242)",
           "rgb(208,209,230)",
           "rgb(166,189,219)",
           "rgb(116,169,207)",
           "rgb(54,144,192)",
           "rgb(5,112,176)",
           "rgb(4,90,141)",
           "rgb(2,56,88)"
          ]
         },
         "orientation": "h",
         "type": "bar",
         "x": [
          1,
          1,
          1,
          1,
          1,
          1,
          1,
          1,
          1
         ],
         "y": [
          "PuBu",
          "PuBu",
          "PuBu",
          "PuBu",
          "PuBu",
          "PuBu",
          "PuBu",
          "PuBu",
          "PuBu"
         ]
        },
        {
         "customdata": [
          0,
          1,
          2,
          3,
          4,
          5,
          6,
          7,
          8
         ],
         "hovertemplate": "%{y}[%{customdata}] = %{marker.color}<extra></extra>",
         "marker": {
          "color": [
           "rgb(255,245,235)",
           "rgb(254,230,206)",
           "rgb(253,208,162)",
           "rgb(253,174,107)",
           "rgb(253,141,60)",
           "rgb(241,105,19)",
           "rgb(217,72,1)",
           "rgb(166,54,3)",
           "rgb(127,39,4)"
          ]
         },
         "orientation": "h",
         "type": "bar",
         "x": [
          1,
          1,
          1,
          1,
          1,
          1,
          1,
          1,
          1
         ],
         "y": [
          "Oranges",
          "Oranges",
          "Oranges",
          "Oranges",
          "Oranges",
          "Oranges",
          "Oranges",
          "Oranges",
          "Oranges"
         ]
        },
        {
         "customdata": [
          0,
          1,
          2,
          3,
          4,
          5,
          6,
          7,
          8
         ],
         "hovertemplate": "%{y}[%{customdata}] = %{marker.color}<extra></extra>",
         "marker": {
          "color": [
           "rgb(255,247,236)",
           "rgb(254,232,200)",
           "rgb(253,212,158)",
           "rgb(253,187,132)",
           "rgb(252,141,89)",
           "rgb(239,101,72)",
           "rgb(215,48,31)",
           "rgb(179,0,0)",
           "rgb(127,0,0)"
          ]
         },
         "orientation": "h",
         "type": "bar",
         "x": [
          1,
          1,
          1,
          1,
          1,
          1,
          1,
          1,
          1
         ],
         "y": [
          "OrRd",
          "OrRd",
          "OrRd",
          "OrRd",
          "OrRd",
          "OrRd",
          "OrRd",
          "OrRd",
          "OrRd"
         ]
        },
        {
         "customdata": [
          0,
          1,
          2,
          3,
          4,
          5,
          6,
          7,
          8
         ],
         "hovertemplate": "%{y}[%{customdata}] = %{marker.color}<extra></extra>",
         "marker": {
          "color": [
           "rgb(255,255,255)",
           "rgb(240,240,240)",
           "rgb(217,217,217)",
           "rgb(189,189,189)",
           "rgb(150,150,150)",
           "rgb(115,115,115)",
           "rgb(82,82,82)",
           "rgb(37,37,37)",
           "rgb(0,0,0)"
          ]
         },
         "orientation": "h",
         "type": "bar",
         "x": [
          1,
          1,
          1,
          1,
          1,
          1,
          1,
          1,
          1
         ],
         "y": [
          "Greys",
          "Greys",
          "Greys",
          "Greys",
          "Greys",
          "Greys",
          "Greys",
          "Greys",
          "Greys"
         ]
        },
        {
         "customdata": [
          0,
          1,
          2,
          3,
          4,
          5,
          6,
          7,
          8
         ],
         "hovertemplate": "%{y}[%{customdata}] = %{marker.color}<extra></extra>",
         "marker": {
          "color": [
           "rgb(247,252,245)",
           "rgb(229,245,224)",
           "rgb(199,233,192)",
           "rgb(161,217,155)",
           "rgb(116,196,118)",
           "rgb(65,171,93)",
           "rgb(35,139,69)",
           "rgb(0,109,44)",
           "rgb(0,68,27)"
          ]
         },
         "orientation": "h",
         "type": "bar",
         "x": [
          1,
          1,
          1,
          1,
          1,
          1,
          1,
          1,
          1
         ],
         "y": [
          "Greens",
          "Greens",
          "Greens",
          "Greens",
          "Greens",
          "Greens",
          "Greens",
          "Greens",
          "Greens"
         ]
        },
        {
         "customdata": [
          0,
          1,
          2,
          3,
          4,
          5,
          6,
          7,
          8
         ],
         "hovertemplate": "%{y}[%{customdata}] = %{marker.color}<extra></extra>",
         "marker": {
          "color": [
           "rgb(247,252,240)",
           "rgb(224,243,219)",
           "rgb(204,235,197)",
           "rgb(168,221,181)",
           "rgb(123,204,196)",
           "rgb(78,179,211)",
           "rgb(43,140,190)",
           "rgb(8,104,172)",
           "rgb(8,64,129)"
          ]
         },
         "orientation": "h",
         "type": "bar",
         "x": [
          1,
          1,
          1,
          1,
          1,
          1,
          1,
          1,
          1
         ],
         "y": [
          "GnBu",
          "GnBu",
          "GnBu",
          "GnBu",
          "GnBu",
          "GnBu",
          "GnBu",
          "GnBu",
          "GnBu"
         ]
        },
        {
         "customdata": [
          0,
          1,
          2,
          3,
          4,
          5,
          6,
          7,
          8
         ],
         "hovertemplate": "%{y}[%{customdata}] = %{marker.color}<extra></extra>",
         "marker": {
          "color": [
           "rgb(247,252,253)",
           "rgb(224,236,244)",
           "rgb(191,211,230)",
           "rgb(158,188,218)",
           "rgb(140,150,198)",
           "rgb(140,107,177)",
           "rgb(136,65,157)",
           "rgb(129,15,124)",
           "rgb(77,0,75)"
          ]
         },
         "orientation": "h",
         "type": "bar",
         "x": [
          1,
          1,
          1,
          1,
          1,
          1,
          1,
          1,
          1
         ],
         "y": [
          "BuPu",
          "BuPu",
          "BuPu",
          "BuPu",
          "BuPu",
          "BuPu",
          "BuPu",
          "BuPu",
          "BuPu"
         ]
        },
        {
         "customdata": [
          0,
          1,
          2,
          3,
          4,
          5,
          6,
          7,
          8
         ],
         "hovertemplate": "%{y}[%{customdata}] = %{marker.color}<extra></extra>",
         "marker": {
          "color": [
           "rgb(247,252,253)",
           "rgb(229,245,249)",
           "rgb(204,236,230)",
           "rgb(153,216,201)",
           "rgb(102,194,164)",
           "rgb(65,174,118)",
           "rgb(35,139,69)",
           "rgb(0,109,44)",
           "rgb(0,68,27)"
          ]
         },
         "orientation": "h",
         "type": "bar",
         "x": [
          1,
          1,
          1,
          1,
          1,
          1,
          1,
          1,
          1
         ],
         "y": [
          "BuGn",
          "BuGn",
          "BuGn",
          "BuGn",
          "BuGn",
          "BuGn",
          "BuGn",
          "BuGn",
          "BuGn"
         ]
        },
        {
         "customdata": [
          0,
          1,
          2,
          3,
          4,
          5,
          6,
          7,
          8
         ],
         "hovertemplate": "%{y}[%{customdata}] = %{marker.color}<extra></extra>",
         "marker": {
          "color": [
           "rgb(247,251,255)",
           "rgb(222,235,247)",
           "rgb(198,219,239)",
           "rgb(158,202,225)",
           "rgb(107,174,214)",
           "rgb(66,146,198)",
           "rgb(33,113,181)",
           "rgb(8,81,156)",
           "rgb(8,48,107)"
          ]
         },
         "orientation": "h",
         "type": "bar",
         "x": [
          1,
          1,
          1,
          1,
          1,
          1,
          1,
          1,
          1
         ],
         "y": [
          "Blues",
          "Blues",
          "Blues",
          "Blues",
          "Blues",
          "Blues",
          "Blues",
          "Blues",
          "Blues"
         ]
        },
        {
         "customdata": [
          0,
          1,
          2,
          3,
          4,
          5,
          6,
          7,
          8
         ],
         "hovertemplate": "%{y}[%{customdata}] = %{marker.color}<extra></extra>",
         "marker": {
          "color": [
           "rgb(150,0,90)",
           "rgb(0,0,200)",
           "rgb(0,25,255)",
           "rgb(0,152,255)",
           "rgb(44,255,150)",
           "rgb(151,255,0)",
           "rgb(255,234,0)",
           "rgb(255,111,0)",
           "rgb(255,0,0)"
          ]
         },
         "orientation": "h",
         "type": "bar",
         "x": [
          1,
          1,
          1,
          1,
          1,
          1,
          1,
          1,
          1
         ],
         "y": [
          "Rainbow",
          "Rainbow",
          "Rainbow",
          "Rainbow",
          "Rainbow",
          "Rainbow",
          "Rainbow",
          "Rainbow",
          "Rainbow"
         ]
        },
        {
         "customdata": [
          0,
          1,
          2,
          3,
          4,
          5
         ],
         "hovertemplate": "%{y}[%{customdata}] = %{marker.color}<extra></extra>",
         "marker": {
          "color": [
           "rgb(0,0,131)",
           "rgb(0,60,170)",
           "rgb(5,255,255)",
           "rgb(255,255,0)",
           "rgb(250,0,0)",
           "rgb(128,0,0)"
          ]
         },
         "orientation": "h",
         "type": "bar",
         "x": [
          1,
          1,
          1,
          1,
          1,
          1
         ],
         "y": [
          "Jet",
          "Jet",
          "Jet",
          "Jet",
          "Jet",
          "Jet"
         ]
        },
        {
         "customdata": [
          0,
          1,
          2,
          3
         ],
         "hovertemplate": "%{y}[%{customdata}] = %{marker.color}<extra></extra>",
         "marker": {
          "color": [
           "rgb(0,0,0)",
           "rgb(230,0,0)",
           "rgb(255,210,0)",
           "rgb(255,255,255)"
          ]
         },
         "orientation": "h",
         "type": "bar",
         "x": [
          1,
          1,
          1,
          1
         ],
         "y": [
          "Hot",
          "Hot",
          "Hot",
          "Hot"
         ]
        },
        {
         "customdata": [
          0,
          1,
          2,
          3,
          4,
          5
         ],
         "hovertemplate": "%{y}[%{customdata}] = %{marker.color}<extra></extra>",
         "marker": {
          "color": [
           "rgb(0,0,0)",
           "rgb(30,0,100)",
           "rgb(120,0,100)",
           "rgb(160,90,0)",
           "rgb(230,200,0)",
           "rgb(255,250,220)"
          ]
         },
         "orientation": "h",
         "type": "bar",
         "x": [
          1,
          1,
          1,
          1,
          1,
          1
         ],
         "y": [
          "Electric",
          "Electric",
          "Electric",
          "Electric",
          "Electric",
          "Electric"
         ]
        },
        {
         "customdata": [
          0,
          1
         ],
         "hovertemplate": "%{y}[%{customdata}] = %{marker.color}<extra></extra>",
         "marker": {
          "color": [
           "rgb(0,0,255)",
           "rgb(255,0,0)"
          ]
         },
         "orientation": "h",
         "type": "bar",
         "x": [
          1,
          1
         ],
         "y": [
          "Bluered",
          "Bluered"
         ]
        },
        {
         "customdata": [
          0,
          1,
          2,
          3,
          4
         ],
         "hovertemplate": "%{y}[%{customdata}] = %{marker.color}<extra></extra>",
         "marker": {
          "color": [
           "rgb(0,0,0)",
           "rgb(230,0,0)",
           "rgb(230,210,0)",
           "rgb(255,255,255)",
           "rgb(160,200,255)"
          ]
         },
         "orientation": "h",
         "type": "bar",
         "x": [
          1,
          1,
          1,
          1,
          1
         ],
         "y": [
          "Blackbody",
          "Blackbody",
          "Blackbody",
          "Blackbody",
          "Blackbody"
         ]
        },
        {
         "customdata": [
          0,
          1,
          2,
          3,
          4,
          5,
          6,
          7,
          8,
          9,
          10,
          11,
          12,
          13,
          14
         ],
         "hovertemplate": "%{y}[%{customdata}] = %{marker.color}<extra></extra>",
         "marker": {
          "color": [
           "#30123b",
           "#4145ab",
           "#4675ed",
           "#39a2fc",
           "#1bcfd4",
           "#24eca6",
           "#61fc6c",
           "#a4fc3b",
           "#d1e834",
           "#f3c63a",
           "#fe9b2d",
           "#f36315",
           "#d93806",
           "#b11901",
           "#7a0402"
          ]
         },
         "orientation": "h",
         "type": "bar",
         "x": [
          1,
          1,
          1,
          1,
          1,
          1,
          1,
          1,
          1,
          1,
          1,
          1,
          1,
          1,
          1
         ],
         "y": [
          "Turbo",
          "Turbo",
          "Turbo",
          "Turbo",
          "Turbo",
          "Turbo",
          "Turbo",
          "Turbo",
          "Turbo",
          "Turbo",
          "Turbo",
          "Turbo",
          "Turbo",
          "Turbo",
          "Turbo"
         ]
        },
        {
         "customdata": [
          0,
          1,
          2,
          3,
          4,
          5,
          6,
          7,
          8,
          9
         ],
         "hovertemplate": "%{y}[%{customdata}] = %{marker.color}<extra></extra>",
         "marker": {
          "color": [
           "#0d0887",
           "#46039f",
           "#7201a8",
           "#9c179e",
           "#bd3786",
           "#d8576b",
           "#ed7953",
           "#fb9f3a",
           "#fdca26",
           "#f0f921"
          ]
         },
         "orientation": "h",
         "type": "bar",
         "x": [
          1,
          1,
          1,
          1,
          1,
          1,
          1,
          1,
          1,
          1
         ],
         "y": [
          "Plasma",
          "Plasma",
          "Plasma",
          "Plasma",
          "Plasma",
          "Plasma",
          "Plasma",
          "Plasma",
          "Plasma",
          "Plasma"
         ]
        },
        {
         "customdata": [
          0,
          1,
          2,
          3,
          4,
          5,
          6,
          7,
          8,
          9
         ],
         "hovertemplate": "%{y}[%{customdata}] = %{marker.color}<extra></extra>",
         "marker": {
          "color": [
           "#000004",
           "#180f3d",
           "#440f76",
           "#721f81",
           "#9e2f7f",
           "#cd4071",
           "#f1605d",
           "#fd9668",
           "#feca8d",
           "#fcfdbf"
          ]
         },
         "orientation": "h",
         "type": "bar",
         "x": [
          1,
          1,
          1,
          1,
          1,
          1,
          1,
          1,
          1,
          1
         ],
         "y": [
          "Magma",
          "Magma",
          "Magma",
          "Magma",
          "Magma",
          "Magma",
          "Magma",
          "Magma",
          "Magma",
          "Magma"
         ]
        },
        {
         "customdata": [
          0,
          1,
          2,
          3,
          4,
          5,
          6,
          7,
          8,
          9
         ],
         "hovertemplate": "%{y}[%{customdata}] = %{marker.color}<extra></extra>",
         "marker": {
          "color": [
           "#000004",
           "#1b0c41",
           "#4a0c6b",
           "#781c6d",
           "#a52c60",
           "#cf4446",
           "#ed6925",
           "#fb9b06",
           "#f7d13d",
           "#fcffa4"
          ]
         },
         "orientation": "h",
         "type": "bar",
         "x": [
          1,
          1,
          1,
          1,
          1,
          1,
          1,
          1,
          1,
          1
         ],
         "y": [
          "Inferno",
          "Inferno",
          "Inferno",
          "Inferno",
          "Inferno",
          "Inferno",
          "Inferno",
          "Inferno",
          "Inferno",
          "Inferno"
         ]
        },
        {
         "customdata": [
          0,
          1,
          2,
          3,
          4,
          5,
          6,
          7,
          8,
          9
         ],
         "hovertemplate": "%{y}[%{customdata}] = %{marker.color}<extra></extra>",
         "marker": {
          "color": [
           "#00224e",
           "#123570",
           "#3b496c",
           "#575d6d",
           "#707173",
           "#8a8678",
           "#a59c74",
           "#c3b369",
           "#e1cc55",
           "#fee838"
          ]
         },
         "orientation": "h",
         "type": "bar",
         "x": [
          1,
          1,
          1,
          1,
          1,
          1,
          1,
          1,
          1,
          1
         ],
         "y": [
          "Cividis",
          "Cividis",
          "Cividis",
          "Cividis",
          "Cividis",
          "Cividis",
          "Cividis",
          "Cividis",
          "Cividis",
          "Cividis"
         ]
        },
        {
         "customdata": [
          0,
          1,
          2,
          3,
          4,
          5,
          6,
          7,
          8,
          9
         ],
         "hovertemplate": "%{y}[%{customdata}] = %{marker.color}<extra></extra>",
         "marker": {
          "color": [
           "#440154",
           "#482878",
           "#3e4989",
           "#31688e",
           "#26828e",
           "#1f9e89",
           "#35b779",
           "#6ece58",
           "#b5de2b",
           "#fde725"
          ]
         },
         "orientation": "h",
         "type": "bar",
         "x": [
          1,
          1,
          1,
          1,
          1,
          1,
          1,
          1,
          1,
          1
         ],
         "y": [
          "Viridis",
          "Viridis",
          "Viridis",
          "Viridis",
          "Viridis",
          "Viridis",
          "Viridis",
          "Viridis",
          "Viridis",
          "Viridis"
         ]
        },
        {
         "customdata": [
          0,
          1,
          2,
          3,
          4,
          5,
          6,
          7,
          8,
          9,
          10,
          11,
          12
         ],
         "hovertemplate": "%{y}[%{customdata}] = %{marker.color}<extra></extra>",
         "marker": {
          "color": [
           "#0508b8",
           "#1910d8",
           "#3c19f0",
           "#6b1cfb",
           "#981cfd",
           "#bf1cfd",
           "#dd2bfd",
           "#f246fe",
           "#fc67fd",
           "#fe88fc",
           "#fea5fd",
           "#febefe",
           "#fec3fe"
          ]
         },
         "orientation": "h",
         "type": "bar",
         "x": [
          1,
          1,
          1,
          1,
          1,
          1,
          1,
          1,
          1,
          1,
          1,
          1,
          1
         ],
         "y": [
          "Plotly3",
          "Plotly3",
          "Plotly3",
          "Plotly3",
          "Plotly3",
          "Plotly3",
          "Plotly3",
          "Plotly3",
          "Plotly3",
          "Plotly3",
          "Plotly3",
          "Plotly3",
          "Plotly3"
         ]
        }
       ],
       "layout": {
        "bargap": 0.5,
        "barmode": "stack",
        "barnorm": "fraction",
        "height": 2640,
        "margin": {
         "b": 10
        },
        "showlegend": false,
        "template": {
         "data": {
          "bar": [
           {
            "error_x": {
             "color": "#2a3f5f"
            },
            "error_y": {
             "color": "#2a3f5f"
            },
            "marker": {
             "line": {
              "color": "#E5ECF6",
              "width": 0.5
             },
             "pattern": {
              "fillmode": "overlay",
              "size": 10,
              "solidity": 0.2
             }
            },
            "type": "bar"
           }
          ],
          "barpolar": [
           {
            "marker": {
             "line": {
              "color": "#E5ECF6",
              "width": 0.5
             },
             "pattern": {
              "fillmode": "overlay",
              "size": 10,
              "solidity": 0.2
             }
            },
            "type": "barpolar"
           }
          ],
          "carpet": [
           {
            "aaxis": {
             "endlinecolor": "#2a3f5f",
             "gridcolor": "white",
             "linecolor": "white",
             "minorgridcolor": "white",
             "startlinecolor": "#2a3f5f"
            },
            "baxis": {
             "endlinecolor": "#2a3f5f",
             "gridcolor": "white",
             "linecolor": "white",
             "minorgridcolor": "white",
             "startlinecolor": "#2a3f5f"
            },
            "type": "carpet"
           }
          ],
          "choropleth": [
           {
            "colorbar": {
             "outlinewidth": 0,
             "ticks": ""
            },
            "type": "choropleth"
           }
          ],
          "contour": [
           {
            "colorbar": {
             "outlinewidth": 0,
             "ticks": ""
            },
            "colorscale": [
             [
              0,
              "#0d0887"
             ],
             [
              0.1111111111111111,
              "#46039f"
             ],
             [
              0.2222222222222222,
              "#7201a8"
             ],
             [
              0.3333333333333333,
              "#9c179e"
             ],
             [
              0.4444444444444444,
              "#bd3786"
             ],
             [
              0.5555555555555556,
              "#d8576b"
             ],
             [
              0.6666666666666666,
              "#ed7953"
             ],
             [
              0.7777777777777778,
              "#fb9f3a"
             ],
             [
              0.8888888888888888,
              "#fdca26"
             ],
             [
              1,
              "#f0f921"
             ]
            ],
            "type": "contour"
           }
          ],
          "contourcarpet": [
           {
            "colorbar": {
             "outlinewidth": 0,
             "ticks": ""
            },
            "type": "contourcarpet"
           }
          ],
          "heatmap": [
           {
            "colorbar": {
             "outlinewidth": 0,
             "ticks": ""
            },
            "colorscale": [
             [
              0,
              "#0d0887"
             ],
             [
              0.1111111111111111,
              "#46039f"
             ],
             [
              0.2222222222222222,
              "#7201a8"
             ],
             [
              0.3333333333333333,
              "#9c179e"
             ],
             [
              0.4444444444444444,
              "#bd3786"
             ],
             [
              0.5555555555555556,
              "#d8576b"
             ],
             [
              0.6666666666666666,
              "#ed7953"
             ],
             [
              0.7777777777777778,
              "#fb9f3a"
             ],
             [
              0.8888888888888888,
              "#fdca26"
             ],
             [
              1,
              "#f0f921"
             ]
            ],
            "type": "heatmap"
           }
          ],
          "heatmapgl": [
           {
            "colorbar": {
             "outlinewidth": 0,
             "ticks": ""
            },
            "colorscale": [
             [
              0,
              "#0d0887"
             ],
             [
              0.1111111111111111,
              "#46039f"
             ],
             [
              0.2222222222222222,
              "#7201a8"
             ],
             [
              0.3333333333333333,
              "#9c179e"
             ],
             [
              0.4444444444444444,
              "#bd3786"
             ],
             [
              0.5555555555555556,
              "#d8576b"
             ],
             [
              0.6666666666666666,
              "#ed7953"
             ],
             [
              0.7777777777777778,
              "#fb9f3a"
             ],
             [
              0.8888888888888888,
              "#fdca26"
             ],
             [
              1,
              "#f0f921"
             ]
            ],
            "type": "heatmapgl"
           }
          ],
          "histogram": [
           {
            "marker": {
             "pattern": {
              "fillmode": "overlay",
              "size": 10,
              "solidity": 0.2
             }
            },
            "type": "histogram"
           }
          ],
          "histogram2d": [
           {
            "colorbar": {
             "outlinewidth": 0,
             "ticks": ""
            },
            "colorscale": [
             [
              0,
              "#0d0887"
             ],
             [
              0.1111111111111111,
              "#46039f"
             ],
             [
              0.2222222222222222,
              "#7201a8"
             ],
             [
              0.3333333333333333,
              "#9c179e"
             ],
             [
              0.4444444444444444,
              "#bd3786"
             ],
             [
              0.5555555555555556,
              "#d8576b"
             ],
             [
              0.6666666666666666,
              "#ed7953"
             ],
             [
              0.7777777777777778,
              "#fb9f3a"
             ],
             [
              0.8888888888888888,
              "#fdca26"
             ],
             [
              1,
              "#f0f921"
             ]
            ],
            "type": "histogram2d"
           }
          ],
          "histogram2dcontour": [
           {
            "colorbar": {
             "outlinewidth": 0,
             "ticks": ""
            },
            "colorscale": [
             [
              0,
              "#0d0887"
             ],
             [
              0.1111111111111111,
              "#46039f"
             ],
             [
              0.2222222222222222,
              "#7201a8"
             ],
             [
              0.3333333333333333,
              "#9c179e"
             ],
             [
              0.4444444444444444,
              "#bd3786"
             ],
             [
              0.5555555555555556,
              "#d8576b"
             ],
             [
              0.6666666666666666,
              "#ed7953"
             ],
             [
              0.7777777777777778,
              "#fb9f3a"
             ],
             [
              0.8888888888888888,
              "#fdca26"
             ],
             [
              1,
              "#f0f921"
             ]
            ],
            "type": "histogram2dcontour"
           }
          ],
          "mesh3d": [
           {
            "colorbar": {
             "outlinewidth": 0,
             "ticks": ""
            },
            "type": "mesh3d"
           }
          ],
          "parcoords": [
           {
            "line": {
             "colorbar": {
              "outlinewidth": 0,
              "ticks": ""
             }
            },
            "type": "parcoords"
           }
          ],
          "pie": [
           {
            "automargin": true,
            "type": "pie"
           }
          ],
          "scatter": [
           {
            "fillpattern": {
             "fillmode": "overlay",
             "size": 10,
             "solidity": 0.2
            },
            "type": "scatter"
           }
          ],
          "scatter3d": [
           {
            "line": {
             "colorbar": {
              "outlinewidth": 0,
              "ticks": ""
             }
            },
            "marker": {
             "colorbar": {
              "outlinewidth": 0,
              "ticks": ""
             }
            },
            "type": "scatter3d"
           }
          ],
          "scattercarpet": [
           {
            "marker": {
             "colorbar": {
              "outlinewidth": 0,
              "ticks": ""
             }
            },
            "type": "scattercarpet"
           }
          ],
          "scattergeo": [
           {
            "marker": {
             "colorbar": {
              "outlinewidth": 0,
              "ticks": ""
             }
            },
            "type": "scattergeo"
           }
          ],
          "scattergl": [
           {
            "marker": {
             "colorbar": {
              "outlinewidth": 0,
              "ticks": ""
             }
            },
            "type": "scattergl"
           }
          ],
          "scattermapbox": [
           {
            "marker": {
             "colorbar": {
              "outlinewidth": 0,
              "ticks": ""
             }
            },
            "type": "scattermapbox"
           }
          ],
          "scatterpolar": [
           {
            "marker": {
             "colorbar": {
              "outlinewidth": 0,
              "ticks": ""
             }
            },
            "type": "scatterpolar"
           }
          ],
          "scatterpolargl": [
           {
            "marker": {
             "colorbar": {
              "outlinewidth": 0,
              "ticks": ""
             }
            },
            "type": "scatterpolargl"
           }
          ],
          "scatterternary": [
           {
            "marker": {
             "colorbar": {
              "outlinewidth": 0,
              "ticks": ""
             }
            },
            "type": "scatterternary"
           }
          ],
          "surface": [
           {
            "colorbar": {
             "outlinewidth": 0,
             "ticks": ""
            },
            "colorscale": [
             [
              0,
              "#0d0887"
             ],
             [
              0.1111111111111111,
              "#46039f"
             ],
             [
              0.2222222222222222,
              "#7201a8"
             ],
             [
              0.3333333333333333,
              "#9c179e"
             ],
             [
              0.4444444444444444,
              "#bd3786"
             ],
             [
              0.5555555555555556,
              "#d8576b"
             ],
             [
              0.6666666666666666,
              "#ed7953"
             ],
             [
              0.7777777777777778,
              "#fb9f3a"
             ],
             [
              0.8888888888888888,
              "#fdca26"
             ],
             [
              1,
              "#f0f921"
             ]
            ],
            "type": "surface"
           }
          ],
          "table": [
           {
            "cells": {
             "fill": {
              "color": "#EBF0F8"
             },
             "line": {
              "color": "white"
             }
            },
            "header": {
             "fill": {
              "color": "#C8D4E3"
             },
             "line": {
              "color": "white"
             }
            },
            "type": "table"
           }
          ]
         },
         "layout": {
          "annotationdefaults": {
           "arrowcolor": "#2a3f5f",
           "arrowhead": 0,
           "arrowwidth": 1
          },
          "autotypenumbers": "strict",
          "coloraxis": {
           "colorbar": {
            "outlinewidth": 0,
            "ticks": ""
           }
          },
          "colorscale": {
           "diverging": [
            [
             0,
             "#8e0152"
            ],
            [
             0.1,
             "#c51b7d"
            ],
            [
             0.2,
             "#de77ae"
            ],
            [
             0.3,
             "#f1b6da"
            ],
            [
             0.4,
             "#fde0ef"
            ],
            [
             0.5,
             "#f7f7f7"
            ],
            [
             0.6,
             "#e6f5d0"
            ],
            [
             0.7,
             "#b8e186"
            ],
            [
             0.8,
             "#7fbc41"
            ],
            [
             0.9,
             "#4d9221"
            ],
            [
             1,
             "#276419"
            ]
           ],
           "sequential": [
            [
             0,
             "#0d0887"
            ],
            [
             0.1111111111111111,
             "#46039f"
            ],
            [
             0.2222222222222222,
             "#7201a8"
            ],
            [
             0.3333333333333333,
             "#9c179e"
            ],
            [
             0.4444444444444444,
             "#bd3786"
            ],
            [
             0.5555555555555556,
             "#d8576b"
            ],
            [
             0.6666666666666666,
             "#ed7953"
            ],
            [
             0.7777777777777778,
             "#fb9f3a"
            ],
            [
             0.8888888888888888,
             "#fdca26"
            ],
            [
             1,
             "#f0f921"
            ]
           ],
           "sequentialminus": [
            [
             0,
             "#0d0887"
            ],
            [
             0.1111111111111111,
             "#46039f"
            ],
            [
             0.2222222222222222,
             "#7201a8"
            ],
            [
             0.3333333333333333,
             "#9c179e"
            ],
            [
             0.4444444444444444,
             "#bd3786"
            ],
            [
             0.5555555555555556,
             "#d8576b"
            ],
            [
             0.6666666666666666,
             "#ed7953"
            ],
            [
             0.7777777777777778,
             "#fb9f3a"
            ],
            [
             0.8888888888888888,
             "#fdca26"
            ],
            [
             1,
             "#f0f921"
            ]
           ]
          },
          "colorway": [
           "#636efa",
           "#EF553B",
           "#00cc96",
           "#ab63fa",
           "#FFA15A",
           "#19d3f3",
           "#FF6692",
           "#B6E880",
           "#FF97FF",
           "#FECB52"
          ],
          "font": {
           "color": "#2a3f5f"
          },
          "geo": {
           "bgcolor": "white",
           "lakecolor": "white",
           "landcolor": "#E5ECF6",
           "showlakes": true,
           "showland": true,
           "subunitcolor": "white"
          },
          "hoverlabel": {
           "align": "left"
          },
          "hovermode": "closest",
          "mapbox": {
           "style": "light"
          },
          "paper_bgcolor": "white",
          "plot_bgcolor": "#E5ECF6",
          "polar": {
           "angularaxis": {
            "gridcolor": "white",
            "linecolor": "white",
            "ticks": ""
           },
           "bgcolor": "#E5ECF6",
           "radialaxis": {
            "gridcolor": "white",
            "linecolor": "white",
            "ticks": ""
           }
          },
          "scene": {
           "xaxis": {
            "backgroundcolor": "#E5ECF6",
            "gridcolor": "white",
            "gridwidth": 2,
            "linecolor": "white",
            "showbackground": true,
            "ticks": "",
            "zerolinecolor": "white"
           },
           "yaxis": {
            "backgroundcolor": "#E5ECF6",
            "gridcolor": "white",
            "gridwidth": 2,
            "linecolor": "white",
            "showbackground": true,
            "ticks": "",
            "zerolinecolor": "white"
           },
           "zaxis": {
            "backgroundcolor": "#E5ECF6",
            "gridcolor": "white",
            "gridwidth": 2,
            "linecolor": "white",
            "showbackground": true,
            "ticks": "",
            "zerolinecolor": "white"
           }
          },
          "shapedefaults": {
           "line": {
            "color": "#2a3f5f"
           }
          },
          "ternary": {
           "aaxis": {
            "gridcolor": "white",
            "linecolor": "white",
            "ticks": ""
           },
           "baxis": {
            "gridcolor": "white",
            "linecolor": "white",
            "ticks": ""
           },
           "bgcolor": "#E5ECF6",
           "caxis": {
            "gridcolor": "white",
            "linecolor": "white",
            "ticks": ""
           }
          },
          "title": {
           "x": 0.05
          },
          "xaxis": {
           "automargin": true,
           "gridcolor": "white",
           "linecolor": "white",
           "ticks": "",
           "title": {
            "standoff": 15
           },
           "zerolinecolor": "white",
           "zerolinewidth": 2
          },
          "yaxis": {
           "automargin": true,
           "gridcolor": "white",
           "linecolor": "white",
           "ticks": "",
           "title": {
            "standoff": 15
           },
           "zerolinecolor": "white",
           "zerolinewidth": 2
          }
         }
        },
        "title": {
         "text": "plotly.colors.sequential"
        },
        "xaxis": {
         "range": [
          -0.02,
          1.02
         ],
         "showgrid": false,
         "showticklabels": false
        }
       }
      },
      "text/html": [
       "<div>                            <div id=\"ad798a9f-881e-4187-9a4f-6064939ee2b6\" class=\"plotly-graph-div\" style=\"height:2640px; width:100%;\"></div>            <script type=\"text/javascript\">                require([\"plotly\"], function(Plotly) {                    window.PLOTLYENV=window.PLOTLYENV || {};                                    if (document.getElementById(\"ad798a9f-881e-4187-9a4f-6064939ee2b6\")) {                    Plotly.newPlot(                        \"ad798a9f-881e-4187-9a4f-6064939ee2b6\",                        [{\"customdata\":[0,1,2,3,4,5,6],\"hovertemplate\":\"%{y}[%{customdata}] = %{marker.color}\\u003cextra\\u003e\\u003c\\u002fextra\\u003e\",\"marker\":{\"color\":[\"rgb(237, 229, 207)\",\"rgb(224, 194, 162)\",\"rgb(211, 156, 131)\",\"rgb(193, 118, 111)\",\"rgb(166, 84, 97)\",\"rgb(129, 55, 83)\",\"rgb(84, 31, 63)\"]},\"orientation\":\"h\",\"x\":[1,1,1,1,1,1,1],\"y\":[\"Brwnyl\",\"Brwnyl\",\"Brwnyl\",\"Brwnyl\",\"Brwnyl\",\"Brwnyl\",\"Brwnyl\"],\"type\":\"bar\"},{\"customdata\":[0,1,2,3,4,5,6],\"hovertemplate\":\"%{y}[%{customdata}] = %{marker.color}\\u003cextra\\u003e\\u003c\\u002fextra\\u003e\",\"marker\":{\"color\":[\"rgb(75, 41, 145)\",\"rgb(135, 44, 162)\",\"rgb(192, 54, 157)\",\"rgb(234, 79, 136)\",\"rgb(250, 120, 118)\",\"rgb(246, 169, 122)\",\"rgb(237, 217, 163)\"]},\"orientation\":\"h\",\"x\":[1,1,1,1,1,1,1],\"y\":[\"Agsunset\",\"Agsunset\",\"Agsunset\",\"Agsunset\",\"Agsunset\",\"Agsunset\",\"Agsunset\"],\"type\":\"bar\"},{\"customdata\":[0,1,2,3,4,5,6],\"hovertemplate\":\"%{y}[%{customdata}] = %{marker.color}\\u003cextra\\u003e\\u003c\\u002fextra\\u003e\",\"marker\":{\"color\":[\"rgb(252, 222, 156)\",\"rgb(250, 164, 118)\",\"rgb(240, 116, 110)\",\"rgb(227, 79, 111)\",\"rgb(220, 57, 119)\",\"rgb(185, 37, 122)\",\"rgb(124, 29, 111)\"]},\"orientation\":\"h\",\"x\":[1,1,1,1,1,1,1],\"y\":[\"Sunsetdark\",\"Sunsetdark\",\"Sunsetdark\",\"Sunsetdark\",\"Sunsetdark\",\"Sunsetdark\",\"Sunsetdark\"],\"type\":\"bar\"},{\"customdata\":[0,1,2,3,4,5,6],\"hovertemplate\":\"%{y}[%{customdata}] = %{marker.color}\\u003cextra\\u003e\\u003c\\u002fextra\\u003e\",\"marker\":{\"color\":[\"rgb(243, 203, 211)\",\"rgb(234, 169, 189)\",\"rgb(221, 136, 172)\",\"rgb(202, 105, 157)\",\"rgb(177, 77, 142)\",\"rgb(145, 53, 125)\",\"rgb(108, 33, 103)\"]},\"orientation\":\"h\",\"x\":[1,1,1,1,1,1,1],\"y\":[\"Magenta\",\"Magenta\",\"Magenta\",\"Magenta\",\"Magenta\",\"Magenta\",\"Magenta\"],\"type\":\"bar\"},{\"customdata\":[0,1,2,3,4,5,6],\"hovertemplate\":\"%{y}[%{customdata}] = %{marker.color}\\u003cextra\\u003e\\u003c\\u002fextra\\u003e\",\"marker\":{\"color\":[\"rgb(243, 231, 155)\",\"rgb(250, 196, 132)\",\"rgb(248, 160, 126)\",\"rgb(235, 127, 134)\",\"rgb(206, 102, 147)\",\"rgb(160, 89, 160)\",\"rgb(92, 83, 165)\"]},\"orientation\":\"h\",\"x\":[1,1,1,1,1,1,1],\"y\":[\"Sunset\",\"Sunset\",\"Sunset\",\"Sunset\",\"Sunset\",\"Sunset\",\"Sunset\"],\"type\":\"bar\"},{\"customdata\":[0,1,2,3,4,5,6],\"hovertemplate\":\"%{y}[%{customdata}] = %{marker.color}\\u003cextra\\u003e\\u003c\\u002fextra\\u003e\",\"marker\":{\"color\":[\"rgb(249, 221, 218)\",\"rgb(242, 185, 196)\",\"rgb(229, 151, 185)\",\"rgb(206, 120, 179)\",\"rgb(173, 95, 173)\",\"rgb(131, 75, 160)\",\"rgb(87, 59, 136)\"]},\"orientation\":\"h\",\"x\":[1,1,1,1,1,1,1],\"y\":[\"Purpor\",\"Purpor\",\"Purpor\",\"Purpor\",\"Purpor\",\"Purpor\",\"Purpor\"],\"type\":\"bar\"},{\"customdata\":[0,1,2,3,4,5,6],\"hovertemplate\":\"%{y}[%{customdata}] = %{marker.color}\\u003cextra\\u003e\\u003c\\u002fextra\\u003e\",\"marker\":{\"color\":[\"rgb(243, 224, 247)\",\"rgb(228, 199, 241)\",\"rgb(209, 175, 232)\",\"rgb(185, 152, 221)\",\"rgb(159, 130, 206)\",\"rgb(130, 109, 186)\",\"rgb(99, 88, 159)\"]},\"orientation\":\"h\",\"x\":[1,1,1,1,1,1,1],\"y\":[\"Purp\",\"Purp\",\"Purp\",\"Purp\",\"Purp\",\"Purp\",\"Purp\"],\"type\":\"bar\"},{\"customdata\":[0,1,2,3,4,5,6],\"hovertemplate\":\"%{y}[%{customdata}] = %{marker.color}\\u003cextra\\u003e\\u003c\\u002fextra\\u003e\",\"marker\":{\"color\":[\"rgb(176, 242, 188)\",\"rgb(137, 232, 172)\",\"rgb(103, 219, 165)\",\"rgb(76, 200, 163)\",\"rgb(56, 178, 163)\",\"rgb(44, 152, 160)\",\"rgb(37, 125, 152)\"]},\"orientation\":\"h\",\"x\":[1,1,1,1,1,1,1],\"y\":[\"Tealgrn\",\"Tealgrn\",\"Tealgrn\",\"Tealgrn\",\"Tealgrn\",\"Tealgrn\",\"Tealgrn\"],\"type\":\"bar\"},{\"customdata\":[0,1,2,3,4,5,6],\"hovertemplate\":\"%{y}[%{customdata}] = %{marker.color}\\u003cextra\\u003e\\u003c\\u002fextra\\u003e\",\"marker\":{\"color\":[\"rgb(209, 238, 234)\",\"rgb(168, 219, 217)\",\"rgb(133, 196, 201)\",\"rgb(104, 171, 184)\",\"rgb(79, 144, 166)\",\"rgb(59, 115, 143)\",\"rgb(42, 86, 116)\"]},\"orientation\":\"h\",\"x\":[1,1,1,1,1,1,1],\"y\":[\"Teal\",\"Teal\",\"Teal\",\"Teal\",\"Teal\",\"Teal\",\"Teal\"],\"type\":\"bar\"},{\"customdata\":[0,1,2,3,4,5,6],\"hovertemplate\":\"%{y}[%{customdata}] = %{marker.color}\\u003cextra\\u003e\\u003c\\u002fextra\\u003e\",\"marker\":{\"color\":[\"rgb(247, 254, 174)\",\"rgb(183, 230, 165)\",\"rgb(124, 203, 162)\",\"rgb(70, 174, 160)\",\"rgb(8, 144, 153)\",\"rgb(0, 113, 139)\",\"rgb(4, 82, 117)\"]},\"orientation\":\"h\",\"x\":[1,1,1,1,1,1,1],\"y\":[\"Bluyl\",\"Bluyl\",\"Bluyl\",\"Bluyl\",\"Bluyl\",\"Bluyl\",\"Bluyl\"],\"type\":\"bar\"},{\"customdata\":[0,1,2,3,4,5,6],\"hovertemplate\":\"%{y}[%{customdata}] = %{marker.color}\\u003cextra\\u003e\\u003c\\u002fextra\\u003e\",\"marker\":{\"color\":[\"rgb(36, 86, 104)\",\"rgb(15, 114, 121)\",\"rgb(13, 143, 129)\",\"rgb(57, 171, 126)\",\"rgb(110, 197, 116)\",\"rgb(169, 220, 103)\",\"rgb(237, 239, 93)\"]},\"orientation\":\"h\",\"x\":[1,1,1,1,1,1,1],\"y\":[\"Aggrnyl\",\"Aggrnyl\",\"Aggrnyl\",\"Aggrnyl\",\"Aggrnyl\",\"Aggrnyl\",\"Aggrnyl\"],\"type\":\"bar\"},{\"customdata\":[0,1,2,3,4,5,6],\"hovertemplate\":\"%{y}[%{customdata}] = %{marker.color}\\u003cextra\\u003e\\u003c\\u002fextra\\u003e\",\"marker\":{\"color\":[\"rgb(211, 242, 163)\",\"rgb(151, 225, 150)\",\"rgb(108, 192, 139)\",\"rgb(76, 155, 130)\",\"rgb(33, 122, 121)\",\"rgb(16, 89, 101)\",\"rgb(7, 64, 80)\"]},\"orientation\":\"h\",\"x\":[1,1,1,1,1,1,1],\"y\":[\"Emrld\",\"Emrld\",\"Emrld\",\"Emrld\",\"Emrld\",\"Emrld\",\"Emrld\"],\"type\":\"bar\"},{\"customdata\":[0,1,2,3,4,5,6],\"hovertemplate\":\"%{y}[%{customdata}] = %{marker.color}\\u003cextra\\u003e\\u003c\\u002fextra\\u003e\",\"marker\":{\"color\":[\"rgb(210, 251, 212)\",\"rgb(165, 219, 194)\",\"rgb(123, 188, 176)\",\"rgb(85, 156, 158)\",\"rgb(58, 124, 137)\",\"rgb(35, 93, 114)\",\"rgb(18, 63, 90)\"]},\"orientation\":\"h\",\"x\":[1,1,1,1,1,1,1],\"y\":[\"Darkmint\",\"Darkmint\",\"Darkmint\",\"Darkmint\",\"Darkmint\",\"Darkmint\",\"Darkmint\"],\"type\":\"bar\"},{\"customdata\":[0,1,2,3,4,5,6],\"hovertemplate\":\"%{y}[%{customdata}] = %{marker.color}\\u003cextra\\u003e\\u003c\\u002fextra\\u003e\",\"marker\":{\"color\":[\"rgb(196, 230, 195)\",\"rgb(150, 210, 164)\",\"rgb(109, 188, 144)\",\"rgb(77, 162, 132)\",\"rgb(54, 135, 122)\",\"rgb(38, 107, 110)\",\"rgb(29, 79, 96)\"]},\"orientation\":\"h\",\"x\":[1,1,1,1,1,1,1],\"y\":[\"Blugrn\",\"Blugrn\",\"Blugrn\",\"Blugrn\",\"Blugrn\",\"Blugrn\",\"Blugrn\"],\"type\":\"bar\"},{\"customdata\":[0,1,2,3,4,5,6],\"hovertemplate\":\"%{y}[%{customdata}] = %{marker.color}\\u003cextra\\u003e\\u003c\\u002fextra\\u003e\",\"marker\":{\"color\":[\"rgb(228, 241, 225)\",\"rgb(180, 217, 204)\",\"rgb(137, 192, 182)\",\"rgb(99, 166, 160)\",\"rgb(68, 140, 138)\",\"rgb(40, 114, 116)\",\"rgb(13, 88, 95)\"]},\"orientation\":\"h\",\"x\":[1,1,1,1,1,1,1],\"y\":[\"Mint\",\"Mint\",\"Mint\",\"Mint\",\"Mint\",\"Mint\",\"Mint\"],\"type\":\"bar\"},{\"customdata\":[0,1,2,3,4,5,6],\"hovertemplate\":\"%{y}[%{customdata}] = %{marker.color}\\u003cextra\\u003e\\u003c\\u002fextra\\u003e\",\"marker\":{\"color\":[\"rgb(254, 246, 181)\",\"rgb(255, 221, 154)\",\"rgb(255, 194, 133)\",\"rgb(255, 166, 121)\",\"rgb(250, 138, 118)\",\"rgb(241, 109, 122)\",\"rgb(225, 83, 131)\"]},\"orientation\":\"h\",\"x\":[1,1,1,1,1,1,1],\"y\":[\"Pinkyl\",\"Pinkyl\",\"Pinkyl\",\"Pinkyl\",\"Pinkyl\",\"Pinkyl\",\"Pinkyl\"],\"type\":\"bar\"},{\"customdata\":[0,1,2,3,4,5,6],\"hovertemplate\":\"%{y}[%{customdata}] = %{marker.color}\\u003cextra\\u003e\\u003c\\u002fextra\\u003e\",\"marker\":{\"color\":[\"rgb(253, 224, 197)\",\"rgb(250, 203, 166)\",\"rgb(248, 181, 139)\",\"rgb(245, 158, 114)\",\"rgb(242, 133, 93)\",\"rgb(239, 106, 76)\",\"rgb(235, 74, 64)\"]},\"orientation\":\"h\",\"x\":[1,1,1,1,1,1,1],\"y\":[\"Peach\",\"Peach\",\"Peach\",\"Peach\",\"Peach\",\"Peach\",\"Peach\"],\"type\":\"bar\"},{\"customdata\":[0,1,2,3,4,5,6],\"hovertemplate\":\"%{y}[%{customdata}] = %{marker.color}\\u003cextra\\u003e\\u003c\\u002fextra\\u003e\",\"marker\":{\"color\":[\"rgb(236, 218, 154)\",\"rgb(239, 196, 126)\",\"rgb(243, 173, 106)\",\"rgb(247, 148, 93)\",\"rgb(249, 123, 87)\",\"rgb(246, 99, 86)\",\"rgb(238, 77, 90)\"]},\"orientation\":\"h\",\"x\":[1,1,1,1,1,1,1],\"y\":[\"Oryel\",\"Oryel\",\"Oryel\",\"Oryel\",\"Oryel\",\"Oryel\",\"Oryel\"],\"type\":\"bar\"},{\"customdata\":[0,1,2,3,4,5,6],\"hovertemplate\":\"%{y}[%{customdata}] = %{marker.color}\\u003cextra\\u003e\\u003c\\u002fextra\\u003e\",\"marker\":{\"color\":[\"rgb(246, 210, 169)\",\"rgb(245, 183, 142)\",\"rgb(241, 156, 124)\",\"rgb(234, 129, 113)\",\"rgb(221, 104, 108)\",\"rgb(202, 82, 104)\",\"rgb(177, 63, 100)\"]},\"orientation\":\"h\",\"x\":[1,1,1,1,1,1,1],\"y\":[\"Redor\",\"Redor\",\"Redor\",\"Redor\",\"Redor\",\"Redor\",\"Redor\"],\"type\":\"bar\"},{\"customdata\":[0,1,2,3,4,5,6],\"hovertemplate\":\"%{y}[%{customdata}] = %{marker.color}\\u003cextra\\u003e\\u003c\\u002fextra\\u003e\",\"marker\":{\"color\":[\"rgb(251, 230, 197)\",\"rgb(245, 186, 152)\",\"rgb(238, 138, 130)\",\"rgb(220, 113, 118)\",\"rgb(200, 88, 108)\",\"rgb(156, 63, 93)\",\"rgb(112, 40, 74)\"]},\"orientation\":\"h\",\"x\":[1,1,1,1,1,1,1],\"y\":[\"Burgyl\",\"Burgyl\",\"Burgyl\",\"Burgyl\",\"Burgyl\",\"Burgyl\",\"Burgyl\"],\"type\":\"bar\"},{\"customdata\":[0,1,2,3,4,5,6],\"hovertemplate\":\"%{y}[%{customdata}] = %{marker.color}\\u003cextra\\u003e\\u003c\\u002fextra\\u003e\",\"marker\":{\"color\":[\"rgb(255, 198, 196)\",\"rgb(244, 163, 168)\",\"rgb(227, 129, 145)\",\"rgb(204, 96, 125)\",\"rgb(173, 70, 108)\",\"rgb(139, 48, 88)\",\"rgb(103, 32, 68)\"]},\"orientation\":\"h\",\"x\":[1,1,1,1,1,1,1],\"y\":[\"Burg\",\"Burg\",\"Burg\",\"Burg\",\"Burg\",\"Burg\",\"Burg\"],\"type\":\"bar\"},{\"customdata\":[0,1,2,3,4,5,6,7,8,9,10,11],\"hovertemplate\":\"%{y}[%{customdata}] = %{marker.color}\\u003cextra\\u003e\\u003c\\u002fextra\\u003e\",\"marker\":{\"color\":[\"rgb(254, 245, 244)\",\"rgb(222, 224, 210)\",\"rgb(189, 206, 181)\",\"rgb(153, 189, 156)\",\"rgb(110, 173, 138)\",\"rgb(65, 157, 129)\",\"rgb(25, 137, 125)\",\"rgb(18, 116, 117)\",\"rgb(25, 94, 106)\",\"rgb(28, 72, 93)\",\"rgb(25, 51, 80)\",\"rgb(20, 29, 67)\"]},\"orientation\":\"h\",\"x\":[1,1,1,1,1,1,1,1,1,1,1,1],\"y\":[\"tempo\",\"tempo\",\"tempo\",\"tempo\",\"tempo\",\"tempo\",\"tempo\",\"tempo\",\"tempo\",\"tempo\",\"tempo\",\"tempo\"],\"type\":\"bar\"},{\"customdata\":[0,1,2,3,4,5,6,7,8,9,10,11],\"hovertemplate\":\"%{y}[%{customdata}] = %{marker.color}\\u003cextra\\u003e\\u003c\\u002fextra\\u003e\",\"marker\":{\"color\":[\"rgb(241, 236, 236)\",\"rgb(230, 209, 203)\",\"rgb(221, 182, 170)\",\"rgb(213, 156, 137)\",\"rgb(205, 129, 103)\",\"rgb(196, 102, 73)\",\"rgb(186, 74, 47)\",\"rgb(172, 44, 36)\",\"rgb(149, 19, 39)\",\"rgb(120, 14, 40)\",\"rgb(89, 13, 31)\",\"rgb(60, 9, 17)\"]},\"orientation\":\"h\",\"x\":[1,1,1,1,1,1,1,1,1,1,1,1],\"y\":[\"amp\",\"amp\",\"amp\",\"amp\",\"amp\",\"amp\",\"amp\",\"amp\",\"amp\",\"amp\",\"amp\",\"amp\"],\"type\":\"bar\"},{\"customdata\":[0,1,2,3,4,5,6,7,8,9,10,11],\"hovertemplate\":\"%{y}[%{customdata}] = %{marker.color}\\u003cextra\\u003e\\u003c\\u002fextra\\u003e\",\"marker\":{\"color\":[\"rgb(254, 252, 205)\",\"rgb(239, 225, 156)\",\"rgb(221, 201, 106)\",\"rgb(194, 182, 59)\",\"rgb(157, 167, 21)\",\"rgb(116, 153, 5)\",\"rgb(75, 138, 20)\",\"rgb(35, 121, 36)\",\"rgb(11, 100, 44)\",\"rgb(18, 78, 43)\",\"rgb(25, 56, 34)\",\"rgb(23, 35, 18)\"]},\"orientation\":\"h\",\"x\":[1,1,1,1,1,1,1,1,1,1,1,1],\"y\":[\"speed\",\"speed\",\"speed\",\"speed\",\"speed\",\"speed\",\"speed\",\"speed\",\"speed\",\"speed\",\"speed\",\"speed\"],\"type\":\"bar\"},{\"customdata\":[0,1,2,3,4,5,6,7,8,9,10,11],\"hovertemplate\":\"%{y}[%{customdata}] = %{marker.color}\\u003cextra\\u003e\\u003c\\u002fextra\\u003e\",\"marker\":{\"color\":[\"rgb(253, 237, 176)\",\"rgb(250, 205, 145)\",\"rgb(246, 173, 119)\",\"rgb(240, 142, 98)\",\"rgb(231, 109, 84)\",\"rgb(216, 80, 83)\",\"rgb(195, 56, 90)\",\"rgb(168, 40, 96)\",\"rgb(138, 29, 99)\",\"rgb(107, 24, 93)\",\"rgb(76, 21, 80)\",\"rgb(47, 15, 61)\"]},\"orientation\":\"h\",\"x\":[1,1,1,1,1,1,1,1,1,1,1,1],\"y\":[\"matter\",\"matter\",\"matter\",\"matter\",\"matter\",\"matter\",\"matter\",\"matter\",\"matter\",\"matter\",\"matter\",\"matter\"],\"type\":\"bar\"},{\"customdata\":[0,1,2,3,4,5,6,7,8,9,10,11],\"hovertemplate\":\"%{y}[%{customdata}] = %{marker.color}\\u003cextra\\u003e\\u003c\\u002fextra\\u003e\",\"marker\":{\"color\":[\"rgb(214, 249, 207)\",\"rgb(186, 228, 174)\",\"rgb(156, 209, 143)\",\"rgb(124, 191, 115)\",\"rgb(85, 174, 91)\",\"rgb(37, 157, 81)\",\"rgb(7, 138, 78)\",\"rgb(13, 117, 71)\",\"rgb(23, 95, 61)\",\"rgb(25, 75, 49)\",\"rgb(23, 55, 35)\",\"rgb(17, 36, 20)\"]},\"orientation\":\"h\",\"x\":[1,1,1,1,1,1,1,1,1,1,1,1],\"y\":[\"algae\",\"algae\",\"algae\",\"algae\",\"algae\",\"algae\",\"algae\",\"algae\",\"algae\",\"algae\",\"algae\",\"algae\"],\"type\":\"bar\"},{\"customdata\":[0,1,2,3,4,5,6,7,8,9,10,11],\"hovertemplate\":\"%{y}[%{customdata}] = %{marker.color}\\u003cextra\\u003e\\u003c\\u002fextra\\u003e\",\"marker\":{\"color\":[\"rgb(230, 240, 240)\",\"rgb(191, 221, 229)\",\"rgb(156, 201, 226)\",\"rgb(129, 180, 227)\",\"rgb(115, 154, 228)\",\"rgb(117, 127, 221)\",\"rgb(120, 100, 202)\",\"rgb(119, 74, 175)\",\"rgb(113, 50, 141)\",\"rgb(100, 31, 104)\",\"rgb(80, 20, 66)\",\"rgb(54, 14, 36)\"]},\"orientation\":\"h\",\"x\":[1,1,1,1,1,1,1,1,1,1,1,1],\"y\":[\"dense\",\"dense\",\"dense\",\"dense\",\"dense\",\"dense\",\"dense\",\"dense\",\"dense\",\"dense\",\"dense\",\"dense\"],\"type\":\"bar\"},{\"customdata\":[0,1,2,3,4,5,6,7,8,9,10,11],\"hovertemplate\":\"%{y}[%{customdata}] = %{marker.color}\\u003cextra\\u003e\\u003c\\u002fextra\\u003e\",\"marker\":{\"color\":[\"rgb(253, 253, 204)\",\"rgb(206, 236, 179)\",\"rgb(156, 219, 165)\",\"rgb(111, 201, 163)\",\"rgb(86, 177, 163)\",\"rgb(76, 153, 160)\",\"rgb(68, 130, 155)\",\"rgb(62, 108, 150)\",\"rgb(62, 82, 143)\",\"rgb(64, 60, 115)\",\"rgb(54, 43, 77)\",\"rgb(39, 26, 44)\"]},\"orientation\":\"h\",\"x\":[1,1,1,1,1,1,1,1,1,1,1,1],\"y\":[\"deep\",\"deep\",\"deep\",\"deep\",\"deep\",\"deep\",\"deep\",\"deep\",\"deep\",\"deep\",\"deep\",\"deep\"],\"type\":\"bar\"},{\"customdata\":[0,1,2,3,4,5,6,7,8,9,10,11],\"hovertemplate\":\"%{y}[%{customdata}] = %{marker.color}\\u003cextra\\u003e\\u003c\\u002fextra\\u003e\",\"marker\":{\"color\":[\"rgb(0, 0, 0)\",\"rgb(16, 16, 16)\",\"rgb(38, 38, 38)\",\"rgb(59, 59, 59)\",\"rgb(81, 80, 80)\",\"rgb(102, 101, 101)\",\"rgb(124, 123, 122)\",\"rgb(146, 146, 145)\",\"rgb(171, 171, 170)\",\"rgb(197, 197, 195)\",\"rgb(224, 224, 223)\",\"rgb(254, 254, 253)\"]},\"orientation\":\"h\",\"x\":[1,1,1,1,1,1,1,1,1,1,1,1],\"y\":[\"gray\",\"gray\",\"gray\",\"gray\",\"gray\",\"gray\",\"gray\",\"gray\",\"gray\",\"gray\",\"gray\",\"gray\"],\"type\":\"bar\"},{\"customdata\":[0,1,2,3,4,5,6,7,8,9,10,11],\"hovertemplate\":\"%{y}[%{customdata}] = %{marker.color}\\u003cextra\\u003e\\u003c\\u002fextra\\u003e\",\"marker\":{\"color\":[\"rgb(3, 5, 18)\",\"rgb(25, 25, 51)\",\"rgb(44, 42, 87)\",\"rgb(58, 60, 125)\",\"rgb(62, 83, 160)\",\"rgb(62, 109, 178)\",\"rgb(72, 134, 187)\",\"rgb(89, 159, 196)\",\"rgb(114, 184, 205)\",\"rgb(149, 207, 216)\",\"rgb(192, 229, 232)\",\"rgb(234, 252, 253)\"]},\"orientation\":\"h\",\"x\":[1,1,1,1,1,1,1,1,1,1,1,1],\"y\":[\"ice\",\"ice\",\"ice\",\"ice\",\"ice\",\"ice\",\"ice\",\"ice\",\"ice\",\"ice\",\"ice\",\"ice\"],\"type\":\"bar\"},{\"customdata\":[0,1,2,3,4,5,6,7,8,9,10,11],\"hovertemplate\":\"%{y}[%{customdata}] = %{marker.color}\\u003cextra\\u003e\\u003c\\u002fextra\\u003e\",\"marker\":{\"color\":[\"rgb(51, 19, 23)\",\"rgb(79, 28, 33)\",\"rgb(108, 36, 36)\",\"rgb(135, 47, 32)\",\"rgb(157, 66, 25)\",\"rgb(174, 88, 20)\",\"rgb(188, 111, 19)\",\"rgb(199, 137, 22)\",\"rgb(209, 164, 32)\",\"rgb(217, 192, 44)\",\"rgb(222, 222, 59)\",\"rgb(224, 253, 74)\"]},\"orientation\":\"h\",\"x\":[1,1,1,1,1,1,1,1,1,1,1,1],\"y\":[\"solar\",\"solar\",\"solar\",\"solar\",\"solar\",\"solar\",\"solar\",\"solar\",\"solar\",\"solar\",\"solar\",\"solar\"],\"type\":\"bar\"},{\"customdata\":[0,1,2,3,4,5,6,7,8,9,10,11],\"hovertemplate\":\"%{y}[%{customdata}] = %{marker.color}\\u003cextra\\u003e\\u003c\\u002fextra\\u003e\",\"marker\":{\"color\":[\"rgb(41, 24, 107)\",\"rgb(42, 35, 160)\",\"rgb(15, 71, 153)\",\"rgb(18, 95, 142)\",\"rgb(38, 116, 137)\",\"rgb(53, 136, 136)\",\"rgb(65, 157, 133)\",\"rgb(81, 178, 124)\",\"rgb(111, 198, 107)\",\"rgb(160, 214, 91)\",\"rgb(212, 225, 112)\",\"rgb(253, 238, 153)\"]},\"orientation\":\"h\",\"x\":[1,1,1,1,1,1,1,1,1,1,1,1],\"y\":[\"haline\",\"haline\",\"haline\",\"haline\",\"haline\",\"haline\",\"haline\",\"haline\",\"haline\",\"haline\",\"haline\",\"haline\"],\"type\":\"bar\"},{\"customdata\":[0,1,2,3,4,5,6,7,8,9,10,11],\"hovertemplate\":\"%{y}[%{customdata}] = %{marker.color}\\u003cextra\\u003e\\u003c\\u002fextra\\u003e\",\"marker\":{\"color\":[\"rgb(3, 35, 51)\",\"rgb(13, 48, 100)\",\"rgb(53, 50, 155)\",\"rgb(93, 62, 153)\",\"rgb(126, 77, 143)\",\"rgb(158, 89, 135)\",\"rgb(193, 100, 121)\",\"rgb(225, 113, 97)\",\"rgb(246, 139, 69)\",\"rgb(251, 173, 60)\",\"rgb(246, 211, 70)\",\"rgb(231, 250, 90)\"]},\"orientation\":\"h\",\"x\":[1,1,1,1,1,1,1,1,1,1,1,1],\"y\":[\"thermal\",\"thermal\",\"thermal\",\"thermal\",\"thermal\",\"thermal\",\"thermal\",\"thermal\",\"thermal\",\"thermal\",\"thermal\",\"thermal\"],\"type\":\"bar\"},{\"customdata\":[0,1,2,3,4,5,6,7,8,9,10,11],\"hovertemplate\":\"%{y}[%{customdata}] = %{marker.color}\\u003cextra\\u003e\\u003c\\u002fextra\\u003e\",\"marker\":{\"color\":[\"rgb(232, 245, 171)\",\"rgb(220, 219, 137)\",\"rgb(209, 193, 107)\",\"rgb(199, 168, 83)\",\"rgb(186, 143, 66)\",\"rgb(170, 121, 60)\",\"rgb(151, 103, 58)\",\"rgb(129, 87, 56)\",\"rgb(104, 72, 53)\",\"rgb(80, 59, 46)\",\"rgb(57, 45, 37)\",\"rgb(34, 30, 27)\"]},\"orientation\":\"h\",\"x\":[1,1,1,1,1,1,1,1,1,1,1,1],\"y\":[\"turbid\",\"turbid\",\"turbid\",\"turbid\",\"turbid\",\"turbid\",\"turbid\",\"turbid\",\"turbid\",\"turbid\",\"turbid\",\"turbid\"],\"type\":\"bar\"},{\"customdata\":[0,1,2,3,4,5,6,7,8],\"hovertemplate\":\"%{y}[%{customdata}] = %{marker.color}\\u003cextra\\u003e\\u003c\\u002fextra\\u003e\",\"marker\":{\"color\":[\"rgb(255,255,204)\",\"rgb(255,237,160)\",\"rgb(254,217,118)\",\"rgb(254,178,76)\",\"rgb(253,141,60)\",\"rgb(252,78,42)\",\"rgb(227,26,28)\",\"rgb(189,0,38)\",\"rgb(128,0,38)\"]},\"orientation\":\"h\",\"x\":[1,1,1,1,1,1,1,1,1],\"y\":[\"YlOrRd\",\"YlOrRd\",\"YlOrRd\",\"YlOrRd\",\"YlOrRd\",\"YlOrRd\",\"YlOrRd\",\"YlOrRd\",\"YlOrRd\"],\"type\":\"bar\"},{\"customdata\":[0,1,2,3,4,5,6,7,8],\"hovertemplate\":\"%{y}[%{customdata}] = %{marker.color}\\u003cextra\\u003e\\u003c\\u002fextra\\u003e\",\"marker\":{\"color\":[\"rgb(255,255,229)\",\"rgb(255,247,188)\",\"rgb(254,227,145)\",\"rgb(254,196,79)\",\"rgb(254,153,41)\",\"rgb(236,112,20)\",\"rgb(204,76,2)\",\"rgb(153,52,4)\",\"rgb(102,37,6)\"]},\"orientation\":\"h\",\"x\":[1,1,1,1,1,1,1,1,1],\"y\":[\"YlOrBr\",\"YlOrBr\",\"YlOrBr\",\"YlOrBr\",\"YlOrBr\",\"YlOrBr\",\"YlOrBr\",\"YlOrBr\",\"YlOrBr\"],\"type\":\"bar\"},{\"customdata\":[0,1,2,3,4,5,6,7,8],\"hovertemplate\":\"%{y}[%{customdata}] = %{marker.color}\\u003cextra\\u003e\\u003c\\u002fextra\\u003e\",\"marker\":{\"color\":[\"rgb(255,255,217)\",\"rgb(237,248,177)\",\"rgb(199,233,180)\",\"rgb(127,205,187)\",\"rgb(65,182,196)\",\"rgb(29,145,192)\",\"rgb(34,94,168)\",\"rgb(37,52,148)\",\"rgb(8,29,88)\"]},\"orientation\":\"h\",\"x\":[1,1,1,1,1,1,1,1,1],\"y\":[\"YlGnBu\",\"YlGnBu\",\"YlGnBu\",\"YlGnBu\",\"YlGnBu\",\"YlGnBu\",\"YlGnBu\",\"YlGnBu\",\"YlGnBu\"],\"type\":\"bar\"},{\"customdata\":[0,1,2,3,4,5,6,7,8],\"hovertemplate\":\"%{y}[%{customdata}] = %{marker.color}\\u003cextra\\u003e\\u003c\\u002fextra\\u003e\",\"marker\":{\"color\":[\"rgb(255,255,229)\",\"rgb(247,252,185)\",\"rgb(217,240,163)\",\"rgb(173,221,142)\",\"rgb(120,198,121)\",\"rgb(65,171,93)\",\"rgb(35,132,67)\",\"rgb(0,104,55)\",\"rgb(0,69,41)\"]},\"orientation\":\"h\",\"x\":[1,1,1,1,1,1,1,1,1],\"y\":[\"YlGn\",\"YlGn\",\"YlGn\",\"YlGn\",\"YlGn\",\"YlGn\",\"YlGn\",\"YlGn\",\"YlGn\"],\"type\":\"bar\"},{\"customdata\":[0,1,2,3,4,5,6,7,8],\"hovertemplate\":\"%{y}[%{customdata}] = %{marker.color}\\u003cextra\\u003e\\u003c\\u002fextra\\u003e\",\"marker\":{\"color\":[\"rgb(255,245,240)\",\"rgb(254,224,210)\",\"rgb(252,187,161)\",\"rgb(252,146,114)\",\"rgb(251,106,74)\",\"rgb(239,59,44)\",\"rgb(203,24,29)\",\"rgb(165,15,21)\",\"rgb(103,0,13)\"]},\"orientation\":\"h\",\"x\":[1,1,1,1,1,1,1,1,1],\"y\":[\"Reds\",\"Reds\",\"Reds\",\"Reds\",\"Reds\",\"Reds\",\"Reds\",\"Reds\",\"Reds\"],\"type\":\"bar\"},{\"customdata\":[0,1,2,3,4,5,6,7,8],\"hovertemplate\":\"%{y}[%{customdata}] = %{marker.color}\\u003cextra\\u003e\\u003c\\u002fextra\\u003e\",\"marker\":{\"color\":[\"rgb(255,247,243)\",\"rgb(253,224,221)\",\"rgb(252,197,192)\",\"rgb(250,159,181)\",\"rgb(247,104,161)\",\"rgb(221,52,151)\",\"rgb(174,1,126)\",\"rgb(122,1,119)\",\"rgb(73,0,106)\"]},\"orientation\":\"h\",\"x\":[1,1,1,1,1,1,1,1,1],\"y\":[\"RdPu\",\"RdPu\",\"RdPu\",\"RdPu\",\"RdPu\",\"RdPu\",\"RdPu\",\"RdPu\",\"RdPu\"],\"type\":\"bar\"},{\"customdata\":[0,1,2,3,4,5,6,7,8,9,10],\"hovertemplate\":\"%{y}[%{customdata}] = %{marker.color}\\u003cextra\\u003e\\u003c\\u002fextra\\u003e\",\"marker\":{\"color\":[\"rgb(103,0,31)\",\"rgb(178,24,43)\",\"rgb(214,96,77)\",\"rgb(244,165,130)\",\"rgb(253,219,199)\",\"rgb(247,247,247)\",\"rgb(209,229,240)\",\"rgb(146,197,222)\",\"rgb(67,147,195)\",\"rgb(33,102,172)\",\"rgb(5,48,97)\"]},\"orientation\":\"h\",\"x\":[1,1,1,1,1,1,1,1,1,1,1],\"y\":[\"RdBu\",\"RdBu\",\"RdBu\",\"RdBu\",\"RdBu\",\"RdBu\",\"RdBu\",\"RdBu\",\"RdBu\",\"RdBu\",\"RdBu\"],\"type\":\"bar\"},{\"customdata\":[0,1,2,3,4,5,6,7,8],\"hovertemplate\":\"%{y}[%{customdata}] = %{marker.color}\\u003cextra\\u003e\\u003c\\u002fextra\\u003e\",\"marker\":{\"color\":[\"rgb(252,251,253)\",\"rgb(239,237,245)\",\"rgb(218,218,235)\",\"rgb(188,189,220)\",\"rgb(158,154,200)\",\"rgb(128,125,186)\",\"rgb(106,81,163)\",\"rgb(84,39,143)\",\"rgb(63,0,125)\"]},\"orientation\":\"h\",\"x\":[1,1,1,1,1,1,1,1,1],\"y\":[\"Purples\",\"Purples\",\"Purples\",\"Purples\",\"Purples\",\"Purples\",\"Purples\",\"Purples\",\"Purples\"],\"type\":\"bar\"},{\"customdata\":[0,1,2,3,4,5,6,7,8],\"hovertemplate\":\"%{y}[%{customdata}] = %{marker.color}\\u003cextra\\u003e\\u003c\\u002fextra\\u003e\",\"marker\":{\"color\":[\"rgb(247,244,249)\",\"rgb(231,225,239)\",\"rgb(212,185,218)\",\"rgb(201,148,199)\",\"rgb(223,101,176)\",\"rgb(231,41,138)\",\"rgb(206,18,86)\",\"rgb(152,0,67)\",\"rgb(103,0,31)\"]},\"orientation\":\"h\",\"x\":[1,1,1,1,1,1,1,1,1],\"y\":[\"PuRd\",\"PuRd\",\"PuRd\",\"PuRd\",\"PuRd\",\"PuRd\",\"PuRd\",\"PuRd\",\"PuRd\"],\"type\":\"bar\"},{\"customdata\":[0,1,2,3,4,5,6,7,8],\"hovertemplate\":\"%{y}[%{customdata}] = %{marker.color}\\u003cextra\\u003e\\u003c\\u002fextra\\u003e\",\"marker\":{\"color\":[\"rgb(255,247,251)\",\"rgb(236,226,240)\",\"rgb(208,209,230)\",\"rgb(166,189,219)\",\"rgb(103,169,207)\",\"rgb(54,144,192)\",\"rgb(2,129,138)\",\"rgb(1,108,89)\",\"rgb(1,70,54)\"]},\"orientation\":\"h\",\"x\":[1,1,1,1,1,1,1,1,1],\"y\":[\"PuBuGn\",\"PuBuGn\",\"PuBuGn\",\"PuBuGn\",\"PuBuGn\",\"PuBuGn\",\"PuBuGn\",\"PuBuGn\",\"PuBuGn\"],\"type\":\"bar\"},{\"customdata\":[0,1,2,3,4,5,6,7,8],\"hovertemplate\":\"%{y}[%{customdata}] = %{marker.color}\\u003cextra\\u003e\\u003c\\u002fextra\\u003e\",\"marker\":{\"color\":[\"rgb(255,247,251)\",\"rgb(236,231,242)\",\"rgb(208,209,230)\",\"rgb(166,189,219)\",\"rgb(116,169,207)\",\"rgb(54,144,192)\",\"rgb(5,112,176)\",\"rgb(4,90,141)\",\"rgb(2,56,88)\"]},\"orientation\":\"h\",\"x\":[1,1,1,1,1,1,1,1,1],\"y\":[\"PuBu\",\"PuBu\",\"PuBu\",\"PuBu\",\"PuBu\",\"PuBu\",\"PuBu\",\"PuBu\",\"PuBu\"],\"type\":\"bar\"},{\"customdata\":[0,1,2,3,4,5,6,7,8],\"hovertemplate\":\"%{y}[%{customdata}] = %{marker.color}\\u003cextra\\u003e\\u003c\\u002fextra\\u003e\",\"marker\":{\"color\":[\"rgb(255,245,235)\",\"rgb(254,230,206)\",\"rgb(253,208,162)\",\"rgb(253,174,107)\",\"rgb(253,141,60)\",\"rgb(241,105,19)\",\"rgb(217,72,1)\",\"rgb(166,54,3)\",\"rgb(127,39,4)\"]},\"orientation\":\"h\",\"x\":[1,1,1,1,1,1,1,1,1],\"y\":[\"Oranges\",\"Oranges\",\"Oranges\",\"Oranges\",\"Oranges\",\"Oranges\",\"Oranges\",\"Oranges\",\"Oranges\"],\"type\":\"bar\"},{\"customdata\":[0,1,2,3,4,5,6,7,8],\"hovertemplate\":\"%{y}[%{customdata}] = %{marker.color}\\u003cextra\\u003e\\u003c\\u002fextra\\u003e\",\"marker\":{\"color\":[\"rgb(255,247,236)\",\"rgb(254,232,200)\",\"rgb(253,212,158)\",\"rgb(253,187,132)\",\"rgb(252,141,89)\",\"rgb(239,101,72)\",\"rgb(215,48,31)\",\"rgb(179,0,0)\",\"rgb(127,0,0)\"]},\"orientation\":\"h\",\"x\":[1,1,1,1,1,1,1,1,1],\"y\":[\"OrRd\",\"OrRd\",\"OrRd\",\"OrRd\",\"OrRd\",\"OrRd\",\"OrRd\",\"OrRd\",\"OrRd\"],\"type\":\"bar\"},{\"customdata\":[0,1,2,3,4,5,6,7,8],\"hovertemplate\":\"%{y}[%{customdata}] = %{marker.color}\\u003cextra\\u003e\\u003c\\u002fextra\\u003e\",\"marker\":{\"color\":[\"rgb(255,255,255)\",\"rgb(240,240,240)\",\"rgb(217,217,217)\",\"rgb(189,189,189)\",\"rgb(150,150,150)\",\"rgb(115,115,115)\",\"rgb(82,82,82)\",\"rgb(37,37,37)\",\"rgb(0,0,0)\"]},\"orientation\":\"h\",\"x\":[1,1,1,1,1,1,1,1,1],\"y\":[\"Greys\",\"Greys\",\"Greys\",\"Greys\",\"Greys\",\"Greys\",\"Greys\",\"Greys\",\"Greys\"],\"type\":\"bar\"},{\"customdata\":[0,1,2,3,4,5,6,7,8],\"hovertemplate\":\"%{y}[%{customdata}] = %{marker.color}\\u003cextra\\u003e\\u003c\\u002fextra\\u003e\",\"marker\":{\"color\":[\"rgb(247,252,245)\",\"rgb(229,245,224)\",\"rgb(199,233,192)\",\"rgb(161,217,155)\",\"rgb(116,196,118)\",\"rgb(65,171,93)\",\"rgb(35,139,69)\",\"rgb(0,109,44)\",\"rgb(0,68,27)\"]},\"orientation\":\"h\",\"x\":[1,1,1,1,1,1,1,1,1],\"y\":[\"Greens\",\"Greens\",\"Greens\",\"Greens\",\"Greens\",\"Greens\",\"Greens\",\"Greens\",\"Greens\"],\"type\":\"bar\"},{\"customdata\":[0,1,2,3,4,5,6,7,8],\"hovertemplate\":\"%{y}[%{customdata}] = %{marker.color}\\u003cextra\\u003e\\u003c\\u002fextra\\u003e\",\"marker\":{\"color\":[\"rgb(247,252,240)\",\"rgb(224,243,219)\",\"rgb(204,235,197)\",\"rgb(168,221,181)\",\"rgb(123,204,196)\",\"rgb(78,179,211)\",\"rgb(43,140,190)\",\"rgb(8,104,172)\",\"rgb(8,64,129)\"]},\"orientation\":\"h\",\"x\":[1,1,1,1,1,1,1,1,1],\"y\":[\"GnBu\",\"GnBu\",\"GnBu\",\"GnBu\",\"GnBu\",\"GnBu\",\"GnBu\",\"GnBu\",\"GnBu\"],\"type\":\"bar\"},{\"customdata\":[0,1,2,3,4,5,6,7,8],\"hovertemplate\":\"%{y}[%{customdata}] = %{marker.color}\\u003cextra\\u003e\\u003c\\u002fextra\\u003e\",\"marker\":{\"color\":[\"rgb(247,252,253)\",\"rgb(224,236,244)\",\"rgb(191,211,230)\",\"rgb(158,188,218)\",\"rgb(140,150,198)\",\"rgb(140,107,177)\",\"rgb(136,65,157)\",\"rgb(129,15,124)\",\"rgb(77,0,75)\"]},\"orientation\":\"h\",\"x\":[1,1,1,1,1,1,1,1,1],\"y\":[\"BuPu\",\"BuPu\",\"BuPu\",\"BuPu\",\"BuPu\",\"BuPu\",\"BuPu\",\"BuPu\",\"BuPu\"],\"type\":\"bar\"},{\"customdata\":[0,1,2,3,4,5,6,7,8],\"hovertemplate\":\"%{y}[%{customdata}] = %{marker.color}\\u003cextra\\u003e\\u003c\\u002fextra\\u003e\",\"marker\":{\"color\":[\"rgb(247,252,253)\",\"rgb(229,245,249)\",\"rgb(204,236,230)\",\"rgb(153,216,201)\",\"rgb(102,194,164)\",\"rgb(65,174,118)\",\"rgb(35,139,69)\",\"rgb(0,109,44)\",\"rgb(0,68,27)\"]},\"orientation\":\"h\",\"x\":[1,1,1,1,1,1,1,1,1],\"y\":[\"BuGn\",\"BuGn\",\"BuGn\",\"BuGn\",\"BuGn\",\"BuGn\",\"BuGn\",\"BuGn\",\"BuGn\"],\"type\":\"bar\"},{\"customdata\":[0,1,2,3,4,5,6,7,8],\"hovertemplate\":\"%{y}[%{customdata}] = %{marker.color}\\u003cextra\\u003e\\u003c\\u002fextra\\u003e\",\"marker\":{\"color\":[\"rgb(247,251,255)\",\"rgb(222,235,247)\",\"rgb(198,219,239)\",\"rgb(158,202,225)\",\"rgb(107,174,214)\",\"rgb(66,146,198)\",\"rgb(33,113,181)\",\"rgb(8,81,156)\",\"rgb(8,48,107)\"]},\"orientation\":\"h\",\"x\":[1,1,1,1,1,1,1,1,1],\"y\":[\"Blues\",\"Blues\",\"Blues\",\"Blues\",\"Blues\",\"Blues\",\"Blues\",\"Blues\",\"Blues\"],\"type\":\"bar\"},{\"customdata\":[0,1,2,3,4,5,6,7,8],\"hovertemplate\":\"%{y}[%{customdata}] = %{marker.color}\\u003cextra\\u003e\\u003c\\u002fextra\\u003e\",\"marker\":{\"color\":[\"rgb(150,0,90)\",\"rgb(0,0,200)\",\"rgb(0,25,255)\",\"rgb(0,152,255)\",\"rgb(44,255,150)\",\"rgb(151,255,0)\",\"rgb(255,234,0)\",\"rgb(255,111,0)\",\"rgb(255,0,0)\"]},\"orientation\":\"h\",\"x\":[1,1,1,1,1,1,1,1,1],\"y\":[\"Rainbow\",\"Rainbow\",\"Rainbow\",\"Rainbow\",\"Rainbow\",\"Rainbow\",\"Rainbow\",\"Rainbow\",\"Rainbow\"],\"type\":\"bar\"},{\"customdata\":[0,1,2,3,4,5],\"hovertemplate\":\"%{y}[%{customdata}] = %{marker.color}\\u003cextra\\u003e\\u003c\\u002fextra\\u003e\",\"marker\":{\"color\":[\"rgb(0,0,131)\",\"rgb(0,60,170)\",\"rgb(5,255,255)\",\"rgb(255,255,0)\",\"rgb(250,0,0)\",\"rgb(128,0,0)\"]},\"orientation\":\"h\",\"x\":[1,1,1,1,1,1],\"y\":[\"Jet\",\"Jet\",\"Jet\",\"Jet\",\"Jet\",\"Jet\"],\"type\":\"bar\"},{\"customdata\":[0,1,2,3],\"hovertemplate\":\"%{y}[%{customdata}] = %{marker.color}\\u003cextra\\u003e\\u003c\\u002fextra\\u003e\",\"marker\":{\"color\":[\"rgb(0,0,0)\",\"rgb(230,0,0)\",\"rgb(255,210,0)\",\"rgb(255,255,255)\"]},\"orientation\":\"h\",\"x\":[1,1,1,1],\"y\":[\"Hot\",\"Hot\",\"Hot\",\"Hot\"],\"type\":\"bar\"},{\"customdata\":[0,1,2,3,4,5],\"hovertemplate\":\"%{y}[%{customdata}] = %{marker.color}\\u003cextra\\u003e\\u003c\\u002fextra\\u003e\",\"marker\":{\"color\":[\"rgb(0,0,0)\",\"rgb(30,0,100)\",\"rgb(120,0,100)\",\"rgb(160,90,0)\",\"rgb(230,200,0)\",\"rgb(255,250,220)\"]},\"orientation\":\"h\",\"x\":[1,1,1,1,1,1],\"y\":[\"Electric\",\"Electric\",\"Electric\",\"Electric\",\"Electric\",\"Electric\"],\"type\":\"bar\"},{\"customdata\":[0,1],\"hovertemplate\":\"%{y}[%{customdata}] = %{marker.color}\\u003cextra\\u003e\\u003c\\u002fextra\\u003e\",\"marker\":{\"color\":[\"rgb(0,0,255)\",\"rgb(255,0,0)\"]},\"orientation\":\"h\",\"x\":[1,1],\"y\":[\"Bluered\",\"Bluered\"],\"type\":\"bar\"},{\"customdata\":[0,1,2,3,4],\"hovertemplate\":\"%{y}[%{customdata}] = %{marker.color}\\u003cextra\\u003e\\u003c\\u002fextra\\u003e\",\"marker\":{\"color\":[\"rgb(0,0,0)\",\"rgb(230,0,0)\",\"rgb(230,210,0)\",\"rgb(255,255,255)\",\"rgb(160,200,255)\"]},\"orientation\":\"h\",\"x\":[1,1,1,1,1],\"y\":[\"Blackbody\",\"Blackbody\",\"Blackbody\",\"Blackbody\",\"Blackbody\"],\"type\":\"bar\"},{\"customdata\":[0,1,2,3,4,5,6,7,8,9,10,11,12,13,14],\"hovertemplate\":\"%{y}[%{customdata}] = %{marker.color}\\u003cextra\\u003e\\u003c\\u002fextra\\u003e\",\"marker\":{\"color\":[\"#30123b\",\"#4145ab\",\"#4675ed\",\"#39a2fc\",\"#1bcfd4\",\"#24eca6\",\"#61fc6c\",\"#a4fc3b\",\"#d1e834\",\"#f3c63a\",\"#fe9b2d\",\"#f36315\",\"#d93806\",\"#b11901\",\"#7a0402\"]},\"orientation\":\"h\",\"x\":[1,1,1,1,1,1,1,1,1,1,1,1,1,1,1],\"y\":[\"Turbo\",\"Turbo\",\"Turbo\",\"Turbo\",\"Turbo\",\"Turbo\",\"Turbo\",\"Turbo\",\"Turbo\",\"Turbo\",\"Turbo\",\"Turbo\",\"Turbo\",\"Turbo\",\"Turbo\"],\"type\":\"bar\"},{\"customdata\":[0,1,2,3,4,5,6,7,8,9],\"hovertemplate\":\"%{y}[%{customdata}] = %{marker.color}\\u003cextra\\u003e\\u003c\\u002fextra\\u003e\",\"marker\":{\"color\":[\"#0d0887\",\"#46039f\",\"#7201a8\",\"#9c179e\",\"#bd3786\",\"#d8576b\",\"#ed7953\",\"#fb9f3a\",\"#fdca26\",\"#f0f921\"]},\"orientation\":\"h\",\"x\":[1,1,1,1,1,1,1,1,1,1],\"y\":[\"Plasma\",\"Plasma\",\"Plasma\",\"Plasma\",\"Plasma\",\"Plasma\",\"Plasma\",\"Plasma\",\"Plasma\",\"Plasma\"],\"type\":\"bar\"},{\"customdata\":[0,1,2,3,4,5,6,7,8,9],\"hovertemplate\":\"%{y}[%{customdata}] = %{marker.color}\\u003cextra\\u003e\\u003c\\u002fextra\\u003e\",\"marker\":{\"color\":[\"#000004\",\"#180f3d\",\"#440f76\",\"#721f81\",\"#9e2f7f\",\"#cd4071\",\"#f1605d\",\"#fd9668\",\"#feca8d\",\"#fcfdbf\"]},\"orientation\":\"h\",\"x\":[1,1,1,1,1,1,1,1,1,1],\"y\":[\"Magma\",\"Magma\",\"Magma\",\"Magma\",\"Magma\",\"Magma\",\"Magma\",\"Magma\",\"Magma\",\"Magma\"],\"type\":\"bar\"},{\"customdata\":[0,1,2,3,4,5,6,7,8,9],\"hovertemplate\":\"%{y}[%{customdata}] = %{marker.color}\\u003cextra\\u003e\\u003c\\u002fextra\\u003e\",\"marker\":{\"color\":[\"#000004\",\"#1b0c41\",\"#4a0c6b\",\"#781c6d\",\"#a52c60\",\"#cf4446\",\"#ed6925\",\"#fb9b06\",\"#f7d13d\",\"#fcffa4\"]},\"orientation\":\"h\",\"x\":[1,1,1,1,1,1,1,1,1,1],\"y\":[\"Inferno\",\"Inferno\",\"Inferno\",\"Inferno\",\"Inferno\",\"Inferno\",\"Inferno\",\"Inferno\",\"Inferno\",\"Inferno\"],\"type\":\"bar\"},{\"customdata\":[0,1,2,3,4,5,6,7,8,9],\"hovertemplate\":\"%{y}[%{customdata}] = %{marker.color}\\u003cextra\\u003e\\u003c\\u002fextra\\u003e\",\"marker\":{\"color\":[\"#00224e\",\"#123570\",\"#3b496c\",\"#575d6d\",\"#707173\",\"#8a8678\",\"#a59c74\",\"#c3b369\",\"#e1cc55\",\"#fee838\"]},\"orientation\":\"h\",\"x\":[1,1,1,1,1,1,1,1,1,1],\"y\":[\"Cividis\",\"Cividis\",\"Cividis\",\"Cividis\",\"Cividis\",\"Cividis\",\"Cividis\",\"Cividis\",\"Cividis\",\"Cividis\"],\"type\":\"bar\"},{\"customdata\":[0,1,2,3,4,5,6,7,8,9],\"hovertemplate\":\"%{y}[%{customdata}] = %{marker.color}\\u003cextra\\u003e\\u003c\\u002fextra\\u003e\",\"marker\":{\"color\":[\"#440154\",\"#482878\",\"#3e4989\",\"#31688e\",\"#26828e\",\"#1f9e89\",\"#35b779\",\"#6ece58\",\"#b5de2b\",\"#fde725\"]},\"orientation\":\"h\",\"x\":[1,1,1,1,1,1,1,1,1,1],\"y\":[\"Viridis\",\"Viridis\",\"Viridis\",\"Viridis\",\"Viridis\",\"Viridis\",\"Viridis\",\"Viridis\",\"Viridis\",\"Viridis\"],\"type\":\"bar\"},{\"customdata\":[0,1,2,3,4,5,6,7,8,9,10,11,12],\"hovertemplate\":\"%{y}[%{customdata}] = %{marker.color}\\u003cextra\\u003e\\u003c\\u002fextra\\u003e\",\"marker\":{\"color\":[\"#0508b8\",\"#1910d8\",\"#3c19f0\",\"#6b1cfb\",\"#981cfd\",\"#bf1cfd\",\"#dd2bfd\",\"#f246fe\",\"#fc67fd\",\"#fe88fc\",\"#fea5fd\",\"#febefe\",\"#fec3fe\"]},\"orientation\":\"h\",\"x\":[1,1,1,1,1,1,1,1,1,1,1,1,1],\"y\":[\"Plotly3\",\"Plotly3\",\"Plotly3\",\"Plotly3\",\"Plotly3\",\"Plotly3\",\"Plotly3\",\"Plotly3\",\"Plotly3\",\"Plotly3\",\"Plotly3\",\"Plotly3\",\"Plotly3\"],\"type\":\"bar\"}],                        {\"bargap\":0.5,\"barmode\":\"stack\",\"barnorm\":\"fraction\",\"height\":2640,\"margin\":{\"b\":10},\"showlegend\":false,\"template\":{\"data\":{\"barpolar\":[{\"marker\":{\"line\":{\"color\":\"#E5ECF6\",\"width\":0.5},\"pattern\":{\"fillmode\":\"overlay\",\"size\":10,\"solidity\":0.2}},\"type\":\"barpolar\"}],\"bar\":[{\"error_x\":{\"color\":\"#2a3f5f\"},\"error_y\":{\"color\":\"#2a3f5f\"},\"marker\":{\"line\":{\"color\":\"#E5ECF6\",\"width\":0.5},\"pattern\":{\"fillmode\":\"overlay\",\"size\":10,\"solidity\":0.2}},\"type\":\"bar\"}],\"carpet\":[{\"aaxis\":{\"endlinecolor\":\"#2a3f5f\",\"gridcolor\":\"white\",\"linecolor\":\"white\",\"minorgridcolor\":\"white\",\"startlinecolor\":\"#2a3f5f\"},\"baxis\":{\"endlinecolor\":\"#2a3f5f\",\"gridcolor\":\"white\",\"linecolor\":\"white\",\"minorgridcolor\":\"white\",\"startlinecolor\":\"#2a3f5f\"},\"type\":\"carpet\"}],\"choropleth\":[{\"colorbar\":{\"outlinewidth\":0,\"ticks\":\"\"},\"type\":\"choropleth\"}],\"contourcarpet\":[{\"colorbar\":{\"outlinewidth\":0,\"ticks\":\"\"},\"type\":\"contourcarpet\"}],\"contour\":[{\"colorbar\":{\"outlinewidth\":0,\"ticks\":\"\"},\"colorscale\":[[0.0,\"#0d0887\"],[0.1111111111111111,\"#46039f\"],[0.2222222222222222,\"#7201a8\"],[0.3333333333333333,\"#9c179e\"],[0.4444444444444444,\"#bd3786\"],[0.5555555555555556,\"#d8576b\"],[0.6666666666666666,\"#ed7953\"],[0.7777777777777778,\"#fb9f3a\"],[0.8888888888888888,\"#fdca26\"],[1.0,\"#f0f921\"]],\"type\":\"contour\"}],\"heatmapgl\":[{\"colorbar\":{\"outlinewidth\":0,\"ticks\":\"\"},\"colorscale\":[[0.0,\"#0d0887\"],[0.1111111111111111,\"#46039f\"],[0.2222222222222222,\"#7201a8\"],[0.3333333333333333,\"#9c179e\"],[0.4444444444444444,\"#bd3786\"],[0.5555555555555556,\"#d8576b\"],[0.6666666666666666,\"#ed7953\"],[0.7777777777777778,\"#fb9f3a\"],[0.8888888888888888,\"#fdca26\"],[1.0,\"#f0f921\"]],\"type\":\"heatmapgl\"}],\"heatmap\":[{\"colorbar\":{\"outlinewidth\":0,\"ticks\":\"\"},\"colorscale\":[[0.0,\"#0d0887\"],[0.1111111111111111,\"#46039f\"],[0.2222222222222222,\"#7201a8\"],[0.3333333333333333,\"#9c179e\"],[0.4444444444444444,\"#bd3786\"],[0.5555555555555556,\"#d8576b\"],[0.6666666666666666,\"#ed7953\"],[0.7777777777777778,\"#fb9f3a\"],[0.8888888888888888,\"#fdca26\"],[1.0,\"#f0f921\"]],\"type\":\"heatmap\"}],\"histogram2dcontour\":[{\"colorbar\":{\"outlinewidth\":0,\"ticks\":\"\"},\"colorscale\":[[0.0,\"#0d0887\"],[0.1111111111111111,\"#46039f\"],[0.2222222222222222,\"#7201a8\"],[0.3333333333333333,\"#9c179e\"],[0.4444444444444444,\"#bd3786\"],[0.5555555555555556,\"#d8576b\"],[0.6666666666666666,\"#ed7953\"],[0.7777777777777778,\"#fb9f3a\"],[0.8888888888888888,\"#fdca26\"],[1.0,\"#f0f921\"]],\"type\":\"histogram2dcontour\"}],\"histogram2d\":[{\"colorbar\":{\"outlinewidth\":0,\"ticks\":\"\"},\"colorscale\":[[0.0,\"#0d0887\"],[0.1111111111111111,\"#46039f\"],[0.2222222222222222,\"#7201a8\"],[0.3333333333333333,\"#9c179e\"],[0.4444444444444444,\"#bd3786\"],[0.5555555555555556,\"#d8576b\"],[0.6666666666666666,\"#ed7953\"],[0.7777777777777778,\"#fb9f3a\"],[0.8888888888888888,\"#fdca26\"],[1.0,\"#f0f921\"]],\"type\":\"histogram2d\"}],\"histogram\":[{\"marker\":{\"pattern\":{\"fillmode\":\"overlay\",\"size\":10,\"solidity\":0.2}},\"type\":\"histogram\"}],\"mesh3d\":[{\"colorbar\":{\"outlinewidth\":0,\"ticks\":\"\"},\"type\":\"mesh3d\"}],\"parcoords\":[{\"line\":{\"colorbar\":{\"outlinewidth\":0,\"ticks\":\"\"}},\"type\":\"parcoords\"}],\"pie\":[{\"automargin\":true,\"type\":\"pie\"}],\"scatter3d\":[{\"line\":{\"colorbar\":{\"outlinewidth\":0,\"ticks\":\"\"}},\"marker\":{\"colorbar\":{\"outlinewidth\":0,\"ticks\":\"\"}},\"type\":\"scatter3d\"}],\"scattercarpet\":[{\"marker\":{\"colorbar\":{\"outlinewidth\":0,\"ticks\":\"\"}},\"type\":\"scattercarpet\"}],\"scattergeo\":[{\"marker\":{\"colorbar\":{\"outlinewidth\":0,\"ticks\":\"\"}},\"type\":\"scattergeo\"}],\"scattergl\":[{\"marker\":{\"colorbar\":{\"outlinewidth\":0,\"ticks\":\"\"}},\"type\":\"scattergl\"}],\"scattermapbox\":[{\"marker\":{\"colorbar\":{\"outlinewidth\":0,\"ticks\":\"\"}},\"type\":\"scattermapbox\"}],\"scatterpolargl\":[{\"marker\":{\"colorbar\":{\"outlinewidth\":0,\"ticks\":\"\"}},\"type\":\"scatterpolargl\"}],\"scatterpolar\":[{\"marker\":{\"colorbar\":{\"outlinewidth\":0,\"ticks\":\"\"}},\"type\":\"scatterpolar\"}],\"scatter\":[{\"fillpattern\":{\"fillmode\":\"overlay\",\"size\":10,\"solidity\":0.2},\"type\":\"scatter\"}],\"scatterternary\":[{\"marker\":{\"colorbar\":{\"outlinewidth\":0,\"ticks\":\"\"}},\"type\":\"scatterternary\"}],\"surface\":[{\"colorbar\":{\"outlinewidth\":0,\"ticks\":\"\"},\"colorscale\":[[0.0,\"#0d0887\"],[0.1111111111111111,\"#46039f\"],[0.2222222222222222,\"#7201a8\"],[0.3333333333333333,\"#9c179e\"],[0.4444444444444444,\"#bd3786\"],[0.5555555555555556,\"#d8576b\"],[0.6666666666666666,\"#ed7953\"],[0.7777777777777778,\"#fb9f3a\"],[0.8888888888888888,\"#fdca26\"],[1.0,\"#f0f921\"]],\"type\":\"surface\"}],\"table\":[{\"cells\":{\"fill\":{\"color\":\"#EBF0F8\"},\"line\":{\"color\":\"white\"}},\"header\":{\"fill\":{\"color\":\"#C8D4E3\"},\"line\":{\"color\":\"white\"}},\"type\":\"table\"}]},\"layout\":{\"annotationdefaults\":{\"arrowcolor\":\"#2a3f5f\",\"arrowhead\":0,\"arrowwidth\":1},\"autotypenumbers\":\"strict\",\"coloraxis\":{\"colorbar\":{\"outlinewidth\":0,\"ticks\":\"\"}},\"colorscale\":{\"diverging\":[[0,\"#8e0152\"],[0.1,\"#c51b7d\"],[0.2,\"#de77ae\"],[0.3,\"#f1b6da\"],[0.4,\"#fde0ef\"],[0.5,\"#f7f7f7\"],[0.6,\"#e6f5d0\"],[0.7,\"#b8e186\"],[0.8,\"#7fbc41\"],[0.9,\"#4d9221\"],[1,\"#276419\"]],\"sequential\":[[0.0,\"#0d0887\"],[0.1111111111111111,\"#46039f\"],[0.2222222222222222,\"#7201a8\"],[0.3333333333333333,\"#9c179e\"],[0.4444444444444444,\"#bd3786\"],[0.5555555555555556,\"#d8576b\"],[0.6666666666666666,\"#ed7953\"],[0.7777777777777778,\"#fb9f3a\"],[0.8888888888888888,\"#fdca26\"],[1.0,\"#f0f921\"]],\"sequentialminus\":[[0.0,\"#0d0887\"],[0.1111111111111111,\"#46039f\"],[0.2222222222222222,\"#7201a8\"],[0.3333333333333333,\"#9c179e\"],[0.4444444444444444,\"#bd3786\"],[0.5555555555555556,\"#d8576b\"],[0.6666666666666666,\"#ed7953\"],[0.7777777777777778,\"#fb9f3a\"],[0.8888888888888888,\"#fdca26\"],[1.0,\"#f0f921\"]]},\"colorway\":[\"#636efa\",\"#EF553B\",\"#00cc96\",\"#ab63fa\",\"#FFA15A\",\"#19d3f3\",\"#FF6692\",\"#B6E880\",\"#FF97FF\",\"#FECB52\"],\"font\":{\"color\":\"#2a3f5f\"},\"geo\":{\"bgcolor\":\"white\",\"lakecolor\":\"white\",\"landcolor\":\"#E5ECF6\",\"showlakes\":true,\"showland\":true,\"subunitcolor\":\"white\"},\"hoverlabel\":{\"align\":\"left\"},\"hovermode\":\"closest\",\"mapbox\":{\"style\":\"light\"},\"paper_bgcolor\":\"white\",\"plot_bgcolor\":\"#E5ECF6\",\"polar\":{\"angularaxis\":{\"gridcolor\":\"white\",\"linecolor\":\"white\",\"ticks\":\"\"},\"bgcolor\":\"#E5ECF6\",\"radialaxis\":{\"gridcolor\":\"white\",\"linecolor\":\"white\",\"ticks\":\"\"}},\"scene\":{\"xaxis\":{\"backgroundcolor\":\"#E5ECF6\",\"gridcolor\":\"white\",\"gridwidth\":2,\"linecolor\":\"white\",\"showbackground\":true,\"ticks\":\"\",\"zerolinecolor\":\"white\"},\"yaxis\":{\"backgroundcolor\":\"#E5ECF6\",\"gridcolor\":\"white\",\"gridwidth\":2,\"linecolor\":\"white\",\"showbackground\":true,\"ticks\":\"\",\"zerolinecolor\":\"white\"},\"zaxis\":{\"backgroundcolor\":\"#E5ECF6\",\"gridcolor\":\"white\",\"gridwidth\":2,\"linecolor\":\"white\",\"showbackground\":true,\"ticks\":\"\",\"zerolinecolor\":\"white\"}},\"shapedefaults\":{\"line\":{\"color\":\"#2a3f5f\"}},\"ternary\":{\"aaxis\":{\"gridcolor\":\"white\",\"linecolor\":\"white\",\"ticks\":\"\"},\"baxis\":{\"gridcolor\":\"white\",\"linecolor\":\"white\",\"ticks\":\"\"},\"bgcolor\":\"#E5ECF6\",\"caxis\":{\"gridcolor\":\"white\",\"linecolor\":\"white\",\"ticks\":\"\"}},\"title\":{\"x\":0.05},\"xaxis\":{\"automargin\":true,\"gridcolor\":\"white\",\"linecolor\":\"white\",\"ticks\":\"\",\"title\":{\"standoff\":15},\"zerolinecolor\":\"white\",\"zerolinewidth\":2},\"yaxis\":{\"automargin\":true,\"gridcolor\":\"white\",\"linecolor\":\"white\",\"ticks\":\"\",\"title\":{\"standoff\":15},\"zerolinecolor\":\"white\",\"zerolinewidth\":2}}},\"title\":{\"text\":\"plotly.colors.sequential\"},\"xaxis\":{\"range\":[-0.02,1.02],\"showgrid\":false,\"showticklabels\":false}},                        {\"responsive\": true}                    ).then(function(){\n",
       "                            \n",
       "var gd = document.getElementById('ad798a9f-881e-4187-9a4f-6064939ee2b6');\n",
       "var x = new MutationObserver(function (mutations, observer) {{\n",
       "        var display = window.getComputedStyle(gd).display;\n",
       "        if (!display || display === 'none') {{\n",
       "            console.log([gd, 'removed!']);\n",
       "            Plotly.purge(gd);\n",
       "            observer.disconnect();\n",
       "        }}\n",
       "}});\n",
       "\n",
       "// Listen for the removal of the full notebook cells\n",
       "var notebookContainer = gd.closest('#notebook-container');\n",
       "if (notebookContainer) {{\n",
       "    x.observe(notebookContainer, {childList: true});\n",
       "}}\n",
       "\n",
       "// Listen for the clearing of the current output cell\n",
       "var outputEl = gd.closest('.output');\n",
       "if (outputEl) {{\n",
       "    x.observe(outputEl, {childList: true});\n",
       "}}\n",
       "\n",
       "                        })                };                });            </script>        </div>"
      ]
     },
     "metadata": {},
     "output_type": "display_data"
    }
   ],
   "source": [
    "px.colors.cyclical.swatches()\n",
    "px.colors.qualitative.swatches()\n",
    "px.colors.sequential.swatches()"
   ]
  },
  {
   "cell_type": "code",
   "execution_count": 13,
   "metadata": {},
   "outputs": [],
   "source": [
    "# Seeding random generator\n",
    "np.random.seed(252)"
   ]
  },
  {
   "cell_type": "markdown",
   "metadata": {},
   "source": [
    "## 2. Trip Distribution methods"
   ]
  },
  {
   "cell_type": "markdown",
   "metadata": {},
   "source": [
    "### a. Growth Factor methods"
   ]
  },
  {
   "cell_type": "markdown",
   "metadata": {},
   "source": [
    "#### i. Average Factor method"
   ]
  },
  {
   "cell_type": "code",
   "execution_count": 14,
   "metadata": {},
   "outputs": [],
   "source": [
    "def afm(present_trips, future_trips, growth_rate, afm_iteration):\n",
    "    \n",
    "    afm_iteration = afm_iteration\n",
    "    present_trips = present_trips\n",
    "    future_trips = future_trips\n",
    "    growth_rate = growth_rate\n",
    "\n",
    "    afm_growth_rate = np.zeros((growth_rate.shape[-2] * (afm_iteration + 1), growth_rate.shape[-1]))    # matrix for storing progression of growth rates, adding 1 in iteration to incorporate original data\n",
    "    afm_array = np.zeros((present_trips.shape[-2] * (afm_iteration + 1), present_trips.shape[-1]))      # matrix for storing progression of present trips, adding 1 in iteration to incorporate original data\n",
    "    afm_recharging_array = np.zeros((present_trips.shape[-2], present_trips.shape[-1]))     # dedicated mxn matrix to store trips that will be multiplied to averaged growth rate\n",
    "    afm_recharging_growth_rate = np.zeros_like(afm_recharging_array, dtype=float)       # dedicated mxn matrix to store averaged growth rate\n",
    "\n",
    "    for i in range(present_trips.shape[-2]):\n",
    "        for j in range(present_trips.shape[-1]):\n",
    "\n",
    "            for k in range(growth_rate.shape[-1]):\n",
    "                afm_growth_rate[i, k] = growth_rate[i, k]       # 0th index (1st level) of trip growth rate matrix\n",
    "            afm_array[i, j] = present_trips[i, j]       # 0th index (1st level) of present trip matrix\n",
    "\n",
    "\n",
    "    for t in range(afm_iteration):\n",
    "        for i in range(present_trips.shape[-2]):\n",
    "            for j in range(present_trips.shape[-1]):\n",
    "                afm_recharging_growth_rate[i, j] = (afm_growth_rate[(present_trips.shape[-2] * t) + i, 0] +\n",
    "                                                    afm_growth_rate[(present_trips.shape[-2] * t) + j, 1]) * 0.5  # not advanced\n",
    "        for i in range(present_trips.shape[-2]):\n",
    "            for j in range(present_trips.shape[-1]):\n",
    "                afm_recharging_array[i, j] = afm_array[(present_trips.shape[-2] * t) + i, j]  # not advanced             \n",
    "        for i in range(present_trips.shape[-2]):\n",
    "            for j in range(present_trips.shape[-1]):\n",
    "                afm_array[(present_trips.shape[-2] * (t + 1)) + i, j] = afm_recharging_array[i, j] * \\\n",
    "                                                                        afm_recharging_growth_rate[i, j]  # advanced, calculating the 1 + nth iteration row of future trips in afm_array\n",
    "        new_recharging_array_sum = np.transpose(np.vstack(\n",
    "            (\n",
    "                afm_array[\n",
    "                    (present_trips.shape[-2] * (t + 1)): (present_trips.shape[-2] * (t + 2)),\n",
    "                    0: (present_trips.shape[-1])\n",
    "                    ].sum(axis=1),\n",
    "                afm_array[\n",
    "                    (present_trips.shape[-2] * (t + 1)): (present_trips.shape[-2] * (t + 2)),\n",
    "                    0: (present_trips.shape[-1])\n",
    "                    ].sum(axis=0)\n",
    "            )\n",
    "        ))        \n",
    "        new_recharging_growth_rate = future_trips / new_recharging_array_sum        \n",
    "        for i in range(present_trips.shape[-2]):\n",
    "            for j in range(growth_rate.shape[-1]):\n",
    "                afm_growth_rate[(present_trips.shape[-2] * (t + 1)) + i, j] = new_recharging_growth_rate[i, j]  # advanced, calculating the 1 + nth iteration of growth rate in afm_growth_rate\n",
    "    \n",
    "    mock_convergence = np.ones((present_trips.shape[-2], afm_growth_rate.shape[-1]), dtype=float)       # base matrix for comparing convergence rate to 1 using 1 + nth iteration growth rate\n",
    "    \n",
    "    afm_convergence = afm_growth_rate[\n",
    "        ((present_trips.shape[-2] * (afm_iteration + 1)) - present_trips.shape[-2]): present_trips.shape[-2] * (afm_iteration + 1),\n",
    "        0: afm_growth_rate.shape[-1]\n",
    "        ]\n",
    "    \n",
    "    return np.amax(np.absolute(afm_convergence - mock_convergence)) * 100"
   ]
  },
  {
   "cell_type": "markdown",
   "metadata": {},
   "source": [
    "##### Dedicated Convergence testing"
   ]
  },
  {
   "cell_type": "code",
   "execution_count": 15,
   "metadata": {},
   "outputs": [],
   "source": [
    "def ded_test(dist_func, n_zones, n_iter, test_pre_mean, test_pre_var, **kwargs):\n",
    "    np.random.seed(252)\n",
    "    gm_det_beta = kwargs.get('gm_det_beta')\n",
    "    gm_det_exp = kwargs.get('gm_det_exp')\n",
    "    arr_present = []\n",
    "    arr_future = []\n",
    "    arr_total_present = []\n",
    "    growth_rate = []\n",
    "    gm_imp_dist = []\n",
    "    gm_det_cost = []\n",
    "    factor_fut_mean = kwargs.get('factor_fut_mean')\n",
    "    factor_fut_var = kwargs.get('factor_fut_var')\n",
    "    gm_imp_mean = kwargs.get('gm_imp_mean')\n",
    "    gm_imp_var = kwargs.get('gm_imp_var')\n",
    "    gm_type = kwargs.get('gm_type')\n",
    "    gm_det_func = kwargs.get('gm_det_func')\n",
    "    gm_det_mean = kwargs.get('gm_det_mean')\n",
    "    gm_det_var = kwargs.get('gm_det_var')\n",
    "    \n",
    "    if (factor_fut_mean != None) and (factor_fut_var != None):\n",
    "        test_fut_mean = test_pre_mean * (1 + factor_fut_mean)\n",
    "        test_fut_var = test_pre_var * (1 + factor_fut_var)\n",
    "    else:\n",
    "        pass\n",
    "\n",
    "    for i in n_zones:\n",
    "        if (gm_imp_mean != None) and (gm_imp_var != None) and (gm_det_func == None):\n",
    "            mock_imp_dist = np.random.normal(loc=gm_imp_mean, scale=gm_imp_var, size=i**2).astype(int).reshape((i, i))\n",
    "            gm_imp_dist.append(mock_imp_dist.tolist())\n",
    "            mock_present = np.random.normal(loc=test_pre_mean, scale=test_pre_var, size=i**2).astype(int).reshape((i, i))\n",
    "            np.fill_diagonal(mock_present, 0)\n",
    "            arr_present.append(mock_present.tolist())\n",
    "            mock_total_present_trips = np.transpose(np.vstack((mock_present.sum(axis=1), mock_present.sum(axis=0))))\n",
    "            arr_total_present.append(mock_total_present_trips.tolist())\n",
    "        elif (gm_det_mean != None) and (gm_det_var != None) and (gm_det_func != None):\n",
    "            mock_det_cost = np.random.normal(loc=gm_det_mean, scale=gm_det_var, size=i**2).astype(int).reshape((i, i))\n",
    "            gm_det_cost.append(mock_det_cost.tolist())\n",
    "            mock_present = np.random.normal(loc=test_pre_mean, scale=test_pre_var, size=i**2).astype(int).reshape((i, i))\n",
    "            np.fill_diagonal(mock_present, 0)\n",
    "            arr_present.append(mock_present.tolist())\n",
    "            mock_total_present_trips = np.transpose(np.vstack((mock_present.sum(axis=1), mock_present.sum(axis=0))))\n",
    "            arr_total_present.append(mock_total_present_trips.tolist())\n",
    "        else:\n",
    "            mock_present = np.random.normal(loc=test_pre_mean, scale=test_pre_var, size=i**2).astype(int).reshape((i, i))\n",
    "            np.fill_diagonal(mock_present, 0)\n",
    "            mock_future = np.random.normal(loc=test_fut_mean, scale=test_fut_var, size=i*2).astype(int).reshape((i, 2))\n",
    "            arr_present.append(mock_present.tolist())\n",
    "            arr_future.append(mock_future.tolist())\n",
    "            mock_total_present_trips = np.transpose(np.vstack((mock_present.sum(axis=1), mock_present.sum(axis=0))))\n",
    "            arr_total_present.append(mock_total_present_trips.tolist())\n",
    "            growth_rate.append(mock_future / mock_total_present_trips)\n",
    "    \n",
    "    if dist_func == \"AFM\":\n",
    "        conv_arr = np.zeros((1, n_iter * len(n_zones))).flatten()\n",
    "        for i in range(len(n_zones)):\n",
    "            for j in range(n_iter):\n",
    "                conv_arr[(i * n_iter) + j] = afm(np.array(arr_present[i]), np.array(arr_future[i]), np.array(growth_rate[i]), j + 1)\n",
    "    elif dist_func == \"DM\":\n",
    "        conv_arr = np.zeros((1, n_iter * len(n_zones))).flatten()\n",
    "        for i in range(len(n_zones)):\n",
    "            for j in range(n_iter):\n",
    "                conv_arr[(i * n_iter) + j] = dm(np.array(arr_present[i]), np.array(arr_future[i]), np.array(growth_rate[i]), j + 1)\n",
    "    elif dist_func == \"FM\":\n",
    "        conv_arr = np.zeros((1, n_iter * len(n_zones))).flatten()\n",
    "        for i in range(len(n_zones)):\n",
    "            for j in range(n_iter):\n",
    "                conv_arr[(i * n_iter) + j] = fm(np.array(arr_present[i]), np.array(arr_future[i]), np.array(growth_rate[i]), j + 1)\n",
    "    elif dist_func == \"FurM\":\n",
    "        conv_arr = np.zeros((1, n_iter * len(n_zones))).flatten()\n",
    "        for i in range(len(n_zones)):\n",
    "            for j in range(n_iter):\n",
    "                conv_arr[(i * n_iter) + j] = fur(np.array(arr_present[i]), np.array(arr_future[i]), np.array(growth_rate[i]), j + 1)\n",
    "    elif dist_func == \"GMImp\":\n",
    "        conv_arr = np.zeros((1, n_iter * len(n_zones))).flatten()\n",
    "        for i in range(len(n_zones)):\n",
    "            for j in range(n_iter):\n",
    "                conv_arr[(i * n_iter) + j] = gm_imp(np.array(arr_total_present[i]), np.array(gm_imp_dist[i]), gm_type=gm_type, gm_iteration=j + 1)\n",
    "    elif dist_func == \"GMDet\" and gm_det_func == 'Exponential':\n",
    "        conv_arr = np.zeros((1, n_iter * len(n_zones))).flatten()\n",
    "        for i in range(len(n_zones)):\n",
    "            for j in range(n_iter):\n",
    "                conv_arr[(i * n_iter) + j] = gm_det(np.array(arr_total_present[i]), np.array(gm_det_cost[i]), gm_det_func=gm_det_func,\n",
    "                                                    gm_det_beta=gm_det_beta, gm_type=gm_type, gm_iteration=j + 1)\n",
    "    elif dist_func == \"GMDet\" and gm_det_func == 'Power':\n",
    "        conv_arr = np.zeros((1, n_iter * len(n_zones))).flatten()\n",
    "        for i in range(len(n_zones)):\n",
    "            for j in range(n_iter):\n",
    "                conv_arr[(i * n_iter) + j] = gm_det(np.array(arr_total_present[i]), np.array(gm_det_cost[i]), gm_det_func=gm_det_func,\n",
    "                                                    gm_det_exp=gm_det_exp, gm_type=gm_type, gm_iteration=j + 1)\n",
    "    elif dist_func == \"GMDet\" and gm_det_func == 'Combined':\n",
    "        conv_arr = np.zeros((1, n_iter * len(n_zones))).flatten()\n",
    "        for i in range(len(n_zones)):\n",
    "            for j in range(n_iter):\n",
    "                conv_arr[(i * n_iter) + j] = gm_det(np.array(arr_total_present[i]), np.array(gm_det_cost[i]), gm_det_func=gm_det_func,\n",
    "                                                    gm_det_beta=gm_det_beta, gm_det_exp=gm_det_exp, gm_type=gm_type, gm_iteration=j + 1)\n",
    "\n",
    "    comp_df_method = []\n",
    "    \n",
    "    if dist_func == \"AFM\":\n",
    "        comp_df_method.append(np.array(['Average Factor Method']* n_iter * len(n_zones)))\n",
    "    elif dist_func == \"DM\":\n",
    "        comp_df_method.append(np.array(['Detroit Method']* n_iter * len(n_zones)))\n",
    "    elif dist_func == \"FM\":\n",
    "        comp_df_method.append(np.array(['Fratar Method']* n_iter * len(n_zones)))\n",
    "    elif dist_func == \"FurM\":\n",
    "        comp_df_method.append(np.array(['Furness Method']* n_iter * len(n_zones)))\n",
    "    elif dist_func == \"GMImp\" and gm_type == \"ATT\":\n",
    "        comp_df_method.append(np.array(['Gravity Method (Impedance) - Attraction constrained']* n_iter * len(n_zones)))\n",
    "    elif dist_func == \"GMImp\" and gm_type == \"GEN\":\n",
    "        comp_df_method.append(np.array(['Gravity Method (Impedance) - Generation constrained']* n_iter * len(n_zones)))\n",
    "    elif dist_func == \"GMDet\" and gm_det_func == 'Exponential':\n",
    "        comp_df_method.append(np.array(['Gravity Method (Deterrence) - Exponential cost function']* n_iter * len(n_zones)))\n",
    "    elif dist_func == \"GMDet\" and gm_det_func == 'Power':\n",
    "        comp_df_method.append(np.array(['Gravity Method (Deterrence) - Power cost function']* n_iter * len(n_zones)))\n",
    "    elif dist_func == \"GMDet\" and gm_det_func == 'Combined':\n",
    "        comp_df_method.append(np.array(['Gravity Method (Deterrence) - Combined cost function']* n_iter * len(n_zones)))\n",
    "    \n",
    "    comp_df_method = np.array(comp_df_method).flatten()\n",
    "        \n",
    "    comp_df_zones = []\n",
    "    \n",
    "    for i in (n_zones):\n",
    "        mock = str(i)\n",
    "        comp_df_zones.append(np.array([mock]*n_iter))\n",
    "    \n",
    "    comp_df_zones = np.array(comp_df_zones).flatten()\n",
    "\n",
    "    comp_df_iter = np.tile(np.arange(start=1, stop=n_iter + 1, step=1), len(n_zones))\n",
    "    \n",
    "    comparison_df = pd.DataFrame({\n",
    "        'Method' : comp_df_method,\n",
    "        'Number of Zones' : comp_df_zones,\n",
    "        'Iteration' : comp_df_iter,\n",
    "        'Convergence' : conv_arr\n",
    "        }, \n",
    "        columns=['Method', 'Number of Zones', 'Iteration', 'Convergence'])\n",
    "    \n",
    "    fig = px.line(comparison_df, x='Iteration', y='Convergence', color='Method', \n",
    "                line_dash='Number of Zones', labels={'Convergence': 'Convergence (%)'},\n",
    "                title='Trip Distribution Method Convergence',\n",
    "                color_discrete_sequence=[px.colors.sequential.Rainbow[3],\n",
    "                                         px.colors.sequential.Viridis[7],\n",
    "                                         px.colors.sequential.Viridis[9],])\n",
    "    \n",
    "    fig.update_layout(\n",
    "    xaxis=dict(showgrid=False, showticklabels=True, linecolor='#53868B', linewidth=2, \n",
    "               ticks=\"outside\", tickfont=dict(family='Nirmala UI', size=12, color='#00008B')),\n",
    "    yaxis=dict(showgrid=False, showticklabels=True, linecolor=\"#53868B\", linewidth=2, \n",
    "               ticks='outside', tickfont=dict(family='Nirmala UI', size=12, color='#00008B')),\n",
    "    plot_bgcolor='#F7F7F7', paper_bgcolor= '#F7F7F7', legend_title_text='Method, Number of Zones',\n",
    "    yaxis_range=[0,25])\n",
    "\n",
    "    if dist_func == \"AFM\":\n",
    "        fig.add_annotation(text=f'Average Factor Method Present Trips: Mean = {test_pre_mean}, Variance = {test_pre_var}, Future Trips: Mean Increase = {factor_fut_mean * 100:.0f}%, and Variance Increase = {factor_fut_var * 100:.0f}%',\n",
    "                                     xref='paper', yref='paper', font=dict(family='Nirmala UI', color='black', size=15),\n",
    "                                     xanchor='left', yanchor='top', x=0, y=1.05)\n",
    "    elif dist_func == \"DM\":\n",
    "        fig.add_annotation(text=f'Detroit Method Present Trips: Mean = {test_pre_mean}, Variance = {test_pre_var}, Future Trips: Mean Increase = {factor_fut_mean * 100:.0f}%, and Variance Increase = {factor_fut_var * 100:.0f}%',\n",
    "                                xref='paper', yref='paper', font=dict(family='Nirmala UI', color='black', size=10),\n",
    "                                xanchor='left', yanchor='top', x=0, y=1.05)\n",
    "    elif dist_func == \"FM\":\n",
    "        fig.add_annotation(text=f'Fratar Method Present Trips: Mean = {test_pre_mean}, Variance = {test_pre_var}, Future Trips: Mean Increase = {factor_fut_mean * 100:.0f}%, and Variance Increase = {factor_fut_var * 100:.0f}%',\n",
    "                                xref='paper', yref='paper', font=dict(family='Nirmala UI', color='black', size=10),\n",
    "                                xanchor='left', yanchor='top', x=0, y=1.05)\n",
    "    elif dist_func == \"FurM\":\n",
    "        fig.add_annotation(text=f'Furness Method Present Trips: Mean = {test_pre_mean}, Variance = {test_pre_var}, Future Trips: Mean Increase = {factor_fut_mean * 100:.0f}%, and Variance Increase = {factor_fut_var * 100:.0f}%',\n",
    "                                xref='paper', yref='paper', font=dict(family='Nirmala UI', color='black', size=10),\n",
    "                                xanchor='left', yanchor='top', x=0, y=1.05)\n",
    "    elif dist_func == \"GMImp\" and gm_type == 'ATT':\n",
    "        fig.add_annotation(text=f'Gravity Method (Impedance) - Attraction constrained Present Trips: Mean = {test_pre_mean}, Variance = {test_pre_var}, Impedance: Mean = {gm_imp_mean}, and Variance = {gm_imp_var}',\n",
    "                                xref='paper', yref='paper', font=dict(family='Nirmala UI', color='black', size=10),\n",
    "                                xanchor='left', yanchor='top', x=0, y=1.05)\n",
    "    elif dist_func == \"GMImp\" and gm_type == 'GEN':\n",
    "        fig.add_annotation(text=f'Gravity Method (Impedance) - Generation constrained Present Trips: Mean = {test_pre_mean}, Variance = {test_pre_var}, Impedance: Mean = {gm_imp_mean}, and Variance = {gm_imp_var}',\n",
    "                                xref='paper', yref='paper', font=dict(family='Nirmala UI', color='black', size=10),\n",
    "                                xanchor='left', yanchor='top', x=0, y=1.05)\n",
    "    elif dist_func == \"GMDet\" and gm_det_func == 'Exponential':\n",
    "        fig.add_annotation(text=f'Gravity Method (Deterrence) - Exponential cost function Present Trips: Mean = {test_pre_mean}, Variance = {test_pre_var}, Impedance: Mean = {gm_det_mean}, Variance = {gm_det_var}, and Beta = {gm_det_beta}',\n",
    "                                xref='paper', yref='paper', font=dict(family='Nirmala UI', color='black', size=10),\n",
    "                                xanchor='left', yanchor='top', x=0, y=1.05)\n",
    "    elif dist_func == \"GMDet\" and gm_det_func == 'Power':\n",
    "        fig.add_annotation(text=f'Gravity Method (Deterrence) - Power cost function Present Trips: Mean = {test_pre_mean}, Variance = {test_pre_var}, Impedance: Mean = {gm_det_mean}, Variance = {gm_det_var}, and Exponent = {gm_det_exp}',\n",
    "                                xref='paper', yref='paper', font=dict(family='Nirmala UI', color='black', size=10),\n",
    "                                xanchor='left', yanchor='top', x=0, y=1.05)\n",
    "    elif dist_func == \"GMDet\" and gm_det_func == 'Combined':\n",
    "        fig.add_annotation(text=f'Gravity Method (Deterrence) - Combined cost function Present Trips: Mean = {test_pre_mean}, Variance = {test_pre_var}, Impedance: Mean = {gm_det_mean}, Variance = {gm_det_var}, Beta = {gm_det_beta}, and Exponent = {gm_det_exp}',\n",
    "                                xref='paper', yref='paper', font=dict(family='Nirmala UI', color='black', size=10),\n",
    "                                xanchor='left', yanchor='top', x=0, y=1.05)\n",
    "\n",
    "    fig.show(renderer='png', width=1250, height=450)"
   ]
  },
  {
   "cell_type": "code",
   "execution_count": 16,
   "metadata": {},
   "outputs": [
    {
     "data": {
      "image/png": "[encoded data removed]"
     },
     "metadata": {},
     "output_type": "display_data"
    }
   ],
   "source": [
    "ded_test(dist_func='AFM', n_zones=[5, 10, 15], test_pre_mean=480, test_pre_var=60, factor_fut_mean=0.6, factor_fut_var=0.15, n_iter=50)"
   ]
  },
  {
   "cell_type": "markdown",
   "metadata": {},
   "source": [
    "#### ii. Detroit method"
   ]
  },
  {
   "cell_type": "code",
   "execution_count": 17,
   "metadata": {},
   "outputs": [],
   "source": [
    "def dm(present_trips, future_trips, growth_rate, dm_iteration):\n",
    "    \n",
    "    dm_iteration = dm_iteration\n",
    "    present_trips = present_trips\n",
    "    future_trips = future_trips\n",
    "    growth_rate = growth_rate\n",
    "    dm_growth_rate = np.zeros((growth_rate.shape[-2] * (dm_iteration + 2), growth_rate.shape[-1]))\n",
    "    dm_array = np.zeros(((dm_iteration + 2) * present_trips.shape[-2], present_trips.shape[-1]))\n",
    "    dm_recharging_array = np.zeros((present_trips.shape[-2], present_trips.shape[-1]))\n",
    "    dm_recharging_growth_rate = np.zeros_like(dm_recharging_array, dtype=float)\n",
    "\n",
    "    for i in range(present_trips.shape[-2]):\n",
    "        for j in range(present_trips.shape[-1]):\n",
    "            for k in range(growth_rate.shape[-1]):\n",
    "                dm_growth_rate[i, k] = growth_rate[i, k]\n",
    "            dm_array[i, j] = present_trips[i, j]\n",
    "    \n",
    "    for t in range(dm_iteration):\n",
    "        current_recharging_array_sum = dm_array[\n",
    "            (present_trips.shape[-2] * t): (present_trips.shape[-2] * (t + 1)),\n",
    "            0 : (present_trips.shape[-1] + 1)\n",
    "            ].sum(axis=1).sum(axis=0)\n",
    "        current_total_growth_rate = (future_trips.sum(axis=0)[0])/current_recharging_array_sum\n",
    "        for i in range(present_trips.shape[-2]):\n",
    "            for j in range(present_trips.shape[-1]):\n",
    "                dm_recharging_growth_rate[i, j] = (dm_growth_rate[(present_trips.shape[-2] * t) + i, 0] \\\n",
    "                                                   * dm_growth_rate[(present_trips.shape[-2] * t) + j, 1]) \\\n",
    "                                                    * (1/current_total_growth_rate)    # not advanced\n",
    "        for i in range(present_trips.shape[-2]):\n",
    "            for j in range(present_trips.shape[-1]):\n",
    "                dm_recharging_array[i, j] = dm_array[(present_trips.shape[-2] * t) + i, j]  # not advanced\n",
    "        for i in range(present_trips.shape[-2]):\n",
    "            for j in range(present_trips.shape[-1]):\n",
    "                dm_array[(present_trips.shape[-2] * (t + 1)) + i, j] = dm_recharging_array[i, j] * dm_recharging_growth_rate[i, j]    # advanced\n",
    "        new_recharging_array_sum = np.transpose(np.vstack(\n",
    "            (\n",
    "                dm_array[\n",
    "                    (present_trips.shape[-2] * (t + 1)): (present_trips.shape[-2] * (t + 2)),\n",
    "                    0 : (present_trips.shape[-1])\n",
    "                    ].sum(axis=1),\n",
    "                dm_array[\n",
    "                    (present_trips.shape[-2] * (t + 1)): (present_trips.shape[-2] * (t + 2)),\n",
    "                    0 : (present_trips.shape[-1])\n",
    "                    ].sum(axis=0)\n",
    "            )\n",
    "        ))\n",
    "        new_recharging_growth_rate = future_trips/new_recharging_array_sum\n",
    "        for i in range(present_trips.shape[-2]):\n",
    "            for j in range(growth_rate.shape[-1]):\n",
    "                dm_growth_rate[(present_trips.shape[-2] * (t + 1)) + i, j] = new_recharging_growth_rate[i, j]    # advanced\n",
    "    \n",
    "    mock_convergence = np.ones((present_trips.shape[-2], dm_growth_rate.shape[-1]), dtype=float)\n",
    "    \n",
    "    dm_convergence = dm_growth_rate[((present_trips.shape[-2] * (dm_iteration + 1)) - present_trips.shape[-2]):\n",
    "                                         present_trips.shape[-2] * (dm_iteration + 1), 0: dm_growth_rate.shape[-1]]\n",
    "    \n",
    "    return np.amax(np.absolute(dm_convergence - mock_convergence)) * 100"
   ]
  },
  {
   "cell_type": "markdown",
   "metadata": {},
   "source": [
    "##### ii.a. Dedicated Convergence testing"
   ]
  },
  {
   "cell_type": "code",
   "execution_count": 18,
   "metadata": {},
   "outputs": [
    {
     "data": {
      "image/png": "[encoded data removed]"
     },
     "metadata": {},
     "output_type": "display_data"
    }
   ],
   "source": [
    "ded_test(dist_func='DM', n_zones=[5, 10, 15], test_pre_mean=480, test_pre_var=60, factor_fut_mean=0.6, factor_fut_var=0.15, n_iter=50)"
   ]
  },
  {
   "cell_type": "markdown",
   "metadata": {},
   "source": [
    "#### iii. Fratar method"
   ]
  },
  {
   "cell_type": "code",
   "execution_count": 19,
   "metadata": {},
   "outputs": [],
   "source": [
    "def fm(present_trips, future_trips, growth_rate, fm_iteration):\n",
    "\n",
    "    fm_iteration = fm_iteration\n",
    "    present_trips = present_trips\n",
    "    future_trips = future_trips\n",
    "    growth_rate = growth_rate\n",
    "    \n",
    "    fm_growth_rate = np.zeros((growth_rate.shape[-2] * (fm_iteration + 2), growth_rate.shape[-1]))\n",
    "    fm_array = np.zeros(((fm_iteration + 2) * present_trips.shape[-2], present_trips.shape[-1]))\n",
    "    fm_recharging_array = np.zeros((present_trips.shape[-2], present_trips.shape[-1]))\n",
    "    fm_recharging_growth_rate = np.zeros_like(fm_recharging_array, dtype=float)\n",
    "    fm_trip_growth_rate_divisor = np.zeros_like(present_trips, dtype=float)\n",
    "    \n",
    "    for i in range(present_trips.shape[-2]):\n",
    "        for j in range(present_trips.shape[-1]):\n",
    "            for k in range(growth_rate.shape[-1]):\n",
    "                fm_growth_rate[i, k] = growth_rate[i, k]\n",
    "            fm_array[i, j] = present_trips[i, j]\n",
    "    \n",
    "    for t in range((fm_iteration) + 1):\n",
    "        for i in range(present_trips.shape[-2]):\n",
    "            for j in range(present_trips.shape[-1]):\n",
    "                fm_recharging_array[i, j] = fm_array[(present_trips.shape[-2] * t) + i, j]      # not advanced\n",
    "        fm_current_growth_rate = fm_growth_rate[\n",
    "            (present_trips.shape[-2] * t): (present_trips.shape[-2] * (t + 1)),\n",
    "            0: growth_rate.shape[-1]]       # not advanced\n",
    "        trips_attraction_growth_rate_sum = np.matmul(fm_recharging_array, fm_current_growth_rate)\n",
    "        for i in range(present_trips.shape[-2]):\n",
    "            for j in range(present_trips.shape[-1]):\n",
    "                fm_trip_growth_rate_divisor[i, j] = (trips_attraction_growth_rate_sum[:, 1])[i]\n",
    "        for i in range(present_trips.shape[-2]):\n",
    "            for j in range(present_trips.shape[-1]):\n",
    "                fm_recharging_growth_rate[i, j] = (fm_growth_rate[(present_trips.shape[-2] * t) + i, 0] *      # not advanced\n",
    "                                                   fm_growth_rate[(present_trips.shape[-2] * t) + j, 1]) * \\\n",
    "                                                  (fm_recharging_array.sum(axis=1)[i]) / fm_trip_growth_rate_divisor[i, 1]\n",
    "        for i in range(present_trips.shape[-2]):\n",
    "            for j in range(present_trips.shape[-1]):\n",
    "                fm_array[(present_trips.shape[-2] * (t + 1)) + i, j] = fm_recharging_array[i, j] * fm_recharging_growth_rate[i, j]    # advanced\n",
    "        new_recharging_array_sum = np.transpose(np.vstack(\n",
    "            (fm_array[\n",
    "                (present_trips.shape[-2] * (t + 1)): (present_trips.shape[-2] * (t + 2)),\n",
    "                0 : (present_trips.shape[-1])\n",
    "                ].sum(axis=1),\n",
    "            fm_array[\n",
    "                (present_trips.shape[-2] * (t + 1)): (present_trips.shape[-2] * (t + 2)),\n",
    "                0 : (present_trips.shape[-1])\n",
    "                ].sum(axis=0)\n",
    "            )\n",
    "        ))\n",
    "        new_recharging_growth_rate = future_trips/new_recharging_array_sum\n",
    "        for i in range(present_trips.shape[-2]):\n",
    "            for j in range(growth_rate.shape[-1]):\n",
    "                fm_growth_rate[(present_trips.shape[-2] * (t + 1)) + i, j] = new_recharging_growth_rate[i, j]    # advanced\n",
    "    \n",
    "    mock_convergence = np.ones((present_trips.shape[-2], fm_growth_rate.shape[-1]), dtype=float)\n",
    "    \n",
    "    fm_convergence = fm_growth_rate[\n",
    "        ((present_trips.shape[-2] * (fm_iteration + 1)) - present_trips.shape[-2]): present_trips.shape[-2] * (fm_iteration + 1),\n",
    "        0: fm_growth_rate.shape[-1]\n",
    "    ]\n",
    "    \n",
    "    return np.amax(np.absolute(fm_convergence - mock_convergence)) * 100"
   ]
  },
  {
   "cell_type": "markdown",
   "metadata": {},
   "source": [
    "##### Dedicated Convergence testing"
   ]
  },
  {
   "cell_type": "code",
   "execution_count": 20,
   "metadata": {},
   "outputs": [
    {
     "data": {
      "image/png": "[encoded data removed]"
     },
     "metadata": {},
     "output_type": "display_data"
    }
   ],
   "source": [
    "ded_test(dist_func='FM', n_zones=[5, 10, 15], test_pre_mean=480, test_pre_var=60, factor_fut_mean=0.6, factor_fut_var=0.15, n_iter=50)"
   ]
  },
  {
   "cell_type": "markdown",
   "metadata": {},
   "source": [
    "#### iv. Furness method"
   ]
  },
  {
   "cell_type": "code",
   "execution_count": 21,
   "metadata": {},
   "outputs": [],
   "source": [
    "def fur(present_trips, future_trips, growth_rate, fur_iteration):\n",
    "\n",
    "    fur_iteration = fur_iteration\n",
    "    present_trips = present_trips\n",
    "    future_trips = future_trips\n",
    "    growth_rate = growth_rate\n",
    "    \n",
    "    fur_growth_rate = np.zeros((growth_rate.shape[-2] * (fur_iteration + 2), growth_rate.shape[-1]))\n",
    "    fur_array = np.zeros(((fur_iteration + 2) * present_trips.shape[-2], present_trips.shape[-1]))\n",
    "    fur_recharging_array = np.zeros((present_trips.shape[-2], present_trips.shape[-1]))\n",
    "    fur_recharging_growth_rate = np.zeros_like(fur_recharging_array, dtype=float)\n",
    "    \n",
    "    for i in range(present_trips.shape[-2]):\n",
    "        for j in range(present_trips.shape[-1]):\n",
    "            for k in range(growth_rate.shape[-1]):\n",
    "                fur_growth_rate[i, k] = growth_rate[i, k]\n",
    "            fur_array[i, j] = present_trips[i, j]\n",
    "    \n",
    "    for t in range((fur_iteration) + 1):\n",
    "        for i in range(present_trips.shape[-2]):\n",
    "            for j in range(present_trips.shape[-1]):\n",
    "                fur_recharging_array[i, j] = fur_array[(present_trips.shape[-2] * t) + i, j]      # not advanced\n",
    "        fur_current_growth_rate = fur_growth_rate[\n",
    "            (present_trips.shape[-2] * t): (present_trips.shape[-2] * (t + 1)),\n",
    "            0: growth_rate.shape[-1]]       # not advanced\n",
    "        if divmod(t, 2)[-1] == 0:\n",
    "            fur_recharging_growth_rate = fur_current_growth_rate[:, 0]\n",
    "            for i in range(present_trips.shape[-2]):\n",
    "                for j in range(present_trips.shape[-1]):\n",
    "                    fur_array[(present_trips.shape[-2] * (t + 1)) + i, j] = fur_recharging_array[i, j] * fur_recharging_growth_rate[i]      # advanced\n",
    "        else:\n",
    "            fur_recharging_growth_rate = fur_current_growth_rate[:, 1]\n",
    "            for i in range(present_trips.shape[-2]):\n",
    "                for j in range(present_trips.shape[-1]):\n",
    "                    fur_array[(present_trips.shape[-2] * (t + 1)) + i, j] = fur_recharging_array[i, j] * fur_recharging_growth_rate[j]      # advanced\n",
    "        new_recharging_array_sum = np.transpose(np.vstack(\n",
    "            (fur_array[\n",
    "                (present_trips.shape[-2] * (t + 1)): (present_trips.shape[-2] * (t + 2)),\n",
    "                0 : (present_trips.shape[-1])\n",
    "                ].sum(axis=1),\n",
    "            fur_array[\n",
    "                (present_trips.shape[-2] * (t + 1)): (present_trips.shape[-2] * (t + 2)),\n",
    "                0 : (present_trips.shape[-1])\n",
    "                ].sum(axis=0)\n",
    "            )\n",
    "        ))\n",
    "        new_recharging_growth_rate = future_trips/new_recharging_array_sum\n",
    "        for i in range(present_trips.shape[-2]):\n",
    "            for j in range(growth_rate.shape[-1]):\n",
    "                fur_growth_rate[(present_trips.shape[-2] * (t + 1)) + i, j] = new_recharging_growth_rate[i, j]    # advanced\n",
    "    \n",
    "    mock_convergence = np.ones((present_trips.shape[-2], fur_growth_rate.shape[-1]), dtype=float)\n",
    "    \n",
    "    fur_convergence = fur_growth_rate[\n",
    "        ((present_trips.shape[-2] * (fur_iteration + 1)) - present_trips.shape[-2]): present_trips.shape[-2] * (fur_iteration + 1),\n",
    "        0: fur_growth_rate.shape[-1]\n",
    "    ]\n",
    "    \n",
    "    return np.amax(np.absolute(fur_convergence - mock_convergence)) * 100"
   ]
  },
  {
   "cell_type": "markdown",
   "metadata": {},
   "source": [
    "##### Dedicated Convergence testing"
   ]
  },
  {
   "cell_type": "code",
   "execution_count": 22,
   "metadata": {},
   "outputs": [
    {
     "data": {
      "image/png": "[encoded data removed]"
     },
     "metadata": {},
     "output_type": "display_data"
    }
   ],
   "source": [
    "ded_test(dist_func='FurM', n_zones=[5, 10, 15], test_pre_mean=480, test_pre_var=60, factor_fut_mean=0.6, factor_fut_var=0.15, n_iter=50)"
   ]
  },
  {
   "cell_type": "markdown",
   "metadata": {},
   "source": [
    "### b. Synthetic  Methods"
   ]
  },
  {
   "cell_type": "markdown",
   "metadata": {},
   "source": [
    "#### i. Gravity method (Impedance)"
   ]
  },
  {
   "cell_type": "code",
   "execution_count": 23,
   "metadata": {},
   "outputs": [],
   "source": [
    "def gm_imp(base_trip_sum, gm_imp_dist, gm_type, gm_iteration):\n",
    "\n",
    "    gm_iteration = gm_iteration\n",
    "    base_trip_sum = base_trip_sum\n",
    "    gm_imp_dist = gm_imp_dist\n",
    "    \n",
    "    gm_arr_sum = np.zeros(((gm_iteration + 2) * base_trip_sum.shape[-2], base_trip_sum.shape[-1]))\n",
    "    gm_trip_imp_prod = np.zeros(((gm_iteration + 2) * gm_imp_dist.shape[-2], gm_imp_dist.shape[-1]))\n",
    "    gm_recharging_factor = np.zeros_like(gm_trip_imp_prod, dtype=float)\n",
    "    gm_arr = np.zeros(((gm_iteration + 2) * gm_imp_dist.shape[-2], gm_imp_dist.shape[-1]))\n",
    "    gm_trip_sum_factor = np.zeros(((gm_iteration + 1) * base_trip_sum.shape[-2], base_trip_sum.shape[-1]))\n",
    "\n",
    "    for i in range(base_trip_sum.shape[-2]):\n",
    "        for j in range(base_trip_sum.shape[-1]):\n",
    "            gm_arr_sum[i, j] = base_trip_sum[i, j]\n",
    "\n",
    "    if gm_type == 'GEN':\n",
    "        for i in range(gm_imp_dist.shape[-2]):\n",
    "            for j in range(gm_imp_dist.shape[-1]):\n",
    "                gm_trip_imp_prod[j, i] = gm_imp_dist[i, j] * gm_arr_sum[i, 1]\n",
    "    else:\n",
    "        for i in range(gm_imp_dist.shape[-2]):\n",
    "            for j in range(gm_imp_dist.shape[-1]):\n",
    "                gm_trip_imp_prod[j, i] = gm_imp_dist[i, j] * gm_arr_sum[i, 0]\n",
    "    \n",
    "    for t in range((gm_iteration) + 1):\n",
    "        if gm_type == 'GEN':\n",
    "            for i in range(gm_imp_dist.shape[-2]):\n",
    "                for j in range(gm_imp_dist.shape[-1]):\n",
    "                    gm_recharging_factor[(gm_imp_dist.shape[-2] * t) + i, j] = gm_trip_imp_prod[(gm_imp_dist.shape[-2] * t) + i, j] / gm_trip_imp_prod[(gm_imp_dist.shape[-2] * t) + i, :].sum()\n",
    "        else:\n",
    "            for i in range(gm_imp_dist.shape[-2]):\n",
    "                for j in range(gm_imp_dist.shape[-1]):\n",
    "                    gm_recharging_factor[(gm_imp_dist.shape[-2] * t) + i, j] = gm_trip_imp_prod[(gm_imp_dist.shape[-2] * t) + i, j] \\\n",
    "                                                                                / gm_trip_imp_prod[(gm_imp_dist.shape[-2] * t) : (gm_imp_dist.shape[-2] * (t + 1)) , j].sum()\n",
    "        if gm_type == 'GEN':\n",
    "            for i in range(gm_imp_dist.shape[-2]):\n",
    "                for j in range(gm_imp_dist.shape[-1]):\n",
    "                    gm_arr[(gm_imp_dist.shape[-2] * (t + 1)) + i, j] = gm_recharging_factor[(gm_imp_dist.shape[-2] * t) + i, j] *\\\n",
    "                                                                        gm_arr_sum[(gm_imp_dist.shape[-2] * t) + i, 0]\n",
    "        else:\n",
    "            for i in range(gm_imp_dist.shape[-2]):\n",
    "                for j in range(gm_imp_dist.shape[-1]):\n",
    "                    gm_arr[(gm_imp_dist.shape[-2] * (t + 1)) + i, j] = gm_recharging_factor[(gm_imp_dist.shape[-2] * t) + i, j] *\\\n",
    "                                                                        gm_arr_sum[(gm_imp_dist.shape[-2] * t) + j, 1]\n",
    "        mock_arr_sum = np.transpose(np.vstack(\n",
    "            (gm_arr[\n",
    "                (gm_imp_dist.shape[-2] * (t + 1)): (gm_imp_dist.shape[-2] * (t + 2)),\n",
    "                0 : (gm_imp_dist.shape[-1])\n",
    "                ].sum(axis=1),\n",
    "            gm_arr[\n",
    "                (gm_imp_dist.shape[-2] * (t + 1)): (gm_imp_dist.shape[-2] * (t + 2)),\n",
    "                0 : (gm_imp_dist.shape[-1])\n",
    "                ].sum(axis=0)\n",
    "            )\n",
    "        ))        \n",
    "        for i in range(base_trip_sum.shape[-2]):\n",
    "            for j in range(base_trip_sum.shape[-1]):\n",
    "                gm_arr_sum[(base_trip_sum.shape[-2] * (t + 1)) + i, j] = mock_arr_sum[i, j]\n",
    "        for i in range(base_trip_sum.shape[-2]):\n",
    "            for j in range(base_trip_sum.shape[-1]):\n",
    "                gm_trip_sum_factor[(base_trip_sum.shape[-2] * t) + i, j] = gm_arr_sum[(base_trip_sum.shape[-2] * 0) + i, j] / gm_arr_sum[(base_trip_sum.shape[-2] * (t + 1)) + i, j]        # not advanced\n",
    "        if gm_type == 'GEN':\n",
    "            for i in range(gm_imp_dist.shape[-2]):\n",
    "                for j in range(gm_imp_dist.shape[-1]):\n",
    "                    gm_trip_imp_prod[(gm_imp_dist.shape[-2] * (t + 1)) + i, j] = gm_trip_imp_prod[(gm_imp_dist.shape[-2] * t) + i, j] * gm_trip_sum_factor[(gm_imp_dist.shape[-2] * t) + j, 1]\n",
    "        else:\n",
    "            for i in range(gm_imp_dist.shape[-2]):\n",
    "                for j in range(gm_imp_dist.shape[-1]):\n",
    "                    gm_trip_imp_prod[(gm_imp_dist.shape[-2] * (t + 1)) + i, j] = gm_trip_imp_prod[(gm_imp_dist.shape[-2] * t) + i, j] * gm_trip_sum_factor[(gm_imp_dist.shape[-2] * t) + i, 0]\n",
    "                        \n",
    "    mock_convergence = np.ones((gm_imp_dist.shape[-2], gm_trip_sum_factor.shape[-1]), dtype=float)\n",
    "    \n",
    "    gm_imp_convergence = gm_trip_sum_factor[\n",
    "        ((gm_imp_dist.shape[-2] * gm_iteration) - gm_imp_dist.shape[-2]): gm_imp_dist.shape[-2] * gm_iteration,\n",
    "        :\n",
    "    ]\n",
    "    \n",
    "    return np.amax(np.absolute(gm_imp_convergence - mock_convergence)) * 100"
   ]
  },
  {
   "cell_type": "code",
   "execution_count": 24,
   "metadata": {},
   "outputs": [],
   "source": [
    "base_trip_sum = np.transpose(np.array([[1880, 3024, 2043, 1516, 1810, 3216, 1015],\n",
    "                         [1456, 441, 1056, 6960, 121, 2845, 1648]]))\n",
    "gm_det_cost = np.array([[375.75, 6532.47, 6766.26, 2567.14, 751.50, 3313.36, 3044.69],\n",
    "                       [6532.47, 2022.25, 4585.92, 4274.36, 7209.27, 4044.49, 4367.61],\n",
    "                       [6766.26, 4585.92, 1726.45, 4625.25, 7304.25, 3452.89, 4874.30],\n",
    "                       [2567.14, 4274.36, 4625.25, 586.18, 3243.95, 1172.36, 1436.81],\n",
    "                       [751.50, 7209.27, 7304.25, 3243.95, 375.75, 3851.36, 3721.49],\n",
    "                       [3313.36, 4044.49, 3452.89, 1172.36, 3851.36, 586.18, 2510.96],\n",
    "                       [3044.69, 4367.61, 4874.30, 1436.81, 3721.49, 2510.96, 718.40]])"
   ]
  },
  {
   "cell_type": "markdown",
   "metadata": {},
   "source": [
    "##### Dedicated Convergence testing"
   ]
  },
  {
   "cell_type": "code",
   "execution_count": 25,
   "metadata": {},
   "outputs": [
    {
     "data": {
      "image/png": "[encoded data removed]"
     },
     "metadata": {},
     "output_type": "display_data"
    }
   ],
   "source": [
    "ded_test(dist_func='GMImp', n_zones=[5, 10, 15], test_pre_mean=480, test_pre_var=60, gm_imp_mean=5000, gm_imp_var=150, gm_type='GEN',n_iter=50)"
   ]
  },
  {
   "cell_type": "code",
   "execution_count": 26,
   "metadata": {},
   "outputs": [
    {
     "data": {
      "image/png": "[encoded data removed]"
     },
     "metadata": {},
     "output_type": "display_data"
    }
   ],
   "source": [
    "ded_test(dist_func='GMImp', n_zones=[5, 10, 15], test_pre_mean=480, test_pre_var=60, gm_imp_mean=5000, gm_imp_var=150, gm_type='ATT', n_iter=50)"
   ]
  },
  {
   "cell_type": "markdown",
   "metadata": {},
   "source": [
    "#### ii. Gravity method (Deterrence)"
   ]
  },
  {
   "cell_type": "code",
   "execution_count": 27,
   "metadata": {},
   "outputs": [],
   "source": [
    "def gm_det(base_trip_sum, gm_det_cost, gm_type, gm_det_func, gm_iteration, **kwargs):\n",
    "\n",
    "    gm_iteration = gm_iteration\n",
    "    base_trip_sum = base_trip_sum\n",
    "    gm_det_cost = gm_det_cost\n",
    "    gm_det_beta = kwargs.get('gm_det_beta')\n",
    "    gm_det_exp = kwargs.get('gm_det_exp')\n",
    "        \n",
    "    gm_arr_sum = np.zeros(((gm_iteration + 2) * base_trip_sum.shape[-2], base_trip_sum.shape[-1]))\n",
    "    gm_trip_imp_prod = np.zeros(((gm_iteration + 2) * gm_det_cost.shape[-2], gm_det_cost.shape[-1]))\n",
    "    gm_recharging_factor = np.zeros_like(gm_trip_imp_prod, dtype=float)\n",
    "    gm_arr = np.zeros(((gm_iteration + 2) * gm_det_cost.shape[-2], gm_det_cost.shape[-1]))\n",
    "    gm_trip_sum_factor = np.zeros(((gm_iteration + 1) * base_trip_sum.shape[-2], base_trip_sum.shape[-1]))\n",
    "\n",
    "    for i in range(base_trip_sum.shape[-2]):\n",
    "        for j in range(base_trip_sum.shape[-1]):\n",
    "            gm_arr_sum[i, j] = base_trip_sum[i, j]\n",
    "\n",
    "    if gm_type == 'GEN' and gm_det_func == 'Exponential':\n",
    "        for i in range(gm_det_cost.shape[-2]):\n",
    "            for j in range(gm_det_cost.shape[-1]):\n",
    "                gm_trip_imp_prod[j, i] = np.exp(gm_det_beta * gm_det_cost[i, j]) * gm_arr_sum[i, 1]\n",
    "    elif gm_type == 'ATT' and gm_det_func == 'Exponential':\n",
    "        for i in range(gm_det_cost.shape[-2]):\n",
    "            for j in range(gm_det_cost.shape[-1]):\n",
    "                gm_trip_imp_prod[j, i] = np.exp(gm_det_beta * gm_det_cost[i, j]) * gm_arr_sum[i, 0]\n",
    "    elif gm_type == 'GEN' and gm_det_func == 'Power':\n",
    "        for i in range(gm_det_cost.shape[-2]):\n",
    "            for j in range(gm_det_cost.shape[-1]):\n",
    "                gm_trip_imp_prod[j, i] = (gm_det_cost[i, j] ** gm_det_exp) * gm_arr_sum[i, 1]\n",
    "    elif gm_type == 'ATT' and gm_det_func == 'Power':\n",
    "        for i in range(gm_det_cost.shape[-2]):\n",
    "            for j in range(gm_det_cost.shape[-1]):\n",
    "                gm_trip_imp_prod[j, i] = (gm_det_cost[i, j] ** gm_det_exp) * gm_arr_sum[i, 0]\n",
    "    elif gm_type == 'GEN' and gm_det_func == 'Combined':\n",
    "        for i in range(gm_det_cost.shape[-2]):\n",
    "            for j in range(gm_det_cost.shape[-1]):\n",
    "                gm_trip_imp_prod[j, i] = (gm_det_cost[i, j] ** gm_det_exp) * np.exp(gm_det_beta * gm_det_cost[i, j]) * gm_arr_sum[i, 1]\n",
    "    elif gm_type == 'ATT' and gm_det_func == 'Combined':\n",
    "        for i in range(gm_det_cost.shape[-2]):\n",
    "            for j in range(gm_det_cost.shape[-1]):\n",
    "                gm_trip_imp_prod[j, i] = (gm_det_cost[i, j] ** gm_det_exp) * np.exp(gm_det_beta * gm_det_cost[i, j]) * gm_arr_sum[i, 0]\n",
    "\n",
    "    for t in range((gm_iteration) + 1):\n",
    "        if gm_type == 'GEN':\n",
    "            for i in range(gm_det_cost.shape[-2]):\n",
    "                for j in range(gm_det_cost.shape[-1]):\n",
    "                    gm_recharging_factor[(gm_det_cost.shape[-2] * t) + i, j] = gm_trip_imp_prod[(gm_det_cost.shape[-2] * t) + i, j] / gm_trip_imp_prod[(gm_det_cost.shape[-2] * t) + i, :].sum()\n",
    "        else:\n",
    "            for i in range(gm_det_cost.shape[-2]):\n",
    "                for j in range(gm_det_cost.shape[-1]):\n",
    "                    gm_recharging_factor[(gm_det_cost.shape[-2] * t) + i, j] = gm_trip_imp_prod[(gm_det_cost.shape[-2] * t) + i, j] \\\n",
    "                                                                                / gm_trip_imp_prod[(gm_det_cost.shape[-2] * t) : (gm_det_cost.shape[-2] * (t + 1)) , j].sum()\n",
    "        if gm_type == 'GEN':\n",
    "            for i in range(gm_det_cost.shape[-2]):\n",
    "                for j in range(gm_det_cost.shape[-1]):\n",
    "                    gm_arr[(gm_det_cost.shape[-2] * (t + 1)) + i, j] = gm_recharging_factor[(gm_det_cost.shape[-2] * t) + i, j] *\\\n",
    "                                                                        gm_arr_sum[(gm_det_cost.shape[-2] * t) + i, 0]\n",
    "        else:\n",
    "            for i in range(gm_det_cost.shape[-2]):\n",
    "                for j in range(gm_det_cost.shape[-1]):\n",
    "                    gm_arr[(gm_det_cost.shape[-2] * (t + 1)) + i, j] = gm_recharging_factor[(gm_det_cost.shape[-2] * t) + i, j] *\\\n",
    "                                                                        gm_arr_sum[(gm_det_cost.shape[-2] * t) + j, 1]\n",
    "        mock_arr_sum = np.transpose(np.vstack(\n",
    "            (gm_arr[\n",
    "                (gm_det_cost.shape[-2] * (t + 1)): (gm_det_cost.shape[-2] * (t + 2)),\n",
    "                0 : (gm_det_cost.shape[-1])\n",
    "                ].sum(axis=1),\n",
    "            gm_arr[\n",
    "                (gm_det_cost.shape[-2] * (t + 1)): (gm_det_cost.shape[-2] * (t + 2)),\n",
    "                0 : (gm_det_cost.shape[-1])\n",
    "                ].sum(axis=0)\n",
    "            )\n",
    "        ))        \n",
    "        for i in range(base_trip_sum.shape[-2]):\n",
    "            for j in range(base_trip_sum.shape[-1]):\n",
    "                gm_arr_sum[(base_trip_sum.shape[-2] * (t + 1)) + i, j] = mock_arr_sum[i, j]\n",
    "        for i in range(base_trip_sum.shape[-2]):\n",
    "            for j in range(base_trip_sum.shape[-1]):\n",
    "                gm_trip_sum_factor[(base_trip_sum.shape[-2] * t) + i, j] = gm_arr_sum[(base_trip_sum.shape[-2] * 0) + i, j] / gm_arr_sum[(base_trip_sum.shape[-2] * (t + 1)) + i, j]        # not advanced\n",
    "        if gm_type == 'GEN':\n",
    "            for i in range(gm_det_cost.shape[-2]):\n",
    "                for j in range(gm_det_cost.shape[-1]):\n",
    "                    gm_trip_imp_prod[(gm_det_cost.shape[-2] * (t + 1)) + i, j] = gm_trip_imp_prod[(gm_det_cost.shape[-2] * t) + i, j] * gm_trip_sum_factor[(gm_det_cost.shape[-2] * t) + j, 1]\n",
    "        else:\n",
    "            for i in range(gm_det_cost.shape[-2]):\n",
    "                for j in range(gm_det_cost.shape[-1]):\n",
    "                    gm_trip_imp_prod[(gm_det_cost.shape[-2] * (t + 1)) + i, j] = gm_trip_imp_prod[(gm_det_cost.shape[-2] * t) + i, j] * gm_trip_sum_factor[(gm_det_cost.shape[-2] * t) + i, 0]\n",
    "                        \n",
    "    mock_convergence = np.ones((gm_det_cost.shape[-2], gm_trip_sum_factor.shape[-1]), dtype=float)\n",
    "    \n",
    "    gm_imp_convergence = gm_trip_sum_factor[\n",
    "        ((gm_det_cost.shape[-2] * gm_iteration) - gm_det_cost.shape[-2]): gm_det_cost.shape[-2] * gm_iteration,\n",
    "        :\n",
    "    ]\n",
    "    \n",
    "    return np.amax(np.absolute(gm_imp_convergence - mock_convergence)) * 100"
   ]
  },
  {
   "cell_type": "markdown",
   "metadata": {},
   "source": [
    "##### Dedicated Convergence testing"
   ]
  },
  {
   "cell_type": "markdown",
   "metadata": {},
   "source": [
    "###### - Exponential Cost function"
   ]
  },
  {
   "cell_type": "code",
   "execution_count": 28,
   "metadata": {},
   "outputs": [
    {
     "data": {
      "image/png": "[encoded data removed]"
     },
     "metadata": {},
     "output_type": "display_data"
    }
   ],
   "source": [
    "ded_test(dist_func='GMDet', n_zones=[5, 10, 15], test_pre_mean=480, test_pre_var=60, gm_det_func='Exponential',\n",
    "       gm_det_mean=5000, gm_det_var=150, gm_det_beta=0.05, gm_type='GEN', n_iter=50)"
   ]
  },
  {
   "cell_type": "markdown",
   "metadata": {},
   "source": [
    "###### - Power Cost function"
   ]
  },
  {
   "cell_type": "code",
   "execution_count": 29,
   "metadata": {},
   "outputs": [
    {
     "data": {
      "image/png": "[encoded data removed]"
     },
     "metadata": {},
     "output_type": "display_data"
    }
   ],
   "source": [
    "ded_test(dist_func='GMDet', n_zones=[5, 10, 15], test_pre_mean=480, test_pre_var=60, gm_det_func='Power',\n",
    "       gm_det_mean=5000, gm_det_var=150, gm_det_exp=1.5, gm_type='GEN', n_iter=50)"
   ]
  },
  {
   "cell_type": "markdown",
   "metadata": {},
   "source": [
    "###### - Combined Cost function"
   ]
  },
  {
   "cell_type": "code",
   "execution_count": 30,
   "metadata": {},
   "outputs": [
    {
     "data": {
      "image/png": "[encoded data removed]"
     },
     "metadata": {},
     "output_type": "display_data"
    }
   ],
   "source": [
    "ded_test(dist_func='GMDet', n_zones=[5, 10, 15], test_pre_mean=480, test_pre_var=60, gm_det_func='Combined',\n",
    "       gm_det_mean=5000, gm_det_var=150, gm_det_exp=1.5, gm_det_beta=0.025, gm_type='GEN', n_iter=50)"
   ]
  },
  {
   "cell_type": "markdown",
   "metadata": {},
   "source": [
    "## 3. Convergence testing"
   ]
  },
  {
   "cell_type": "markdown",
   "metadata": {},
   "source": [
    "### a. Based on single PDF in creating trip matrices"
   ]
  },
  {
   "cell_type": "code",
   "execution_count": 31,
   "metadata": {},
   "outputs": [],
   "source": [
    "# def conv_test(dist_func_arr, n_zones, test_pre_mean, test_pre_var, gm_type, n_iter,  **kwargs):\n",
    "#     np.random.seed(252)\n",
    "#     factor_fut_mean = kwargs.get('factor_fut_mean')\n",
    "#     factor_fut_var = kwargs.get('factor_fut_var')\n",
    "#     gm_imp_mean = kwargs.get('gm_imp_mean')\n",
    "#     gm_imp_var = kwargs.get('gm_imp_var')\n",
    "#     gm_det_mean = kwargs.get('gm_det_mean')\n",
    "#     gm_det_var = kwargs.get('gm_det_var')\n",
    "#     gm_det_func = kwargs.get('gm_det_func')\n",
    "#     gm_det_beta = kwargs.get('gm_det_beta')\n",
    "#     gm_det_exp = kwargs.get('gm_det_exp')\n",
    "    \n",
    "#     test_fut_mean = test_pre_mean * (1 + factor_fut_mean)\n",
    "#     test_fut_var = test_pre_var * (1 + factor_fut_var)\n",
    "#     arr_present = []\n",
    "#     arr_future = []\n",
    "#     arr_total_present = []\n",
    "#     growth_rate = []\n",
    "#     gm_imp_dist = []\n",
    "#     gm_det_cost = []\n",
    "\n",
    "#     for i in n_zones:\n",
    "#         mock_present = np.random.normal(loc=test_pre_mean, scale=test_pre_var, size=i**2).astype(int).reshape((i, i))\n",
    "#         np.fill_diagonal(mock_present, 0)\n",
    "#         mock_future = np.random.normal(loc=test_fut_mean, scale=test_fut_var, size=i*2).astype(int).reshape((i, 2))\n",
    "#         arr_present.append(mock_present.tolist())\n",
    "#         arr_future.append(mock_future.tolist())\n",
    "#         mock_total_present_trips = np.transpose(np.vstack((mock_present.sum(axis=1), mock_present.sum(axis=0))))\n",
    "#         arr_total_present.append(mock_total_present_trips.tolist())\n",
    "        \n",
    "#     if ('AFM' in dist_func_arr) | ('DM' in dist_func_arr) | ('FM' in dist_func_arr) | ('FurM' in dist_func_arr):\n",
    "#         for i in n_zones:\n",
    "#             growth_rate.append(mock_future / mock_total_present_trips)\n",
    "        \n",
    "#     if ('GMImp' in dist_func_arr):\n",
    "#         for i in n_zones:\n",
    "#             mock_imp_dist = np.random.normal(loc=gm_imp_mean, scale=gm_imp_var, size=i**2).astype(int).reshape((i, i))\n",
    "#             gm_imp_dist.append(mock_imp_dist.tolist())\n",
    "\n",
    "#     if ('GMDet' in dist_func_arr):\n",
    "#         for i in n_zones:\n",
    "#             mock_det_cost = np.random.normal(loc=gm_det_mean, scale=gm_det_var, size=i**2).astype(int).reshape((i, i))\n",
    "#             gm_det_cost.append(mock_det_cost.tolist())\n",
    "    \n",
    "#     conv_arr = np.zeros((1, len(dist_func_arr) * n_iter * len(n_zones))).flatten()\n",
    "#     comp_df_method = np.zeros((1, len(dist_func_arr) * n_iter * len(n_zones))).astype('object').flatten()\n",
    "#     comp_df_zones = np.zeros((1, len(dist_func_arr) * n_iter * len(n_zones))).flatten()\n",
    "#     comp_df_iter = np.tile(np.arange(start=1, stop=n_iter + 1, step=1), len(dist_func_arr)*len(n_zones))\n",
    "\n",
    "#     for n_method in range(len(dist_func_arr)):\n",
    "#         if dist_func_arr[n_method] == 'AFM':\n",
    "#             for i in range(len(n_zones)):\n",
    "#                 for j in range(n_iter):\n",
    "#                     conv_arr[((i * n_iter) + (len(n_zones) * n_iter * n_method)) + j] = afm(np.array(arr_present[i]), np.array(arr_future[i]), np.array(growth_rate[i]), j + 1)\n",
    "#                     comp_df_method[((i * n_iter) + (len(n_zones) * n_iter * n_method)) + j] = 'Average Factor'\n",
    "#                     comp_df_zones[((i * n_iter) + (len(n_zones) * n_iter * n_method)) + j] = n_zones[i]\n",
    "#         elif dist_func_arr[n_method] == 'DM':\n",
    "#             for i in range(len(n_zones)):\n",
    "#                 for j in range(n_iter):\n",
    "#                     conv_arr[((i * n_iter) + (len(n_zones) * n_iter * n_method)) + j] = dm(np.array(arr_present[i]), np.array(arr_future[i]), np.array(growth_rate[i]), j + 1)\n",
    "#                     comp_df_method[((i * n_iter) + (len(n_zones) * n_iter * n_method)) + j] = 'Detroit'\n",
    "#                     comp_df_zones[((i * n_iter) + (len(n_zones) * n_iter * n_method)) + j] = n_zones[i]\n",
    "#         elif dist_func_arr[n_method] == 'FM':\n",
    "#             for i in range(len(n_zones)):\n",
    "#                 for j in range(n_iter):\n",
    "#                     conv_arr[((i * n_iter) + (len(n_zones) * n_iter * n_method)) + j] = fm(np.array(arr_present[i]), np.array(arr_future[i]), np.array(growth_rate[i]), j + 1)\n",
    "#                     comp_df_method[((i * n_iter) + (len(n_zones) * n_iter * n_method)) + j] = 'Fratar'\n",
    "#                     comp_df_zones[((i * n_iter) + (len(n_zones) * n_iter * n_method)) + j] = n_zones[i]\n",
    "#         elif dist_func_arr[n_method] == 'FurM':\n",
    "#             for i in range(len(n_zones)):\n",
    "#                 for j in range(n_iter):\n",
    "#                     conv_arr[((i * n_iter) + (len(n_zones) * n_iter * n_method)) + j] = fur(np.array(arr_present[i]), np.array(arr_future[i]), np.array(growth_rate[i]), j + 1)\n",
    "#                     comp_df_method[((i * n_iter) + (len(n_zones) * n_iter * n_method)) + j] = 'Furness'\n",
    "#                     comp_df_zones[((i * n_iter) + (len(n_zones) * n_iter * n_method)) + j] = n_zones[i]\n",
    "#         elif dist_func_arr[n_method] == 'GMImp' and gm_type == 'GEN':\n",
    "#             for i in range(len(n_zones)):\n",
    "#                 for j in range(n_iter):\n",
    "#                     conv_arr[((i * n_iter) + (len(n_zones) * n_iter * n_method)) + j] = gm_imp(np.array(arr_total_present[i]), np.array(gm_imp_dist[i]), gm_type=gm_type, gm_iteration=j + 1)\n",
    "#                     comp_df_method[((i * n_iter) + (len(n_zones) * n_iter * n_method)) + j] = 'Gravity Method (Impedance) - Generation constrained'\n",
    "#                     comp_df_zones[((i * n_iter) + (len(n_zones) * n_iter * n_method)) + j] = n_zones[i]\n",
    "#         elif dist_func_arr[n_method] == 'GMImp' and gm_type == 'ATT':\n",
    "#             for i in range(len(n_zones)):\n",
    "#                 for j in range(n_iter):\n",
    "#                     conv_arr[((i * n_iter) + (len(n_zones) * n_iter * n_method)) + j] = gm_imp(np.array(arr_total_present[i]), np.array(gm_imp_dist[i]), gm_type=gm_type, gm_iteration=j + 1)\n",
    "#                     comp_df_method[((i * n_iter) + (len(n_zones) * n_iter * n_method)) + j] = 'Gravity Method (Impedance) - Attraction constrained'\n",
    "#                     comp_df_zones[((i * n_iter) + (len(n_zones) * n_iter * n_method)) + j] = n_zones[i]\n",
    "#         elif dist_func_arr[n_method] == 'GMDet' and gm_det_func == 'Exponential':\n",
    "#             for i in range(len(n_zones)):\n",
    "#                 for j in range(n_iter):\n",
    "#                     conv_arr[((i * n_iter) + (len(n_zones) * n_iter * n_method)) + j] = gm_det(np.array(arr_total_present[i]), np.array(gm_det_cost[i]),\n",
    "#                                                                                                gm_det_func=gm_det_func, gm_det_beta=gm_det_beta,\n",
    "#                                                                                                gm_type=gm_type, gm_iteration=j + 1)\n",
    "#                     comp_df_method[((i * n_iter) + (len(n_zones) * n_iter * n_method)) + j] = 'Gravity Method (Deterrence) - Exponential Cost function'\n",
    "#                     comp_df_zones[((i * n_iter) + (len(n_zones) * n_iter * n_method)) + j] = n_zones[i]\n",
    "#         elif dist_func_arr[n_method] == 'GMDet' and gm_det_func == 'Power':\n",
    "#             for i in range(len(n_zones)):\n",
    "#                 for j in range(n_iter):\n",
    "#                     conv_arr[((i * n_iter) + (len(n_zones) * n_iter * n_method)) + j] = gm_det(np.array(arr_total_present[i]), np.array(gm_det_cost[i]),\n",
    "#                                                                                                gm_det_func=gm_det_func, gm_det_exp=gm_det_exp,\n",
    "#                                                                                                gm_type=gm_type, gm_iteration=j + 1)\n",
    "#                     comp_df_method[((i * n_iter) + (len(n_zones) * n_iter * n_method)) + j] = 'Gravity Method (Deterrence) - Power Cost function'\n",
    "#                     comp_df_zones[((i * n_iter) + (len(n_zones) * n_iter * n_method)) + j] = n_zones[i]\n",
    "#         elif dist_func_arr[n_method] == 'GMDet' and gm_det_func == 'Combined':\n",
    "#             for i in range(len(n_zones)):\n",
    "#                 for j in range(n_iter):\n",
    "#                     conv_arr[((i * n_iter) + (len(n_zones) * n_iter * n_method)) + j] = gm_det(np.array(arr_total_present[i]), np.array(gm_det_cost[i]),\n",
    "#                                                                                                gm_det_func=gm_det_func, gm_det_beta=gm_det_beta, gm_det_exp=gm_det_exp,\n",
    "#                                                                                                gm_type=gm_type, gm_iteration=j + 1)\n",
    "#                     comp_df_method[((i * n_iter) + (len(n_zones) * n_iter * n_method)) + j] = 'Gravity Method (Deterrence) - Combined Cost function'\n",
    "#                     comp_df_zones[((i * n_iter) + (len(n_zones) * n_iter * n_method)) + j] = n_zones[i]\n",
    "#         else:\n",
    "#             pass\n",
    "    \n",
    "#     comparison_df = pd.DataFrame({\n",
    "#         'Method' : comp_df_method,\n",
    "#         'Number of Zones' : comp_df_zones,\n",
    "#         'Iteration' : comp_df_iter,\n",
    "#         'Convergence' : conv_arr\n",
    "#         }, \n",
    "#         columns=['Method', 'Number of Zones', 'Iteration', 'Convergence'])\n",
    "    \n",
    "#     fig = px.line(comparison_df, x='Iteration', y='Convergence', color='Method', \n",
    "#                 line_dash='Number of Zones', labels={'Convergence': 'Convergence (%)'},\n",
    "#                 title='Trip Distribution Method Convergence Comparison')\n",
    "    \n",
    "#     fig.update_layout(\n",
    "#     xaxis=dict(showgrid=False, showticklabels=True, linecolor='#53868B', linewidth=2, \n",
    "#                ticks=\"outside\", tickfont=dict(family='Nirmala UI', size=12, color='#00008B')),\n",
    "#     yaxis=dict(showgrid=False, showticklabels=True, linecolor=\"#53868B\", linewidth=2, \n",
    "#                ticks='outside', tickfont=dict(family='Nirmala UI', size=12, color='#00008B')),\n",
    "#     plot_bgcolor='#F7F7F7', paper_bgcolor= '#F7F7F7', legend_title_text='Method, Number of Zones',\n",
    "#     yaxis_range=[0,25])\n",
    "    \n",
    "#     fig.show(renderer='png', height=700, width=1550)"
   ]
  },
  {
   "cell_type": "code",
   "execution_count": 48,
   "metadata": {},
   "outputs": [],
   "source": [
    "def conv_test(dist_func_arr, n_zones, test_pre_mean, test_pre_var, gm_type, n_iter,  **kwargs):\n",
    "    np.random.seed(252)\n",
    "    factor_fut_mean = kwargs.get('factor_fut_mean')\n",
    "    factor_fut_var = kwargs.get('factor_fut_var')\n",
    "    gm_imp_mean = kwargs.get('gm_imp_mean')\n",
    "    gm_imp_var = kwargs.get('gm_imp_var')\n",
    "    gm_det_mean = kwargs.get('gm_det_mean')\n",
    "    gm_det_var = kwargs.get('gm_det_var')\n",
    "    gm_det_func = kwargs.get('gm_det_func')\n",
    "    gm_det_beta = kwargs.get('gm_det_beta')\n",
    "    gm_det_exp = kwargs.get('gm_det_exp')\n",
    "    \n",
    "    test_fut_mean = test_pre_mean * (1 + factor_fut_mean)\n",
    "    test_fut_var = test_pre_var * (1 + factor_fut_var)\n",
    "    arr_present = []\n",
    "    arr_future = []\n",
    "    arr_total_present = []\n",
    "    growth_rate = []\n",
    "    gm_imp_dist = []\n",
    "    gm_det_cost = []\n",
    "\n",
    "    for i in n_zones:\n",
    "        mock_present = np.random.normal(loc=test_pre_mean, scale=test_pre_var, size=i**2).astype(int).reshape((i, i))\n",
    "        np.fill_diagonal(mock_present, 0)\n",
    "        mock_future = np.random.normal(loc=test_fut_mean, scale=test_fut_var, size=i*2).astype(int).reshape((i, 2))\n",
    "        arr_present.append(mock_present.tolist())\n",
    "        arr_future.append(mock_future.tolist())\n",
    "        mock_total_present_trips = np.transpose(np.vstack((mock_present.sum(axis=1), mock_present.sum(axis=0))))\n",
    "        arr_total_present.append(mock_total_present_trips.tolist())\n",
    "        \n",
    "    if ('AFM' in dist_func_arr) | ('DM' in dist_func_arr) | ('FM' in dist_func_arr) | ('FurM' in dist_func_arr):\n",
    "        for i in n_zones:\n",
    "            growth_rate.append(mock_future / mock_total_present_trips)\n",
    "        \n",
    "    if ('GMImp' in dist_func_arr):\n",
    "        for i in n_zones:\n",
    "            mock_imp_dist = np.random.normal(loc=gm_imp_mean, scale=gm_imp_var, size=i**2).astype(int).reshape((i, i))\n",
    "            gm_imp_dist.append(mock_imp_dist.tolist())\n",
    "\n",
    "    if ('GMDet' in dist_func_arr):\n",
    "        for i in n_zones:\n",
    "            mock_det_cost = np.random.normal(loc=gm_det_mean, scale=gm_det_var, size=i**2).astype(int).reshape((i, i))\n",
    "            gm_det_cost.append(mock_det_cost.tolist())\n",
    "\n",
    "    if (gm_type == None) and (gm_det_func == None):\n",
    "        conv_arr = np.zeros((1, len(dist_func_arr) * n_iter * len(n_zones))).flatten()\n",
    "        comp_df_method = np.zeros((1, len(dist_func_arr) * n_iter * len(n_zones))).astype('object').flatten()\n",
    "        comp_df_zones = np.zeros((1, len(dist_func_arr) * n_iter * len(n_zones))).flatten()\n",
    "        comp_df_iter = np.tile(np.arange(start=1, stop=n_iter + 1, step=1), len(dist_func_arr)*len(n_zones))\n",
    "        for n_method in range(len(dist_func_arr)):\n",
    "            if dist_func_arr[n_method] == 'AFM':\n",
    "                for i in range(len(n_zones)):\n",
    "                    for j in range(n_iter):\n",
    "                        conv_arr[((i * n_iter) + (len(n_zones) * n_iter * n_method)) + j] = afm(np.array(arr_present[i]), np.array(arr_future[i]), np.array(growth_rate[i]), j + 1)\n",
    "                        comp_df_method[((i * n_iter) + (len(n_zones) * n_iter * n_method)) + j] = 'Average Factor'\n",
    "                        comp_df_zones[((i * n_iter) + (len(n_zones) * n_iter * n_method)) + j] = n_zones[i]\n",
    "            elif dist_func_arr[n_method] == 'DM':\n",
    "                for i in range(len(n_zones)):\n",
    "                    for j in range(n_iter):\n",
    "                        conv_arr[((i * n_iter) + (len(n_zones) * n_iter * n_method)) + j] = dm(np.array(arr_present[i]), np.array(arr_future[i]), np.array(growth_rate[i]), j + 1)\n",
    "                        comp_df_method[((i * n_iter) + (len(n_zones) * n_iter * n_method)) + j] = 'Detroit'\n",
    "                        comp_df_zones[((i * n_iter) + (len(n_zones) * n_iter * n_method)) + j] = n_zones[i]\n",
    "            elif dist_func_arr[n_method] == 'FM':\n",
    "                for i in range(len(n_zones)):\n",
    "                    for j in range(n_iter):\n",
    "                        conv_arr[((i * n_iter) + (len(n_zones) * n_iter * n_method)) + j] = fm(np.array(arr_present[i]), np.array(arr_future[i]), np.array(growth_rate[i]), j + 1)\n",
    "                        comp_df_method[((i * n_iter) + (len(n_zones) * n_iter * n_method)) + j] = 'Fratar'\n",
    "                        comp_df_zones[((i * n_iter) + (len(n_zones) * n_iter * n_method)) + j] = n_zones[i]\n",
    "            elif dist_func_arr[n_method] == 'FurM':\n",
    "                for i in range(len(n_zones)):\n",
    "                    for j in range(n_iter):\n",
    "                        conv_arr[((i * n_iter) + (len(n_zones) * n_iter * n_method)) + j] = fur(np.array(arr_present[i]), np.array(arr_future[i]), np.array(growth_rate[i]), j + 1)\n",
    "                        comp_df_method[((i * n_iter) + (len(n_zones) * n_iter * n_method)) + j] = 'Furness'\n",
    "                        comp_df_zones[((i * n_iter) + (len(n_zones) * n_iter * n_method)) + j] = n_zones[i]\n",
    "\n",
    "    elif (gm_type != None) and (gm_det_func == None):\n",
    "        conv_arr = np.zeros((1, len(dist_func_arr) * n_iter * len(n_zones) * len(gm_type))).flatten()\n",
    "        comp_df_method = np.zeros((1, len(dist_func_arr) * n_iter * len(n_zones) * len(gm_type))).astype('object').flatten()\n",
    "        comp_df_zones = np.zeros((1, len(dist_func_arr) * n_iter * len(n_zones) * len(gm_type))).flatten()\n",
    "        comp_df_iter = np.tile(np.arange(start=1, stop=n_iter + 1, step=1), len(dist_func_arr)*len(n_zones) * len(gm_type))\n",
    "        for n_method in range(len(dist_func_arr) - 1 + len(gm_type)):\n",
    "            if (dist_func_arr[n_method] == 'AFM') and n_method < len(dist_func_arr):\n",
    "                for i in range(len(n_zones)):\n",
    "                    for j in range(n_iter):\n",
    "                        conv_arr[((i * n_iter) + (len(n_zones) * n_iter * n_method)) + j] = afm(np.array(arr_present[i]), np.array(arr_future[i]), np.array(growth_rate[i]), j + 1)\n",
    "                        comp_df_method[((i * n_iter) + (len(n_zones) * n_iter * n_method)) + j] = 'Average Factor'\n",
    "                        comp_df_zones[((i * n_iter) + (len(n_zones) * n_iter * n_method)) + j] = n_zones[i]\n",
    "            elif dist_func_arr[n_method] == 'DM':\n",
    "                for i in range(len(n_zones)):\n",
    "                    for j in range(n_iter):\n",
    "                        conv_arr[((i * n_iter) + (len(n_zones) * n_iter * n_method)) + j] = dm(np.array(arr_present[i]), np.array(arr_future[i]), np.array(growth_rate[i]), j + 1)\n",
    "                        comp_df_method[((i * n_iter) + (len(n_zones) * n_iter * n_method)) + j] = 'Detroit'\n",
    "                        comp_df_zones[((i * n_iter) + (len(n_zones) * n_iter * n_method)) + j] = n_zones[i]\n",
    "            elif dist_func_arr[n_method] == 'FM':\n",
    "                for i in range(len(n_zones)):\n",
    "                    for j in range(n_iter):\n",
    "                        conv_arr[((i * n_iter) + (len(n_zones) * n_iter * n_method)) + j] = fm(np.array(arr_present[i]), np.array(arr_future[i]), np.array(growth_rate[i]), j + 1)\n",
    "                        comp_df_method[((i * n_iter) + (len(n_zones) * n_iter * n_method)) + j] = 'Fratar'\n",
    "                        comp_df_zones[((i * n_iter) + (len(n_zones) * n_iter * n_method)) + j] = n_zones[i]\n",
    "            elif dist_func_arr[n_method] == 'FurM':\n",
    "                for i in range(len(n_zones)):\n",
    "                    for j in range(n_iter):\n",
    "                        conv_arr[((i * n_iter) + (len(n_zones) * n_iter * n_method)) + j] = fur(np.array(arr_present[i]), np.array(arr_future[i]), np.array(growth_rate[i]), j + 1)\n",
    "                        comp_df_method[((i * n_iter) + (len(n_zones) * n_iter * n_method)) + j] = 'Furness'\n",
    "                        comp_df_zones[((i * n_iter) + (len(n_zones) * n_iter * n_method)) + j] = n_zones[i]\n",
    "            for type in gm_type:\n",
    "                if dist_func_arr[n_method] == 'GMImp' and type == 'GEN':\n",
    "                    for i in range(len(n_zones)):\n",
    "                        for j in range(n_iter):\n",
    "                            conv_arr[((i * n_iter) + (len(n_zones) * n_iter * n_method)) + j] = gm_imp(np.array(arr_total_present[i]), np.array(gm_imp_dist[i]), gm_type=type, gm_iteration=j + 1)\n",
    "                            comp_df_method[((i * n_iter) + (len(n_zones) * n_iter * n_method)) + j] = 'Gravity Method (Impedance) - Generation constrained'\n",
    "                            comp_df_zones[((i * n_iter) + (len(n_zones) * n_iter * n_method)) + j] = n_zones[i]\n",
    "                elif dist_func_arr[n_method] == 'GMImp' and type == 'ATT':\n",
    "                    for i in range(len(n_zones)):\n",
    "                        for j in range(n_iter):\n",
    "                            conv_arr[((i * n_iter) + (len(n_zones) * n_iter * n_method)) + j] = gm_imp(np.array(arr_total_present[i]), np.array(gm_imp_dist[i]), gm_type=type, gm_iteration=j + 1)\n",
    "                            comp_df_method[((i * n_iter) + (len(n_zones) * n_iter * n_method)) + j] = 'Gravity Method (Impedance) - Attraction constrained'\n",
    "                            comp_df_zones[((i * n_iter) + (len(n_zones) * n_iter * n_method)) + j] = n_zones[i]\n",
    "\n",
    "    elif (gm_type == None) and (gm_det_func != None):\n",
    "        conv_arr = np.zeros((1, len(dist_func_arr) * n_iter * len(n_zones) * len(gm_det_func))).flatten()\n",
    "        comp_df_method = np.zeros((1, len(dist_func_arr) * n_iter * len(n_zones) * len(gm_det_func))).astype('object').flatten()\n",
    "        comp_df_zones = np.zeros((1, len(dist_func_arr) * n_iter * len(n_zones) * len(gm_det_func))).flatten()\n",
    "        comp_df_iter = np.tile(np.arange(start=1, stop=n_iter + 1, step=1), len(dist_func_arr)*len(n_zones) * len(gm_det_func))\n",
    "        for n_method in range(len(dist_func_arr) - 1 + len(gm_type)):\n",
    "            if (dist_func_arr[n_method] == 'AFM') and n_method < len(dist_func_arr):\n",
    "                for i in range(len(n_zones)):\n",
    "                    for j in range(n_iter):\n",
    "                        conv_arr[((i * n_iter) + (len(n_zones) * n_iter * n_method)) + j] = afm(np.array(arr_present[i]), np.array(arr_future[i]), np.array(growth_rate[i]), j + 1)\n",
    "                        comp_df_method[((i * n_iter) + (len(n_zones) * n_iter * n_method)) + j] = 'Average Factor'\n",
    "                        comp_df_zones[((i * n_iter) + (len(n_zones) * n_iter * n_method)) + j] = n_zones[i]\n",
    "            elif dist_func_arr[n_method] == 'DM':\n",
    "                for i in range(len(n_zones)):\n",
    "                    for j in range(n_iter):\n",
    "                        conv_arr[((i * n_iter) + (len(n_zones) * n_iter * n_method)) + j] = dm(np.array(arr_present[i]), np.array(arr_future[i]), np.array(growth_rate[i]), j + 1)\n",
    "                        comp_df_method[((i * n_iter) + (len(n_zones) * n_iter * n_method)) + j] = 'Detroit'\n",
    "                        comp_df_zones[((i * n_iter) + (len(n_zones) * n_iter * n_method)) + j] = n_zones[i]\n",
    "            elif dist_func_arr[n_method] == 'FM':\n",
    "                for i in range(len(n_zones)):\n",
    "                    for j in range(n_iter):\n",
    "                        conv_arr[((i * n_iter) + (len(n_zones) * n_iter * n_method)) + j] = fm(np.array(arr_present[i]), np.array(arr_future[i]), np.array(growth_rate[i]), j + 1)\n",
    "                        comp_df_method[((i * n_iter) + (len(n_zones) * n_iter * n_method)) + j] = 'Fratar'\n",
    "                        comp_df_zones[((i * n_iter) + (len(n_zones) * n_iter * n_method)) + j] = n_zones[i]\n",
    "            elif dist_func_arr[n_method] == 'FurM':\n",
    "                for i in range(len(n_zones)):\n",
    "                    for j in range(n_iter):\n",
    "                        conv_arr[((i * n_iter) + (len(n_zones) * n_iter * n_method)) + j] = fur(np.array(arr_present[i]), np.array(arr_future[i]), np.array(growth_rate[i]), j + 1)\n",
    "                        comp_df_method[((i * n_iter) + (len(n_zones) * n_iter * n_method)) + j] = 'Furness'\n",
    "                        comp_df_zones[((i * n_iter) + (len(n_zones) * n_iter * n_method)) + j] = n_zones[i]\n",
    "            for det_func in gm_det_func:\n",
    "                if dist_func_arr[n_method] == 'GMDet' and det_func == 'Exponential':\n",
    "                    for i in range(len(n_zones)):\n",
    "                        for j in range(n_iter):\n",
    "                            conv_arr[((i * n_iter) + (len(n_zones) * n_iter * n_method)) + j] = gm_det(np.array(arr_total_present[i]), np.array(gm_det_cost[i]),\n",
    "                                                                                               gm_det_func=det_func, gm_det_beta=gm_det_beta,\n",
    "                                                                                               gm_type=gm_type, gm_iteration=j + 1)\n",
    "                            comp_df_method[((i * n_iter) + (len(n_zones) * n_iter * n_method)) + j] = 'Gravity Method (Deterrence) - Exponential Cost function'\n",
    "                            comp_df_zones[((i * n_iter) + (len(n_zones) * n_iter * n_method)) + j] = n_zones[i]\n",
    "                elif dist_func_arr[n_method] == 'GMDet' and det_func == 'Power':\n",
    "                    for i in range(len(n_zones)):\n",
    "                        for j in range(n_iter):\n",
    "                            conv_arr[((i * n_iter) + (len(n_zones) * n_iter * n_method)) + j] = gm_det(np.array(arr_total_present[i]), np.array(gm_det_cost[i]),\n",
    "                                                                                               gm_det_func=gm_det_func, gm_det_exp=gm_det_exp,\n",
    "                                                                                               gm_type=gm_type, gm_iteration=j + 1)\n",
    "                            comp_df_method[((i * n_iter) + (len(n_zones) * n_iter * n_method)) + j] = 'Gravity Method (Deterrence) - Power Cost function'\n",
    "                            comp_df_zones[((i * n_iter) + (len(n_zones) * n_iter * n_method)) + j] = n_zones[i]\n",
    "                elif dist_func_arr[n_method] == 'GMDet' and det_func == 'Combined':\n",
    "                    for i in range(len(n_zones)):\n",
    "                        for j in range(n_iter):\n",
    "                            conv_arr[((i * n_iter) + (len(n_zones) * n_iter * n_method)) + j] = gm_det(np.array(arr_total_present[i]), np.array(gm_det_cost[i]),\n",
    "                                                                                               gm_det_func=gm_det_func, gm_det_beta=gm_det_beta, gm_det_exp=gm_det_exp,\n",
    "                                                                                               gm_type=gm_type, gm_iteration=j + 1)\n",
    "                            comp_df_method[((i * n_iter) + (len(n_zones) * n_iter * n_method)) + j] = 'Gravity Method (Deterrence) - Combined Cost function'\n",
    "                            comp_df_zones[((i * n_iter) + (len(n_zones) * n_iter * n_method)) + j] = n_zones[i]\n",
    "    elif (gm_type != None) and (gm_det_func != None):\n",
    "        conv_arr = np.zeros((1, len(dist_func_arr) * n_iter * len(n_zones) * len(gm_type) * len(gm_det_func))).flatten()\n",
    "        comp_df_method = np.zeros((1, len(dist_func_arr) * n_iter * len(n_zones) * len(gm_type) * len(gm_det_func))).astype('object').flatten()\n",
    "        comp_df_zones = np.zeros((1, len(dist_func_arr) * n_iter * len(n_zones) * len(gm_type) * len(gm_det_func))).flatten()\n",
    "        comp_df_iter = np.tile(np.arange(start=1, stop=n_iter + 1, step=1), len(dist_func_arr)*len(n_zones) * len(gm_type) * len(gm_det_func))\n",
    "        for n_method in range(len(dist_func_arr) - 2 + len(gm_type) + len(gm_det_func)):\n",
    "            if (dist_func_arr[n_method] == 'AFM') and n_method < len(dist_func_arr):\n",
    "                for i in range(len(n_zones)):\n",
    "                    for j in range(n_iter):\n",
    "                        conv_arr[((i * n_iter) + (len(n_zones) * n_iter * n_method)) + j] = afm(np.array(arr_present[i]), np.array(arr_future[i]), np.array(growth_rate[i]), j + 1)\n",
    "                        comp_df_method[((i * n_iter) + (len(n_zones) * n_iter * n_method)) + j] = 'Average Factor'\n",
    "                        comp_df_zones[((i * n_iter) + (len(n_zones) * n_iter * n_method)) + j] = n_zones[i]\n",
    "            elif dist_func_arr[n_method] == 'DM':\n",
    "                for i in range(len(n_zones)):\n",
    "                    for j in range(n_iter):\n",
    "                        conv_arr[((i * n_iter) + (len(n_zones) * n_iter * n_method)) + j] = dm(np.array(arr_present[i]), np.array(arr_future[i]), np.array(growth_rate[i]), j + 1)\n",
    "                        comp_df_method[((i * n_iter) + (len(n_zones) * n_iter * n_method)) + j] = 'Detroit'\n",
    "                        comp_df_zones[((i * n_iter) + (len(n_zones) * n_iter * n_method)) + j] = n_zones[i]\n",
    "            elif dist_func_arr[n_method] == 'FM':\n",
    "                for i in range(len(n_zones)):\n",
    "                    for j in range(n_iter):\n",
    "                        conv_arr[((i * n_iter) + (len(n_zones) * n_iter * n_method)) + j] = fm(np.array(arr_present[i]), np.array(arr_future[i]), np.array(growth_rate[i]), j + 1)\n",
    "                        comp_df_method[((i * n_iter) + (len(n_zones) * n_iter * n_method)) + j] = 'Fratar'\n",
    "                        comp_df_zones[((i * n_iter) + (len(n_zones) * n_iter * n_method)) + j] = n_zones[i]\n",
    "            elif dist_func_arr[n_method] == 'FurM':\n",
    "                for i in range(len(n_zones)):\n",
    "                    for j in range(n_iter):\n",
    "                        conv_arr[((i * n_iter) + (len(n_zones) * n_iter * n_method)) + j] = fur(np.array(arr_present[i]), np.array(arr_future[i]), np.array(growth_rate[i]), j + 1)\n",
    "                        comp_df_method[((i * n_iter) + (len(n_zones) * n_iter * n_method)) + j] = 'Furness'\n",
    "                        comp_df_zones[((i * n_iter) + (len(n_zones) * n_iter * n_method)) + j] = n_zones[i]\n",
    "            for type in gm_type:\n",
    "                if dist_func_arr[n_method] == 'GMImp' and type == 'GEN':\n",
    "                    for i in range(len(n_zones)):\n",
    "                        for j in range(n_iter):\n",
    "                            conv_arr[((i * n_iter) + (len(n_zones) * n_iter * n_method)) + j] = gm_imp(np.array(arr_total_present[i]), np.array(gm_imp_dist[i]), gm_type=type, gm_iteration=j + 1)\n",
    "                            comp_df_method[((i * n_iter) + (len(n_zones) * n_iter * n_method)) + j] = 'Gravity Method (Impedance) - Generation constrained'\n",
    "                            comp_df_zones[((i * n_iter) + (len(n_zones) * n_iter * n_method)) + j] = n_zones[i]\n",
    "                elif dist_func_arr[n_method] == 'GMImp' and type == 'ATT':\n",
    "                    for i in range(len(n_zones)):\n",
    "                        for j in range(n_iter):\n",
    "                            conv_arr[((i * n_iter) + (len(n_zones) * n_iter * n_method)) + j] = gm_imp(np.array(arr_total_present[i]), np.array(gm_imp_dist[i]), gm_type=type, gm_iteration=j + 1)\n",
    "                            comp_df_method[((i * n_iter) + (len(n_zones) * n_iter * n_method)) + j] = 'Gravity Method (Impedance) - Attraction constrained'\n",
    "                            comp_df_zones[((i * n_iter) + (len(n_zones) * n_iter * n_method)) + j] = n_zones[i]\n",
    "            for det_func in gm_det_func:\n",
    "                if dist_func_arr[n_method] == 'GMDet' and det_func == 'Exponential':\n",
    "                    for i in range(len(n_zones)):\n",
    "                        for j in range(n_iter):\n",
    "                            conv_arr[((i * n_iter) + (len(n_zones) * n_iter * n_method)) + j] = gm_det(np.array(arr_total_present[i]), np.array(gm_det_cost[i]),\n",
    "                                                                                               gm_det_func=det_func, gm_det_beta=gm_det_beta,\n",
    "                                                                                               gm_type=gm_type, gm_iteration=j + 1)\n",
    "                            comp_df_method[((i * n_iter) + (len(n_zones) * n_iter * n_method)) + j] = 'Gravity Method (Deterrence) - Exponential Cost function'\n",
    "                            comp_df_zones[((i * n_iter) + (len(n_zones) * n_iter * n_method)) + j] = n_zones[i]\n",
    "                elif dist_func_arr[n_method] == 'GMDet' and det_func == 'Power':\n",
    "                    for i in range(len(n_zones)):\n",
    "                        for j in range(n_iter):\n",
    "                            conv_arr[((i * n_iter) + (len(n_zones) * n_iter * n_method)) + j] = gm_det(np.array(arr_total_present[i]), np.array(gm_det_cost[i]),\n",
    "                                                                                               gm_det_func=gm_det_func, gm_det_exp=gm_det_exp,\n",
    "                                                                                               gm_type=gm_type, gm_iteration=j + 1)\n",
    "                            comp_df_method[((i * n_iter) + (len(n_zones) * n_iter * n_method)) + j] = 'Gravity Method (Deterrence) - Power Cost function'\n",
    "                            comp_df_zones[((i * n_iter) + (len(n_zones) * n_iter * n_method)) + j] = n_zones[i]\n",
    "                elif dist_func_arr[n_method] == 'GMDet' and det_func == 'Combined':\n",
    "                    for i in range(len(n_zones)):\n",
    "                        for j in range(n_iter):\n",
    "                            conv_arr[((i * n_iter) + (len(n_zones) * n_iter * n_method)) + j] = gm_det(np.array(arr_total_present[i]), np.array(gm_det_cost[i]),\n",
    "                                                                                               gm_det_func=gm_det_func, gm_det_beta=gm_det_beta, gm_det_exp=gm_det_exp,\n",
    "                                                                                               gm_type=gm_type, gm_iteration=j + 1)\n",
    "                            comp_df_method[((i * n_iter) + (len(n_zones) * n_iter * n_method)) + j] = 'Gravity Method (Deterrence) - Combined Cost function'\n",
    "                            comp_df_zones[((i * n_iter) + (len(n_zones) * n_iter * n_method)) + j] = n_zones[i]\n",
    "\n",
    "        # elif dist_func_arr[n_method] == 'GMImp' and gm_type == 'GEN':\n",
    "        #     for i in range(len(n_zones)):\n",
    "        #         for j in range(n_iter):\n",
    "        #             conv_arr[((i * n_iter) + (len(n_zones) * n_iter * n_method)) + j] = gm_imp(np.array(arr_total_present[i]), np.array(gm_imp_dist[i]), gm_type=gm_type, gm_iteration=j + 1)\n",
    "        #             comp_df_method[((i * n_iter) + (len(n_zones) * n_iter * n_method)) + j] = 'Gravity Method (Impedance) - Generation constrained'\n",
    "        #             comp_df_zones[((i * n_iter) + (len(n_zones) * n_iter * n_method)) + j] = n_zones[i]\n",
    "        # elif dist_func_arr[n_method] == 'GMImp' and gm_type == 'ATT':\n",
    "        #     for i in range(len(n_zones)):\n",
    "        #         for j in range(n_iter):\n",
    "        #             conv_arr[((i * n_iter) + (len(n_zones) * n_iter * n_method)) + j] = gm_imp(np.array(arr_total_present[i]), np.array(gm_imp_dist[i]), gm_type=gm_type, gm_iteration=j + 1)\n",
    "        #             comp_df_method[((i * n_iter) + (len(n_zones) * n_iter * n_method)) + j] = 'Gravity Method (Impedance) - Attraction constrained'\n",
    "        #             comp_df_zones[((i * n_iter) + (len(n_zones) * n_iter * n_method)) + j] = n_zones[i]\n",
    "        # elif (gm_det_func != None):\n",
    "        #     for det_func in gm_det_func:\n",
    "        #         if dist_func_arr[n_method] == 'GMDet' and det_func == 'Exponential':\n",
    "        #             for i in range(len(n_zones)):\n",
    "        #                 for j in range(n_iter):\n",
    "        #                     conv_arr[((i * n_iter) + (len(n_zones) * n_iter * n_method)) + j] = gm_det(np.array(arr_total_present[i]), np.array(gm_det_cost[i]),\n",
    "        #                                                                                        gm_det_func=det_func, gm_det_beta=gm_det_beta,\n",
    "        #                                                                                        gm_type=gm_type, gm_iteration=j + 1)\n",
    "        #                     comp_df_method[((i * n_iter) + (len(n_zones) * n_iter * n_method)) + j] = 'Gravity Method (Deterrence) - Exponential Cost function'\n",
    "        #                     comp_df_zones[((i * n_iter) + (len(n_zones) * n_iter * n_method)) + j] = n_zones[i]\n",
    "        #         elif dist_func_arr[n_method] == 'GMDet' and det_func == 'Power':\n",
    "        #             for i in range(len(n_zones)):\n",
    "        #                 for j in range(n_iter):\n",
    "        #                     conv_arr[((i * n_iter) + (len(n_zones) * n_iter * n_method)) + j] = gm_det(np.array(arr_total_present[i]), np.array(gm_det_cost[i]),\n",
    "        #                                                                                        gm_det_func=gm_det_func, gm_det_exp=gm_det_exp,\n",
    "        #                                                                                        gm_type=gm_type, gm_iteration=j + 1)\n",
    "        #                     comp_df_method[((i * n_iter) + (len(n_zones) * n_iter * n_method)) + j] = 'Gravity Method (Deterrence) - Power Cost function'\n",
    "        #                     comp_df_zones[((i * n_iter) + (len(n_zones) * n_iter * n_method)) + j] = n_zones[i]\n",
    "        #         elif dist_func_arr[n_method] == 'GMDet' and det_func == 'Combined':\n",
    "        #             for i in range(len(n_zones)):\n",
    "        #                 for j in range(n_iter):\n",
    "        #                     conv_arr[((i * n_iter) + (len(n_zones) * n_iter * n_method)) + j] = gm_det(np.array(arr_total_present[i]), np.array(gm_det_cost[i]),\n",
    "        #                                                                                        gm_det_func=gm_det_func, gm_det_beta=gm_det_beta, gm_det_exp=gm_det_exp,\n",
    "        #                                                                                        gm_type=gm_type, gm_iteration=j + 1)\n",
    "        #                     comp_df_method[((i * n_iter) + (len(n_zones) * n_iter * n_method)) + j] = 'Gravity Method (Deterrence) - Combined Cost function'\n",
    "        #                     comp_df_zones[((i * n_iter) + (len(n_zones) * n_iter * n_method)) + j] = n_zones[i]\n",
    "\n",
    "\n",
    "        # elif dist_func_arr[n_method] == 'GMDet' and gm_det_func == 'Exponential':\n",
    "        #     for i in range(len(n_zones)):\n",
    "        #         for j in range(n_iter):\n",
    "        #             conv_arr[((i * n_iter) + (len(n_zones) * n_iter * n_method)) + j] = gm_det(np.array(arr_total_present[i]), np.array(gm_det_cost[i]),\n",
    "        #                                                                                        gm_det_func=gm_det_func, gm_det_beta=gm_det_beta,\n",
    "        #                                                                                        gm_type=gm_type, gm_iteration=j + 1)\n",
    "        #             comp_df_method[((i * n_iter) + (len(n_zones) * n_iter * n_method)) + j] = 'Gravity Method (Deterrence) - Exponential Cost function'\n",
    "        #             comp_df_zones[((i * n_iter) + (len(n_zones) * n_iter * n_method)) + j] = n_zones[i]\n",
    "        # elif dist_func_arr[n_method] == 'GMDet' and gm_det_func == 'Power':\n",
    "        #     for i in range(len(n_zones)):\n",
    "        #         for j in range(n_iter):\n",
    "        #             conv_arr[((i * n_iter) + (len(n_zones) * n_iter * n_method)) + j] = gm_det(np.array(arr_total_present[i]), np.array(gm_det_cost[i]),\n",
    "        #                                                                                        gm_det_func=gm_det_func, gm_det_exp=gm_det_exp,\n",
    "        #                                                                                        gm_type=gm_type, gm_iteration=j + 1)\n",
    "        #             comp_df_method[((i * n_iter) + (len(n_zones) * n_iter * n_method)) + j] = 'Gravity Method (Deterrence) - Power Cost function'\n",
    "        #             comp_df_zones[((i * n_iter) + (len(n_zones) * n_iter * n_method)) + j] = n_zones[i]\n",
    "        # elif dist_func_arr[n_method] == 'GMDet' and gm_det_func == 'Combined':\n",
    "        #     for i in range(len(n_zones)):\n",
    "        #         for j in range(n_iter):\n",
    "        #             conv_arr[((i * n_iter) + (len(n_zones) * n_iter * n_method)) + j] = gm_det(np.array(arr_total_present[i]), np.array(gm_det_cost[i]),\n",
    "        #                                                                                        gm_det_func=gm_det_func, gm_det_beta=gm_det_beta, gm_det_exp=gm_det_exp,\n",
    "        #                                                                                        gm_type=gm_type, gm_iteration=j + 1)\n",
    "        #             comp_df_method[((i * n_iter) + (len(n_zones) * n_iter * n_method)) + j] = 'Gravity Method (Deterrence) - Combined Cost function'\n",
    "        #             comp_df_zones[((i * n_iter) + (len(n_zones) * n_iter * n_method)) + j] = n_zones[i]\n",
    "        else:\n",
    "            pass\n",
    "    \n",
    "    comparison_df = pd.DataFrame({\n",
    "        'Method' : comp_df_method,\n",
    "        'Number of Zones' : comp_df_zones,\n",
    "        'Iteration' : comp_df_iter,\n",
    "        'Convergence' : conv_arr\n",
    "        }, \n",
    "        columns=['Method', 'Number of Zones', 'Iteration', 'Convergence'])\n",
    "    \n",
    "    fig = px.line(comparison_df, x='Iteration', y='Convergence', color='Method', \n",
    "                line_dash='Number of Zones', labels={'Convergence': 'Convergence (%)'},\n",
    "                title='Trip Distribution Method Convergence Comparison')\n",
    "    \n",
    "    fig.update_layout(\n",
    "    xaxis=dict(showgrid=False, showticklabels=True, linecolor='#53868B', linewidth=2, \n",
    "               ticks=\"outside\", tickfont=dict(family='Nirmala UI', size=12, color='#00008B')),\n",
    "    yaxis=dict(showgrid=False, showticklabels=True, linecolor=\"#53868B\", linewidth=2, \n",
    "               ticks='outside', tickfont=dict(family='Nirmala UI', size=12, color='#00008B')),\n",
    "    plot_bgcolor='#F7F7F7', paper_bgcolor= '#F7F7F7', legend_title_text='Method, Number of Zones',\n",
    "    yaxis_range=[0,25])\n",
    "    \n",
    "    # fig.show(renderer='png', height=700, width=1550)\n",
    "    return comparison_df"
   ]
  },
  {
   "cell_type": "code",
   "execution_count": 49,
   "metadata": {},
   "outputs": [
    {
     "name": "stderr",
     "output_type": "stream",
     "text": [
      "C:\\Users\\imgle\\AppData\\Local\\Temp\\ipykernel_18620\\818087734.py:52: RuntimeWarning:\n",
      "\n",
      "invalid value encountered in scalar divide\n",
      "\n"
     ]
    },
    {
     "ename": "IndexError",
     "evalue": "list index out of range",
     "output_type": "error",
     "traceback": [
      "\u001b[1;31m---------------------------------------------------------------------------\u001b[0m",
      "\u001b[1;31mIndexError\u001b[0m                                Traceback (most recent call last)",
      "Cell \u001b[1;32mIn[49], line 1\u001b[0m\n\u001b[1;32m----> 1\u001b[0m \u001b[43mconv_test\u001b[49m\u001b[43m(\u001b[49m\u001b[43mdist_func_arr\u001b[49m\u001b[38;5;241;43m=\u001b[39;49m\u001b[43m[\u001b[49m\u001b[38;5;124;43m'\u001b[39;49m\u001b[38;5;124;43mAFM\u001b[39;49m\u001b[38;5;124;43m'\u001b[39;49m\u001b[43m,\u001b[49m\u001b[43m \u001b[49m\u001b[38;5;124;43m'\u001b[39;49m\u001b[38;5;124;43mDM\u001b[39;49m\u001b[38;5;124;43m'\u001b[39;49m\u001b[43m,\u001b[49m\u001b[43m \u001b[49m\u001b[38;5;124;43m'\u001b[39;49m\u001b[38;5;124;43mFM\u001b[39;49m\u001b[38;5;124;43m'\u001b[39;49m\u001b[43m,\u001b[49m\u001b[43m \u001b[49m\u001b[38;5;124;43m'\u001b[39;49m\u001b[38;5;124;43mFurM\u001b[39;49m\u001b[38;5;124;43m'\u001b[39;49m\u001b[43m,\u001b[49m\u001b[43m \u001b[49m\u001b[38;5;124;43m'\u001b[39;49m\u001b[38;5;124;43mGMImp\u001b[39;49m\u001b[38;5;124;43m'\u001b[39;49m\u001b[43m,\u001b[49m\u001b[43m \u001b[49m\u001b[38;5;124;43m'\u001b[39;49m\u001b[38;5;124;43mGMDet\u001b[39;49m\u001b[38;5;124;43m'\u001b[39;49m\u001b[43m]\u001b[49m\u001b[43m,\u001b[49m\u001b[43m \u001b[49m\u001b[43mn_zones\u001b[49m\u001b[38;5;241;43m=\u001b[39;49m\u001b[43m[\u001b[49m\u001b[38;5;241;43m3\u001b[39;49m\u001b[43m,\u001b[49m\u001b[38;5;241;43m5\u001b[39;49m\u001b[43m,\u001b[49m\u001b[38;5;241;43m7\u001b[39;49m\u001b[43m]\u001b[49m\u001b[43m,\u001b[49m\u001b[43m \u001b[49m\u001b[43mtest_pre_mean\u001b[49m\u001b[38;5;241;43m=\u001b[39;49m\u001b[38;5;241;43m480\u001b[39;49m\u001b[43m,\u001b[49m\u001b[43m \u001b[49m\u001b[43mtest_pre_var\u001b[49m\u001b[38;5;241;43m=\u001b[39;49m\u001b[38;5;241;43m60\u001b[39;49m\u001b[43m,\u001b[49m\n\u001b[0;32m      2\u001b[0m \u001b[43m          \u001b[49m\u001b[43mfactor_fut_mean\u001b[49m\u001b[38;5;241;43m=\u001b[39;49m\u001b[38;5;241;43m0.6\u001b[39;49m\u001b[43m,\u001b[49m\u001b[43m \u001b[49m\u001b[43mfactor_fut_var\u001b[49m\u001b[38;5;241;43m=\u001b[39;49m\u001b[38;5;241;43m0.15\u001b[39;49m\u001b[43m,\u001b[49m\u001b[43m \u001b[49m\u001b[43mgm_imp_mean\u001b[49m\u001b[38;5;241;43m=\u001b[39;49m\u001b[38;5;241;43m5000\u001b[39;49m\u001b[43m,\u001b[49m\u001b[43m \u001b[49m\u001b[43mgm_imp_var\u001b[49m\u001b[38;5;241;43m=\u001b[39;49m\u001b[38;5;241;43m150\u001b[39;49m\u001b[43m,\u001b[49m\u001b[43m \u001b[49m\n\u001b[0;32m      3\u001b[0m \u001b[43m          \u001b[49m\u001b[43mgm_det_mean\u001b[49m\u001b[38;5;241;43m=\u001b[39;49m\u001b[38;5;241;43m5000\u001b[39;49m\u001b[43m,\u001b[49m\u001b[43m \u001b[49m\u001b[43mgm_det_var\u001b[49m\u001b[38;5;241;43m=\u001b[39;49m\u001b[38;5;241;43m150\u001b[39;49m\u001b[43m,\u001b[49m\u001b[43m \u001b[49m\u001b[43mgm_det_func\u001b[49m\u001b[38;5;241;43m=\u001b[39;49m\u001b[43m[\u001b[49m\u001b[38;5;124;43m'\u001b[39;49m\u001b[38;5;124;43mExponential\u001b[39;49m\u001b[38;5;124;43m'\u001b[39;49m\u001b[43m,\u001b[49m\u001b[43m \u001b[49m\u001b[38;5;124;43m'\u001b[39;49m\u001b[38;5;124;43mCombined\u001b[39;49m\u001b[38;5;124;43m'\u001b[39;49m\u001b[43m]\u001b[49m\u001b[43m,\u001b[49m\u001b[43m \u001b[49m\u001b[43mgm_det_beta\u001b[49m\u001b[38;5;241;43m=\u001b[39;49m\u001b[38;5;241;43m0.1\u001b[39;49m\u001b[43m,\u001b[49m\u001b[43m \u001b[49m\u001b[43mgm_det_exp\u001b[49m\u001b[38;5;241;43m=\u001b[39;49m\u001b[38;5;241;43m0.5\u001b[39;49m\u001b[43m,\u001b[49m\u001b[43m \u001b[49m\u001b[43mgm_type\u001b[49m\u001b[38;5;241;43m=\u001b[39;49m\u001b[43m[\u001b[49m\u001b[38;5;124;43m'\u001b[39;49m\u001b[38;5;124;43mGEN\u001b[39;49m\u001b[38;5;124;43m'\u001b[39;49m\u001b[43m,\u001b[49m\u001b[43m \u001b[49m\u001b[38;5;124;43m'\u001b[39;49m\u001b[38;5;124;43mATT\u001b[39;49m\u001b[38;5;124;43m'\u001b[39;49m\u001b[43m]\u001b[49m\u001b[43m,\u001b[49m\u001b[43m \u001b[49m\u001b[43mn_iter\u001b[49m\u001b[38;5;241;43m=\u001b[39;49m\u001b[38;5;241;43m20\u001b[39;49m\u001b[43m)\u001b[49m\n",
      "Cell \u001b[1;32mIn[48], line 181\u001b[0m, in \u001b[0;36mconv_test\u001b[1;34m(dist_func_arr, n_zones, test_pre_mean, test_pre_var, gm_type, n_iter, **kwargs)\u001b[0m\n\u001b[0;32m    179\u001b[0m comp_df_iter \u001b[38;5;241m=\u001b[39m np\u001b[38;5;241m.\u001b[39mtile(np\u001b[38;5;241m.\u001b[39marange(start\u001b[38;5;241m=\u001b[39m\u001b[38;5;241m1\u001b[39m, stop\u001b[38;5;241m=\u001b[39mn_iter \u001b[38;5;241m+\u001b[39m \u001b[38;5;241m1\u001b[39m, step\u001b[38;5;241m=\u001b[39m\u001b[38;5;241m1\u001b[39m), \u001b[38;5;28mlen\u001b[39m(dist_func_arr)\u001b[38;5;241m*\u001b[39m\u001b[38;5;28mlen\u001b[39m(n_zones) \u001b[38;5;241m*\u001b[39m \u001b[38;5;28mlen\u001b[39m(gm_type) \u001b[38;5;241m*\u001b[39m \u001b[38;5;28mlen\u001b[39m(gm_det_func))\n\u001b[0;32m    180\u001b[0m \u001b[38;5;28;01mfor\u001b[39;00m n_method \u001b[38;5;129;01min\u001b[39;00m \u001b[38;5;28mrange\u001b[39m(\u001b[38;5;28mlen\u001b[39m(dist_func_arr) \u001b[38;5;241m-\u001b[39m \u001b[38;5;241m2\u001b[39m \u001b[38;5;241m+\u001b[39m \u001b[38;5;28mlen\u001b[39m(gm_type) \u001b[38;5;241m+\u001b[39m \u001b[38;5;28mlen\u001b[39m(gm_det_func)):\n\u001b[1;32m--> 181\u001b[0m     \u001b[38;5;28;01mif\u001b[39;00m (\u001b[43mdist_func_arr\u001b[49m\u001b[43m[\u001b[49m\u001b[43mn_method\u001b[49m\u001b[43m]\u001b[49m \u001b[38;5;241m==\u001b[39m \u001b[38;5;124m'\u001b[39m\u001b[38;5;124mAFM\u001b[39m\u001b[38;5;124m'\u001b[39m) \u001b[38;5;129;01mand\u001b[39;00m n_method \u001b[38;5;241m<\u001b[39m \u001b[38;5;28mlen\u001b[39m(dist_func_arr):\n\u001b[0;32m    182\u001b[0m         \u001b[38;5;28;01mfor\u001b[39;00m i \u001b[38;5;129;01min\u001b[39;00m \u001b[38;5;28mrange\u001b[39m(\u001b[38;5;28mlen\u001b[39m(n_zones)):\n\u001b[0;32m    183\u001b[0m             \u001b[38;5;28;01mfor\u001b[39;00m j \u001b[38;5;129;01min\u001b[39;00m \u001b[38;5;28mrange\u001b[39m(n_iter):\n",
      "\u001b[1;31mIndexError\u001b[0m: list index out of range"
     ]
    }
   ],
   "source": [
    "conv_test(dist_func_arr=['AFM', 'DM', 'FM', 'FurM', 'GMImp', 'GMDet'], n_zones=[3,5,7], test_pre_mean=480, test_pre_var=60,\n",
    "          factor_fut_mean=0.6, factor_fut_var=0.15, gm_imp_mean=5000, gm_imp_var=150, \n",
    "          gm_det_mean=5000, gm_det_var=150, gm_det_func=['Exponential', 'Combined'], gm_det_beta=0.1, gm_det_exp=0.5, gm_type=['GEN', 'ATT'], n_iter=20)"
   ]
  }
 ],
 "metadata": {
  "kernelspec": {
   "display_name": "data_analysis_31013",
   "language": "python",
   "name": "python3"
  },
  "language_info": {
   "codemirror_mode": {
    "name": "ipython",
    "version": 3
   },
   "file_extension": ".py",
   "mimetype": "text/x-python",
   "name": "python",
   "nbconvert_exporter": "python",
   "pygments_lexer": "ipython3",
   "version": "3.10.13"
  }
 },
 "nbformat": 4,
 "nbformat_minor": 2
}
