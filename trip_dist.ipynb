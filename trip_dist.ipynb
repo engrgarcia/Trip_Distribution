{
 "cells": [
  {
   "cell_type": "markdown",
   "metadata": {},
   "source": [
    "# Introduction"
   ]
  },
  {
   "cell_type": "markdown",
   "metadata": {},
   "source": []
  },
  {
   "cell_type": "markdown",
   "metadata": {},
   "source": [
    "## 1. Importing Libraries"
   ]
  },
  {
   "cell_type": "code",
   "execution_count": 17,
   "metadata": {},
   "outputs": [],
   "source": [
    "# General\n",
    "import warnings\n",
    "import numpy as np\n",
    "import pandas as pd\n",
    "\n",
    "# Plotting\n",
    "import matplotlib.pyplot as plt\n",
    "from matplotlib.ticker import FuncFormatter\n",
    "import seaborn as sns\n",
    "import plotly.express as px\n",
    "import plotly.graph_objects as go\n",
    "import missingno as msno\n",
    "from plotly.subplots import make_subplots\n",
    "from plotly.offline import download_plotlyjs, plot, iplot\n",
    "from plotly.offline import init_notebook_mode\n",
    "import cufflinks as cf"
   ]
  },
  {
   "cell_type": "markdown",
   "metadata": {},
   "source": [
    "General set-up"
   ]
  },
  {
   "cell_type": "code",
   "execution_count": 18,
   "metadata": {},
   "outputs": [
    {
     "name": "stdout",
     "output_type": "stream",
     "text": [
      "The watermark extension is already loaded. To reload it, use:\n",
      "  %reload_ext watermark\n",
      "Last updated: 2024-08-24T08:30:52.598073+08:00\n",
      "\n",
      "Python implementation: CPython\n",
      "Python version       : 3.10.13\n",
      "IPython version      : 8.22.2\n",
      "\n",
      "conda environment: data_analysis_31013\n",
      "\n"
     ]
    },
    {
     "data": {
      "text/html": [
       "        <script type=\"text/javascript\">\n",
       "        window.PlotlyConfig = {MathJaxConfig: 'local'};\n",
       "        if (window.MathJax && window.MathJax.Hub && window.MathJax.Hub.Config) {window.MathJax.Hub.Config({SVG: {font: \"STIX-Web\"}});}\n",
       "        if (typeof require !== 'undefined') {\n",
       "        require.undef(\"plotly\");\n",
       "        requirejs.config({\n",
       "            paths: {\n",
       "                'plotly': ['https://cdn.plot.ly/plotly-2.31.1.min']\n",
       "            }\n",
       "        });\n",
       "        require(['plotly'], function(Plotly) {\n",
       "            window._Plotly = Plotly;\n",
       "        });\n",
       "        }\n",
       "        </script>\n",
       "        "
      ]
     },
     "metadata": {},
     "output_type": "display_data"
    },
    {
     "data": {
      "text/html": [
       "        <script type=\"text/javascript\">\n",
       "        window.PlotlyConfig = {MathJaxConfig: 'local'};\n",
       "        if (window.MathJax && window.MathJax.Hub && window.MathJax.Hub.Config) {window.MathJax.Hub.Config({SVG: {font: \"STIX-Web\"}});}\n",
       "        if (typeof require !== 'undefined') {\n",
       "        require.undef(\"plotly\");\n",
       "        requirejs.config({\n",
       "            paths: {\n",
       "                'plotly': ['https://cdn.plot.ly/plotly-2.31.1.min']\n",
       "            }\n",
       "        });\n",
       "        require(['plotly'], function(Plotly) {\n",
       "            window._Plotly = Plotly;\n",
       "        });\n",
       "        }\n",
       "        </script>\n",
       "        "
      ]
     },
     "metadata": {},
     "output_type": "display_data"
    }
   ],
   "source": [
    "%load_ext watermark\n",
    "%watermark -i -v -u -co\n",
    "init_notebook_mode(connected=True)\n",
    "%matplotlib inline\n",
    "# sns.set_style(\"white\")\n",
    "# plt.style.use(\"fast\")\n",
    "cf.go_offline()\n",
    "pd.set_option(\"display.max_columns\", None)\n",
    "pd.set_option(\"display.max_rows\", None)\n",
    "pd.set_option('display.float_format', '{:.4f}'.format)"
   ]
  },
  {
   "cell_type": "code",
   "execution_count": 19,
   "metadata": {},
   "outputs": [
    {
     "data": {
      "application/vnd.plotly.v1+json": {
       "config": {
        "plotlyServerURL": "https://plot.ly"
       },
       "data": [
        {
         "customdata": [
          0,
          1,
          2,
          3,
          4,
          5,
          6
         ],
         "hovertemplate": "%{y}[%{customdata}] = %{marker.color}<extra></extra>",
         "marker": {
          "color": [
           "rgb(237, 229, 207)",
           "rgb(224, 194, 162)",
           "rgb(211, 156, 131)",
           "rgb(193, 118, 111)",
           "rgb(166, 84, 97)",
           "rgb(129, 55, 83)",
           "rgb(84, 31, 63)"
          ]
         },
         "orientation": "h",
         "type": "bar",
         "x": [
          1,
          1,
          1,
          1,
          1,
          1,
          1
         ],
         "y": [
          "Brwnyl",
          "Brwnyl",
          "Brwnyl",
          "Brwnyl",
          "Brwnyl",
          "Brwnyl",
          "Brwnyl"
         ]
        },
        {
         "customdata": [
          0,
          1,
          2,
          3,
          4,
          5,
          6
         ],
         "hovertemplate": "%{y}[%{customdata}] = %{marker.color}<extra></extra>",
         "marker": {
          "color": [
           "rgb(75, 41, 145)",
           "rgb(135, 44, 162)",
           "rgb(192, 54, 157)",
           "rgb(234, 79, 136)",
           "rgb(250, 120, 118)",
           "rgb(246, 169, 122)",
           "rgb(237, 217, 163)"
          ]
         },
         "orientation": "h",
         "type": "bar",
         "x": [
          1,
          1,
          1,
          1,
          1,
          1,
          1
         ],
         "y": [
          "Agsunset",
          "Agsunset",
          "Agsunset",
          "Agsunset",
          "Agsunset",
          "Agsunset",
          "Agsunset"
         ]
        },
        {
         "customdata": [
          0,
          1,
          2,
          3,
          4,
          5,
          6
         ],
         "hovertemplate": "%{y}[%{customdata}] = %{marker.color}<extra></extra>",
         "marker": {
          "color": [
           "rgb(252, 222, 156)",
           "rgb(250, 164, 118)",
           "rgb(240, 116, 110)",
           "rgb(227, 79, 111)",
           "rgb(220, 57, 119)",
           "rgb(185, 37, 122)",
           "rgb(124, 29, 111)"
          ]
         },
         "orientation": "h",
         "type": "bar",
         "x": [
          1,
          1,
          1,
          1,
          1,
          1,
          1
         ],
         "y": [
          "Sunsetdark",
          "Sunsetdark",
          "Sunsetdark",
          "Sunsetdark",
          "Sunsetdark",
          "Sunsetdark",
          "Sunsetdark"
         ]
        },
        {
         "customdata": [
          0,
          1,
          2,
          3,
          4,
          5,
          6
         ],
         "hovertemplate": "%{y}[%{customdata}] = %{marker.color}<extra></extra>",
         "marker": {
          "color": [
           "rgb(243, 203, 211)",
           "rgb(234, 169, 189)",
           "rgb(221, 136, 172)",
           "rgb(202, 105, 157)",
           "rgb(177, 77, 142)",
           "rgb(145, 53, 125)",
           "rgb(108, 33, 103)"
          ]
         },
         "orientation": "h",
         "type": "bar",
         "x": [
          1,
          1,
          1,
          1,
          1,
          1,
          1
         ],
         "y": [
          "Magenta",
          "Magenta",
          "Magenta",
          "Magenta",
          "Magenta",
          "Magenta",
          "Magenta"
         ]
        },
        {
         "customdata": [
          0,
          1,
          2,
          3,
          4,
          5,
          6
         ],
         "hovertemplate": "%{y}[%{customdata}] = %{marker.color}<extra></extra>",
         "marker": {
          "color": [
           "rgb(243, 231, 155)",
           "rgb(250, 196, 132)",
           "rgb(248, 160, 126)",
           "rgb(235, 127, 134)",
           "rgb(206, 102, 147)",
           "rgb(160, 89, 160)",
           "rgb(92, 83, 165)"
          ]
         },
         "orientation": "h",
         "type": "bar",
         "x": [
          1,
          1,
          1,
          1,
          1,
          1,
          1
         ],
         "y": [
          "Sunset",
          "Sunset",
          "Sunset",
          "Sunset",
          "Sunset",
          "Sunset",
          "Sunset"
         ]
        },
        {
         "customdata": [
          0,
          1,
          2,
          3,
          4,
          5,
          6
         ],
         "hovertemplate": "%{y}[%{customdata}] = %{marker.color}<extra></extra>",
         "marker": {
          "color": [
           "rgb(249, 221, 218)",
           "rgb(242, 185, 196)",
           "rgb(229, 151, 185)",
           "rgb(206, 120, 179)",
           "rgb(173, 95, 173)",
           "rgb(131, 75, 160)",
           "rgb(87, 59, 136)"
          ]
         },
         "orientation": "h",
         "type": "bar",
         "x": [
          1,
          1,
          1,
          1,
          1,
          1,
          1
         ],
         "y": [
          "Purpor",
          "Purpor",
          "Purpor",
          "Purpor",
          "Purpor",
          "Purpor",
          "Purpor"
         ]
        },
        {
         "customdata": [
          0,
          1,
          2,
          3,
          4,
          5,
          6
         ],
         "hovertemplate": "%{y}[%{customdata}] = %{marker.color}<extra></extra>",
         "marker": {
          "color": [
           "rgb(243, 224, 247)",
           "rgb(228, 199, 241)",
           "rgb(209, 175, 232)",
           "rgb(185, 152, 221)",
           "rgb(159, 130, 206)",
           "rgb(130, 109, 186)",
           "rgb(99, 88, 159)"
          ]
         },
         "orientation": "h",
         "type": "bar",
         "x": [
          1,
          1,
          1,
          1,
          1,
          1,
          1
         ],
         "y": [
          "Purp",
          "Purp",
          "Purp",
          "Purp",
          "Purp",
          "Purp",
          "Purp"
         ]
        },
        {
         "customdata": [
          0,
          1,
          2,
          3,
          4,
          5,
          6
         ],
         "hovertemplate": "%{y}[%{customdata}] = %{marker.color}<extra></extra>",
         "marker": {
          "color": [
           "rgb(176, 242, 188)",
           "rgb(137, 232, 172)",
           "rgb(103, 219, 165)",
           "rgb(76, 200, 163)",
           "rgb(56, 178, 163)",
           "rgb(44, 152, 160)",
           "rgb(37, 125, 152)"
          ]
         },
         "orientation": "h",
         "type": "bar",
         "x": [
          1,
          1,
          1,
          1,
          1,
          1,
          1
         ],
         "y": [
          "Tealgrn",
          "Tealgrn",
          "Tealgrn",
          "Tealgrn",
          "Tealgrn",
          "Tealgrn",
          "Tealgrn"
         ]
        },
        {
         "customdata": [
          0,
          1,
          2,
          3,
          4,
          5,
          6
         ],
         "hovertemplate": "%{y}[%{customdata}] = %{marker.color}<extra></extra>",
         "marker": {
          "color": [
           "rgb(209, 238, 234)",
           "rgb(168, 219, 217)",
           "rgb(133, 196, 201)",
           "rgb(104, 171, 184)",
           "rgb(79, 144, 166)",
           "rgb(59, 115, 143)",
           "rgb(42, 86, 116)"
          ]
         },
         "orientation": "h",
         "type": "bar",
         "x": [
          1,
          1,
          1,
          1,
          1,
          1,
          1
         ],
         "y": [
          "Teal",
          "Teal",
          "Teal",
          "Teal",
          "Teal",
          "Teal",
          "Teal"
         ]
        },
        {
         "customdata": [
          0,
          1,
          2,
          3,
          4,
          5,
          6
         ],
         "hovertemplate": "%{y}[%{customdata}] = %{marker.color}<extra></extra>",
         "marker": {
          "color": [
           "rgb(247, 254, 174)",
           "rgb(183, 230, 165)",
           "rgb(124, 203, 162)",
           "rgb(70, 174, 160)",
           "rgb(8, 144, 153)",
           "rgb(0, 113, 139)",
           "rgb(4, 82, 117)"
          ]
         },
         "orientation": "h",
         "type": "bar",
         "x": [
          1,
          1,
          1,
          1,
          1,
          1,
          1
         ],
         "y": [
          "Bluyl",
          "Bluyl",
          "Bluyl",
          "Bluyl",
          "Bluyl",
          "Bluyl",
          "Bluyl"
         ]
        },
        {
         "customdata": [
          0,
          1,
          2,
          3,
          4,
          5,
          6
         ],
         "hovertemplate": "%{y}[%{customdata}] = %{marker.color}<extra></extra>",
         "marker": {
          "color": [
           "rgb(36, 86, 104)",
           "rgb(15, 114, 121)",
           "rgb(13, 143, 129)",
           "rgb(57, 171, 126)",
           "rgb(110, 197, 116)",
           "rgb(169, 220, 103)",
           "rgb(237, 239, 93)"
          ]
         },
         "orientation": "h",
         "type": "bar",
         "x": [
          1,
          1,
          1,
          1,
          1,
          1,
          1
         ],
         "y": [
          "Aggrnyl",
          "Aggrnyl",
          "Aggrnyl",
          "Aggrnyl",
          "Aggrnyl",
          "Aggrnyl",
          "Aggrnyl"
         ]
        },
        {
         "customdata": [
          0,
          1,
          2,
          3,
          4,
          5,
          6
         ],
         "hovertemplate": "%{y}[%{customdata}] = %{marker.color}<extra></extra>",
         "marker": {
          "color": [
           "rgb(211, 242, 163)",
           "rgb(151, 225, 150)",
           "rgb(108, 192, 139)",
           "rgb(76, 155, 130)",
           "rgb(33, 122, 121)",
           "rgb(16, 89, 101)",
           "rgb(7, 64, 80)"
          ]
         },
         "orientation": "h",
         "type": "bar",
         "x": [
          1,
          1,
          1,
          1,
          1,
          1,
          1
         ],
         "y": [
          "Emrld",
          "Emrld",
          "Emrld",
          "Emrld",
          "Emrld",
          "Emrld",
          "Emrld"
         ]
        },
        {
         "customdata": [
          0,
          1,
          2,
          3,
          4,
          5,
          6
         ],
         "hovertemplate": "%{y}[%{customdata}] = %{marker.color}<extra></extra>",
         "marker": {
          "color": [
           "rgb(210, 251, 212)",
           "rgb(165, 219, 194)",
           "rgb(123, 188, 176)",
           "rgb(85, 156, 158)",
           "rgb(58, 124, 137)",
           "rgb(35, 93, 114)",
           "rgb(18, 63, 90)"
          ]
         },
         "orientation": "h",
         "type": "bar",
         "x": [
          1,
          1,
          1,
          1,
          1,
          1,
          1
         ],
         "y": [
          "Darkmint",
          "Darkmint",
          "Darkmint",
          "Darkmint",
          "Darkmint",
          "Darkmint",
          "Darkmint"
         ]
        },
        {
         "customdata": [
          0,
          1,
          2,
          3,
          4,
          5,
          6
         ],
         "hovertemplate": "%{y}[%{customdata}] = %{marker.color}<extra></extra>",
         "marker": {
          "color": [
           "rgb(196, 230, 195)",
           "rgb(150, 210, 164)",
           "rgb(109, 188, 144)",
           "rgb(77, 162, 132)",
           "rgb(54, 135, 122)",
           "rgb(38, 107, 110)",
           "rgb(29, 79, 96)"
          ]
         },
         "orientation": "h",
         "type": "bar",
         "x": [
          1,
          1,
          1,
          1,
          1,
          1,
          1
         ],
         "y": [
          "Blugrn",
          "Blugrn",
          "Blugrn",
          "Blugrn",
          "Blugrn",
          "Blugrn",
          "Blugrn"
         ]
        },
        {
         "customdata": [
          0,
          1,
          2,
          3,
          4,
          5,
          6
         ],
         "hovertemplate": "%{y}[%{customdata}] = %{marker.color}<extra></extra>",
         "marker": {
          "color": [
           "rgb(228, 241, 225)",
           "rgb(180, 217, 204)",
           "rgb(137, 192, 182)",
           "rgb(99, 166, 160)",
           "rgb(68, 140, 138)",
           "rgb(40, 114, 116)",
           "rgb(13, 88, 95)"
          ]
         },
         "orientation": "h",
         "type": "bar",
         "x": [
          1,
          1,
          1,
          1,
          1,
          1,
          1
         ],
         "y": [
          "Mint",
          "Mint",
          "Mint",
          "Mint",
          "Mint",
          "Mint",
          "Mint"
         ]
        },
        {
         "customdata": [
          0,
          1,
          2,
          3,
          4,
          5,
          6
         ],
         "hovertemplate": "%{y}[%{customdata}] = %{marker.color}<extra></extra>",
         "marker": {
          "color": [
           "rgb(254, 246, 181)",
           "rgb(255, 221, 154)",
           "rgb(255, 194, 133)",
           "rgb(255, 166, 121)",
           "rgb(250, 138, 118)",
           "rgb(241, 109, 122)",
           "rgb(225, 83, 131)"
          ]
         },
         "orientation": "h",
         "type": "bar",
         "x": [
          1,
          1,
          1,
          1,
          1,
          1,
          1
         ],
         "y": [
          "Pinkyl",
          "Pinkyl",
          "Pinkyl",
          "Pinkyl",
          "Pinkyl",
          "Pinkyl",
          "Pinkyl"
         ]
        },
        {
         "customdata": [
          0,
          1,
          2,
          3,
          4,
          5,
          6
         ],
         "hovertemplate": "%{y}[%{customdata}] = %{marker.color}<extra></extra>",
         "marker": {
          "color": [
           "rgb(253, 224, 197)",
           "rgb(250, 203, 166)",
           "rgb(248, 181, 139)",
           "rgb(245, 158, 114)",
           "rgb(242, 133, 93)",
           "rgb(239, 106, 76)",
           "rgb(235, 74, 64)"
          ]
         },
         "orientation": "h",
         "type": "bar",
         "x": [
          1,
          1,
          1,
          1,
          1,
          1,
          1
         ],
         "y": [
          "Peach",
          "Peach",
          "Peach",
          "Peach",
          "Peach",
          "Peach",
          "Peach"
         ]
        },
        {
         "customdata": [
          0,
          1,
          2,
          3,
          4,
          5,
          6
         ],
         "hovertemplate": "%{y}[%{customdata}] = %{marker.color}<extra></extra>",
         "marker": {
          "color": [
           "rgb(236, 218, 154)",
           "rgb(239, 196, 126)",
           "rgb(243, 173, 106)",
           "rgb(247, 148, 93)",
           "rgb(249, 123, 87)",
           "rgb(246, 99, 86)",
           "rgb(238, 77, 90)"
          ]
         },
         "orientation": "h",
         "type": "bar",
         "x": [
          1,
          1,
          1,
          1,
          1,
          1,
          1
         ],
         "y": [
          "Oryel",
          "Oryel",
          "Oryel",
          "Oryel",
          "Oryel",
          "Oryel",
          "Oryel"
         ]
        },
        {
         "customdata": [
          0,
          1,
          2,
          3,
          4,
          5,
          6
         ],
         "hovertemplate": "%{y}[%{customdata}] = %{marker.color}<extra></extra>",
         "marker": {
          "color": [
           "rgb(246, 210, 169)",
           "rgb(245, 183, 142)",
           "rgb(241, 156, 124)",
           "rgb(234, 129, 113)",
           "rgb(221, 104, 108)",
           "rgb(202, 82, 104)",
           "rgb(177, 63, 100)"
          ]
         },
         "orientation": "h",
         "type": "bar",
         "x": [
          1,
          1,
          1,
          1,
          1,
          1,
          1
         ],
         "y": [
          "Redor",
          "Redor",
          "Redor",
          "Redor",
          "Redor",
          "Redor",
          "Redor"
         ]
        },
        {
         "customdata": [
          0,
          1,
          2,
          3,
          4,
          5,
          6
         ],
         "hovertemplate": "%{y}[%{customdata}] = %{marker.color}<extra></extra>",
         "marker": {
          "color": [
           "rgb(251, 230, 197)",
           "rgb(245, 186, 152)",
           "rgb(238, 138, 130)",
           "rgb(220, 113, 118)",
           "rgb(200, 88, 108)",
           "rgb(156, 63, 93)",
           "rgb(112, 40, 74)"
          ]
         },
         "orientation": "h",
         "type": "bar",
         "x": [
          1,
          1,
          1,
          1,
          1,
          1,
          1
         ],
         "y": [
          "Burgyl",
          "Burgyl",
          "Burgyl",
          "Burgyl",
          "Burgyl",
          "Burgyl",
          "Burgyl"
         ]
        },
        {
         "customdata": [
          0,
          1,
          2,
          3,
          4,
          5,
          6
         ],
         "hovertemplate": "%{y}[%{customdata}] = %{marker.color}<extra></extra>",
         "marker": {
          "color": [
           "rgb(255, 198, 196)",
           "rgb(244, 163, 168)",
           "rgb(227, 129, 145)",
           "rgb(204, 96, 125)",
           "rgb(173, 70, 108)",
           "rgb(139, 48, 88)",
           "rgb(103, 32, 68)"
          ]
         },
         "orientation": "h",
         "type": "bar",
         "x": [
          1,
          1,
          1,
          1,
          1,
          1,
          1
         ],
         "y": [
          "Burg",
          "Burg",
          "Burg",
          "Burg",
          "Burg",
          "Burg",
          "Burg"
         ]
        },
        {
         "customdata": [
          0,
          1,
          2,
          3,
          4,
          5,
          6,
          7,
          8,
          9,
          10,
          11
         ],
         "hovertemplate": "%{y}[%{customdata}] = %{marker.color}<extra></extra>",
         "marker": {
          "color": [
           "rgb(254, 245, 244)",
           "rgb(222, 224, 210)",
           "rgb(189, 206, 181)",
           "rgb(153, 189, 156)",
           "rgb(110, 173, 138)",
           "rgb(65, 157, 129)",
           "rgb(25, 137, 125)",
           "rgb(18, 116, 117)",
           "rgb(25, 94, 106)",
           "rgb(28, 72, 93)",
           "rgb(25, 51, 80)",
           "rgb(20, 29, 67)"
          ]
         },
         "orientation": "h",
         "type": "bar",
         "x": [
          1,
          1,
          1,
          1,
          1,
          1,
          1,
          1,
          1,
          1,
          1,
          1
         ],
         "y": [
          "tempo",
          "tempo",
          "tempo",
          "tempo",
          "tempo",
          "tempo",
          "tempo",
          "tempo",
          "tempo",
          "tempo",
          "tempo",
          "tempo"
         ]
        },
        {
         "customdata": [
          0,
          1,
          2,
          3,
          4,
          5,
          6,
          7,
          8,
          9,
          10,
          11
         ],
         "hovertemplate": "%{y}[%{customdata}] = %{marker.color}<extra></extra>",
         "marker": {
          "color": [
           "rgb(241, 236, 236)",
           "rgb(230, 209, 203)",
           "rgb(221, 182, 170)",
           "rgb(213, 156, 137)",
           "rgb(205, 129, 103)",
           "rgb(196, 102, 73)",
           "rgb(186, 74, 47)",
           "rgb(172, 44, 36)",
           "rgb(149, 19, 39)",
           "rgb(120, 14, 40)",
           "rgb(89, 13, 31)",
           "rgb(60, 9, 17)"
          ]
         },
         "orientation": "h",
         "type": "bar",
         "x": [
          1,
          1,
          1,
          1,
          1,
          1,
          1,
          1,
          1,
          1,
          1,
          1
         ],
         "y": [
          "amp",
          "amp",
          "amp",
          "amp",
          "amp",
          "amp",
          "amp",
          "amp",
          "amp",
          "amp",
          "amp",
          "amp"
         ]
        },
        {
         "customdata": [
          0,
          1,
          2,
          3,
          4,
          5,
          6,
          7,
          8,
          9,
          10,
          11
         ],
         "hovertemplate": "%{y}[%{customdata}] = %{marker.color}<extra></extra>",
         "marker": {
          "color": [
           "rgb(254, 252, 205)",
           "rgb(239, 225, 156)",
           "rgb(221, 201, 106)",
           "rgb(194, 182, 59)",
           "rgb(157, 167, 21)",
           "rgb(116, 153, 5)",
           "rgb(75, 138, 20)",
           "rgb(35, 121, 36)",
           "rgb(11, 100, 44)",
           "rgb(18, 78, 43)",
           "rgb(25, 56, 34)",
           "rgb(23, 35, 18)"
          ]
         },
         "orientation": "h",
         "type": "bar",
         "x": [
          1,
          1,
          1,
          1,
          1,
          1,
          1,
          1,
          1,
          1,
          1,
          1
         ],
         "y": [
          "speed",
          "speed",
          "speed",
          "speed",
          "speed",
          "speed",
          "speed",
          "speed",
          "speed",
          "speed",
          "speed",
          "speed"
         ]
        },
        {
         "customdata": [
          0,
          1,
          2,
          3,
          4,
          5,
          6,
          7,
          8,
          9,
          10,
          11
         ],
         "hovertemplate": "%{y}[%{customdata}] = %{marker.color}<extra></extra>",
         "marker": {
          "color": [
           "rgb(253, 237, 176)",
           "rgb(250, 205, 145)",
           "rgb(246, 173, 119)",
           "rgb(240, 142, 98)",
           "rgb(231, 109, 84)",
           "rgb(216, 80, 83)",
           "rgb(195, 56, 90)",
           "rgb(168, 40, 96)",
           "rgb(138, 29, 99)",
           "rgb(107, 24, 93)",
           "rgb(76, 21, 80)",
           "rgb(47, 15, 61)"
          ]
         },
         "orientation": "h",
         "type": "bar",
         "x": [
          1,
          1,
          1,
          1,
          1,
          1,
          1,
          1,
          1,
          1,
          1,
          1
         ],
         "y": [
          "matter",
          "matter",
          "matter",
          "matter",
          "matter",
          "matter",
          "matter",
          "matter",
          "matter",
          "matter",
          "matter",
          "matter"
         ]
        },
        {
         "customdata": [
          0,
          1,
          2,
          3,
          4,
          5,
          6,
          7,
          8,
          9,
          10,
          11
         ],
         "hovertemplate": "%{y}[%{customdata}] = %{marker.color}<extra></extra>",
         "marker": {
          "color": [
           "rgb(214, 249, 207)",
           "rgb(186, 228, 174)",
           "rgb(156, 209, 143)",
           "rgb(124, 191, 115)",
           "rgb(85, 174, 91)",
           "rgb(37, 157, 81)",
           "rgb(7, 138, 78)",
           "rgb(13, 117, 71)",
           "rgb(23, 95, 61)",
           "rgb(25, 75, 49)",
           "rgb(23, 55, 35)",
           "rgb(17, 36, 20)"
          ]
         },
         "orientation": "h",
         "type": "bar",
         "x": [
          1,
          1,
          1,
          1,
          1,
          1,
          1,
          1,
          1,
          1,
          1,
          1
         ],
         "y": [
          "algae",
          "algae",
          "algae",
          "algae",
          "algae",
          "algae",
          "algae",
          "algae",
          "algae",
          "algae",
          "algae",
          "algae"
         ]
        },
        {
         "customdata": [
          0,
          1,
          2,
          3,
          4,
          5,
          6,
          7,
          8,
          9,
          10,
          11
         ],
         "hovertemplate": "%{y}[%{customdata}] = %{marker.color}<extra></extra>",
         "marker": {
          "color": [
           "rgb(230, 240, 240)",
           "rgb(191, 221, 229)",
           "rgb(156, 201, 226)",
           "rgb(129, 180, 227)",
           "rgb(115, 154, 228)",
           "rgb(117, 127, 221)",
           "rgb(120, 100, 202)",
           "rgb(119, 74, 175)",
           "rgb(113, 50, 141)",
           "rgb(100, 31, 104)",
           "rgb(80, 20, 66)",
           "rgb(54, 14, 36)"
          ]
         },
         "orientation": "h",
         "type": "bar",
         "x": [
          1,
          1,
          1,
          1,
          1,
          1,
          1,
          1,
          1,
          1,
          1,
          1
         ],
         "y": [
          "dense",
          "dense",
          "dense",
          "dense",
          "dense",
          "dense",
          "dense",
          "dense",
          "dense",
          "dense",
          "dense",
          "dense"
         ]
        },
        {
         "customdata": [
          0,
          1,
          2,
          3,
          4,
          5,
          6,
          7,
          8,
          9,
          10,
          11
         ],
         "hovertemplate": "%{y}[%{customdata}] = %{marker.color}<extra></extra>",
         "marker": {
          "color": [
           "rgb(253, 253, 204)",
           "rgb(206, 236, 179)",
           "rgb(156, 219, 165)",
           "rgb(111, 201, 163)",
           "rgb(86, 177, 163)",
           "rgb(76, 153, 160)",
           "rgb(68, 130, 155)",
           "rgb(62, 108, 150)",
           "rgb(62, 82, 143)",
           "rgb(64, 60, 115)",
           "rgb(54, 43, 77)",
           "rgb(39, 26, 44)"
          ]
         },
         "orientation": "h",
         "type": "bar",
         "x": [
          1,
          1,
          1,
          1,
          1,
          1,
          1,
          1,
          1,
          1,
          1,
          1
         ],
         "y": [
          "deep",
          "deep",
          "deep",
          "deep",
          "deep",
          "deep",
          "deep",
          "deep",
          "deep",
          "deep",
          "deep",
          "deep"
         ]
        },
        {
         "customdata": [
          0,
          1,
          2,
          3,
          4,
          5,
          6,
          7,
          8,
          9,
          10,
          11
         ],
         "hovertemplate": "%{y}[%{customdata}] = %{marker.color}<extra></extra>",
         "marker": {
          "color": [
           "rgb(0, 0, 0)",
           "rgb(16, 16, 16)",
           "rgb(38, 38, 38)",
           "rgb(59, 59, 59)",
           "rgb(81, 80, 80)",
           "rgb(102, 101, 101)",
           "rgb(124, 123, 122)",
           "rgb(146, 146, 145)",
           "rgb(171, 171, 170)",
           "rgb(197, 197, 195)",
           "rgb(224, 224, 223)",
           "rgb(254, 254, 253)"
          ]
         },
         "orientation": "h",
         "type": "bar",
         "x": [
          1,
          1,
          1,
          1,
          1,
          1,
          1,
          1,
          1,
          1,
          1,
          1
         ],
         "y": [
          "gray",
          "gray",
          "gray",
          "gray",
          "gray",
          "gray",
          "gray",
          "gray",
          "gray",
          "gray",
          "gray",
          "gray"
         ]
        },
        {
         "customdata": [
          0,
          1,
          2,
          3,
          4,
          5,
          6,
          7,
          8,
          9,
          10,
          11
         ],
         "hovertemplate": "%{y}[%{customdata}] = %{marker.color}<extra></extra>",
         "marker": {
          "color": [
           "rgb(3, 5, 18)",
           "rgb(25, 25, 51)",
           "rgb(44, 42, 87)",
           "rgb(58, 60, 125)",
           "rgb(62, 83, 160)",
           "rgb(62, 109, 178)",
           "rgb(72, 134, 187)",
           "rgb(89, 159, 196)",
           "rgb(114, 184, 205)",
           "rgb(149, 207, 216)",
           "rgb(192, 229, 232)",
           "rgb(234, 252, 253)"
          ]
         },
         "orientation": "h",
         "type": "bar",
         "x": [
          1,
          1,
          1,
          1,
          1,
          1,
          1,
          1,
          1,
          1,
          1,
          1
         ],
         "y": [
          "ice",
          "ice",
          "ice",
          "ice",
          "ice",
          "ice",
          "ice",
          "ice",
          "ice",
          "ice",
          "ice",
          "ice"
         ]
        },
        {
         "customdata": [
          0,
          1,
          2,
          3,
          4,
          5,
          6,
          7,
          8,
          9,
          10,
          11
         ],
         "hovertemplate": "%{y}[%{customdata}] = %{marker.color}<extra></extra>",
         "marker": {
          "color": [
           "rgb(51, 19, 23)",
           "rgb(79, 28, 33)",
           "rgb(108, 36, 36)",
           "rgb(135, 47, 32)",
           "rgb(157, 66, 25)",
           "rgb(174, 88, 20)",
           "rgb(188, 111, 19)",
           "rgb(199, 137, 22)",
           "rgb(209, 164, 32)",
           "rgb(217, 192, 44)",
           "rgb(222, 222, 59)",
           "rgb(224, 253, 74)"
          ]
         },
         "orientation": "h",
         "type": "bar",
         "x": [
          1,
          1,
          1,
          1,
          1,
          1,
          1,
          1,
          1,
          1,
          1,
          1
         ],
         "y": [
          "solar",
          "solar",
          "solar",
          "solar",
          "solar",
          "solar",
          "solar",
          "solar",
          "solar",
          "solar",
          "solar",
          "solar"
         ]
        },
        {
         "customdata": [
          0,
          1,
          2,
          3,
          4,
          5,
          6,
          7,
          8,
          9,
          10,
          11
         ],
         "hovertemplate": "%{y}[%{customdata}] = %{marker.color}<extra></extra>",
         "marker": {
          "color": [
           "rgb(41, 24, 107)",
           "rgb(42, 35, 160)",
           "rgb(15, 71, 153)",
           "rgb(18, 95, 142)",
           "rgb(38, 116, 137)",
           "rgb(53, 136, 136)",
           "rgb(65, 157, 133)",
           "rgb(81, 178, 124)",
           "rgb(111, 198, 107)",
           "rgb(160, 214, 91)",
           "rgb(212, 225, 112)",
           "rgb(253, 238, 153)"
          ]
         },
         "orientation": "h",
         "type": "bar",
         "x": [
          1,
          1,
          1,
          1,
          1,
          1,
          1,
          1,
          1,
          1,
          1,
          1
         ],
         "y": [
          "haline",
          "haline",
          "haline",
          "haline",
          "haline",
          "haline",
          "haline",
          "haline",
          "haline",
          "haline",
          "haline",
          "haline"
         ]
        },
        {
         "customdata": [
          0,
          1,
          2,
          3,
          4,
          5,
          6,
          7,
          8,
          9,
          10,
          11
         ],
         "hovertemplate": "%{y}[%{customdata}] = %{marker.color}<extra></extra>",
         "marker": {
          "color": [
           "rgb(3, 35, 51)",
           "rgb(13, 48, 100)",
           "rgb(53, 50, 155)",
           "rgb(93, 62, 153)",
           "rgb(126, 77, 143)",
           "rgb(158, 89, 135)",
           "rgb(193, 100, 121)",
           "rgb(225, 113, 97)",
           "rgb(246, 139, 69)",
           "rgb(251, 173, 60)",
           "rgb(246, 211, 70)",
           "rgb(231, 250, 90)"
          ]
         },
         "orientation": "h",
         "type": "bar",
         "x": [
          1,
          1,
          1,
          1,
          1,
          1,
          1,
          1,
          1,
          1,
          1,
          1
         ],
         "y": [
          "thermal",
          "thermal",
          "thermal",
          "thermal",
          "thermal",
          "thermal",
          "thermal",
          "thermal",
          "thermal",
          "thermal",
          "thermal",
          "thermal"
         ]
        },
        {
         "customdata": [
          0,
          1,
          2,
          3,
          4,
          5,
          6,
          7,
          8,
          9,
          10,
          11
         ],
         "hovertemplate": "%{y}[%{customdata}] = %{marker.color}<extra></extra>",
         "marker": {
          "color": [
           "rgb(232, 245, 171)",
           "rgb(220, 219, 137)",
           "rgb(209, 193, 107)",
           "rgb(199, 168, 83)",
           "rgb(186, 143, 66)",
           "rgb(170, 121, 60)",
           "rgb(151, 103, 58)",
           "rgb(129, 87, 56)",
           "rgb(104, 72, 53)",
           "rgb(80, 59, 46)",
           "rgb(57, 45, 37)",
           "rgb(34, 30, 27)"
          ]
         },
         "orientation": "h",
         "type": "bar",
         "x": [
          1,
          1,
          1,
          1,
          1,
          1,
          1,
          1,
          1,
          1,
          1,
          1
         ],
         "y": [
          "turbid",
          "turbid",
          "turbid",
          "turbid",
          "turbid",
          "turbid",
          "turbid",
          "turbid",
          "turbid",
          "turbid",
          "turbid",
          "turbid"
         ]
        },
        {
         "customdata": [
          0,
          1,
          2,
          3,
          4,
          5,
          6,
          7,
          8
         ],
         "hovertemplate": "%{y}[%{customdata}] = %{marker.color}<extra></extra>",
         "marker": {
          "color": [
           "rgb(255,255,204)",
           "rgb(255,237,160)",
           "rgb(254,217,118)",
           "rgb(254,178,76)",
           "rgb(253,141,60)",
           "rgb(252,78,42)",
           "rgb(227,26,28)",
           "rgb(189,0,38)",
           "rgb(128,0,38)"
          ]
         },
         "orientation": "h",
         "type": "bar",
         "x": [
          1,
          1,
          1,
          1,
          1,
          1,
          1,
          1,
          1
         ],
         "y": [
          "YlOrRd",
          "YlOrRd",
          "YlOrRd",
          "YlOrRd",
          "YlOrRd",
          "YlOrRd",
          "YlOrRd",
          "YlOrRd",
          "YlOrRd"
         ]
        },
        {
         "customdata": [
          0,
          1,
          2,
          3,
          4,
          5,
          6,
          7,
          8
         ],
         "hovertemplate": "%{y}[%{customdata}] = %{marker.color}<extra></extra>",
         "marker": {
          "color": [
           "rgb(255,255,229)",
           "rgb(255,247,188)",
           "rgb(254,227,145)",
           "rgb(254,196,79)",
           "rgb(254,153,41)",
           "rgb(236,112,20)",
           "rgb(204,76,2)",
           "rgb(153,52,4)",
           "rgb(102,37,6)"
          ]
         },
         "orientation": "h",
         "type": "bar",
         "x": [
          1,
          1,
          1,
          1,
          1,
          1,
          1,
          1,
          1
         ],
         "y": [
          "YlOrBr",
          "YlOrBr",
          "YlOrBr",
          "YlOrBr",
          "YlOrBr",
          "YlOrBr",
          "YlOrBr",
          "YlOrBr",
          "YlOrBr"
         ]
        },
        {
         "customdata": [
          0,
          1,
          2,
          3,
          4,
          5,
          6,
          7,
          8
         ],
         "hovertemplate": "%{y}[%{customdata}] = %{marker.color}<extra></extra>",
         "marker": {
          "color": [
           "rgb(255,255,217)",
           "rgb(237,248,177)",
           "rgb(199,233,180)",
           "rgb(127,205,187)",
           "rgb(65,182,196)",
           "rgb(29,145,192)",
           "rgb(34,94,168)",
           "rgb(37,52,148)",
           "rgb(8,29,88)"
          ]
         },
         "orientation": "h",
         "type": "bar",
         "x": [
          1,
          1,
          1,
          1,
          1,
          1,
          1,
          1,
          1
         ],
         "y": [
          "YlGnBu",
          "YlGnBu",
          "YlGnBu",
          "YlGnBu",
          "YlGnBu",
          "YlGnBu",
          "YlGnBu",
          "YlGnBu",
          "YlGnBu"
         ]
        },
        {
         "customdata": [
          0,
          1,
          2,
          3,
          4,
          5,
          6,
          7,
          8
         ],
         "hovertemplate": "%{y}[%{customdata}] = %{marker.color}<extra></extra>",
         "marker": {
          "color": [
           "rgb(255,255,229)",
           "rgb(247,252,185)",
           "rgb(217,240,163)",
           "rgb(173,221,142)",
           "rgb(120,198,121)",
           "rgb(65,171,93)",
           "rgb(35,132,67)",
           "rgb(0,104,55)",
           "rgb(0,69,41)"
          ]
         },
         "orientation": "h",
         "type": "bar",
         "x": [
          1,
          1,
          1,
          1,
          1,
          1,
          1,
          1,
          1
         ],
         "y": [
          "YlGn",
          "YlGn",
          "YlGn",
          "YlGn",
          "YlGn",
          "YlGn",
          "YlGn",
          "YlGn",
          "YlGn"
         ]
        },
        {
         "customdata": [
          0,
          1,
          2,
          3,
          4,
          5,
          6,
          7,
          8
         ],
         "hovertemplate": "%{y}[%{customdata}] = %{marker.color}<extra></extra>",
         "marker": {
          "color": [
           "rgb(255,245,240)",
           "rgb(254,224,210)",
           "rgb(252,187,161)",
           "rgb(252,146,114)",
           "rgb(251,106,74)",
           "rgb(239,59,44)",
           "rgb(203,24,29)",
           "rgb(165,15,21)",
           "rgb(103,0,13)"
          ]
         },
         "orientation": "h",
         "type": "bar",
         "x": [
          1,
          1,
          1,
          1,
          1,
          1,
          1,
          1,
          1
         ],
         "y": [
          "Reds",
          "Reds",
          "Reds",
          "Reds",
          "Reds",
          "Reds",
          "Reds",
          "Reds",
          "Reds"
         ]
        },
        {
         "customdata": [
          0,
          1,
          2,
          3,
          4,
          5,
          6,
          7,
          8
         ],
         "hovertemplate": "%{y}[%{customdata}] = %{marker.color}<extra></extra>",
         "marker": {
          "color": [
           "rgb(255,247,243)",
           "rgb(253,224,221)",
           "rgb(252,197,192)",
           "rgb(250,159,181)",
           "rgb(247,104,161)",
           "rgb(221,52,151)",
           "rgb(174,1,126)",
           "rgb(122,1,119)",
           "rgb(73,0,106)"
          ]
         },
         "orientation": "h",
         "type": "bar",
         "x": [
          1,
          1,
          1,
          1,
          1,
          1,
          1,
          1,
          1
         ],
         "y": [
          "RdPu",
          "RdPu",
          "RdPu",
          "RdPu",
          "RdPu",
          "RdPu",
          "RdPu",
          "RdPu",
          "RdPu"
         ]
        },
        {
         "customdata": [
          0,
          1,
          2,
          3,
          4,
          5,
          6,
          7,
          8,
          9,
          10
         ],
         "hovertemplate": "%{y}[%{customdata}] = %{marker.color}<extra></extra>",
         "marker": {
          "color": [
           "rgb(103,0,31)",
           "rgb(178,24,43)",
           "rgb(214,96,77)",
           "rgb(244,165,130)",
           "rgb(253,219,199)",
           "rgb(247,247,247)",
           "rgb(209,229,240)",
           "rgb(146,197,222)",
           "rgb(67,147,195)",
           "rgb(33,102,172)",
           "rgb(5,48,97)"
          ]
         },
         "orientation": "h",
         "type": "bar",
         "x": [
          1,
          1,
          1,
          1,
          1,
          1,
          1,
          1,
          1,
          1,
          1
         ],
         "y": [
          "RdBu",
          "RdBu",
          "RdBu",
          "RdBu",
          "RdBu",
          "RdBu",
          "RdBu",
          "RdBu",
          "RdBu",
          "RdBu",
          "RdBu"
         ]
        },
        {
         "customdata": [
          0,
          1,
          2,
          3,
          4,
          5,
          6,
          7,
          8
         ],
         "hovertemplate": "%{y}[%{customdata}] = %{marker.color}<extra></extra>",
         "marker": {
          "color": [
           "rgb(252,251,253)",
           "rgb(239,237,245)",
           "rgb(218,218,235)",
           "rgb(188,189,220)",
           "rgb(158,154,200)",
           "rgb(128,125,186)",
           "rgb(106,81,163)",
           "rgb(84,39,143)",
           "rgb(63,0,125)"
          ]
         },
         "orientation": "h",
         "type": "bar",
         "x": [
          1,
          1,
          1,
          1,
          1,
          1,
          1,
          1,
          1
         ],
         "y": [
          "Purples",
          "Purples",
          "Purples",
          "Purples",
          "Purples",
          "Purples",
          "Purples",
          "Purples",
          "Purples"
         ]
        },
        {
         "customdata": [
          0,
          1,
          2,
          3,
          4,
          5,
          6,
          7,
          8
         ],
         "hovertemplate": "%{y}[%{customdata}] = %{marker.color}<extra></extra>",
         "marker": {
          "color": [
           "rgb(247,244,249)",
           "rgb(231,225,239)",
           "rgb(212,185,218)",
           "rgb(201,148,199)",
           "rgb(223,101,176)",
           "rgb(231,41,138)",
           "rgb(206,18,86)",
           "rgb(152,0,67)",
           "rgb(103,0,31)"
          ]
         },
         "orientation": "h",
         "type": "bar",
         "x": [
          1,
          1,
          1,
          1,
          1,
          1,
          1,
          1,
          1
         ],
         "y": [
          "PuRd",
          "PuRd",
          "PuRd",
          "PuRd",
          "PuRd",
          "PuRd",
          "PuRd",
          "PuRd",
          "PuRd"
         ]
        },
        {
         "customdata": [
          0,
          1,
          2,
          3,
          4,
          5,
          6,
          7,
          8
         ],
         "hovertemplate": "%{y}[%{customdata}] = %{marker.color}<extra></extra>",
         "marker": {
          "color": [
           "rgb(255,247,251)",
           "rgb(236,226,240)",
           "rgb(208,209,230)",
           "rgb(166,189,219)",
           "rgb(103,169,207)",
           "rgb(54,144,192)",
           "rgb(2,129,138)",
           "rgb(1,108,89)",
           "rgb(1,70,54)"
          ]
         },
         "orientation": "h",
         "type": "bar",
         "x": [
          1,
          1,
          1,
          1,
          1,
          1,
          1,
          1,
          1
         ],
         "y": [
          "PuBuGn",
          "PuBuGn",
          "PuBuGn",
          "PuBuGn",
          "PuBuGn",
          "PuBuGn",
          "PuBuGn",
          "PuBuGn",
          "PuBuGn"
         ]
        },
        {
         "customdata": [
          0,
          1,
          2,
          3,
          4,
          5,
          6,
          7,
          8
         ],
         "hovertemplate": "%{y}[%{customdata}] = %{marker.color}<extra></extra>",
         "marker": {
          "color": [
           "rgb(255,247,251)",
           "rgb(236,231,242)",
           "rgb(208,209,230)",
           "rgb(166,189,219)",
           "rgb(116,169,207)",
           "rgb(54,144,192)",
           "rgb(5,112,176)",
           "rgb(4,90,141)",
           "rgb(2,56,88)"
          ]
         },
         "orientation": "h",
         "type": "bar",
         "x": [
          1,
          1,
          1,
          1,
          1,
          1,
          1,
          1,
          1
         ],
         "y": [
          "PuBu",
          "PuBu",
          "PuBu",
          "PuBu",
          "PuBu",
          "PuBu",
          "PuBu",
          "PuBu",
          "PuBu"
         ]
        },
        {
         "customdata": [
          0,
          1,
          2,
          3,
          4,
          5,
          6,
          7,
          8
         ],
         "hovertemplate": "%{y}[%{customdata}] = %{marker.color}<extra></extra>",
         "marker": {
          "color": [
           "rgb(255,245,235)",
           "rgb(254,230,206)",
           "rgb(253,208,162)",
           "rgb(253,174,107)",
           "rgb(253,141,60)",
           "rgb(241,105,19)",
           "rgb(217,72,1)",
           "rgb(166,54,3)",
           "rgb(127,39,4)"
          ]
         },
         "orientation": "h",
         "type": "bar",
         "x": [
          1,
          1,
          1,
          1,
          1,
          1,
          1,
          1,
          1
         ],
         "y": [
          "Oranges",
          "Oranges",
          "Oranges",
          "Oranges",
          "Oranges",
          "Oranges",
          "Oranges",
          "Oranges",
          "Oranges"
         ]
        },
        {
         "customdata": [
          0,
          1,
          2,
          3,
          4,
          5,
          6,
          7,
          8
         ],
         "hovertemplate": "%{y}[%{customdata}] = %{marker.color}<extra></extra>",
         "marker": {
          "color": [
           "rgb(255,247,236)",
           "rgb(254,232,200)",
           "rgb(253,212,158)",
           "rgb(253,187,132)",
           "rgb(252,141,89)",
           "rgb(239,101,72)",
           "rgb(215,48,31)",
           "rgb(179,0,0)",
           "rgb(127,0,0)"
          ]
         },
         "orientation": "h",
         "type": "bar",
         "x": [
          1,
          1,
          1,
          1,
          1,
          1,
          1,
          1,
          1
         ],
         "y": [
          "OrRd",
          "OrRd",
          "OrRd",
          "OrRd",
          "OrRd",
          "OrRd",
          "OrRd",
          "OrRd",
          "OrRd"
         ]
        },
        {
         "customdata": [
          0,
          1,
          2,
          3,
          4,
          5,
          6,
          7,
          8
         ],
         "hovertemplate": "%{y}[%{customdata}] = %{marker.color}<extra></extra>",
         "marker": {
          "color": [
           "rgb(255,255,255)",
           "rgb(240,240,240)",
           "rgb(217,217,217)",
           "rgb(189,189,189)",
           "rgb(150,150,150)",
           "rgb(115,115,115)",
           "rgb(82,82,82)",
           "rgb(37,37,37)",
           "rgb(0,0,0)"
          ]
         },
         "orientation": "h",
         "type": "bar",
         "x": [
          1,
          1,
          1,
          1,
          1,
          1,
          1,
          1,
          1
         ],
         "y": [
          "Greys",
          "Greys",
          "Greys",
          "Greys",
          "Greys",
          "Greys",
          "Greys",
          "Greys",
          "Greys"
         ]
        },
        {
         "customdata": [
          0,
          1,
          2,
          3,
          4,
          5,
          6,
          7,
          8
         ],
         "hovertemplate": "%{y}[%{customdata}] = %{marker.color}<extra></extra>",
         "marker": {
          "color": [
           "rgb(247,252,245)",
           "rgb(229,245,224)",
           "rgb(199,233,192)",
           "rgb(161,217,155)",
           "rgb(116,196,118)",
           "rgb(65,171,93)",
           "rgb(35,139,69)",
           "rgb(0,109,44)",
           "rgb(0,68,27)"
          ]
         },
         "orientation": "h",
         "type": "bar",
         "x": [
          1,
          1,
          1,
          1,
          1,
          1,
          1,
          1,
          1
         ],
         "y": [
          "Greens",
          "Greens",
          "Greens",
          "Greens",
          "Greens",
          "Greens",
          "Greens",
          "Greens",
          "Greens"
         ]
        },
        {
         "customdata": [
          0,
          1,
          2,
          3,
          4,
          5,
          6,
          7,
          8
         ],
         "hovertemplate": "%{y}[%{customdata}] = %{marker.color}<extra></extra>",
         "marker": {
          "color": [
           "rgb(247,252,240)",
           "rgb(224,243,219)",
           "rgb(204,235,197)",
           "rgb(168,221,181)",
           "rgb(123,204,196)",
           "rgb(78,179,211)",
           "rgb(43,140,190)",
           "rgb(8,104,172)",
           "rgb(8,64,129)"
          ]
         },
         "orientation": "h",
         "type": "bar",
         "x": [
          1,
          1,
          1,
          1,
          1,
          1,
          1,
          1,
          1
         ],
         "y": [
          "GnBu",
          "GnBu",
          "GnBu",
          "GnBu",
          "GnBu",
          "GnBu",
          "GnBu",
          "GnBu",
          "GnBu"
         ]
        },
        {
         "customdata": [
          0,
          1,
          2,
          3,
          4,
          5,
          6,
          7,
          8
         ],
         "hovertemplate": "%{y}[%{customdata}] = %{marker.color}<extra></extra>",
         "marker": {
          "color": [
           "rgb(247,252,253)",
           "rgb(224,236,244)",
           "rgb(191,211,230)",
           "rgb(158,188,218)",
           "rgb(140,150,198)",
           "rgb(140,107,177)",
           "rgb(136,65,157)",
           "rgb(129,15,124)",
           "rgb(77,0,75)"
          ]
         },
         "orientation": "h",
         "type": "bar",
         "x": [
          1,
          1,
          1,
          1,
          1,
          1,
          1,
          1,
          1
         ],
         "y": [
          "BuPu",
          "BuPu",
          "BuPu",
          "BuPu",
          "BuPu",
          "BuPu",
          "BuPu",
          "BuPu",
          "BuPu"
         ]
        },
        {
         "customdata": [
          0,
          1,
          2,
          3,
          4,
          5,
          6,
          7,
          8
         ],
         "hovertemplate": "%{y}[%{customdata}] = %{marker.color}<extra></extra>",
         "marker": {
          "color": [
           "rgb(247,252,253)",
           "rgb(229,245,249)",
           "rgb(204,236,230)",
           "rgb(153,216,201)",
           "rgb(102,194,164)",
           "rgb(65,174,118)",
           "rgb(35,139,69)",
           "rgb(0,109,44)",
           "rgb(0,68,27)"
          ]
         },
         "orientation": "h",
         "type": "bar",
         "x": [
          1,
          1,
          1,
          1,
          1,
          1,
          1,
          1,
          1
         ],
         "y": [
          "BuGn",
          "BuGn",
          "BuGn",
          "BuGn",
          "BuGn",
          "BuGn",
          "BuGn",
          "BuGn",
          "BuGn"
         ]
        },
        {
         "customdata": [
          0,
          1,
          2,
          3,
          4,
          5,
          6,
          7,
          8
         ],
         "hovertemplate": "%{y}[%{customdata}] = %{marker.color}<extra></extra>",
         "marker": {
          "color": [
           "rgb(247,251,255)",
           "rgb(222,235,247)",
           "rgb(198,219,239)",
           "rgb(158,202,225)",
           "rgb(107,174,214)",
           "rgb(66,146,198)",
           "rgb(33,113,181)",
           "rgb(8,81,156)",
           "rgb(8,48,107)"
          ]
         },
         "orientation": "h",
         "type": "bar",
         "x": [
          1,
          1,
          1,
          1,
          1,
          1,
          1,
          1,
          1
         ],
         "y": [
          "Blues",
          "Blues",
          "Blues",
          "Blues",
          "Blues",
          "Blues",
          "Blues",
          "Blues",
          "Blues"
         ]
        },
        {
         "customdata": [
          0,
          1,
          2,
          3,
          4,
          5,
          6,
          7,
          8
         ],
         "hovertemplate": "%{y}[%{customdata}] = %{marker.color}<extra></extra>",
         "marker": {
          "color": [
           "rgb(150,0,90)",
           "rgb(0,0,200)",
           "rgb(0,25,255)",
           "rgb(0,152,255)",
           "rgb(44,255,150)",
           "rgb(151,255,0)",
           "rgb(255,234,0)",
           "rgb(255,111,0)",
           "rgb(255,0,0)"
          ]
         },
         "orientation": "h",
         "type": "bar",
         "x": [
          1,
          1,
          1,
          1,
          1,
          1,
          1,
          1,
          1
         ],
         "y": [
          "Rainbow",
          "Rainbow",
          "Rainbow",
          "Rainbow",
          "Rainbow",
          "Rainbow",
          "Rainbow",
          "Rainbow",
          "Rainbow"
         ]
        },
        {
         "customdata": [
          0,
          1,
          2,
          3,
          4,
          5
         ],
         "hovertemplate": "%{y}[%{customdata}] = %{marker.color}<extra></extra>",
         "marker": {
          "color": [
           "rgb(0,0,131)",
           "rgb(0,60,170)",
           "rgb(5,255,255)",
           "rgb(255,255,0)",
           "rgb(250,0,0)",
           "rgb(128,0,0)"
          ]
         },
         "orientation": "h",
         "type": "bar",
         "x": [
          1,
          1,
          1,
          1,
          1,
          1
         ],
         "y": [
          "Jet",
          "Jet",
          "Jet",
          "Jet",
          "Jet",
          "Jet"
         ]
        },
        {
         "customdata": [
          0,
          1,
          2,
          3
         ],
         "hovertemplate": "%{y}[%{customdata}] = %{marker.color}<extra></extra>",
         "marker": {
          "color": [
           "rgb(0,0,0)",
           "rgb(230,0,0)",
           "rgb(255,210,0)",
           "rgb(255,255,255)"
          ]
         },
         "orientation": "h",
         "type": "bar",
         "x": [
          1,
          1,
          1,
          1
         ],
         "y": [
          "Hot",
          "Hot",
          "Hot",
          "Hot"
         ]
        },
        {
         "customdata": [
          0,
          1,
          2,
          3,
          4,
          5
         ],
         "hovertemplate": "%{y}[%{customdata}] = %{marker.color}<extra></extra>",
         "marker": {
          "color": [
           "rgb(0,0,0)",
           "rgb(30,0,100)",
           "rgb(120,0,100)",
           "rgb(160,90,0)",
           "rgb(230,200,0)",
           "rgb(255,250,220)"
          ]
         },
         "orientation": "h",
         "type": "bar",
         "x": [
          1,
          1,
          1,
          1,
          1,
          1
         ],
         "y": [
          "Electric",
          "Electric",
          "Electric",
          "Electric",
          "Electric",
          "Electric"
         ]
        },
        {
         "customdata": [
          0,
          1
         ],
         "hovertemplate": "%{y}[%{customdata}] = %{marker.color}<extra></extra>",
         "marker": {
          "color": [
           "rgb(0,0,255)",
           "rgb(255,0,0)"
          ]
         },
         "orientation": "h",
         "type": "bar",
         "x": [
          1,
          1
         ],
         "y": [
          "Bluered",
          "Bluered"
         ]
        },
        {
         "customdata": [
          0,
          1,
          2,
          3,
          4
         ],
         "hovertemplate": "%{y}[%{customdata}] = %{marker.color}<extra></extra>",
         "marker": {
          "color": [
           "rgb(0,0,0)",
           "rgb(230,0,0)",
           "rgb(230,210,0)",
           "rgb(255,255,255)",
           "rgb(160,200,255)"
          ]
         },
         "orientation": "h",
         "type": "bar",
         "x": [
          1,
          1,
          1,
          1,
          1
         ],
         "y": [
          "Blackbody",
          "Blackbody",
          "Blackbody",
          "Blackbody",
          "Blackbody"
         ]
        },
        {
         "customdata": [
          0,
          1,
          2,
          3,
          4,
          5,
          6,
          7,
          8,
          9,
          10,
          11,
          12,
          13,
          14
         ],
         "hovertemplate": "%{y}[%{customdata}] = %{marker.color}<extra></extra>",
         "marker": {
          "color": [
           "#30123b",
           "#4145ab",
           "#4675ed",
           "#39a2fc",
           "#1bcfd4",
           "#24eca6",
           "#61fc6c",
           "#a4fc3b",
           "#d1e834",
           "#f3c63a",
           "#fe9b2d",
           "#f36315",
           "#d93806",
           "#b11901",
           "#7a0402"
          ]
         },
         "orientation": "h",
         "type": "bar",
         "x": [
          1,
          1,
          1,
          1,
          1,
          1,
          1,
          1,
          1,
          1,
          1,
          1,
          1,
          1,
          1
         ],
         "y": [
          "Turbo",
          "Turbo",
          "Turbo",
          "Turbo",
          "Turbo",
          "Turbo",
          "Turbo",
          "Turbo",
          "Turbo",
          "Turbo",
          "Turbo",
          "Turbo",
          "Turbo",
          "Turbo",
          "Turbo"
         ]
        },
        {
         "customdata": [
          0,
          1,
          2,
          3,
          4,
          5,
          6,
          7,
          8,
          9
         ],
         "hovertemplate": "%{y}[%{customdata}] = %{marker.color}<extra></extra>",
         "marker": {
          "color": [
           "#0d0887",
           "#46039f",
           "#7201a8",
           "#9c179e",
           "#bd3786",
           "#d8576b",
           "#ed7953",
           "#fb9f3a",
           "#fdca26",
           "#f0f921"
          ]
         },
         "orientation": "h",
         "type": "bar",
         "x": [
          1,
          1,
          1,
          1,
          1,
          1,
          1,
          1,
          1,
          1
         ],
         "y": [
          "Plasma",
          "Plasma",
          "Plasma",
          "Plasma",
          "Plasma",
          "Plasma",
          "Plasma",
          "Plasma",
          "Plasma",
          "Plasma"
         ]
        },
        {
         "customdata": [
          0,
          1,
          2,
          3,
          4,
          5,
          6,
          7,
          8,
          9
         ],
         "hovertemplate": "%{y}[%{customdata}] = %{marker.color}<extra></extra>",
         "marker": {
          "color": [
           "#000004",
           "#180f3d",
           "#440f76",
           "#721f81",
           "#9e2f7f",
           "#cd4071",
           "#f1605d",
           "#fd9668",
           "#feca8d",
           "#fcfdbf"
          ]
         },
         "orientation": "h",
         "type": "bar",
         "x": [
          1,
          1,
          1,
          1,
          1,
          1,
          1,
          1,
          1,
          1
         ],
         "y": [
          "Magma",
          "Magma",
          "Magma",
          "Magma",
          "Magma",
          "Magma",
          "Magma",
          "Magma",
          "Magma",
          "Magma"
         ]
        },
        {
         "customdata": [
          0,
          1,
          2,
          3,
          4,
          5,
          6,
          7,
          8,
          9
         ],
         "hovertemplate": "%{y}[%{customdata}] = %{marker.color}<extra></extra>",
         "marker": {
          "color": [
           "#000004",
           "#1b0c41",
           "#4a0c6b",
           "#781c6d",
           "#a52c60",
           "#cf4446",
           "#ed6925",
           "#fb9b06",
           "#f7d13d",
           "#fcffa4"
          ]
         },
         "orientation": "h",
         "type": "bar",
         "x": [
          1,
          1,
          1,
          1,
          1,
          1,
          1,
          1,
          1,
          1
         ],
         "y": [
          "Inferno",
          "Inferno",
          "Inferno",
          "Inferno",
          "Inferno",
          "Inferno",
          "Inferno",
          "Inferno",
          "Inferno",
          "Inferno"
         ]
        },
        {
         "customdata": [
          0,
          1,
          2,
          3,
          4,
          5,
          6,
          7,
          8,
          9
         ],
         "hovertemplate": "%{y}[%{customdata}] = %{marker.color}<extra></extra>",
         "marker": {
          "color": [
           "#00224e",
           "#123570",
           "#3b496c",
           "#575d6d",
           "#707173",
           "#8a8678",
           "#a59c74",
           "#c3b369",
           "#e1cc55",
           "#fee838"
          ]
         },
         "orientation": "h",
         "type": "bar",
         "x": [
          1,
          1,
          1,
          1,
          1,
          1,
          1,
          1,
          1,
          1
         ],
         "y": [
          "Cividis",
          "Cividis",
          "Cividis",
          "Cividis",
          "Cividis",
          "Cividis",
          "Cividis",
          "Cividis",
          "Cividis",
          "Cividis"
         ]
        },
        {
         "customdata": [
          0,
          1,
          2,
          3,
          4,
          5,
          6,
          7,
          8,
          9
         ],
         "hovertemplate": "%{y}[%{customdata}] = %{marker.color}<extra></extra>",
         "marker": {
          "color": [
           "#440154",
           "#482878",
           "#3e4989",
           "#31688e",
           "#26828e",
           "#1f9e89",
           "#35b779",
           "#6ece58",
           "#b5de2b",
           "#fde725"
          ]
         },
         "orientation": "h",
         "type": "bar",
         "x": [
          1,
          1,
          1,
          1,
          1,
          1,
          1,
          1,
          1,
          1
         ],
         "y": [
          "Viridis",
          "Viridis",
          "Viridis",
          "Viridis",
          "Viridis",
          "Viridis",
          "Viridis",
          "Viridis",
          "Viridis",
          "Viridis"
         ]
        },
        {
         "customdata": [
          0,
          1,
          2,
          3,
          4,
          5,
          6,
          7,
          8,
          9,
          10,
          11,
          12
         ],
         "hovertemplate": "%{y}[%{customdata}] = %{marker.color}<extra></extra>",
         "marker": {
          "color": [
           "#0508b8",
           "#1910d8",
           "#3c19f0",
           "#6b1cfb",
           "#981cfd",
           "#bf1cfd",
           "#dd2bfd",
           "#f246fe",
           "#fc67fd",
           "#fe88fc",
           "#fea5fd",
           "#febefe",
           "#fec3fe"
          ]
         },
         "orientation": "h",
         "type": "bar",
         "x": [
          1,
          1,
          1,
          1,
          1,
          1,
          1,
          1,
          1,
          1,
          1,
          1,
          1
         ],
         "y": [
          "Plotly3",
          "Plotly3",
          "Plotly3",
          "Plotly3",
          "Plotly3",
          "Plotly3",
          "Plotly3",
          "Plotly3",
          "Plotly3",
          "Plotly3",
          "Plotly3",
          "Plotly3",
          "Plotly3"
         ]
        }
       ],
       "layout": {
        "bargap": 0.5,
        "barmode": "stack",
        "barnorm": "fraction",
        "height": 2640,
        "margin": {
         "b": 10
        },
        "showlegend": false,
        "template": {
         "data": {
          "bar": [
           {
            "error_x": {
             "color": "#2a3f5f"
            },
            "error_y": {
             "color": "#2a3f5f"
            },
            "marker": {
             "line": {
              "color": "#E5ECF6",
              "width": 0.5
             },
             "pattern": {
              "fillmode": "overlay",
              "size": 10,
              "solidity": 0.2
             }
            },
            "type": "bar"
           }
          ],
          "barpolar": [
           {
            "marker": {
             "line": {
              "color": "#E5ECF6",
              "width": 0.5
             },
             "pattern": {
              "fillmode": "overlay",
              "size": 10,
              "solidity": 0.2
             }
            },
            "type": "barpolar"
           }
          ],
          "carpet": [
           {
            "aaxis": {
             "endlinecolor": "#2a3f5f",
             "gridcolor": "white",
             "linecolor": "white",
             "minorgridcolor": "white",
             "startlinecolor": "#2a3f5f"
            },
            "baxis": {
             "endlinecolor": "#2a3f5f",
             "gridcolor": "white",
             "linecolor": "white",
             "minorgridcolor": "white",
             "startlinecolor": "#2a3f5f"
            },
            "type": "carpet"
           }
          ],
          "choropleth": [
           {
            "colorbar": {
             "outlinewidth": 0,
             "ticks": ""
            },
            "type": "choropleth"
           }
          ],
          "contour": [
           {
            "colorbar": {
             "outlinewidth": 0,
             "ticks": ""
            },
            "colorscale": [
             [
              0,
              "#0d0887"
             ],
             [
              0.1111111111111111,
              "#46039f"
             ],
             [
              0.2222222222222222,
              "#7201a8"
             ],
             [
              0.3333333333333333,
              "#9c179e"
             ],
             [
              0.4444444444444444,
              "#bd3786"
             ],
             [
              0.5555555555555556,
              "#d8576b"
             ],
             [
              0.6666666666666666,
              "#ed7953"
             ],
             [
              0.7777777777777778,
              "#fb9f3a"
             ],
             [
              0.8888888888888888,
              "#fdca26"
             ],
             [
              1,
              "#f0f921"
             ]
            ],
            "type": "contour"
           }
          ],
          "contourcarpet": [
           {
            "colorbar": {
             "outlinewidth": 0,
             "ticks": ""
            },
            "type": "contourcarpet"
           }
          ],
          "heatmap": [
           {
            "colorbar": {
             "outlinewidth": 0,
             "ticks": ""
            },
            "colorscale": [
             [
              0,
              "#0d0887"
             ],
             [
              0.1111111111111111,
              "#46039f"
             ],
             [
              0.2222222222222222,
              "#7201a8"
             ],
             [
              0.3333333333333333,
              "#9c179e"
             ],
             [
              0.4444444444444444,
              "#bd3786"
             ],
             [
              0.5555555555555556,
              "#d8576b"
             ],
             [
              0.6666666666666666,
              "#ed7953"
             ],
             [
              0.7777777777777778,
              "#fb9f3a"
             ],
             [
              0.8888888888888888,
              "#fdca26"
             ],
             [
              1,
              "#f0f921"
             ]
            ],
            "type": "heatmap"
           }
          ],
          "heatmapgl": [
           {
            "colorbar": {
             "outlinewidth": 0,
             "ticks": ""
            },
            "colorscale": [
             [
              0,
              "#0d0887"
             ],
             [
              0.1111111111111111,
              "#46039f"
             ],
             [
              0.2222222222222222,
              "#7201a8"
             ],
             [
              0.3333333333333333,
              "#9c179e"
             ],
             [
              0.4444444444444444,
              "#bd3786"
             ],
             [
              0.5555555555555556,
              "#d8576b"
             ],
             [
              0.6666666666666666,
              "#ed7953"
             ],
             [
              0.7777777777777778,
              "#fb9f3a"
             ],
             [
              0.8888888888888888,
              "#fdca26"
             ],
             [
              1,
              "#f0f921"
             ]
            ],
            "type": "heatmapgl"
           }
          ],
          "histogram": [
           {
            "marker": {
             "pattern": {
              "fillmode": "overlay",
              "size": 10,
              "solidity": 0.2
             }
            },
            "type": "histogram"
           }
          ],
          "histogram2d": [
           {
            "colorbar": {
             "outlinewidth": 0,
             "ticks": ""
            },
            "colorscale": [
             [
              0,
              "#0d0887"
             ],
             [
              0.1111111111111111,
              "#46039f"
             ],
             [
              0.2222222222222222,
              "#7201a8"
             ],
             [
              0.3333333333333333,
              "#9c179e"
             ],
             [
              0.4444444444444444,
              "#bd3786"
             ],
             [
              0.5555555555555556,
              "#d8576b"
             ],
             [
              0.6666666666666666,
              "#ed7953"
             ],
             [
              0.7777777777777778,
              "#fb9f3a"
             ],
             [
              0.8888888888888888,
              "#fdca26"
             ],
             [
              1,
              "#f0f921"
             ]
            ],
            "type": "histogram2d"
           }
          ],
          "histogram2dcontour": [
           {
            "colorbar": {
             "outlinewidth": 0,
             "ticks": ""
            },
            "colorscale": [
             [
              0,
              "#0d0887"
             ],
             [
              0.1111111111111111,
              "#46039f"
             ],
             [
              0.2222222222222222,
              "#7201a8"
             ],
             [
              0.3333333333333333,
              "#9c179e"
             ],
             [
              0.4444444444444444,
              "#bd3786"
             ],
             [
              0.5555555555555556,
              "#d8576b"
             ],
             [
              0.6666666666666666,
              "#ed7953"
             ],
             [
              0.7777777777777778,
              "#fb9f3a"
             ],
             [
              0.8888888888888888,
              "#fdca26"
             ],
             [
              1,
              "#f0f921"
             ]
            ],
            "type": "histogram2dcontour"
           }
          ],
          "mesh3d": [
           {
            "colorbar": {
             "outlinewidth": 0,
             "ticks": ""
            },
            "type": "mesh3d"
           }
          ],
          "parcoords": [
           {
            "line": {
             "colorbar": {
              "outlinewidth": 0,
              "ticks": ""
             }
            },
            "type": "parcoords"
           }
          ],
          "pie": [
           {
            "automargin": true,
            "type": "pie"
           }
          ],
          "scatter": [
           {
            "fillpattern": {
             "fillmode": "overlay",
             "size": 10,
             "solidity": 0.2
            },
            "type": "scatter"
           }
          ],
          "scatter3d": [
           {
            "line": {
             "colorbar": {
              "outlinewidth": 0,
              "ticks": ""
             }
            },
            "marker": {
             "colorbar": {
              "outlinewidth": 0,
              "ticks": ""
             }
            },
            "type": "scatter3d"
           }
          ],
          "scattercarpet": [
           {
            "marker": {
             "colorbar": {
              "outlinewidth": 0,
              "ticks": ""
             }
            },
            "type": "scattercarpet"
           }
          ],
          "scattergeo": [
           {
            "marker": {
             "colorbar": {
              "outlinewidth": 0,
              "ticks": ""
             }
            },
            "type": "scattergeo"
           }
          ],
          "scattergl": [
           {
            "marker": {
             "colorbar": {
              "outlinewidth": 0,
              "ticks": ""
             }
            },
            "type": "scattergl"
           }
          ],
          "scattermapbox": [
           {
            "marker": {
             "colorbar": {
              "outlinewidth": 0,
              "ticks": ""
             }
            },
            "type": "scattermapbox"
           }
          ],
          "scatterpolar": [
           {
            "marker": {
             "colorbar": {
              "outlinewidth": 0,
              "ticks": ""
             }
            },
            "type": "scatterpolar"
           }
          ],
          "scatterpolargl": [
           {
            "marker": {
             "colorbar": {
              "outlinewidth": 0,
              "ticks": ""
             }
            },
            "type": "scatterpolargl"
           }
          ],
          "scatterternary": [
           {
            "marker": {
             "colorbar": {
              "outlinewidth": 0,
              "ticks": ""
             }
            },
            "type": "scatterternary"
           }
          ],
          "surface": [
           {
            "colorbar": {
             "outlinewidth": 0,
             "ticks": ""
            },
            "colorscale": [
             [
              0,
              "#0d0887"
             ],
             [
              0.1111111111111111,
              "#46039f"
             ],
             [
              0.2222222222222222,
              "#7201a8"
             ],
             [
              0.3333333333333333,
              "#9c179e"
             ],
             [
              0.4444444444444444,
              "#bd3786"
             ],
             [
              0.5555555555555556,
              "#d8576b"
             ],
             [
              0.6666666666666666,
              "#ed7953"
             ],
             [
              0.7777777777777778,
              "#fb9f3a"
             ],
             [
              0.8888888888888888,
              "#fdca26"
             ],
             [
              1,
              "#f0f921"
             ]
            ],
            "type": "surface"
           }
          ],
          "table": [
           {
            "cells": {
             "fill": {
              "color": "#EBF0F8"
             },
             "line": {
              "color": "white"
             }
            },
            "header": {
             "fill": {
              "color": "#C8D4E3"
             },
             "line": {
              "color": "white"
             }
            },
            "type": "table"
           }
          ]
         },
         "layout": {
          "annotationdefaults": {
           "arrowcolor": "#2a3f5f",
           "arrowhead": 0,
           "arrowwidth": 1
          },
          "autotypenumbers": "strict",
          "coloraxis": {
           "colorbar": {
            "outlinewidth": 0,
            "ticks": ""
           }
          },
          "colorscale": {
           "diverging": [
            [
             0,
             "#8e0152"
            ],
            [
             0.1,
             "#c51b7d"
            ],
            [
             0.2,
             "#de77ae"
            ],
            [
             0.3,
             "#f1b6da"
            ],
            [
             0.4,
             "#fde0ef"
            ],
            [
             0.5,
             "#f7f7f7"
            ],
            [
             0.6,
             "#e6f5d0"
            ],
            [
             0.7,
             "#b8e186"
            ],
            [
             0.8,
             "#7fbc41"
            ],
            [
             0.9,
             "#4d9221"
            ],
            [
             1,
             "#276419"
            ]
           ],
           "sequential": [
            [
             0,
             "#0d0887"
            ],
            [
             0.1111111111111111,
             "#46039f"
            ],
            [
             0.2222222222222222,
             "#7201a8"
            ],
            [
             0.3333333333333333,
             "#9c179e"
            ],
            [
             0.4444444444444444,
             "#bd3786"
            ],
            [
             0.5555555555555556,
             "#d8576b"
            ],
            [
             0.6666666666666666,
             "#ed7953"
            ],
            [
             0.7777777777777778,
             "#fb9f3a"
            ],
            [
             0.8888888888888888,
             "#fdca26"
            ],
            [
             1,
             "#f0f921"
            ]
           ],
           "sequentialminus": [
            [
             0,
             "#0d0887"
            ],
            [
             0.1111111111111111,
             "#46039f"
            ],
            [
             0.2222222222222222,
             "#7201a8"
            ],
            [
             0.3333333333333333,
             "#9c179e"
            ],
            [
             0.4444444444444444,
             "#bd3786"
            ],
            [
             0.5555555555555556,
             "#d8576b"
            ],
            [
             0.6666666666666666,
             "#ed7953"
            ],
            [
             0.7777777777777778,
             "#fb9f3a"
            ],
            [
             0.8888888888888888,
             "#fdca26"
            ],
            [
             1,
             "#f0f921"
            ]
           ]
          },
          "colorway": [
           "#636efa",
           "#EF553B",
           "#00cc96",
           "#ab63fa",
           "#FFA15A",
           "#19d3f3",
           "#FF6692",
           "#B6E880",
           "#FF97FF",
           "#FECB52"
          ],
          "font": {
           "color": "#2a3f5f"
          },
          "geo": {
           "bgcolor": "white",
           "lakecolor": "white",
           "landcolor": "#E5ECF6",
           "showlakes": true,
           "showland": true,
           "subunitcolor": "white"
          },
          "hoverlabel": {
           "align": "left"
          },
          "hovermode": "closest",
          "mapbox": {
           "style": "light"
          },
          "paper_bgcolor": "white",
          "plot_bgcolor": "#E5ECF6",
          "polar": {
           "angularaxis": {
            "gridcolor": "white",
            "linecolor": "white",
            "ticks": ""
           },
           "bgcolor": "#E5ECF6",
           "radialaxis": {
            "gridcolor": "white",
            "linecolor": "white",
            "ticks": ""
           }
          },
          "scene": {
           "xaxis": {
            "backgroundcolor": "#E5ECF6",
            "gridcolor": "white",
            "gridwidth": 2,
            "linecolor": "white",
            "showbackground": true,
            "ticks": "",
            "zerolinecolor": "white"
           },
           "yaxis": {
            "backgroundcolor": "#E5ECF6",
            "gridcolor": "white",
            "gridwidth": 2,
            "linecolor": "white",
            "showbackground": true,
            "ticks": "",
            "zerolinecolor": "white"
           },
           "zaxis": {
            "backgroundcolor": "#E5ECF6",
            "gridcolor": "white",
            "gridwidth": 2,
            "linecolor": "white",
            "showbackground": true,
            "ticks": "",
            "zerolinecolor": "white"
           }
          },
          "shapedefaults": {
           "line": {
            "color": "#2a3f5f"
           }
          },
          "ternary": {
           "aaxis": {
            "gridcolor": "white",
            "linecolor": "white",
            "ticks": ""
           },
           "baxis": {
            "gridcolor": "white",
            "linecolor": "white",
            "ticks": ""
           },
           "bgcolor": "#E5ECF6",
           "caxis": {
            "gridcolor": "white",
            "linecolor": "white",
            "ticks": ""
           }
          },
          "title": {
           "x": 0.05
          },
          "xaxis": {
           "automargin": true,
           "gridcolor": "white",
           "linecolor": "white",
           "ticks": "",
           "title": {
            "standoff": 15
           },
           "zerolinecolor": "white",
           "zerolinewidth": 2
          },
          "yaxis": {
           "automargin": true,
           "gridcolor": "white",
           "linecolor": "white",
           "ticks": "",
           "title": {
            "standoff": 15
           },
           "zerolinecolor": "white",
           "zerolinewidth": 2
          }
         }
        },
        "title": {
         "text": "plotly.colors.sequential"
        },
        "xaxis": {
         "range": [
          -0.02,
          1.02
         ],
         "showgrid": false,
         "showticklabels": false
        }
       }
      },
      "text/html": [
       "<div>                            <div id=\"e86b974d-a761-40c7-84ca-689d3ebf541d\" class=\"plotly-graph-div\" style=\"height:2640px; width:100%;\"></div>            <script type=\"text/javascript\">                require([\"plotly\"], function(Plotly) {                    window.PLOTLYENV=window.PLOTLYENV || {};                                    if (document.getElementById(\"e86b974d-a761-40c7-84ca-689d3ebf541d\")) {                    Plotly.newPlot(                        \"e86b974d-a761-40c7-84ca-689d3ebf541d\",                        [{\"customdata\":[0,1,2,3,4,5,6],\"hovertemplate\":\"%{y}[%{customdata}] = %{marker.color}\\u003cextra\\u003e\\u003c\\u002fextra\\u003e\",\"marker\":{\"color\":[\"rgb(237, 229, 207)\",\"rgb(224, 194, 162)\",\"rgb(211, 156, 131)\",\"rgb(193, 118, 111)\",\"rgb(166, 84, 97)\",\"rgb(129, 55, 83)\",\"rgb(84, 31, 63)\"]},\"orientation\":\"h\",\"x\":[1,1,1,1,1,1,1],\"y\":[\"Brwnyl\",\"Brwnyl\",\"Brwnyl\",\"Brwnyl\",\"Brwnyl\",\"Brwnyl\",\"Brwnyl\"],\"type\":\"bar\"},{\"customdata\":[0,1,2,3,4,5,6],\"hovertemplate\":\"%{y}[%{customdata}] = %{marker.color}\\u003cextra\\u003e\\u003c\\u002fextra\\u003e\",\"marker\":{\"color\":[\"rgb(75, 41, 145)\",\"rgb(135, 44, 162)\",\"rgb(192, 54, 157)\",\"rgb(234, 79, 136)\",\"rgb(250, 120, 118)\",\"rgb(246, 169, 122)\",\"rgb(237, 217, 163)\"]},\"orientation\":\"h\",\"x\":[1,1,1,1,1,1,1],\"y\":[\"Agsunset\",\"Agsunset\",\"Agsunset\",\"Agsunset\",\"Agsunset\",\"Agsunset\",\"Agsunset\"],\"type\":\"bar\"},{\"customdata\":[0,1,2,3,4,5,6],\"hovertemplate\":\"%{y}[%{customdata}] = %{marker.color}\\u003cextra\\u003e\\u003c\\u002fextra\\u003e\",\"marker\":{\"color\":[\"rgb(252, 222, 156)\",\"rgb(250, 164, 118)\",\"rgb(240, 116, 110)\",\"rgb(227, 79, 111)\",\"rgb(220, 57, 119)\",\"rgb(185, 37, 122)\",\"rgb(124, 29, 111)\"]},\"orientation\":\"h\",\"x\":[1,1,1,1,1,1,1],\"y\":[\"Sunsetdark\",\"Sunsetdark\",\"Sunsetdark\",\"Sunsetdark\",\"Sunsetdark\",\"Sunsetdark\",\"Sunsetdark\"],\"type\":\"bar\"},{\"customdata\":[0,1,2,3,4,5,6],\"hovertemplate\":\"%{y}[%{customdata}] = %{marker.color}\\u003cextra\\u003e\\u003c\\u002fextra\\u003e\",\"marker\":{\"color\":[\"rgb(243, 203, 211)\",\"rgb(234, 169, 189)\",\"rgb(221, 136, 172)\",\"rgb(202, 105, 157)\",\"rgb(177, 77, 142)\",\"rgb(145, 53, 125)\",\"rgb(108, 33, 103)\"]},\"orientation\":\"h\",\"x\":[1,1,1,1,1,1,1],\"y\":[\"Magenta\",\"Magenta\",\"Magenta\",\"Magenta\",\"Magenta\",\"Magenta\",\"Magenta\"],\"type\":\"bar\"},{\"customdata\":[0,1,2,3,4,5,6],\"hovertemplate\":\"%{y}[%{customdata}] = %{marker.color}\\u003cextra\\u003e\\u003c\\u002fextra\\u003e\",\"marker\":{\"color\":[\"rgb(243, 231, 155)\",\"rgb(250, 196, 132)\",\"rgb(248, 160, 126)\",\"rgb(235, 127, 134)\",\"rgb(206, 102, 147)\",\"rgb(160, 89, 160)\",\"rgb(92, 83, 165)\"]},\"orientation\":\"h\",\"x\":[1,1,1,1,1,1,1],\"y\":[\"Sunset\",\"Sunset\",\"Sunset\",\"Sunset\",\"Sunset\",\"Sunset\",\"Sunset\"],\"type\":\"bar\"},{\"customdata\":[0,1,2,3,4,5,6],\"hovertemplate\":\"%{y}[%{customdata}] = %{marker.color}\\u003cextra\\u003e\\u003c\\u002fextra\\u003e\",\"marker\":{\"color\":[\"rgb(249, 221, 218)\",\"rgb(242, 185, 196)\",\"rgb(229, 151, 185)\",\"rgb(206, 120, 179)\",\"rgb(173, 95, 173)\",\"rgb(131, 75, 160)\",\"rgb(87, 59, 136)\"]},\"orientation\":\"h\",\"x\":[1,1,1,1,1,1,1],\"y\":[\"Purpor\",\"Purpor\",\"Purpor\",\"Purpor\",\"Purpor\",\"Purpor\",\"Purpor\"],\"type\":\"bar\"},{\"customdata\":[0,1,2,3,4,5,6],\"hovertemplate\":\"%{y}[%{customdata}] = %{marker.color}\\u003cextra\\u003e\\u003c\\u002fextra\\u003e\",\"marker\":{\"color\":[\"rgb(243, 224, 247)\",\"rgb(228, 199, 241)\",\"rgb(209, 175, 232)\",\"rgb(185, 152, 221)\",\"rgb(159, 130, 206)\",\"rgb(130, 109, 186)\",\"rgb(99, 88, 159)\"]},\"orientation\":\"h\",\"x\":[1,1,1,1,1,1,1],\"y\":[\"Purp\",\"Purp\",\"Purp\",\"Purp\",\"Purp\",\"Purp\",\"Purp\"],\"type\":\"bar\"},{\"customdata\":[0,1,2,3,4,5,6],\"hovertemplate\":\"%{y}[%{customdata}] = %{marker.color}\\u003cextra\\u003e\\u003c\\u002fextra\\u003e\",\"marker\":{\"color\":[\"rgb(176, 242, 188)\",\"rgb(137, 232, 172)\",\"rgb(103, 219, 165)\",\"rgb(76, 200, 163)\",\"rgb(56, 178, 163)\",\"rgb(44, 152, 160)\",\"rgb(37, 125, 152)\"]},\"orientation\":\"h\",\"x\":[1,1,1,1,1,1,1],\"y\":[\"Tealgrn\",\"Tealgrn\",\"Tealgrn\",\"Tealgrn\",\"Tealgrn\",\"Tealgrn\",\"Tealgrn\"],\"type\":\"bar\"},{\"customdata\":[0,1,2,3,4,5,6],\"hovertemplate\":\"%{y}[%{customdata}] = %{marker.color}\\u003cextra\\u003e\\u003c\\u002fextra\\u003e\",\"marker\":{\"color\":[\"rgb(209, 238, 234)\",\"rgb(168, 219, 217)\",\"rgb(133, 196, 201)\",\"rgb(104, 171, 184)\",\"rgb(79, 144, 166)\",\"rgb(59, 115, 143)\",\"rgb(42, 86, 116)\"]},\"orientation\":\"h\",\"x\":[1,1,1,1,1,1,1],\"y\":[\"Teal\",\"Teal\",\"Teal\",\"Teal\",\"Teal\",\"Teal\",\"Teal\"],\"type\":\"bar\"},{\"customdata\":[0,1,2,3,4,5,6],\"hovertemplate\":\"%{y}[%{customdata}] = %{marker.color}\\u003cextra\\u003e\\u003c\\u002fextra\\u003e\",\"marker\":{\"color\":[\"rgb(247, 254, 174)\",\"rgb(183, 230, 165)\",\"rgb(124, 203, 162)\",\"rgb(70, 174, 160)\",\"rgb(8, 144, 153)\",\"rgb(0, 113, 139)\",\"rgb(4, 82, 117)\"]},\"orientation\":\"h\",\"x\":[1,1,1,1,1,1,1],\"y\":[\"Bluyl\",\"Bluyl\",\"Bluyl\",\"Bluyl\",\"Bluyl\",\"Bluyl\",\"Bluyl\"],\"type\":\"bar\"},{\"customdata\":[0,1,2,3,4,5,6],\"hovertemplate\":\"%{y}[%{customdata}] = %{marker.color}\\u003cextra\\u003e\\u003c\\u002fextra\\u003e\",\"marker\":{\"color\":[\"rgb(36, 86, 104)\",\"rgb(15, 114, 121)\",\"rgb(13, 143, 129)\",\"rgb(57, 171, 126)\",\"rgb(110, 197, 116)\",\"rgb(169, 220, 103)\",\"rgb(237, 239, 93)\"]},\"orientation\":\"h\",\"x\":[1,1,1,1,1,1,1],\"y\":[\"Aggrnyl\",\"Aggrnyl\",\"Aggrnyl\",\"Aggrnyl\",\"Aggrnyl\",\"Aggrnyl\",\"Aggrnyl\"],\"type\":\"bar\"},{\"customdata\":[0,1,2,3,4,5,6],\"hovertemplate\":\"%{y}[%{customdata}] = %{marker.color}\\u003cextra\\u003e\\u003c\\u002fextra\\u003e\",\"marker\":{\"color\":[\"rgb(211, 242, 163)\",\"rgb(151, 225, 150)\",\"rgb(108, 192, 139)\",\"rgb(76, 155, 130)\",\"rgb(33, 122, 121)\",\"rgb(16, 89, 101)\",\"rgb(7, 64, 80)\"]},\"orientation\":\"h\",\"x\":[1,1,1,1,1,1,1],\"y\":[\"Emrld\",\"Emrld\",\"Emrld\",\"Emrld\",\"Emrld\",\"Emrld\",\"Emrld\"],\"type\":\"bar\"},{\"customdata\":[0,1,2,3,4,5,6],\"hovertemplate\":\"%{y}[%{customdata}] = %{marker.color}\\u003cextra\\u003e\\u003c\\u002fextra\\u003e\",\"marker\":{\"color\":[\"rgb(210, 251, 212)\",\"rgb(165, 219, 194)\",\"rgb(123, 188, 176)\",\"rgb(85, 156, 158)\",\"rgb(58, 124, 137)\",\"rgb(35, 93, 114)\",\"rgb(18, 63, 90)\"]},\"orientation\":\"h\",\"x\":[1,1,1,1,1,1,1],\"y\":[\"Darkmint\",\"Darkmint\",\"Darkmint\",\"Darkmint\",\"Darkmint\",\"Darkmint\",\"Darkmint\"],\"type\":\"bar\"},{\"customdata\":[0,1,2,3,4,5,6],\"hovertemplate\":\"%{y}[%{customdata}] = %{marker.color}\\u003cextra\\u003e\\u003c\\u002fextra\\u003e\",\"marker\":{\"color\":[\"rgb(196, 230, 195)\",\"rgb(150, 210, 164)\",\"rgb(109, 188, 144)\",\"rgb(77, 162, 132)\",\"rgb(54, 135, 122)\",\"rgb(38, 107, 110)\",\"rgb(29, 79, 96)\"]},\"orientation\":\"h\",\"x\":[1,1,1,1,1,1,1],\"y\":[\"Blugrn\",\"Blugrn\",\"Blugrn\",\"Blugrn\",\"Blugrn\",\"Blugrn\",\"Blugrn\"],\"type\":\"bar\"},{\"customdata\":[0,1,2,3,4,5,6],\"hovertemplate\":\"%{y}[%{customdata}] = %{marker.color}\\u003cextra\\u003e\\u003c\\u002fextra\\u003e\",\"marker\":{\"color\":[\"rgb(228, 241, 225)\",\"rgb(180, 217, 204)\",\"rgb(137, 192, 182)\",\"rgb(99, 166, 160)\",\"rgb(68, 140, 138)\",\"rgb(40, 114, 116)\",\"rgb(13, 88, 95)\"]},\"orientation\":\"h\",\"x\":[1,1,1,1,1,1,1],\"y\":[\"Mint\",\"Mint\",\"Mint\",\"Mint\",\"Mint\",\"Mint\",\"Mint\"],\"type\":\"bar\"},{\"customdata\":[0,1,2,3,4,5,6],\"hovertemplate\":\"%{y}[%{customdata}] = %{marker.color}\\u003cextra\\u003e\\u003c\\u002fextra\\u003e\",\"marker\":{\"color\":[\"rgb(254, 246, 181)\",\"rgb(255, 221, 154)\",\"rgb(255, 194, 133)\",\"rgb(255, 166, 121)\",\"rgb(250, 138, 118)\",\"rgb(241, 109, 122)\",\"rgb(225, 83, 131)\"]},\"orientation\":\"h\",\"x\":[1,1,1,1,1,1,1],\"y\":[\"Pinkyl\",\"Pinkyl\",\"Pinkyl\",\"Pinkyl\",\"Pinkyl\",\"Pinkyl\",\"Pinkyl\"],\"type\":\"bar\"},{\"customdata\":[0,1,2,3,4,5,6],\"hovertemplate\":\"%{y}[%{customdata}] = %{marker.color}\\u003cextra\\u003e\\u003c\\u002fextra\\u003e\",\"marker\":{\"color\":[\"rgb(253, 224, 197)\",\"rgb(250, 203, 166)\",\"rgb(248, 181, 139)\",\"rgb(245, 158, 114)\",\"rgb(242, 133, 93)\",\"rgb(239, 106, 76)\",\"rgb(235, 74, 64)\"]},\"orientation\":\"h\",\"x\":[1,1,1,1,1,1,1],\"y\":[\"Peach\",\"Peach\",\"Peach\",\"Peach\",\"Peach\",\"Peach\",\"Peach\"],\"type\":\"bar\"},{\"customdata\":[0,1,2,3,4,5,6],\"hovertemplate\":\"%{y}[%{customdata}] = %{marker.color}\\u003cextra\\u003e\\u003c\\u002fextra\\u003e\",\"marker\":{\"color\":[\"rgb(236, 218, 154)\",\"rgb(239, 196, 126)\",\"rgb(243, 173, 106)\",\"rgb(247, 148, 93)\",\"rgb(249, 123, 87)\",\"rgb(246, 99, 86)\",\"rgb(238, 77, 90)\"]},\"orientation\":\"h\",\"x\":[1,1,1,1,1,1,1],\"y\":[\"Oryel\",\"Oryel\",\"Oryel\",\"Oryel\",\"Oryel\",\"Oryel\",\"Oryel\"],\"type\":\"bar\"},{\"customdata\":[0,1,2,3,4,5,6],\"hovertemplate\":\"%{y}[%{customdata}] = %{marker.color}\\u003cextra\\u003e\\u003c\\u002fextra\\u003e\",\"marker\":{\"color\":[\"rgb(246, 210, 169)\",\"rgb(245, 183, 142)\",\"rgb(241, 156, 124)\",\"rgb(234, 129, 113)\",\"rgb(221, 104, 108)\",\"rgb(202, 82, 104)\",\"rgb(177, 63, 100)\"]},\"orientation\":\"h\",\"x\":[1,1,1,1,1,1,1],\"y\":[\"Redor\",\"Redor\",\"Redor\",\"Redor\",\"Redor\",\"Redor\",\"Redor\"],\"type\":\"bar\"},{\"customdata\":[0,1,2,3,4,5,6],\"hovertemplate\":\"%{y}[%{customdata}] = %{marker.color}\\u003cextra\\u003e\\u003c\\u002fextra\\u003e\",\"marker\":{\"color\":[\"rgb(251, 230, 197)\",\"rgb(245, 186, 152)\",\"rgb(238, 138, 130)\",\"rgb(220, 113, 118)\",\"rgb(200, 88, 108)\",\"rgb(156, 63, 93)\",\"rgb(112, 40, 74)\"]},\"orientation\":\"h\",\"x\":[1,1,1,1,1,1,1],\"y\":[\"Burgyl\",\"Burgyl\",\"Burgyl\",\"Burgyl\",\"Burgyl\",\"Burgyl\",\"Burgyl\"],\"type\":\"bar\"},{\"customdata\":[0,1,2,3,4,5,6],\"hovertemplate\":\"%{y}[%{customdata}] = %{marker.color}\\u003cextra\\u003e\\u003c\\u002fextra\\u003e\",\"marker\":{\"color\":[\"rgb(255, 198, 196)\",\"rgb(244, 163, 168)\",\"rgb(227, 129, 145)\",\"rgb(204, 96, 125)\",\"rgb(173, 70, 108)\",\"rgb(139, 48, 88)\",\"rgb(103, 32, 68)\"]},\"orientation\":\"h\",\"x\":[1,1,1,1,1,1,1],\"y\":[\"Burg\",\"Burg\",\"Burg\",\"Burg\",\"Burg\",\"Burg\",\"Burg\"],\"type\":\"bar\"},{\"customdata\":[0,1,2,3,4,5,6,7,8,9,10,11],\"hovertemplate\":\"%{y}[%{customdata}] = %{marker.color}\\u003cextra\\u003e\\u003c\\u002fextra\\u003e\",\"marker\":{\"color\":[\"rgb(254, 245, 244)\",\"rgb(222, 224, 210)\",\"rgb(189, 206, 181)\",\"rgb(153, 189, 156)\",\"rgb(110, 173, 138)\",\"rgb(65, 157, 129)\",\"rgb(25, 137, 125)\",\"rgb(18, 116, 117)\",\"rgb(25, 94, 106)\",\"rgb(28, 72, 93)\",\"rgb(25, 51, 80)\",\"rgb(20, 29, 67)\"]},\"orientation\":\"h\",\"x\":[1,1,1,1,1,1,1,1,1,1,1,1],\"y\":[\"tempo\",\"tempo\",\"tempo\",\"tempo\",\"tempo\",\"tempo\",\"tempo\",\"tempo\",\"tempo\",\"tempo\",\"tempo\",\"tempo\"],\"type\":\"bar\"},{\"customdata\":[0,1,2,3,4,5,6,7,8,9,10,11],\"hovertemplate\":\"%{y}[%{customdata}] = %{marker.color}\\u003cextra\\u003e\\u003c\\u002fextra\\u003e\",\"marker\":{\"color\":[\"rgb(241, 236, 236)\",\"rgb(230, 209, 203)\",\"rgb(221, 182, 170)\",\"rgb(213, 156, 137)\",\"rgb(205, 129, 103)\",\"rgb(196, 102, 73)\",\"rgb(186, 74, 47)\",\"rgb(172, 44, 36)\",\"rgb(149, 19, 39)\",\"rgb(120, 14, 40)\",\"rgb(89, 13, 31)\",\"rgb(60, 9, 17)\"]},\"orientation\":\"h\",\"x\":[1,1,1,1,1,1,1,1,1,1,1,1],\"y\":[\"amp\",\"amp\",\"amp\",\"amp\",\"amp\",\"amp\",\"amp\",\"amp\",\"amp\",\"amp\",\"amp\",\"amp\"],\"type\":\"bar\"},{\"customdata\":[0,1,2,3,4,5,6,7,8,9,10,11],\"hovertemplate\":\"%{y}[%{customdata}] = %{marker.color}\\u003cextra\\u003e\\u003c\\u002fextra\\u003e\",\"marker\":{\"color\":[\"rgb(254, 252, 205)\",\"rgb(239, 225, 156)\",\"rgb(221, 201, 106)\",\"rgb(194, 182, 59)\",\"rgb(157, 167, 21)\",\"rgb(116, 153, 5)\",\"rgb(75, 138, 20)\",\"rgb(35, 121, 36)\",\"rgb(11, 100, 44)\",\"rgb(18, 78, 43)\",\"rgb(25, 56, 34)\",\"rgb(23, 35, 18)\"]},\"orientation\":\"h\",\"x\":[1,1,1,1,1,1,1,1,1,1,1,1],\"y\":[\"speed\",\"speed\",\"speed\",\"speed\",\"speed\",\"speed\",\"speed\",\"speed\",\"speed\",\"speed\",\"speed\",\"speed\"],\"type\":\"bar\"},{\"customdata\":[0,1,2,3,4,5,6,7,8,9,10,11],\"hovertemplate\":\"%{y}[%{customdata}] = %{marker.color}\\u003cextra\\u003e\\u003c\\u002fextra\\u003e\",\"marker\":{\"color\":[\"rgb(253, 237, 176)\",\"rgb(250, 205, 145)\",\"rgb(246, 173, 119)\",\"rgb(240, 142, 98)\",\"rgb(231, 109, 84)\",\"rgb(216, 80, 83)\",\"rgb(195, 56, 90)\",\"rgb(168, 40, 96)\",\"rgb(138, 29, 99)\",\"rgb(107, 24, 93)\",\"rgb(76, 21, 80)\",\"rgb(47, 15, 61)\"]},\"orientation\":\"h\",\"x\":[1,1,1,1,1,1,1,1,1,1,1,1],\"y\":[\"matter\",\"matter\",\"matter\",\"matter\",\"matter\",\"matter\",\"matter\",\"matter\",\"matter\",\"matter\",\"matter\",\"matter\"],\"type\":\"bar\"},{\"customdata\":[0,1,2,3,4,5,6,7,8,9,10,11],\"hovertemplate\":\"%{y}[%{customdata}] = %{marker.color}\\u003cextra\\u003e\\u003c\\u002fextra\\u003e\",\"marker\":{\"color\":[\"rgb(214, 249, 207)\",\"rgb(186, 228, 174)\",\"rgb(156, 209, 143)\",\"rgb(124, 191, 115)\",\"rgb(85, 174, 91)\",\"rgb(37, 157, 81)\",\"rgb(7, 138, 78)\",\"rgb(13, 117, 71)\",\"rgb(23, 95, 61)\",\"rgb(25, 75, 49)\",\"rgb(23, 55, 35)\",\"rgb(17, 36, 20)\"]},\"orientation\":\"h\",\"x\":[1,1,1,1,1,1,1,1,1,1,1,1],\"y\":[\"algae\",\"algae\",\"algae\",\"algae\",\"algae\",\"algae\",\"algae\",\"algae\",\"algae\",\"algae\",\"algae\",\"algae\"],\"type\":\"bar\"},{\"customdata\":[0,1,2,3,4,5,6,7,8,9,10,11],\"hovertemplate\":\"%{y}[%{customdata}] = %{marker.color}\\u003cextra\\u003e\\u003c\\u002fextra\\u003e\",\"marker\":{\"color\":[\"rgb(230, 240, 240)\",\"rgb(191, 221, 229)\",\"rgb(156, 201, 226)\",\"rgb(129, 180, 227)\",\"rgb(115, 154, 228)\",\"rgb(117, 127, 221)\",\"rgb(120, 100, 202)\",\"rgb(119, 74, 175)\",\"rgb(113, 50, 141)\",\"rgb(100, 31, 104)\",\"rgb(80, 20, 66)\",\"rgb(54, 14, 36)\"]},\"orientation\":\"h\",\"x\":[1,1,1,1,1,1,1,1,1,1,1,1],\"y\":[\"dense\",\"dense\",\"dense\",\"dense\",\"dense\",\"dense\",\"dense\",\"dense\",\"dense\",\"dense\",\"dense\",\"dense\"],\"type\":\"bar\"},{\"customdata\":[0,1,2,3,4,5,6,7,8,9,10,11],\"hovertemplate\":\"%{y}[%{customdata}] = %{marker.color}\\u003cextra\\u003e\\u003c\\u002fextra\\u003e\",\"marker\":{\"color\":[\"rgb(253, 253, 204)\",\"rgb(206, 236, 179)\",\"rgb(156, 219, 165)\",\"rgb(111, 201, 163)\",\"rgb(86, 177, 163)\",\"rgb(76, 153, 160)\",\"rgb(68, 130, 155)\",\"rgb(62, 108, 150)\",\"rgb(62, 82, 143)\",\"rgb(64, 60, 115)\",\"rgb(54, 43, 77)\",\"rgb(39, 26, 44)\"]},\"orientation\":\"h\",\"x\":[1,1,1,1,1,1,1,1,1,1,1,1],\"y\":[\"deep\",\"deep\",\"deep\",\"deep\",\"deep\",\"deep\",\"deep\",\"deep\",\"deep\",\"deep\",\"deep\",\"deep\"],\"type\":\"bar\"},{\"customdata\":[0,1,2,3,4,5,6,7,8,9,10,11],\"hovertemplate\":\"%{y}[%{customdata}] = %{marker.color}\\u003cextra\\u003e\\u003c\\u002fextra\\u003e\",\"marker\":{\"color\":[\"rgb(0, 0, 0)\",\"rgb(16, 16, 16)\",\"rgb(38, 38, 38)\",\"rgb(59, 59, 59)\",\"rgb(81, 80, 80)\",\"rgb(102, 101, 101)\",\"rgb(124, 123, 122)\",\"rgb(146, 146, 145)\",\"rgb(171, 171, 170)\",\"rgb(197, 197, 195)\",\"rgb(224, 224, 223)\",\"rgb(254, 254, 253)\"]},\"orientation\":\"h\",\"x\":[1,1,1,1,1,1,1,1,1,1,1,1],\"y\":[\"gray\",\"gray\",\"gray\",\"gray\",\"gray\",\"gray\",\"gray\",\"gray\",\"gray\",\"gray\",\"gray\",\"gray\"],\"type\":\"bar\"},{\"customdata\":[0,1,2,3,4,5,6,7,8,9,10,11],\"hovertemplate\":\"%{y}[%{customdata}] = %{marker.color}\\u003cextra\\u003e\\u003c\\u002fextra\\u003e\",\"marker\":{\"color\":[\"rgb(3, 5, 18)\",\"rgb(25, 25, 51)\",\"rgb(44, 42, 87)\",\"rgb(58, 60, 125)\",\"rgb(62, 83, 160)\",\"rgb(62, 109, 178)\",\"rgb(72, 134, 187)\",\"rgb(89, 159, 196)\",\"rgb(114, 184, 205)\",\"rgb(149, 207, 216)\",\"rgb(192, 229, 232)\",\"rgb(234, 252, 253)\"]},\"orientation\":\"h\",\"x\":[1,1,1,1,1,1,1,1,1,1,1,1],\"y\":[\"ice\",\"ice\",\"ice\",\"ice\",\"ice\",\"ice\",\"ice\",\"ice\",\"ice\",\"ice\",\"ice\",\"ice\"],\"type\":\"bar\"},{\"customdata\":[0,1,2,3,4,5,6,7,8,9,10,11],\"hovertemplate\":\"%{y}[%{customdata}] = %{marker.color}\\u003cextra\\u003e\\u003c\\u002fextra\\u003e\",\"marker\":{\"color\":[\"rgb(51, 19, 23)\",\"rgb(79, 28, 33)\",\"rgb(108, 36, 36)\",\"rgb(135, 47, 32)\",\"rgb(157, 66, 25)\",\"rgb(174, 88, 20)\",\"rgb(188, 111, 19)\",\"rgb(199, 137, 22)\",\"rgb(209, 164, 32)\",\"rgb(217, 192, 44)\",\"rgb(222, 222, 59)\",\"rgb(224, 253, 74)\"]},\"orientation\":\"h\",\"x\":[1,1,1,1,1,1,1,1,1,1,1,1],\"y\":[\"solar\",\"solar\",\"solar\",\"solar\",\"solar\",\"solar\",\"solar\",\"solar\",\"solar\",\"solar\",\"solar\",\"solar\"],\"type\":\"bar\"},{\"customdata\":[0,1,2,3,4,5,6,7,8,9,10,11],\"hovertemplate\":\"%{y}[%{customdata}] = %{marker.color}\\u003cextra\\u003e\\u003c\\u002fextra\\u003e\",\"marker\":{\"color\":[\"rgb(41, 24, 107)\",\"rgb(42, 35, 160)\",\"rgb(15, 71, 153)\",\"rgb(18, 95, 142)\",\"rgb(38, 116, 137)\",\"rgb(53, 136, 136)\",\"rgb(65, 157, 133)\",\"rgb(81, 178, 124)\",\"rgb(111, 198, 107)\",\"rgb(160, 214, 91)\",\"rgb(212, 225, 112)\",\"rgb(253, 238, 153)\"]},\"orientation\":\"h\",\"x\":[1,1,1,1,1,1,1,1,1,1,1,1],\"y\":[\"haline\",\"haline\",\"haline\",\"haline\",\"haline\",\"haline\",\"haline\",\"haline\",\"haline\",\"haline\",\"haline\",\"haline\"],\"type\":\"bar\"},{\"customdata\":[0,1,2,3,4,5,6,7,8,9,10,11],\"hovertemplate\":\"%{y}[%{customdata}] = %{marker.color}\\u003cextra\\u003e\\u003c\\u002fextra\\u003e\",\"marker\":{\"color\":[\"rgb(3, 35, 51)\",\"rgb(13, 48, 100)\",\"rgb(53, 50, 155)\",\"rgb(93, 62, 153)\",\"rgb(126, 77, 143)\",\"rgb(158, 89, 135)\",\"rgb(193, 100, 121)\",\"rgb(225, 113, 97)\",\"rgb(246, 139, 69)\",\"rgb(251, 173, 60)\",\"rgb(246, 211, 70)\",\"rgb(231, 250, 90)\"]},\"orientation\":\"h\",\"x\":[1,1,1,1,1,1,1,1,1,1,1,1],\"y\":[\"thermal\",\"thermal\",\"thermal\",\"thermal\",\"thermal\",\"thermal\",\"thermal\",\"thermal\",\"thermal\",\"thermal\",\"thermal\",\"thermal\"],\"type\":\"bar\"},{\"customdata\":[0,1,2,3,4,5,6,7,8,9,10,11],\"hovertemplate\":\"%{y}[%{customdata}] = %{marker.color}\\u003cextra\\u003e\\u003c\\u002fextra\\u003e\",\"marker\":{\"color\":[\"rgb(232, 245, 171)\",\"rgb(220, 219, 137)\",\"rgb(209, 193, 107)\",\"rgb(199, 168, 83)\",\"rgb(186, 143, 66)\",\"rgb(170, 121, 60)\",\"rgb(151, 103, 58)\",\"rgb(129, 87, 56)\",\"rgb(104, 72, 53)\",\"rgb(80, 59, 46)\",\"rgb(57, 45, 37)\",\"rgb(34, 30, 27)\"]},\"orientation\":\"h\",\"x\":[1,1,1,1,1,1,1,1,1,1,1,1],\"y\":[\"turbid\",\"turbid\",\"turbid\",\"turbid\",\"turbid\",\"turbid\",\"turbid\",\"turbid\",\"turbid\",\"turbid\",\"turbid\",\"turbid\"],\"type\":\"bar\"},{\"customdata\":[0,1,2,3,4,5,6,7,8],\"hovertemplate\":\"%{y}[%{customdata}] = %{marker.color}\\u003cextra\\u003e\\u003c\\u002fextra\\u003e\",\"marker\":{\"color\":[\"rgb(255,255,204)\",\"rgb(255,237,160)\",\"rgb(254,217,118)\",\"rgb(254,178,76)\",\"rgb(253,141,60)\",\"rgb(252,78,42)\",\"rgb(227,26,28)\",\"rgb(189,0,38)\",\"rgb(128,0,38)\"]},\"orientation\":\"h\",\"x\":[1,1,1,1,1,1,1,1,1],\"y\":[\"YlOrRd\",\"YlOrRd\",\"YlOrRd\",\"YlOrRd\",\"YlOrRd\",\"YlOrRd\",\"YlOrRd\",\"YlOrRd\",\"YlOrRd\"],\"type\":\"bar\"},{\"customdata\":[0,1,2,3,4,5,6,7,8],\"hovertemplate\":\"%{y}[%{customdata}] = %{marker.color}\\u003cextra\\u003e\\u003c\\u002fextra\\u003e\",\"marker\":{\"color\":[\"rgb(255,255,229)\",\"rgb(255,247,188)\",\"rgb(254,227,145)\",\"rgb(254,196,79)\",\"rgb(254,153,41)\",\"rgb(236,112,20)\",\"rgb(204,76,2)\",\"rgb(153,52,4)\",\"rgb(102,37,6)\"]},\"orientation\":\"h\",\"x\":[1,1,1,1,1,1,1,1,1],\"y\":[\"YlOrBr\",\"YlOrBr\",\"YlOrBr\",\"YlOrBr\",\"YlOrBr\",\"YlOrBr\",\"YlOrBr\",\"YlOrBr\",\"YlOrBr\"],\"type\":\"bar\"},{\"customdata\":[0,1,2,3,4,5,6,7,8],\"hovertemplate\":\"%{y}[%{customdata}] = %{marker.color}\\u003cextra\\u003e\\u003c\\u002fextra\\u003e\",\"marker\":{\"color\":[\"rgb(255,255,217)\",\"rgb(237,248,177)\",\"rgb(199,233,180)\",\"rgb(127,205,187)\",\"rgb(65,182,196)\",\"rgb(29,145,192)\",\"rgb(34,94,168)\",\"rgb(37,52,148)\",\"rgb(8,29,88)\"]},\"orientation\":\"h\",\"x\":[1,1,1,1,1,1,1,1,1],\"y\":[\"YlGnBu\",\"YlGnBu\",\"YlGnBu\",\"YlGnBu\",\"YlGnBu\",\"YlGnBu\",\"YlGnBu\",\"YlGnBu\",\"YlGnBu\"],\"type\":\"bar\"},{\"customdata\":[0,1,2,3,4,5,6,7,8],\"hovertemplate\":\"%{y}[%{customdata}] = %{marker.color}\\u003cextra\\u003e\\u003c\\u002fextra\\u003e\",\"marker\":{\"color\":[\"rgb(255,255,229)\",\"rgb(247,252,185)\",\"rgb(217,240,163)\",\"rgb(173,221,142)\",\"rgb(120,198,121)\",\"rgb(65,171,93)\",\"rgb(35,132,67)\",\"rgb(0,104,55)\",\"rgb(0,69,41)\"]},\"orientation\":\"h\",\"x\":[1,1,1,1,1,1,1,1,1],\"y\":[\"YlGn\",\"YlGn\",\"YlGn\",\"YlGn\",\"YlGn\",\"YlGn\",\"YlGn\",\"YlGn\",\"YlGn\"],\"type\":\"bar\"},{\"customdata\":[0,1,2,3,4,5,6,7,8],\"hovertemplate\":\"%{y}[%{customdata}] = %{marker.color}\\u003cextra\\u003e\\u003c\\u002fextra\\u003e\",\"marker\":{\"color\":[\"rgb(255,245,240)\",\"rgb(254,224,210)\",\"rgb(252,187,161)\",\"rgb(252,146,114)\",\"rgb(251,106,74)\",\"rgb(239,59,44)\",\"rgb(203,24,29)\",\"rgb(165,15,21)\",\"rgb(103,0,13)\"]},\"orientation\":\"h\",\"x\":[1,1,1,1,1,1,1,1,1],\"y\":[\"Reds\",\"Reds\",\"Reds\",\"Reds\",\"Reds\",\"Reds\",\"Reds\",\"Reds\",\"Reds\"],\"type\":\"bar\"},{\"customdata\":[0,1,2,3,4,5,6,7,8],\"hovertemplate\":\"%{y}[%{customdata}] = %{marker.color}\\u003cextra\\u003e\\u003c\\u002fextra\\u003e\",\"marker\":{\"color\":[\"rgb(255,247,243)\",\"rgb(253,224,221)\",\"rgb(252,197,192)\",\"rgb(250,159,181)\",\"rgb(247,104,161)\",\"rgb(221,52,151)\",\"rgb(174,1,126)\",\"rgb(122,1,119)\",\"rgb(73,0,106)\"]},\"orientation\":\"h\",\"x\":[1,1,1,1,1,1,1,1,1],\"y\":[\"RdPu\",\"RdPu\",\"RdPu\",\"RdPu\",\"RdPu\",\"RdPu\",\"RdPu\",\"RdPu\",\"RdPu\"],\"type\":\"bar\"},{\"customdata\":[0,1,2,3,4,5,6,7,8,9,10],\"hovertemplate\":\"%{y}[%{customdata}] = %{marker.color}\\u003cextra\\u003e\\u003c\\u002fextra\\u003e\",\"marker\":{\"color\":[\"rgb(103,0,31)\",\"rgb(178,24,43)\",\"rgb(214,96,77)\",\"rgb(244,165,130)\",\"rgb(253,219,199)\",\"rgb(247,247,247)\",\"rgb(209,229,240)\",\"rgb(146,197,222)\",\"rgb(67,147,195)\",\"rgb(33,102,172)\",\"rgb(5,48,97)\"]},\"orientation\":\"h\",\"x\":[1,1,1,1,1,1,1,1,1,1,1],\"y\":[\"RdBu\",\"RdBu\",\"RdBu\",\"RdBu\",\"RdBu\",\"RdBu\",\"RdBu\",\"RdBu\",\"RdBu\",\"RdBu\",\"RdBu\"],\"type\":\"bar\"},{\"customdata\":[0,1,2,3,4,5,6,7,8],\"hovertemplate\":\"%{y}[%{customdata}] = %{marker.color}\\u003cextra\\u003e\\u003c\\u002fextra\\u003e\",\"marker\":{\"color\":[\"rgb(252,251,253)\",\"rgb(239,237,245)\",\"rgb(218,218,235)\",\"rgb(188,189,220)\",\"rgb(158,154,200)\",\"rgb(128,125,186)\",\"rgb(106,81,163)\",\"rgb(84,39,143)\",\"rgb(63,0,125)\"]},\"orientation\":\"h\",\"x\":[1,1,1,1,1,1,1,1,1],\"y\":[\"Purples\",\"Purples\",\"Purples\",\"Purples\",\"Purples\",\"Purples\",\"Purples\",\"Purples\",\"Purples\"],\"type\":\"bar\"},{\"customdata\":[0,1,2,3,4,5,6,7,8],\"hovertemplate\":\"%{y}[%{customdata}] = %{marker.color}\\u003cextra\\u003e\\u003c\\u002fextra\\u003e\",\"marker\":{\"color\":[\"rgb(247,244,249)\",\"rgb(231,225,239)\",\"rgb(212,185,218)\",\"rgb(201,148,199)\",\"rgb(223,101,176)\",\"rgb(231,41,138)\",\"rgb(206,18,86)\",\"rgb(152,0,67)\",\"rgb(103,0,31)\"]},\"orientation\":\"h\",\"x\":[1,1,1,1,1,1,1,1,1],\"y\":[\"PuRd\",\"PuRd\",\"PuRd\",\"PuRd\",\"PuRd\",\"PuRd\",\"PuRd\",\"PuRd\",\"PuRd\"],\"type\":\"bar\"},{\"customdata\":[0,1,2,3,4,5,6,7,8],\"hovertemplate\":\"%{y}[%{customdata}] = %{marker.color}\\u003cextra\\u003e\\u003c\\u002fextra\\u003e\",\"marker\":{\"color\":[\"rgb(255,247,251)\",\"rgb(236,226,240)\",\"rgb(208,209,230)\",\"rgb(166,189,219)\",\"rgb(103,169,207)\",\"rgb(54,144,192)\",\"rgb(2,129,138)\",\"rgb(1,108,89)\",\"rgb(1,70,54)\"]},\"orientation\":\"h\",\"x\":[1,1,1,1,1,1,1,1,1],\"y\":[\"PuBuGn\",\"PuBuGn\",\"PuBuGn\",\"PuBuGn\",\"PuBuGn\",\"PuBuGn\",\"PuBuGn\",\"PuBuGn\",\"PuBuGn\"],\"type\":\"bar\"},{\"customdata\":[0,1,2,3,4,5,6,7,8],\"hovertemplate\":\"%{y}[%{customdata}] = %{marker.color}\\u003cextra\\u003e\\u003c\\u002fextra\\u003e\",\"marker\":{\"color\":[\"rgb(255,247,251)\",\"rgb(236,231,242)\",\"rgb(208,209,230)\",\"rgb(166,189,219)\",\"rgb(116,169,207)\",\"rgb(54,144,192)\",\"rgb(5,112,176)\",\"rgb(4,90,141)\",\"rgb(2,56,88)\"]},\"orientation\":\"h\",\"x\":[1,1,1,1,1,1,1,1,1],\"y\":[\"PuBu\",\"PuBu\",\"PuBu\",\"PuBu\",\"PuBu\",\"PuBu\",\"PuBu\",\"PuBu\",\"PuBu\"],\"type\":\"bar\"},{\"customdata\":[0,1,2,3,4,5,6,7,8],\"hovertemplate\":\"%{y}[%{customdata}] = %{marker.color}\\u003cextra\\u003e\\u003c\\u002fextra\\u003e\",\"marker\":{\"color\":[\"rgb(255,245,235)\",\"rgb(254,230,206)\",\"rgb(253,208,162)\",\"rgb(253,174,107)\",\"rgb(253,141,60)\",\"rgb(241,105,19)\",\"rgb(217,72,1)\",\"rgb(166,54,3)\",\"rgb(127,39,4)\"]},\"orientation\":\"h\",\"x\":[1,1,1,1,1,1,1,1,1],\"y\":[\"Oranges\",\"Oranges\",\"Oranges\",\"Oranges\",\"Oranges\",\"Oranges\",\"Oranges\",\"Oranges\",\"Oranges\"],\"type\":\"bar\"},{\"customdata\":[0,1,2,3,4,5,6,7,8],\"hovertemplate\":\"%{y}[%{customdata}] = %{marker.color}\\u003cextra\\u003e\\u003c\\u002fextra\\u003e\",\"marker\":{\"color\":[\"rgb(255,247,236)\",\"rgb(254,232,200)\",\"rgb(253,212,158)\",\"rgb(253,187,132)\",\"rgb(252,141,89)\",\"rgb(239,101,72)\",\"rgb(215,48,31)\",\"rgb(179,0,0)\",\"rgb(127,0,0)\"]},\"orientation\":\"h\",\"x\":[1,1,1,1,1,1,1,1,1],\"y\":[\"OrRd\",\"OrRd\",\"OrRd\",\"OrRd\",\"OrRd\",\"OrRd\",\"OrRd\",\"OrRd\",\"OrRd\"],\"type\":\"bar\"},{\"customdata\":[0,1,2,3,4,5,6,7,8],\"hovertemplate\":\"%{y}[%{customdata}] = %{marker.color}\\u003cextra\\u003e\\u003c\\u002fextra\\u003e\",\"marker\":{\"color\":[\"rgb(255,255,255)\",\"rgb(240,240,240)\",\"rgb(217,217,217)\",\"rgb(189,189,189)\",\"rgb(150,150,150)\",\"rgb(115,115,115)\",\"rgb(82,82,82)\",\"rgb(37,37,37)\",\"rgb(0,0,0)\"]},\"orientation\":\"h\",\"x\":[1,1,1,1,1,1,1,1,1],\"y\":[\"Greys\",\"Greys\",\"Greys\",\"Greys\",\"Greys\",\"Greys\",\"Greys\",\"Greys\",\"Greys\"],\"type\":\"bar\"},{\"customdata\":[0,1,2,3,4,5,6,7,8],\"hovertemplate\":\"%{y}[%{customdata}] = %{marker.color}\\u003cextra\\u003e\\u003c\\u002fextra\\u003e\",\"marker\":{\"color\":[\"rgb(247,252,245)\",\"rgb(229,245,224)\",\"rgb(199,233,192)\",\"rgb(161,217,155)\",\"rgb(116,196,118)\",\"rgb(65,171,93)\",\"rgb(35,139,69)\",\"rgb(0,109,44)\",\"rgb(0,68,27)\"]},\"orientation\":\"h\",\"x\":[1,1,1,1,1,1,1,1,1],\"y\":[\"Greens\",\"Greens\",\"Greens\",\"Greens\",\"Greens\",\"Greens\",\"Greens\",\"Greens\",\"Greens\"],\"type\":\"bar\"},{\"customdata\":[0,1,2,3,4,5,6,7,8],\"hovertemplate\":\"%{y}[%{customdata}] = %{marker.color}\\u003cextra\\u003e\\u003c\\u002fextra\\u003e\",\"marker\":{\"color\":[\"rgb(247,252,240)\",\"rgb(224,243,219)\",\"rgb(204,235,197)\",\"rgb(168,221,181)\",\"rgb(123,204,196)\",\"rgb(78,179,211)\",\"rgb(43,140,190)\",\"rgb(8,104,172)\",\"rgb(8,64,129)\"]},\"orientation\":\"h\",\"x\":[1,1,1,1,1,1,1,1,1],\"y\":[\"GnBu\",\"GnBu\",\"GnBu\",\"GnBu\",\"GnBu\",\"GnBu\",\"GnBu\",\"GnBu\",\"GnBu\"],\"type\":\"bar\"},{\"customdata\":[0,1,2,3,4,5,6,7,8],\"hovertemplate\":\"%{y}[%{customdata}] = %{marker.color}\\u003cextra\\u003e\\u003c\\u002fextra\\u003e\",\"marker\":{\"color\":[\"rgb(247,252,253)\",\"rgb(224,236,244)\",\"rgb(191,211,230)\",\"rgb(158,188,218)\",\"rgb(140,150,198)\",\"rgb(140,107,177)\",\"rgb(136,65,157)\",\"rgb(129,15,124)\",\"rgb(77,0,75)\"]},\"orientation\":\"h\",\"x\":[1,1,1,1,1,1,1,1,1],\"y\":[\"BuPu\",\"BuPu\",\"BuPu\",\"BuPu\",\"BuPu\",\"BuPu\",\"BuPu\",\"BuPu\",\"BuPu\"],\"type\":\"bar\"},{\"customdata\":[0,1,2,3,4,5,6,7,8],\"hovertemplate\":\"%{y}[%{customdata}] = %{marker.color}\\u003cextra\\u003e\\u003c\\u002fextra\\u003e\",\"marker\":{\"color\":[\"rgb(247,252,253)\",\"rgb(229,245,249)\",\"rgb(204,236,230)\",\"rgb(153,216,201)\",\"rgb(102,194,164)\",\"rgb(65,174,118)\",\"rgb(35,139,69)\",\"rgb(0,109,44)\",\"rgb(0,68,27)\"]},\"orientation\":\"h\",\"x\":[1,1,1,1,1,1,1,1,1],\"y\":[\"BuGn\",\"BuGn\",\"BuGn\",\"BuGn\",\"BuGn\",\"BuGn\",\"BuGn\",\"BuGn\",\"BuGn\"],\"type\":\"bar\"},{\"customdata\":[0,1,2,3,4,5,6,7,8],\"hovertemplate\":\"%{y}[%{customdata}] = %{marker.color}\\u003cextra\\u003e\\u003c\\u002fextra\\u003e\",\"marker\":{\"color\":[\"rgb(247,251,255)\",\"rgb(222,235,247)\",\"rgb(198,219,239)\",\"rgb(158,202,225)\",\"rgb(107,174,214)\",\"rgb(66,146,198)\",\"rgb(33,113,181)\",\"rgb(8,81,156)\",\"rgb(8,48,107)\"]},\"orientation\":\"h\",\"x\":[1,1,1,1,1,1,1,1,1],\"y\":[\"Blues\",\"Blues\",\"Blues\",\"Blues\",\"Blues\",\"Blues\",\"Blues\",\"Blues\",\"Blues\"],\"type\":\"bar\"},{\"customdata\":[0,1,2,3,4,5,6,7,8],\"hovertemplate\":\"%{y}[%{customdata}] = %{marker.color}\\u003cextra\\u003e\\u003c\\u002fextra\\u003e\",\"marker\":{\"color\":[\"rgb(150,0,90)\",\"rgb(0,0,200)\",\"rgb(0,25,255)\",\"rgb(0,152,255)\",\"rgb(44,255,150)\",\"rgb(151,255,0)\",\"rgb(255,234,0)\",\"rgb(255,111,0)\",\"rgb(255,0,0)\"]},\"orientation\":\"h\",\"x\":[1,1,1,1,1,1,1,1,1],\"y\":[\"Rainbow\",\"Rainbow\",\"Rainbow\",\"Rainbow\",\"Rainbow\",\"Rainbow\",\"Rainbow\",\"Rainbow\",\"Rainbow\"],\"type\":\"bar\"},{\"customdata\":[0,1,2,3,4,5],\"hovertemplate\":\"%{y}[%{customdata}] = %{marker.color}\\u003cextra\\u003e\\u003c\\u002fextra\\u003e\",\"marker\":{\"color\":[\"rgb(0,0,131)\",\"rgb(0,60,170)\",\"rgb(5,255,255)\",\"rgb(255,255,0)\",\"rgb(250,0,0)\",\"rgb(128,0,0)\"]},\"orientation\":\"h\",\"x\":[1,1,1,1,1,1],\"y\":[\"Jet\",\"Jet\",\"Jet\",\"Jet\",\"Jet\",\"Jet\"],\"type\":\"bar\"},{\"customdata\":[0,1,2,3],\"hovertemplate\":\"%{y}[%{customdata}] = %{marker.color}\\u003cextra\\u003e\\u003c\\u002fextra\\u003e\",\"marker\":{\"color\":[\"rgb(0,0,0)\",\"rgb(230,0,0)\",\"rgb(255,210,0)\",\"rgb(255,255,255)\"]},\"orientation\":\"h\",\"x\":[1,1,1,1],\"y\":[\"Hot\",\"Hot\",\"Hot\",\"Hot\"],\"type\":\"bar\"},{\"customdata\":[0,1,2,3,4,5],\"hovertemplate\":\"%{y}[%{customdata}] = %{marker.color}\\u003cextra\\u003e\\u003c\\u002fextra\\u003e\",\"marker\":{\"color\":[\"rgb(0,0,0)\",\"rgb(30,0,100)\",\"rgb(120,0,100)\",\"rgb(160,90,0)\",\"rgb(230,200,0)\",\"rgb(255,250,220)\"]},\"orientation\":\"h\",\"x\":[1,1,1,1,1,1],\"y\":[\"Electric\",\"Electric\",\"Electric\",\"Electric\",\"Electric\",\"Electric\"],\"type\":\"bar\"},{\"customdata\":[0,1],\"hovertemplate\":\"%{y}[%{customdata}] = %{marker.color}\\u003cextra\\u003e\\u003c\\u002fextra\\u003e\",\"marker\":{\"color\":[\"rgb(0,0,255)\",\"rgb(255,0,0)\"]},\"orientation\":\"h\",\"x\":[1,1],\"y\":[\"Bluered\",\"Bluered\"],\"type\":\"bar\"},{\"customdata\":[0,1,2,3,4],\"hovertemplate\":\"%{y}[%{customdata}] = %{marker.color}\\u003cextra\\u003e\\u003c\\u002fextra\\u003e\",\"marker\":{\"color\":[\"rgb(0,0,0)\",\"rgb(230,0,0)\",\"rgb(230,210,0)\",\"rgb(255,255,255)\",\"rgb(160,200,255)\"]},\"orientation\":\"h\",\"x\":[1,1,1,1,1],\"y\":[\"Blackbody\",\"Blackbody\",\"Blackbody\",\"Blackbody\",\"Blackbody\"],\"type\":\"bar\"},{\"customdata\":[0,1,2,3,4,5,6,7,8,9,10,11,12,13,14],\"hovertemplate\":\"%{y}[%{customdata}] = %{marker.color}\\u003cextra\\u003e\\u003c\\u002fextra\\u003e\",\"marker\":{\"color\":[\"#30123b\",\"#4145ab\",\"#4675ed\",\"#39a2fc\",\"#1bcfd4\",\"#24eca6\",\"#61fc6c\",\"#a4fc3b\",\"#d1e834\",\"#f3c63a\",\"#fe9b2d\",\"#f36315\",\"#d93806\",\"#b11901\",\"#7a0402\"]},\"orientation\":\"h\",\"x\":[1,1,1,1,1,1,1,1,1,1,1,1,1,1,1],\"y\":[\"Turbo\",\"Turbo\",\"Turbo\",\"Turbo\",\"Turbo\",\"Turbo\",\"Turbo\",\"Turbo\",\"Turbo\",\"Turbo\",\"Turbo\",\"Turbo\",\"Turbo\",\"Turbo\",\"Turbo\"],\"type\":\"bar\"},{\"customdata\":[0,1,2,3,4,5,6,7,8,9],\"hovertemplate\":\"%{y}[%{customdata}] = %{marker.color}\\u003cextra\\u003e\\u003c\\u002fextra\\u003e\",\"marker\":{\"color\":[\"#0d0887\",\"#46039f\",\"#7201a8\",\"#9c179e\",\"#bd3786\",\"#d8576b\",\"#ed7953\",\"#fb9f3a\",\"#fdca26\",\"#f0f921\"]},\"orientation\":\"h\",\"x\":[1,1,1,1,1,1,1,1,1,1],\"y\":[\"Plasma\",\"Plasma\",\"Plasma\",\"Plasma\",\"Plasma\",\"Plasma\",\"Plasma\",\"Plasma\",\"Plasma\",\"Plasma\"],\"type\":\"bar\"},{\"customdata\":[0,1,2,3,4,5,6,7,8,9],\"hovertemplate\":\"%{y}[%{customdata}] = %{marker.color}\\u003cextra\\u003e\\u003c\\u002fextra\\u003e\",\"marker\":{\"color\":[\"#000004\",\"#180f3d\",\"#440f76\",\"#721f81\",\"#9e2f7f\",\"#cd4071\",\"#f1605d\",\"#fd9668\",\"#feca8d\",\"#fcfdbf\"]},\"orientation\":\"h\",\"x\":[1,1,1,1,1,1,1,1,1,1],\"y\":[\"Magma\",\"Magma\",\"Magma\",\"Magma\",\"Magma\",\"Magma\",\"Magma\",\"Magma\",\"Magma\",\"Magma\"],\"type\":\"bar\"},{\"customdata\":[0,1,2,3,4,5,6,7,8,9],\"hovertemplate\":\"%{y}[%{customdata}] = %{marker.color}\\u003cextra\\u003e\\u003c\\u002fextra\\u003e\",\"marker\":{\"color\":[\"#000004\",\"#1b0c41\",\"#4a0c6b\",\"#781c6d\",\"#a52c60\",\"#cf4446\",\"#ed6925\",\"#fb9b06\",\"#f7d13d\",\"#fcffa4\"]},\"orientation\":\"h\",\"x\":[1,1,1,1,1,1,1,1,1,1],\"y\":[\"Inferno\",\"Inferno\",\"Inferno\",\"Inferno\",\"Inferno\",\"Inferno\",\"Inferno\",\"Inferno\",\"Inferno\",\"Inferno\"],\"type\":\"bar\"},{\"customdata\":[0,1,2,3,4,5,6,7,8,9],\"hovertemplate\":\"%{y}[%{customdata}] = %{marker.color}\\u003cextra\\u003e\\u003c\\u002fextra\\u003e\",\"marker\":{\"color\":[\"#00224e\",\"#123570\",\"#3b496c\",\"#575d6d\",\"#707173\",\"#8a8678\",\"#a59c74\",\"#c3b369\",\"#e1cc55\",\"#fee838\"]},\"orientation\":\"h\",\"x\":[1,1,1,1,1,1,1,1,1,1],\"y\":[\"Cividis\",\"Cividis\",\"Cividis\",\"Cividis\",\"Cividis\",\"Cividis\",\"Cividis\",\"Cividis\",\"Cividis\",\"Cividis\"],\"type\":\"bar\"},{\"customdata\":[0,1,2,3,4,5,6,7,8,9],\"hovertemplate\":\"%{y}[%{customdata}] = %{marker.color}\\u003cextra\\u003e\\u003c\\u002fextra\\u003e\",\"marker\":{\"color\":[\"#440154\",\"#482878\",\"#3e4989\",\"#31688e\",\"#26828e\",\"#1f9e89\",\"#35b779\",\"#6ece58\",\"#b5de2b\",\"#fde725\"]},\"orientation\":\"h\",\"x\":[1,1,1,1,1,1,1,1,1,1],\"y\":[\"Viridis\",\"Viridis\",\"Viridis\",\"Viridis\",\"Viridis\",\"Viridis\",\"Viridis\",\"Viridis\",\"Viridis\",\"Viridis\"],\"type\":\"bar\"},{\"customdata\":[0,1,2,3,4,5,6,7,8,9,10,11,12],\"hovertemplate\":\"%{y}[%{customdata}] = %{marker.color}\\u003cextra\\u003e\\u003c\\u002fextra\\u003e\",\"marker\":{\"color\":[\"#0508b8\",\"#1910d8\",\"#3c19f0\",\"#6b1cfb\",\"#981cfd\",\"#bf1cfd\",\"#dd2bfd\",\"#f246fe\",\"#fc67fd\",\"#fe88fc\",\"#fea5fd\",\"#febefe\",\"#fec3fe\"]},\"orientation\":\"h\",\"x\":[1,1,1,1,1,1,1,1,1,1,1,1,1],\"y\":[\"Plotly3\",\"Plotly3\",\"Plotly3\",\"Plotly3\",\"Plotly3\",\"Plotly3\",\"Plotly3\",\"Plotly3\",\"Plotly3\",\"Plotly3\",\"Plotly3\",\"Plotly3\",\"Plotly3\"],\"type\":\"bar\"}],                        {\"bargap\":0.5,\"barmode\":\"stack\",\"barnorm\":\"fraction\",\"height\":2640,\"margin\":{\"b\":10},\"showlegend\":false,\"template\":{\"data\":{\"barpolar\":[{\"marker\":{\"line\":{\"color\":\"#E5ECF6\",\"width\":0.5},\"pattern\":{\"fillmode\":\"overlay\",\"size\":10,\"solidity\":0.2}},\"type\":\"barpolar\"}],\"bar\":[{\"error_x\":{\"color\":\"#2a3f5f\"},\"error_y\":{\"color\":\"#2a3f5f\"},\"marker\":{\"line\":{\"color\":\"#E5ECF6\",\"width\":0.5},\"pattern\":{\"fillmode\":\"overlay\",\"size\":10,\"solidity\":0.2}},\"type\":\"bar\"}],\"carpet\":[{\"aaxis\":{\"endlinecolor\":\"#2a3f5f\",\"gridcolor\":\"white\",\"linecolor\":\"white\",\"minorgridcolor\":\"white\",\"startlinecolor\":\"#2a3f5f\"},\"baxis\":{\"endlinecolor\":\"#2a3f5f\",\"gridcolor\":\"white\",\"linecolor\":\"white\",\"minorgridcolor\":\"white\",\"startlinecolor\":\"#2a3f5f\"},\"type\":\"carpet\"}],\"choropleth\":[{\"colorbar\":{\"outlinewidth\":0,\"ticks\":\"\"},\"type\":\"choropleth\"}],\"contourcarpet\":[{\"colorbar\":{\"outlinewidth\":0,\"ticks\":\"\"},\"type\":\"contourcarpet\"}],\"contour\":[{\"colorbar\":{\"outlinewidth\":0,\"ticks\":\"\"},\"colorscale\":[[0.0,\"#0d0887\"],[0.1111111111111111,\"#46039f\"],[0.2222222222222222,\"#7201a8\"],[0.3333333333333333,\"#9c179e\"],[0.4444444444444444,\"#bd3786\"],[0.5555555555555556,\"#d8576b\"],[0.6666666666666666,\"#ed7953\"],[0.7777777777777778,\"#fb9f3a\"],[0.8888888888888888,\"#fdca26\"],[1.0,\"#f0f921\"]],\"type\":\"contour\"}],\"heatmapgl\":[{\"colorbar\":{\"outlinewidth\":0,\"ticks\":\"\"},\"colorscale\":[[0.0,\"#0d0887\"],[0.1111111111111111,\"#46039f\"],[0.2222222222222222,\"#7201a8\"],[0.3333333333333333,\"#9c179e\"],[0.4444444444444444,\"#bd3786\"],[0.5555555555555556,\"#d8576b\"],[0.6666666666666666,\"#ed7953\"],[0.7777777777777778,\"#fb9f3a\"],[0.8888888888888888,\"#fdca26\"],[1.0,\"#f0f921\"]],\"type\":\"heatmapgl\"}],\"heatmap\":[{\"colorbar\":{\"outlinewidth\":0,\"ticks\":\"\"},\"colorscale\":[[0.0,\"#0d0887\"],[0.1111111111111111,\"#46039f\"],[0.2222222222222222,\"#7201a8\"],[0.3333333333333333,\"#9c179e\"],[0.4444444444444444,\"#bd3786\"],[0.5555555555555556,\"#d8576b\"],[0.6666666666666666,\"#ed7953\"],[0.7777777777777778,\"#fb9f3a\"],[0.8888888888888888,\"#fdca26\"],[1.0,\"#f0f921\"]],\"type\":\"heatmap\"}],\"histogram2dcontour\":[{\"colorbar\":{\"outlinewidth\":0,\"ticks\":\"\"},\"colorscale\":[[0.0,\"#0d0887\"],[0.1111111111111111,\"#46039f\"],[0.2222222222222222,\"#7201a8\"],[0.3333333333333333,\"#9c179e\"],[0.4444444444444444,\"#bd3786\"],[0.5555555555555556,\"#d8576b\"],[0.6666666666666666,\"#ed7953\"],[0.7777777777777778,\"#fb9f3a\"],[0.8888888888888888,\"#fdca26\"],[1.0,\"#f0f921\"]],\"type\":\"histogram2dcontour\"}],\"histogram2d\":[{\"colorbar\":{\"outlinewidth\":0,\"ticks\":\"\"},\"colorscale\":[[0.0,\"#0d0887\"],[0.1111111111111111,\"#46039f\"],[0.2222222222222222,\"#7201a8\"],[0.3333333333333333,\"#9c179e\"],[0.4444444444444444,\"#bd3786\"],[0.5555555555555556,\"#d8576b\"],[0.6666666666666666,\"#ed7953\"],[0.7777777777777778,\"#fb9f3a\"],[0.8888888888888888,\"#fdca26\"],[1.0,\"#f0f921\"]],\"type\":\"histogram2d\"}],\"histogram\":[{\"marker\":{\"pattern\":{\"fillmode\":\"overlay\",\"size\":10,\"solidity\":0.2}},\"type\":\"histogram\"}],\"mesh3d\":[{\"colorbar\":{\"outlinewidth\":0,\"ticks\":\"\"},\"type\":\"mesh3d\"}],\"parcoords\":[{\"line\":{\"colorbar\":{\"outlinewidth\":0,\"ticks\":\"\"}},\"type\":\"parcoords\"}],\"pie\":[{\"automargin\":true,\"type\":\"pie\"}],\"scatter3d\":[{\"line\":{\"colorbar\":{\"outlinewidth\":0,\"ticks\":\"\"}},\"marker\":{\"colorbar\":{\"outlinewidth\":0,\"ticks\":\"\"}},\"type\":\"scatter3d\"}],\"scattercarpet\":[{\"marker\":{\"colorbar\":{\"outlinewidth\":0,\"ticks\":\"\"}},\"type\":\"scattercarpet\"}],\"scattergeo\":[{\"marker\":{\"colorbar\":{\"outlinewidth\":0,\"ticks\":\"\"}},\"type\":\"scattergeo\"}],\"scattergl\":[{\"marker\":{\"colorbar\":{\"outlinewidth\":0,\"ticks\":\"\"}},\"type\":\"scattergl\"}],\"scattermapbox\":[{\"marker\":{\"colorbar\":{\"outlinewidth\":0,\"ticks\":\"\"}},\"type\":\"scattermapbox\"}],\"scatterpolargl\":[{\"marker\":{\"colorbar\":{\"outlinewidth\":0,\"ticks\":\"\"}},\"type\":\"scatterpolargl\"}],\"scatterpolar\":[{\"marker\":{\"colorbar\":{\"outlinewidth\":0,\"ticks\":\"\"}},\"type\":\"scatterpolar\"}],\"scatter\":[{\"fillpattern\":{\"fillmode\":\"overlay\",\"size\":10,\"solidity\":0.2},\"type\":\"scatter\"}],\"scatterternary\":[{\"marker\":{\"colorbar\":{\"outlinewidth\":0,\"ticks\":\"\"}},\"type\":\"scatterternary\"}],\"surface\":[{\"colorbar\":{\"outlinewidth\":0,\"ticks\":\"\"},\"colorscale\":[[0.0,\"#0d0887\"],[0.1111111111111111,\"#46039f\"],[0.2222222222222222,\"#7201a8\"],[0.3333333333333333,\"#9c179e\"],[0.4444444444444444,\"#bd3786\"],[0.5555555555555556,\"#d8576b\"],[0.6666666666666666,\"#ed7953\"],[0.7777777777777778,\"#fb9f3a\"],[0.8888888888888888,\"#fdca26\"],[1.0,\"#f0f921\"]],\"type\":\"surface\"}],\"table\":[{\"cells\":{\"fill\":{\"color\":\"#EBF0F8\"},\"line\":{\"color\":\"white\"}},\"header\":{\"fill\":{\"color\":\"#C8D4E3\"},\"line\":{\"color\":\"white\"}},\"type\":\"table\"}]},\"layout\":{\"annotationdefaults\":{\"arrowcolor\":\"#2a3f5f\",\"arrowhead\":0,\"arrowwidth\":1},\"autotypenumbers\":\"strict\",\"coloraxis\":{\"colorbar\":{\"outlinewidth\":0,\"ticks\":\"\"}},\"colorscale\":{\"diverging\":[[0,\"#8e0152\"],[0.1,\"#c51b7d\"],[0.2,\"#de77ae\"],[0.3,\"#f1b6da\"],[0.4,\"#fde0ef\"],[0.5,\"#f7f7f7\"],[0.6,\"#e6f5d0\"],[0.7,\"#b8e186\"],[0.8,\"#7fbc41\"],[0.9,\"#4d9221\"],[1,\"#276419\"]],\"sequential\":[[0.0,\"#0d0887\"],[0.1111111111111111,\"#46039f\"],[0.2222222222222222,\"#7201a8\"],[0.3333333333333333,\"#9c179e\"],[0.4444444444444444,\"#bd3786\"],[0.5555555555555556,\"#d8576b\"],[0.6666666666666666,\"#ed7953\"],[0.7777777777777778,\"#fb9f3a\"],[0.8888888888888888,\"#fdca26\"],[1.0,\"#f0f921\"]],\"sequentialminus\":[[0.0,\"#0d0887\"],[0.1111111111111111,\"#46039f\"],[0.2222222222222222,\"#7201a8\"],[0.3333333333333333,\"#9c179e\"],[0.4444444444444444,\"#bd3786\"],[0.5555555555555556,\"#d8576b\"],[0.6666666666666666,\"#ed7953\"],[0.7777777777777778,\"#fb9f3a\"],[0.8888888888888888,\"#fdca26\"],[1.0,\"#f0f921\"]]},\"colorway\":[\"#636efa\",\"#EF553B\",\"#00cc96\",\"#ab63fa\",\"#FFA15A\",\"#19d3f3\",\"#FF6692\",\"#B6E880\",\"#FF97FF\",\"#FECB52\"],\"font\":{\"color\":\"#2a3f5f\"},\"geo\":{\"bgcolor\":\"white\",\"lakecolor\":\"white\",\"landcolor\":\"#E5ECF6\",\"showlakes\":true,\"showland\":true,\"subunitcolor\":\"white\"},\"hoverlabel\":{\"align\":\"left\"},\"hovermode\":\"closest\",\"mapbox\":{\"style\":\"light\"},\"paper_bgcolor\":\"white\",\"plot_bgcolor\":\"#E5ECF6\",\"polar\":{\"angularaxis\":{\"gridcolor\":\"white\",\"linecolor\":\"white\",\"ticks\":\"\"},\"bgcolor\":\"#E5ECF6\",\"radialaxis\":{\"gridcolor\":\"white\",\"linecolor\":\"white\",\"ticks\":\"\"}},\"scene\":{\"xaxis\":{\"backgroundcolor\":\"#E5ECF6\",\"gridcolor\":\"white\",\"gridwidth\":2,\"linecolor\":\"white\",\"showbackground\":true,\"ticks\":\"\",\"zerolinecolor\":\"white\"},\"yaxis\":{\"backgroundcolor\":\"#E5ECF6\",\"gridcolor\":\"white\",\"gridwidth\":2,\"linecolor\":\"white\",\"showbackground\":true,\"ticks\":\"\",\"zerolinecolor\":\"white\"},\"zaxis\":{\"backgroundcolor\":\"#E5ECF6\",\"gridcolor\":\"white\",\"gridwidth\":2,\"linecolor\":\"white\",\"showbackground\":true,\"ticks\":\"\",\"zerolinecolor\":\"white\"}},\"shapedefaults\":{\"line\":{\"color\":\"#2a3f5f\"}},\"ternary\":{\"aaxis\":{\"gridcolor\":\"white\",\"linecolor\":\"white\",\"ticks\":\"\"},\"baxis\":{\"gridcolor\":\"white\",\"linecolor\":\"white\",\"ticks\":\"\"},\"bgcolor\":\"#E5ECF6\",\"caxis\":{\"gridcolor\":\"white\",\"linecolor\":\"white\",\"ticks\":\"\"}},\"title\":{\"x\":0.05},\"xaxis\":{\"automargin\":true,\"gridcolor\":\"white\",\"linecolor\":\"white\",\"ticks\":\"\",\"title\":{\"standoff\":15},\"zerolinecolor\":\"white\",\"zerolinewidth\":2},\"yaxis\":{\"automargin\":true,\"gridcolor\":\"white\",\"linecolor\":\"white\",\"ticks\":\"\",\"title\":{\"standoff\":15},\"zerolinecolor\":\"white\",\"zerolinewidth\":2}}},\"title\":{\"text\":\"plotly.colors.sequential\"},\"xaxis\":{\"range\":[-0.02,1.02],\"showgrid\":false,\"showticklabels\":false}},                        {\"responsive\": true}                    ).then(function(){\n",
       "                            \n",
       "var gd = document.getElementById('e86b974d-a761-40c7-84ca-689d3ebf541d');\n",
       "var x = new MutationObserver(function (mutations, observer) {{\n",
       "        var display = window.getComputedStyle(gd).display;\n",
       "        if (!display || display === 'none') {{\n",
       "            console.log([gd, 'removed!']);\n",
       "            Plotly.purge(gd);\n",
       "            observer.disconnect();\n",
       "        }}\n",
       "}});\n",
       "\n",
       "// Listen for the removal of the full notebook cells\n",
       "var notebookContainer = gd.closest('#notebook-container');\n",
       "if (notebookContainer) {{\n",
       "    x.observe(notebookContainer, {childList: true});\n",
       "}}\n",
       "\n",
       "// Listen for the clearing of the current output cell\n",
       "var outputEl = gd.closest('.output');\n",
       "if (outputEl) {{\n",
       "    x.observe(outputEl, {childList: true});\n",
       "}}\n",
       "\n",
       "                        })                };                });            </script>        </div>"
      ]
     },
     "metadata": {},
     "output_type": "display_data"
    }
   ],
   "source": [
    "px.colors.cyclical.swatches()\n",
    "px.colors.qualitative.swatches()\n",
    "px.colors.sequential.swatches()"
   ]
  },
  {
   "cell_type": "code",
   "execution_count": 20,
   "metadata": {},
   "outputs": [],
   "source": [
    "# Seeding random generator\n",
    "np.random.seed(252)"
   ]
  },
  {
   "cell_type": "markdown",
   "metadata": {},
   "source": [
    "## 2. Trip Distribution Methods"
   ]
  },
  {
   "cell_type": "markdown",
   "metadata": {},
   "source": [
    "### a. Growth Factor methods"
   ]
  },
  {
   "cell_type": "markdown",
   "metadata": {},
   "source": [
    "#### i. Average Factor method"
   ]
  },
  {
   "cell_type": "code",
   "execution_count": 21,
   "metadata": {},
   "outputs": [],
   "source": [
    "def afm(present_trips, future_trips, growth_rate, afm_iteration):\n",
    "    \n",
    "    afm_iteration = afm_iteration\n",
    "    present_trips = present_trips\n",
    "    future_trips = future_trips\n",
    "    growth_rate = growth_rate\n",
    "\n",
    "    afm_growth_rate = np.zeros((growth_rate.shape[-2] * (afm_iteration + 1), growth_rate.shape[-1]))    # matrix for storing progression of growth rates, adding 1 in iteration to incorporate original data\n",
    "    afm_array = np.zeros((present_trips.shape[-2] * (afm_iteration + 1), present_trips.shape[-1]))      # matrix for storing progression of present trips, adding 1 in iteration to incorporate original data\n",
    "    afm_recharging_array = np.zeros((present_trips.shape[-2], present_trips.shape[-1]))     # dedicated mxn matrix to store trips that will be multiplied to averaged growth rate\n",
    "    afm_recharging_growth_rate = np.zeros_like(afm_recharging_array, dtype=float)       # dedicated mxn matrix to store averaged growth rate\n",
    "\n",
    "    for i in range(present_trips.shape[-2]):\n",
    "        for j in range(present_trips.shape[-1]):\n",
    "\n",
    "            for k in range(growth_rate.shape[-1]):\n",
    "                afm_growth_rate[i, k] = growth_rate[i, k]       # 0th index (1st level) of trip growth rate matrix\n",
    "            afm_array[i, j] = present_trips[i, j]       # 0th index (1st level) of present trip matrix\n",
    "\n",
    "\n",
    "    for t in range(afm_iteration):\n",
    "        for i in range(present_trips.shape[-2]):\n",
    "            for j in range(present_trips.shape[-1]):\n",
    "                afm_recharging_growth_rate[i, j] = (afm_growth_rate[(present_trips.shape[-2] * t) + i, 0] +\n",
    "                                                    afm_growth_rate[(present_trips.shape[-2] * t) + j, 1]) * 0.5  # not advanced\n",
    "        for i in range(present_trips.shape[-2]):\n",
    "            for j in range(present_trips.shape[-1]):\n",
    "                afm_recharging_array[i, j] = afm_array[(present_trips.shape[-2] * t) + i, j]  # not advanced             \n",
    "        for i in range(present_trips.shape[-2]):\n",
    "            for j in range(present_trips.shape[-1]):\n",
    "                afm_array[(present_trips.shape[-2] * (t + 1)) + i, j] = afm_recharging_array[i, j] * \\\n",
    "                                                                        afm_recharging_growth_rate[i, j]  # advanced, calculating the 1 + nth iteration row of future trips in afm_array\n",
    "        new_recharging_array_sum = np.transpose(np.vstack(\n",
    "            (\n",
    "                afm_array[\n",
    "                    (present_trips.shape[-2] * (t + 1)): (present_trips.shape[-2] * (t + 2)),\n",
    "                    0: (present_trips.shape[-1])\n",
    "                    ].sum(axis=1),\n",
    "                afm_array[\n",
    "                    (present_trips.shape[-2] * (t + 1)): (present_trips.shape[-2] * (t + 2)),\n",
    "                    0: (present_trips.shape[-1])\n",
    "                    ].sum(axis=0)\n",
    "            )\n",
    "        ))        \n",
    "        new_recharging_growth_rate = future_trips / new_recharging_array_sum        \n",
    "        for i in range(present_trips.shape[-2]):\n",
    "            for j in range(growth_rate.shape[-1]):\n",
    "                afm_growth_rate[(present_trips.shape[-2] * (t + 1)) + i, j] = new_recharging_growth_rate[i, j]  # advanced, calculating the 1 + nth iteration of growth rate in afm_growth_rate\n",
    "    \n",
    "    mock_convergence = np.ones((present_trips.shape[-2], afm_growth_rate.shape[-1]), dtype=float)       # base matrix for comparing convergence rate to 1 using 1 + nth iteration growth rate\n",
    "    \n",
    "    afm_convergence = afm_growth_rate[\n",
    "        ((present_trips.shape[-2] * (afm_iteration + 1)) - present_trips.shape[-2]): present_trips.shape[-2] * (afm_iteration + 1),\n",
    "        0: afm_growth_rate.shape[-1]\n",
    "        ]\n",
    "    \n",
    "    return np.amax(np.absolute(afm_convergence - mock_convergence)) * 100"
   ]
  },
  {
   "cell_type": "markdown",
   "metadata": {},
   "source": [
    "Testing"
   ]
  },
  {
   "cell_type": "code",
   "execution_count": 22,
   "metadata": {},
   "outputs": [
    {
     "data": {
      "image/png": "[encoded data removed]",
      "text/plain": [
       "<Figure size 1500x800 with 1 Axes>"
      ]
     },
     "metadata": {},
     "output_type": "display_data"
    }
   ],
   "source": [
    "np.random.seed(252)\n",
    "\"\"\"Comparison of Trip Distribution Methods (Random Normal Data)\"\"\"\n",
    "\"\"\"First Comparison: Zones = 6, Initial Mean = 480, Initial Variance = 12.5% of Initial Mean, Mean Increase = 60%, Variance Increase = 15%\"\"\"\n",
    "mock_1_present = np.random.normal(loc=480, scale=60, size=25).astype(int).reshape((5, 5))\n",
    "np.fill_diagonal(mock_1_present, 0)\n",
    "mock_1_future = np.random.normal(loc=768, scale=69, size=10).astype(int).reshape((5, 2))\n",
    "total_present_trips_mock_1 = np.transpose(np.vstack((mock_1_present.sum(axis=1), mock_1_present.sum(axis=0))))\n",
    "growth_rate_mock_1 = mock_1_future / total_present_trips_mock_1\n",
    "\n",
    "\"\"\"Second Comparison: Zones = 10, Initial Mean = 480, Initial Variance = 12.5% of Initial Mean, Mean Increase = 60%, Variance Increase = 15%\"\"\"\n",
    "mock_2_present = np.random.normal(loc=480, scale=60, size=100).astype(int).reshape((10, 10))\n",
    "np.fill_diagonal(mock_2_present, 0)\n",
    "mock_2_future = np.random.normal(loc=768, scale=69, size=20).astype(int).reshape((10, 2))\n",
    "total_present_trips_mock_2 = np.transpose(np.vstack((mock_2_present.sum(axis=1), mock_2_present.sum(axis=0))))\n",
    "growth_rate_mock_2 = mock_2_future / total_present_trips_mock_2\n",
    "\n",
    "\"\"\"Third Comparison: Zones = 15, Initial Mean = 480, Initial Variance = 12.5% of Initial Mean, Mean Increase = 60%, Variance Increase = 15%\"\"\"\n",
    "mock_3_present = np.random.normal(loc=480, scale=60, size=225).astype(int).reshape((15, 15))\n",
    "np.fill_diagonal(mock_3_present, 0)\n",
    "mock_3_future = np.random.normal(loc=768, scale=69, size=30).astype(int).reshape((15, 2))\n",
    "total_present_trips_mock_3 = np.transpose(np.vstack((mock_3_present.sum(axis=1), mock_3_present.sum(axis=0))))\n",
    "growth_rate_mock_3 = mock_3_future / total_present_trips_mock_3\n",
    "\n",
    "comparison_df = pd.DataFrame({\n",
    "    \"Method\" : np.hstack((np.array([\"Average Factor Method\"]*45))),\n",
    "    \"Number of Zones\" : np.hstack((np.array([\"5\"]*15), np.array([\"10\"]*15), np.array([\"15\"]*15))),\n",
    "    \"Iteration\" : np.array([\"3\", \"4\", \"5\", \"6\", \"7\", \"8\", \"9\", \"10\", \"20\", \"50\", \"70\", \"75\", \"100\", \"250\", \"1000\"]*3),\n",
    "    \"Convergence\" : [afm(mock_1_present, mock_1_future, growth_rate_mock_1, 3),\n",
    "                     afm(mock_1_present, mock_1_future, growth_rate_mock_1, 4),\n",
    "                     afm(mock_1_present, mock_1_future, growth_rate_mock_1, 5),\n",
    "                     afm(mock_1_present, mock_1_future, growth_rate_mock_1, 6),\n",
    "                     afm(mock_1_present, mock_1_future, growth_rate_mock_1, 7),\n",
    "                     afm(mock_1_present, mock_1_future, growth_rate_mock_1, 8),\n",
    "                     afm(mock_1_present, mock_1_future, growth_rate_mock_1, 9),\n",
    "                     afm(mock_1_present, mock_1_future, growth_rate_mock_1, 10),\n",
    "                     afm(mock_1_present, mock_1_future, growth_rate_mock_1, 20),\n",
    "                     afm(mock_1_present, mock_1_future, growth_rate_mock_1, 50),\n",
    "                     afm(mock_1_present, mock_1_future, growth_rate_mock_1, 70),\n",
    "                     afm(mock_1_present, mock_1_future, growth_rate_mock_1, 75),\n",
    "                     afm(mock_1_present, mock_1_future, growth_rate_mock_1, 100),\n",
    "                     afm(mock_1_present, mock_1_future, growth_rate_mock_1, 250),\n",
    "                     afm(mock_1_present, mock_1_future, growth_rate_mock_1, 1000),\n",
    "                     afm(mock_2_present, mock_2_future, growth_rate_mock_2, 3),\n",
    "                     afm(mock_2_present, mock_2_future, growth_rate_mock_2, 4),\n",
    "                     afm(mock_2_present, mock_2_future, growth_rate_mock_2, 5),\n",
    "                     afm(mock_2_present, mock_2_future, growth_rate_mock_2, 6),\n",
    "                     afm(mock_2_present, mock_2_future, growth_rate_mock_2, 7),\n",
    "                     afm(mock_2_present, mock_2_future, growth_rate_mock_2, 8),\n",
    "                     afm(mock_2_present, mock_2_future, growth_rate_mock_2, 9),\n",
    "                     afm(mock_2_present, mock_2_future, growth_rate_mock_2, 10),\n",
    "                     afm(mock_2_present, mock_2_future, growth_rate_mock_2, 20),\n",
    "                     afm(mock_2_present, mock_2_future, growth_rate_mock_2, 50),\n",
    "                     afm(mock_2_present, mock_2_future, growth_rate_mock_2, 70),\n",
    "                     afm(mock_2_present, mock_2_future, growth_rate_mock_2, 75),\n",
    "                     afm(mock_2_present, mock_2_future, growth_rate_mock_2, 100),\n",
    "                     afm(mock_2_present, mock_2_future, growth_rate_mock_2, 250),\n",
    "                     afm(mock_2_present, mock_2_future, growth_rate_mock_2, 1000),\n",
    "                     afm(mock_3_present, mock_3_future, growth_rate_mock_3, 3),\n",
    "                     afm(mock_3_present, mock_3_future, growth_rate_mock_3, 4),\n",
    "                     afm(mock_3_present, mock_3_future, growth_rate_mock_3, 5),\n",
    "                     afm(mock_3_present, mock_3_future, growth_rate_mock_3, 6),\n",
    "                     afm(mock_3_present, mock_3_future, growth_rate_mock_3, 7),\n",
    "                     afm(mock_3_present, mock_3_future, growth_rate_mock_3, 8),\n",
    "                     afm(mock_3_present, mock_3_future, growth_rate_mock_3, 9),\n",
    "                     afm(mock_3_present, mock_3_future, growth_rate_mock_3, 10),\n",
    "                     afm(mock_3_present, mock_3_future, growth_rate_mock_3, 20),\n",
    "                     afm(mock_3_present, mock_3_future, growth_rate_mock_3, 50),\n",
    "                     afm(mock_3_present, mock_3_future, growth_rate_mock_3, 70),\n",
    "                     afm(mock_3_present, mock_3_future, growth_rate_mock_3, 75),\n",
    "                     afm(mock_3_present, mock_3_future, growth_rate_mock_3, 100),\n",
    "                     afm(mock_3_present, mock_3_future, growth_rate_mock_3, 250),\n",
    "                     afm(mock_3_present, mock_3_future, growth_rate_mock_3, 1000),\n",
    "                     ]\n",
    "}, columns=[\"Method\", \"Number of Zones\", \"Iteration\", \"Convergence\"])\n",
    "sns.set_style(\"dark\", {\"axes.facecolor\" : \"#F0F8FF\"})\n",
    "fig, comparison_df_plot = plt.subplots(nrows=1, ncols=1, figsize=(15,8))\n",
    "sns.lineplot(data=comparison_df, x=\"Iteration\", y=\"Convergence\", hue=\"Method\", palette=[\"#1874CD\"],\n",
    "             linewidth=3, markers=[\"^\", \"o\", \"s\"], markersize=8, style=\"Number of Zones\")\n",
    "sns.despine(fig=fig, ax=comparison_df_plot, top=True, right=True, offset=10)\n",
    "comparison_df_plot.set_title(\"Trip Distribution Methods Comparison (Forwarded)\\nNumber of Zones = 5, 10 and 15, Initial Mean of Trips = 480,\"\n",
    "                               \"\\nInitial Variance = 12.5% of Initial Trip Mean,\"\n",
    "                               \"\\nTrip Mean Increase for Future Trips = 60%, Trip Variance Increase for Future Trips = 15%\",\n",
    "                               fontdict={\"font\": \"Nirmala UI\", \"color\": \"black\", \"fontsize\": 10, \"weight\": \"bold\"})\n",
    "comparison_df_plot.set_xlabel(\"Number of Iterations\", fontdict={\"font\": \"Nirmala UI\", \"color\": \"black\", \"fontsize\": 10, \"weight\": \"bold\"})\n",
    "comparison_df_plot.set_ylabel(\"Convergence (%)\", fontdict={\"font\": \"Nirmala UI\", \"color\": \"black\", \"fontsize\": 10, \"weight\": \"bold\"})\n",
    "comparison_1_df_plot_legend = comparison_df_plot.legend(labelspacing=1, edgecolor = \"#1874CD\", fontsize=10, frameon=False, bbox_to_anchor=(0.9, 0.85),\n",
    "                                                        prop={\"family\":\"Nirmala UI\", \"weight\": \"bold\", \"style\": \"normal\", \"size\": 10})#,\n",
    "                                                        #title=\"Trip Distribution Methods\")\n",
    "title_comparison_1_df_plot = comparison_1_df_plot_legend.get_title()\n",
    "title_comparison_1_df_plot.set_family(\"Nirmala UI\")\n",
    "title_comparison_1_df_plot.set_weight(\"bold\")\n",
    "title_comparison_1_df_plot.set_size(10)"
   ]
  },
  {
   "cell_type": "markdown",
   "metadata": {},
   "source": [
    "#### ii. Detroit Method"
   ]
  },
  {
   "cell_type": "code",
   "execution_count": 23,
   "metadata": {},
   "outputs": [],
   "source": [
    "def dm(present_trips, future_trips, growth_rate, dm_iteration):\n",
    "    \n",
    "    dm_iteration = dm_iteration\n",
    "    present_trips = present_trips\n",
    "    future_trips = future_trips\n",
    "    growth_rate = growth_rate\n",
    "    dm_growth_rate = np.zeros((growth_rate.shape[-2] * (dm_iteration + 2), growth_rate.shape[-1]))\n",
    "    dm_array = np.zeros(((dm_iteration + 2) * present_trips.shape[-2], present_trips.shape[-1]))\n",
    "    dm_recharging_array = np.zeros((present_trips.shape[-2], present_trips.shape[-1]))\n",
    "    dm_recharging_growth_rate = np.zeros_like(dm_recharging_array, dtype=float)\n",
    "    # dm_growth_rate = np.zeros_like(dm_array, dtype=float)\n",
    "\n",
    "    for i in range(present_trips.shape[-2]):\n",
    "        for j in range(present_trips.shape[-1]):\n",
    "            for k in range(growth_rate.shape[-1]):\n",
    "                dm_growth_rate[i, k] = growth_rate[i, k]\n",
    "            dm_array[i, j] = present_trips[i, j]\n",
    "    \n",
    "    for t in range(dm_iteration):\n",
    "        current_recharging_array_sum = dm_array[\n",
    "            (present_trips.shape[-2] * t): (present_trips.shape[-2] * (t + 1)),\n",
    "            0 : (present_trips.shape[-1] + 1)\n",
    "            ].sum(axis=1).sum(axis=0)\n",
    "        current_total_growth_rate = (future_trips.sum(axis=0)[0])/current_recharging_array_sum\n",
    "        for i in range(present_trips.shape[-2]):\n",
    "            for j in range(present_trips.shape[-1]):\n",
    "                dm_recharging_growth_rate[i, j] = (dm_growth_rate[(present_trips.shape[-2] * t) + i, 0] \\\n",
    "                                                   * dm_growth_rate[(present_trips.shape[-2] * t) + j, 1]) \\\n",
    "                                                    * (1/current_total_growth_rate)    # not advanced\n",
    "        for i in range(present_trips.shape[-2]):\n",
    "            for j in range(present_trips.shape[-1]):\n",
    "                dm_recharging_array[i, j] = dm_array[(present_trips.shape[-2] * t) + i, j]  # not advanced\n",
    "        # for i in range(present_trips.shape[-2]):\n",
    "        #     for j in range(present_trips.shape[-1]):\n",
    "        #         dm_growth_rate[(present_trips.shape[-2] * t) + i, j] = dm_recharging_growth_rate[i, j]    # not advanced\n",
    "        for i in range(present_trips.shape[-2]):\n",
    "            for j in range(present_trips.shape[-1]):\n",
    "                dm_array[(present_trips.shape[-2] * (t + 1)) + i, j] = dm_recharging_array[i, j] * dm_recharging_growth_rate[i, j]    # advanced\n",
    "        new_recharging_array_sum = np.transpose(np.vstack(\n",
    "            (\n",
    "                dm_array[\n",
    "                    (present_trips.shape[-2] * (t + 1)): (present_trips.shape[-2] * (t + 2)),\n",
    "                    0 : (present_trips.shape[-1])\n",
    "                    ].sum(axis=1),\n",
    "                dm_array[\n",
    "                    (present_trips.shape[-2] * (t + 1)): (present_trips.shape[-2] * (t + 2)),\n",
    "                    0 : (present_trips.shape[-1])\n",
    "                    ].sum(axis=0)\n",
    "            )\n",
    "        ))\n",
    "        new_recharging_growth_rate = future_trips/new_recharging_array_sum\n",
    "        for i in range(present_trips.shape[-2]):\n",
    "            for j in range(growth_rate.shape[-1]):\n",
    "                dm_growth_rate[(present_trips.shape[-2] * (t + 1)) + i, j] = new_recharging_growth_rate[i, j]    # advanced\n",
    "    \n",
    "    mock_convergence = np.ones((present_trips.shape[-2], dm_growth_rate.shape[-1]), dtype=float)\n",
    "    \n",
    "    dm_convergence = dm_growth_rate[((present_trips.shape[-2] * (dm_iteration + 1)) - present_trips.shape[-2]):\n",
    "                                         present_trips.shape[-2] * (dm_iteration + 1), 0: dm_growth_rate.shape[-1]]\n",
    "    \n",
    "    return np.amax(np.absolute(dm_convergence - mock_convergence)) * 100"
   ]
  },
  {
   "cell_type": "code",
   "execution_count": 24,
   "metadata": {},
   "outputs": [
    {
     "data": {
      "image/png": "[encoded data removed]",
      "text/plain": [
       "<Figure size 1500x800 with 1 Axes>"
      ]
     },
     "metadata": {},
     "output_type": "display_data"
    }
   ],
   "source": [
    "np.random.seed(252)\n",
    "\"\"\"Comparison of Trip Distribution Methods (Random Normal Data)\"\"\"\n",
    "\"\"\"First Comparison: Zones = 6, Initial Mean = 480, Initial Variance = 12.5% of Initial Mean, Mean Increase = 60%, Variance Increase = 15%\"\"\"\n",
    "mock_1_present = np.random.normal(loc=480, scale=60, size=25).astype(int).reshape((5, 5))\n",
    "np.fill_diagonal(mock_1_present, 0)\n",
    "mock_1_future = np.random.normal(loc=768, scale=69, size=10).astype(int).reshape((5, 2))\n",
    "total_present_trips_mock_1 = np.transpose(np.vstack((mock_1_present.sum(axis=1), mock_1_present.sum(axis=0))))\n",
    "growth_rate_mock_1 = mock_1_future / total_present_trips_mock_1\n",
    "\n",
    "\"\"\"Second Comparison: Zones = 10, Initial Mean = 480, Initial Variance = 12.5% of Initial Mean, Mean Increase = 60%, Variance Increase = 15%\"\"\"\n",
    "mock_2_present = np.random.normal(loc=480, scale=60, size=100).astype(int).reshape((10, 10))\n",
    "np.fill_diagonal(mock_2_present, 0)\n",
    "mock_2_future = np.random.normal(loc=768, scale=69, size=20).astype(int).reshape((10, 2))\n",
    "total_present_trips_mock_2 = np.transpose(np.vstack((mock_2_present.sum(axis=1), mock_2_present.sum(axis=0))))\n",
    "growth_rate_mock_2 = mock_2_future / total_present_trips_mock_2\n",
    "\n",
    "\"\"\"Third Comparison: Zones = 15, Initial Mean = 480, Initial Variance = 12.5% of Initial Mean, Mean Increase = 60%, Variance Increase = 15%\"\"\"\n",
    "mock_3_present = np.random.normal(loc=480, scale=60, size=225).astype(int).reshape((15, 15))\n",
    "np.fill_diagonal(mock_3_present, 0)\n",
    "mock_3_future = np.random.normal(loc=768, scale=69, size=30).astype(int).reshape((15, 2))\n",
    "total_present_trips_mock_3 = np.transpose(np.vstack((mock_3_present.sum(axis=1), mock_3_present.sum(axis=0))))\n",
    "growth_rate_mock_3 = mock_3_future / total_present_trips_mock_3\n",
    "\n",
    "comparison_df = pd.DataFrame({\n",
    "    \"Method\" : np.hstack((np.array([\"Detroit Method\"]*45))),\n",
    "    \"Number of Zones\" : np.hstack((np.array([\"5\"]*15), np.array([\"10\"]*15), np.array([\"15\"]*15))),\n",
    "    \"Iteration\" : np.array([\"3\", \"4\", \"5\", \"6\", \"7\", \"8\", \"9\", \"10\", \"20\", \"50\", \"70\", \"75\", \"100\", \"250\", \"1000\"]*3),\n",
    "    \"Convergence\" : [dm(mock_1_present, mock_1_future, growth_rate_mock_1, 3),\n",
    "                     dm(mock_1_present, mock_1_future, growth_rate_mock_1, 4),\n",
    "                     dm(mock_1_present, mock_1_future, growth_rate_mock_1, 5),\n",
    "                     dm(mock_1_present, mock_1_future, growth_rate_mock_1, 6),\n",
    "                     dm(mock_1_present, mock_1_future, growth_rate_mock_1, 7),\n",
    "                     dm(mock_1_present, mock_1_future, growth_rate_mock_1, 8),\n",
    "                     dm(mock_1_present, mock_1_future, growth_rate_mock_1, 9),\n",
    "                     dm(mock_1_present, mock_1_future, growth_rate_mock_1, 10),\n",
    "                     dm(mock_1_present, mock_1_future, growth_rate_mock_1, 20),\n",
    "                     dm(mock_1_present, mock_1_future, growth_rate_mock_1, 50),\n",
    "                     dm(mock_1_present, mock_1_future, growth_rate_mock_1, 70),\n",
    "                     dm(mock_1_present, mock_1_future, growth_rate_mock_1, 75),\n",
    "                     dm(mock_1_present, mock_1_future, growth_rate_mock_1, 100),\n",
    "                     dm(mock_1_present, mock_1_future, growth_rate_mock_1, 250),\n",
    "                     dm(mock_1_present, mock_1_future, growth_rate_mock_1, 1000),\n",
    "                     dm(mock_2_present, mock_2_future, growth_rate_mock_2, 3),\n",
    "                     dm(mock_2_present, mock_2_future, growth_rate_mock_2, 4),\n",
    "                     dm(mock_2_present, mock_2_future, growth_rate_mock_2, 5),\n",
    "                     dm(mock_2_present, mock_2_future, growth_rate_mock_2, 6),\n",
    "                     dm(mock_2_present, mock_2_future, growth_rate_mock_2, 7),\n",
    "                     dm(mock_2_present, mock_2_future, growth_rate_mock_2, 8),\n",
    "                     dm(mock_2_present, mock_2_future, growth_rate_mock_2, 9),\n",
    "                     dm(mock_2_present, mock_2_future, growth_rate_mock_2, 10),\n",
    "                     dm(mock_2_present, mock_2_future, growth_rate_mock_2, 20),\n",
    "                     dm(mock_2_present, mock_2_future, growth_rate_mock_2, 50),\n",
    "                     dm(mock_2_present, mock_2_future, growth_rate_mock_2, 70),\n",
    "                     dm(mock_2_present, mock_2_future, growth_rate_mock_2, 75),\n",
    "                     dm(mock_2_present, mock_2_future, growth_rate_mock_2, 100),\n",
    "                     dm(mock_2_present, mock_2_future, growth_rate_mock_2, 250),\n",
    "                     dm(mock_2_present, mock_2_future, growth_rate_mock_2, 1000),\n",
    "                     dm(mock_3_present, mock_3_future, growth_rate_mock_3, 3),\n",
    "                     dm(mock_3_present, mock_3_future, growth_rate_mock_3, 4),\n",
    "                     dm(mock_3_present, mock_3_future, growth_rate_mock_3, 5),\n",
    "                     dm(mock_3_present, mock_3_future, growth_rate_mock_3, 6),\n",
    "                     dm(mock_3_present, mock_3_future, growth_rate_mock_3, 7),\n",
    "                     dm(mock_3_present, mock_3_future, growth_rate_mock_3, 8),\n",
    "                     dm(mock_3_present, mock_3_future, growth_rate_mock_3, 9),\n",
    "                     dm(mock_3_present, mock_3_future, growth_rate_mock_3, 10),\n",
    "                     dm(mock_3_present, mock_3_future, growth_rate_mock_3, 20),\n",
    "                     dm(mock_3_present, mock_3_future, growth_rate_mock_3, 50),\n",
    "                     dm(mock_3_present, mock_3_future, growth_rate_mock_3, 70),\n",
    "                     dm(mock_3_present, mock_3_future, growth_rate_mock_3, 75),\n",
    "                     dm(mock_3_present, mock_3_future, growth_rate_mock_3, 100),\n",
    "                     dm(mock_3_present, mock_3_future, growth_rate_mock_3, 250),\n",
    "                     dm(mock_3_present, mock_3_future, growth_rate_mock_3, 1000),\n",
    "                     ]\n",
    "}, columns=[\"Method\", \"Number of Zones\", \"Iteration\", \"Convergence\"])\n",
    "sns.set_style(\"dark\", {\"axes.facecolor\" : \"#F0F8FF\"})\n",
    "fig, comparison_df_plot = plt.subplots(nrows=1, ncols=1, figsize=(15,8))\n",
    "sns.lineplot(data=comparison_df, x=\"Iteration\", y=\"Convergence\", hue=\"Method\", palette=[\"#008B00\"],\n",
    "             linewidth=3, markers=[\"^\", \"o\", \"s\"], markersize=8, style=\"Number of Zones\")\n",
    "sns.despine(fig=fig, ax=comparison_df_plot, top=True, right=True, offset=10)\n",
    "comparison_df_plot.set_title(\"Trip Distribution Methods Comparison (Forwarded)\\nNumber of Zones = 5, 10 and 15, Initial Mean of Trips = 480,\"\n",
    "                               \"\\nInitial Variance = 12.5% of Initial Trip Mean,\"\n",
    "                               \"\\nTrip Mean Increase for Future Trips = 60%, Trip Variance Increase for Future Trips = 15%\",\n",
    "                               fontdict={\"font\": \"Nirmala UI\", \"color\": \"black\", \"fontsize\": 10, \"weight\": \"bold\"})\n",
    "comparison_df_plot.set_xlabel(\"Number of Iterations\", fontdict={\"font\": \"Nirmala UI\", \"color\": \"black\", \"fontsize\": 10, \"weight\": \"bold\"})\n",
    "comparison_df_plot.set_ylabel(\"Convergence (%)\", fontdict={\"font\": \"Nirmala UI\", \"color\": \"black\", \"fontsize\": 10, \"weight\": \"bold\"})\n",
    "comparison_1_df_plot_legend = comparison_df_plot.legend(labelspacing=1, edgecolor = \"#1874CD\", fontsize=10, frameon=False, bbox_to_anchor=(0.9, 0.85),\n",
    "                                                        prop={\"family\":\"Nirmala UI\", \"weight\": \"bold\", \"style\": \"normal\", \"size\": 10})#,\n",
    "                                                        #title=\"Trip Distribution Methods\")\n",
    "title_comparison_1_df_plot = comparison_1_df_plot_legend.get_title()\n",
    "title_comparison_1_df_plot.set_family(\"Nirmala UI\")\n",
    "title_comparison_1_df_plot.set_weight(\"bold\")\n",
    "title_comparison_1_df_plot.set_size(10)"
   ]
  },
  {
   "cell_type": "markdown",
   "metadata": {},
   "source": [
    "#### iii. Fratar Method"
   ]
  },
  {
   "cell_type": "code",
   "execution_count": 25,
   "metadata": {},
   "outputs": [],
   "source": [
    "def fm(present_trips, future_trips, growth_rate, fm_iteration):\n",
    "\n",
    "    fm_iteration = fm_iteration\n",
    "    present_trips = present_trips\n",
    "    future_trips = future_trips\n",
    "    growth_rate = growth_rate\n",
    "    \n",
    "    fm_growth_rate = np.zeros((growth_rate.shape[-2] * (fm_iteration + 2), growth_rate.shape[-1]))\n",
    "    fm_array = np.zeros(((fm_iteration + 2) * present_trips.shape[-2], present_trips.shape[-1]))\n",
    "    # fm_growth_rate = np.zeros_like(fm_array, dtype=float)\n",
    "    fm_recharging_array = np.zeros((present_trips.shape[-2], present_trips.shape[-1]))\n",
    "    fm_recharging_growth_rate = np.zeros_like(fm_recharging_array, dtype=float)\n",
    "    fm_trip_growth_rate_divisor = np.zeros_like(present_trips, dtype=float)\n",
    "    \n",
    "    for i in range(present_trips.shape[-2]):\n",
    "        for j in range(present_trips.shape[-1]):\n",
    "            for k in range(growth_rate.shape[-1]):\n",
    "                fm_growth_rate[i, k] = growth_rate[i, k]\n",
    "            fm_array[i, j] = present_trips[i, j]\n",
    "    \n",
    "    for t in range((fm_iteration) + 1):\n",
    "        for i in range(present_trips.shape[-2]):\n",
    "            for j in range(present_trips.shape[-1]):\n",
    "                fm_recharging_array[i, j] = fm_array[(present_trips.shape[-2] * t) + i, j]      # not advanced\n",
    "        fm_current_growth_rate = fm_growth_rate[\n",
    "            (present_trips.shape[-2] * t): (present_trips.shape[-2] * (t + 1)),\n",
    "            0: growth_rate.shape[-1]]       # not advanced\n",
    "        trips_attraction_growth_rate_sum = np.matmul(fm_recharging_array, fm_current_growth_rate)\n",
    "        for i in range(present_trips.shape[-2]):\n",
    "            for j in range(present_trips.shape[-1]):\n",
    "                fm_trip_growth_rate_divisor[i, j] = (trips_attraction_growth_rate_sum[:, 1])[i]\n",
    "        for i in range(present_trips.shape[-2]):\n",
    "            for j in range(present_trips.shape[-1]):\n",
    "                fm_recharging_growth_rate[i, j] = (fm_growth_rate[(present_trips.shape[-2] * t) + i, 0] *      # not advanced\n",
    "                                                   fm_growth_rate[(present_trips.shape[-2] * t) + j, 1]) * \\\n",
    "                                                  (fm_recharging_array.sum(axis=1)[i]) / fm_trip_growth_rate_divisor[i, 1]\n",
    "\n",
    "        # for i in range(present_trips.shape[-2]):\n",
    "        #     for j in range(present_trips.shape[-1]):\n",
    "        #         fm_growth_rate[(present_trips.shape[-2] * t) + i, j] = fm_recharging_growth_rate[i, j]    # not advanced\n",
    "        for i in range(present_trips.shape[-2]):\n",
    "            for j in range(present_trips.shape[-1]):\n",
    "                fm_array[(present_trips.shape[-2] * (t + 1)) + i, j] = fm_recharging_array[i, j] * fm_recharging_growth_rate[i, j]    # advanced\n",
    "        new_recharging_array_sum = np.transpose(np.vstack(\n",
    "            (fm_array[\n",
    "                (present_trips.shape[-2] * (t + 1)): (present_trips.shape[-2] * (t + 2)),\n",
    "                0 : (present_trips.shape[-1])\n",
    "                ].sum(axis=1),\n",
    "            fm_array[\n",
    "                (present_trips.shape[-2] * (t + 1)): (present_trips.shape[-2] * (t + 2)),\n",
    "                0 : (present_trips.shape[-1])\n",
    "                ].sum(axis=0)\n",
    "            )\n",
    "        ))\n",
    "        new_recharging_growth_rate = future_trips/new_recharging_array_sum\n",
    "        for i in range(present_trips.shape[-2]):\n",
    "            for j in range(growth_rate.shape[-1]):\n",
    "                fm_growth_rate[(present_trips.shape[-2] * (t + 1)) + i, j] = new_recharging_growth_rate[i, j]    # advanced\n",
    "    \n",
    "    mock_convergence = np.ones((present_trips.shape[-2], fm_growth_rate.shape[-1]), dtype=float)\n",
    "    \n",
    "    fm_convergence = fm_growth_rate[\n",
    "        ((present_trips.shape[-2] * (fm_iteration + 1)) - present_trips.shape[-2]): present_trips.shape[-2] * (fm_iteration + 1),\n",
    "        0: fm_growth_rate.shape[-1]\n",
    "    ]\n",
    "    \n",
    "    return np.amax(np.absolute(fm_convergence - mock_convergence)) * 100"
   ]
  },
  {
   "cell_type": "code",
   "execution_count": 26,
   "metadata": {},
   "outputs": [
    {
     "data": {
      "image/png": "[encoded data removed]",
      "text/plain": [
       "<Figure size 1500x800 with 1 Axes>"
      ]
     },
     "metadata": {},
     "output_type": "display_data"
    }
   ],
   "source": [
    "np.random.seed(252)\n",
    "\"\"\"Comparison of Trip Distribution Methods (Random Normal Data)\"\"\"\n",
    "\"\"\"First Comparison: Zones = 6, Initial Mean = 480, Initial Variance = 12.5% of Initial Mean, Mean Increase = 60%, Variance Increase = 15%\"\"\"\n",
    "mock_1_present = np.random.normal(loc=480, scale=60, size=25).astype(int).reshape((5, 5))\n",
    "np.fill_diagonal(mock_1_present, 0)\n",
    "mock_1_future = np.random.normal(loc=768, scale=69, size=10).astype(int).reshape((5, 2))\n",
    "total_present_trips_mock_1 = np.transpose(np.vstack((mock_1_present.sum(axis=1), mock_1_present.sum(axis=0))))\n",
    "growth_rate_mock_1 = mock_1_future / total_present_trips_mock_1\n",
    "\n",
    "\"\"\"Second Comparison: Zones = 10, Initial Mean = 480, Initial Variance = 12.5% of Initial Mean, Mean Increase = 60%, Variance Increase = 15%\"\"\"\n",
    "mock_2_present = np.random.normal(loc=480, scale=60, size=100).astype(int).reshape((10, 10))\n",
    "np.fill_diagonal(mock_2_present, 0)\n",
    "mock_2_future = np.random.normal(loc=768, scale=69, size=20).astype(int).reshape((10, 2))\n",
    "total_present_trips_mock_2 = np.transpose(np.vstack((mock_2_present.sum(axis=1), mock_2_present.sum(axis=0))))\n",
    "growth_rate_mock_2 = mock_2_future / total_present_trips_mock_2\n",
    "\n",
    "\"\"\"Third Comparison: Zones = 15, Initial Mean = 480, Initial Variance = 12.5% of Initial Mean, Mean Increase = 60%, Variance Increase = 15%\"\"\"\n",
    "mock_3_present = np.random.normal(loc=480, scale=60, size=225).astype(int).reshape((15, 15))\n",
    "np.fill_diagonal(mock_3_present, 0)\n",
    "mock_3_future = np.random.normal(loc=768, scale=69, size=30).astype(int).reshape((15, 2))\n",
    "total_present_trips_mock_3 = np.transpose(np.vstack((mock_3_present.sum(axis=1), mock_3_present.sum(axis=0))))\n",
    "growth_rate_mock_3 = mock_3_future / total_present_trips_mock_3\n",
    "\n",
    "comparison_df = pd.DataFrame({\n",
    "    \"Method\" : np.hstack((np.array([\"Fratar Method\"]*45))),\n",
    "    \"Number of Zones\" : np.hstack((np.array([\"5\"]*15), np.array([\"10\"]*15), np.array([\"15\"]*15))),\n",
    "    \"Iteration\" : np.array([\"3\", \"4\", \"5\", \"6\", \"7\", \"8\", \"9\", \"10\", \"20\", \"50\", \"70\", \"75\", \"100\", \"250\", \"1000\"]*3),\n",
    "    \"Convergence\" : [fm(mock_1_present, mock_1_future, growth_rate_mock_1, 3),\n",
    "                     fm(mock_1_present, mock_1_future, growth_rate_mock_1, 4),\n",
    "                     fm(mock_1_present, mock_1_future, growth_rate_mock_1, 5),\n",
    "                     fm(mock_1_present, mock_1_future, growth_rate_mock_1, 6),\n",
    "                     fm(mock_1_present, mock_1_future, growth_rate_mock_1, 7),\n",
    "                     fm(mock_1_present, mock_1_future, growth_rate_mock_1, 8),\n",
    "                     fm(mock_1_present, mock_1_future, growth_rate_mock_1, 9),\n",
    "                     fm(mock_1_present, mock_1_future, growth_rate_mock_1, 10),\n",
    "                     fm(mock_1_present, mock_1_future, growth_rate_mock_1, 20),\n",
    "                     fm(mock_1_present, mock_1_future, growth_rate_mock_1, 50),\n",
    "                     fm(mock_1_present, mock_1_future, growth_rate_mock_1, 70),\n",
    "                     fm(mock_1_present, mock_1_future, growth_rate_mock_1, 75),\n",
    "                     fm(mock_1_present, mock_1_future, growth_rate_mock_1, 100),\n",
    "                     fm(mock_1_present, mock_1_future, growth_rate_mock_1, 250),\n",
    "                     fm(mock_1_present, mock_1_future, growth_rate_mock_1, 1000),\n",
    "                     fm(mock_2_present, mock_2_future, growth_rate_mock_2, 3),\n",
    "                     fm(mock_2_present, mock_2_future, growth_rate_mock_2, 4),\n",
    "                     fm(mock_2_present, mock_2_future, growth_rate_mock_2, 5),\n",
    "                     fm(mock_2_present, mock_2_future, growth_rate_mock_2, 6),\n",
    "                     fm(mock_2_present, mock_2_future, growth_rate_mock_2, 7),\n",
    "                     fm(mock_2_present, mock_2_future, growth_rate_mock_2, 8),\n",
    "                     fm(mock_2_present, mock_2_future, growth_rate_mock_2, 9),\n",
    "                     fm(mock_2_present, mock_2_future, growth_rate_mock_2, 10),\n",
    "                     fm(mock_2_present, mock_2_future, growth_rate_mock_2, 20),\n",
    "                     fm(mock_2_present, mock_2_future, growth_rate_mock_2, 50),\n",
    "                     fm(mock_2_present, mock_2_future, growth_rate_mock_2, 70),\n",
    "                     fm(mock_2_present, mock_2_future, growth_rate_mock_2, 75),\n",
    "                     fm(mock_2_present, mock_2_future, growth_rate_mock_2, 100),\n",
    "                     fm(mock_2_present, mock_2_future, growth_rate_mock_2, 250),\n",
    "                     fm(mock_2_present, mock_2_future, growth_rate_mock_2, 1000),\n",
    "                     fm(mock_3_present, mock_3_future, growth_rate_mock_3, 3),\n",
    "                     fm(mock_3_present, mock_3_future, growth_rate_mock_3, 4),\n",
    "                     fm(mock_3_present, mock_3_future, growth_rate_mock_3, 5),\n",
    "                     fm(mock_3_present, mock_3_future, growth_rate_mock_3, 6),\n",
    "                     fm(mock_3_present, mock_3_future, growth_rate_mock_3, 7),\n",
    "                     fm(mock_3_present, mock_3_future, growth_rate_mock_3, 8),\n",
    "                     fm(mock_3_present, mock_3_future, growth_rate_mock_3, 9),\n",
    "                     fm(mock_3_present, mock_3_future, growth_rate_mock_3, 10),\n",
    "                     fm(mock_3_present, mock_3_future, growth_rate_mock_3, 20),\n",
    "                     fm(mock_3_present, mock_3_future, growth_rate_mock_3, 50),\n",
    "                     fm(mock_3_present, mock_3_future, growth_rate_mock_3, 70),\n",
    "                     fm(mock_3_present, mock_3_future, growth_rate_mock_3, 75),\n",
    "                     fm(mock_3_present, mock_3_future, growth_rate_mock_3, 100),\n",
    "                     fm(mock_3_present, mock_3_future, growth_rate_mock_3, 250),\n",
    "                     fm(mock_3_present, mock_3_future, growth_rate_mock_3, 1000),\n",
    "                     ]\n",
    "}, columns=[\"Method\", \"Number of Zones\", \"Iteration\", \"Convergence\"])\n",
    "sns.set_style(\"dark\", {\"axes.facecolor\" : \"#F0F8FF\"})\n",
    "fig, comparison_df_plot = plt.subplots(nrows=1, ncols=1, figsize=(15,8))\n",
    "sns.lineplot(data=comparison_df, x=\"Iteration\", y=\"Convergence\", hue=\"Method\", palette=[\"#CD6889\"],\n",
    "             linewidth=3, markers=[\"^\", \"o\", \"s\"], markersize=8, style=\"Number of Zones\")\n",
    "sns.despine(fig=fig, ax=comparison_df_plot, top=True, right=True, offset=10)\n",
    "comparison_df_plot.set_title(\"Trip Distribution Methods Comparison (Forwarded)\\nNumber of Zones = 5, 10 and 15, Initial Mean of Trips = 480,\"\n",
    "                               \"\\nInitial Variance = 12.5% of Initial Trip Mean,\"\n",
    "                               \"\\nTrip Mean Increase for Future Trips = 60%, Trip Variance Increase for Future Trips = 15%\",\n",
    "                               fontdict={\"font\": \"Nirmala UI\", \"color\": \"black\", \"fontsize\": 10, \"weight\": \"bold\"})\n",
    "comparison_df_plot.set_xlabel(\"Number of Iterations\", fontdict={\"font\": \"Nirmala UI\", \"color\": \"black\", \"fontsize\": 10, \"weight\": \"bold\"})\n",
    "comparison_df_plot.set_ylabel(\"Convergence (%)\", fontdict={\"font\": \"Nirmala UI\", \"color\": \"black\", \"fontsize\": 10, \"weight\": \"bold\"})\n",
    "comparison_1_df_plot_legend = comparison_df_plot.legend(labelspacing=1, edgecolor = \"#1874CD\", fontsize=10, frameon=False, bbox_to_anchor=(0.9, 0.85),\n",
    "                                                        prop={\"family\":\"Nirmala UI\", \"weight\": \"bold\", \"style\": \"normal\", \"size\": 10})#,\n",
    "                                                        #title=\"Trip Distribution Methods\")\n",
    "title_comparison_1_df_plot = comparison_1_df_plot_legend.get_title()\n",
    "title_comparison_1_df_plot.set_family(\"Nirmala UI\")\n",
    "title_comparison_1_df_plot.set_weight(\"bold\")\n",
    "title_comparison_1_df_plot.set_size(10)"
   ]
  },
  {
   "cell_type": "markdown",
   "metadata": {},
   "source": [
    "#### iv. Furness Method"
   ]
  },
  {
   "cell_type": "code",
   "execution_count": 27,
   "metadata": {},
   "outputs": [],
   "source": [
    "def fur(present_trips, future_trips, growth_rate, fur_iteration):\n",
    "\n",
    "    fur_iteration = fur_iteration\n",
    "    present_trips = present_trips\n",
    "    future_trips = future_trips\n",
    "    growth_rate = growth_rate\n",
    "    \n",
    "    fur_growth_rate = np.zeros((growth_rate.shape[-2] * (fur_iteration + 2), growth_rate.shape[-1]))\n",
    "    fur_array = np.zeros(((fur_iteration + 2) * present_trips.shape[-2], present_trips.shape[-1]))\n",
    "    # fm_growth_rate = np.zeros_like(fm_array, dtype=float)\n",
    "    fur_recharging_array = np.zeros((present_trips.shape[-2], present_trips.shape[-1]))\n",
    "    fur_recharging_growth_rate = np.zeros_like(fur_recharging_array, dtype=float)\n",
    "    fur_trip_growth_rate_divisor = np.zeros_like(present_trips, dtype=float)\n",
    "    \n",
    "    for i in range(present_trips.shape[-2]):\n",
    "        for j in range(present_trips.shape[-1]):\n",
    "            for k in range(growth_rate.shape[-1]):\n",
    "                fur_growth_rate[i, k] = growth_rate[i, k]\n",
    "            fur_array[i, j] = present_trips[i, j]\n",
    "    \n",
    "    for t in range((fur_iteration) + 1):\n",
    "        for i in range(present_trips.shape[-2]):\n",
    "            for j in range(present_trips.shape[-1]):\n",
    "                fur_recharging_array[i, j] = fur_array[(present_trips.shape[-2] * t) + i, j]      # not advanced\n",
    "        fur_current_growth_rate = fur_growth_rate[\n",
    "            (present_trips.shape[-2] * t): (present_trips.shape[-2] * (t + 1)),\n",
    "            0: growth_rate.shape[-1]]       # not advanced\n",
    "        if divmod(t, 2)[-1] == 0:\n",
    "            fur_recharging_growth_rate = fur_current_growth_rate[:, 0]\n",
    "            for i in range(present_trips.shape[-2]):\n",
    "                for j in range(present_trips.shape[-1]):\n",
    "                    fur_array[(present_trips.shape[-2] * (t + 1)) + i, j] = fur_recharging_array[i, j] * fur_recharging_growth_rate[i]      # advanced\n",
    "        else:\n",
    "            fur_recharging_growth_rate = fur_current_growth_rate[:, 1]\n",
    "            for i in range(present_trips.shape[-2]):\n",
    "                for j in range(present_trips.shape[-1]):\n",
    "                    fur_array[(present_trips.shape[-2] * (t + 1)) + i, j] = fur_recharging_array[i, j] * fur_recharging_growth_rate[j]      # advanced\n",
    "        # trips_attraction_growth_rate_sum = np.matmul(fur_recharging_array, fur_current_growth_rate)\n",
    "        # for i in range(present_trips.shape[-2]):\n",
    "        #     for j in range(present_trips.shape[-1]):\n",
    "        #         fur_trip_growth_rate_divisor[i, j] = (trips_attraction_growth_rate_sum[:, 1])[i]\n",
    "        # for i in range(present_trips.shape[-2]):\n",
    "        #     for j in range(present_trips.shape[-1]):\n",
    "        #         fur_recharging_growth_rate[i, j] = (fur_growth_rate[(present_trips.shape[-2] * t) + i, 0] *      # not advanced\n",
    "        #                                            fur_growth_rate[(present_trips.shape[-2] * t) + j, 1]) * \\\n",
    "        #                                           (fur_recharging_array.sum(axis=1)[i]) / fur_trip_growth_rate_divisor[i, 1]\n",
    "\n",
    "        # for i in range(present_trips.shape[-2]):\n",
    "        #     for j in range(present_trips.shape[-1]):\n",
    "        #         fm_growth_rate[(present_trips.shape[-2] * t) + i, j] = fm_recharging_growth_rate[i, j]    # not advanced\n",
    "        # for i in range(present_trips.shape[-2]):\n",
    "        #     for j in range(present_trips.shape[-1]):\n",
    "        #         fur_array[(present_trips.shape[-2] * (t + 1)) + i, j] = fur_recharging_array[i, j] * fur_recharging_growth_rate[i, j]    # advanced\n",
    "        # for i in range(present_trips.shape[-2]):\n",
    "        #     for j in range(present_trips.shape[-1]):\n",
    "        #         fur_array[(present_trips.shape[-2] * (t + 1)) + i, j] = fur_recharging_array[i, j] * fur_recharging_growth_rate[i]    # advanced\n",
    "        new_recharging_array_sum = np.transpose(np.vstack(\n",
    "            (fur_array[\n",
    "                (present_trips.shape[-2] * (t + 1)): (present_trips.shape[-2] * (t + 2)),\n",
    "                0 : (present_trips.shape[-1])\n",
    "                ].sum(axis=1),\n",
    "            fur_array[\n",
    "                (present_trips.shape[-2] * (t + 1)): (present_trips.shape[-2] * (t + 2)),\n",
    "                0 : (present_trips.shape[-1])\n",
    "                ].sum(axis=0)\n",
    "            )\n",
    "        ))\n",
    "        new_recharging_growth_rate = future_trips/new_recharging_array_sum\n",
    "        for i in range(present_trips.shape[-2]):\n",
    "            for j in range(growth_rate.shape[-1]):\n",
    "                fur_growth_rate[(present_trips.shape[-2] * (t + 1)) + i, j] = new_recharging_growth_rate[i, j]    # advanced\n",
    "    \n",
    "    mock_convergence = np.ones((present_trips.shape[-2], fur_growth_rate.shape[-1]), dtype=float)\n",
    "    \n",
    "    fur_convergence = fur_growth_rate[\n",
    "        ((present_trips.shape[-2] * (fur_iteration + 1)) - present_trips.shape[-2]): present_trips.shape[-2] * (fur_iteration + 1),\n",
    "        0: fur_growth_rate.shape[-1]\n",
    "    ]\n",
    "    \n",
    "    return np.amax(np.absolute(fur_convergence - mock_convergence)) * 100"
   ]
  },
  {
   "cell_type": "code",
   "execution_count": 28,
   "metadata": {},
   "outputs": [
    {
     "data": {
      "image/png": "[encoded data removed]",
      "text/plain": [
       "<Figure size 1500x800 with 1 Axes>"
      ]
     },
     "metadata": {},
     "output_type": "display_data"
    }
   ],
   "source": [
    "np.random.seed(252)\n",
    "\"\"\"Comparison of Trip Distribution Methods (Random Normal Data)\"\"\"\n",
    "\"\"\"First Comparison: Zones = 6, Initial Mean = 480, Initial Variance = 12.5% of Initial Mean, Mean Increase = 60%, Variance Increase = 15%\"\"\"\n",
    "mock_1_present = np.random.normal(loc=480, scale=60, size=25).astype(int).reshape((5, 5))\n",
    "np.fill_diagonal(mock_1_present, 0)\n",
    "mock_1_future = np.random.normal(loc=768, scale=69, size=10).astype(int).reshape((5, 2))\n",
    "total_present_trips_mock_1 = np.transpose(np.vstack((mock_1_present.sum(axis=1), mock_1_present.sum(axis=0))))\n",
    "growth_rate_mock_1 = mock_1_future / total_present_trips_mock_1\n",
    "\n",
    "\"\"\"Second Comparison: Zones = 10, Initial Mean = 480, Initial Variance = 12.5% of Initial Mean, Mean Increase = 60%, Variance Increase = 15%\"\"\"\n",
    "mock_2_present = np.random.normal(loc=480, scale=60, size=100).astype(int).reshape((10, 10))\n",
    "np.fill_diagonal(mock_2_present, 0)\n",
    "mock_2_future = np.random.normal(loc=768, scale=69, size=20).astype(int).reshape((10, 2))\n",
    "total_present_trips_mock_2 = np.transpose(np.vstack((mock_2_present.sum(axis=1), mock_2_present.sum(axis=0))))\n",
    "growth_rate_mock_2 = mock_2_future / total_present_trips_mock_2\n",
    "\n",
    "\"\"\"Third Comparison: Zones = 15, Initial Mean = 480, Initial Variance = 12.5% of Initial Mean, Mean Increase = 60%, Variance Increase = 15%\"\"\"\n",
    "mock_3_present = np.random.normal(loc=480, scale=60, size=225).astype(int).reshape((15, 15))\n",
    "np.fill_diagonal(mock_3_present, 0)\n",
    "mock_3_future = np.random.normal(loc=768, scale=69, size=30).astype(int).reshape((15, 2))\n",
    "total_present_trips_mock_3 = np.transpose(np.vstack((mock_3_present.sum(axis=1), mock_3_present.sum(axis=0))))\n",
    "growth_rate_mock_3 = mock_3_future / total_present_trips_mock_3\n",
    "\n",
    "comparison_df = pd.DataFrame({\n",
    "    \"Method\" : np.hstack((np.array([\"Furness Method\"]*45))),\n",
    "    \"Number of Zones\" : np.hstack((np.array([\"5\"]*15), np.array([\"10\"]*15), np.array([\"15\"]*15))),\n",
    "    \"Iteration\" : np.array([\"3\", \"4\", \"5\", \"6\", \"7\", \"8\", \"9\", \"10\", \"20\", \"50\", \"70\", \"75\", \"100\", \"250\", \"1000\"]*3),\n",
    "    \"Convergence\" : [fur(mock_1_present, mock_1_future, growth_rate_mock_1, 3),\n",
    "                     fur(mock_1_present, mock_1_future, growth_rate_mock_1, 4),\n",
    "                     fur(mock_1_present, mock_1_future, growth_rate_mock_1, 5),\n",
    "                     fur(mock_1_present, mock_1_future, growth_rate_mock_1, 6),\n",
    "                     fur(mock_1_present, mock_1_future, growth_rate_mock_1, 7),\n",
    "                     fur(mock_1_present, mock_1_future, growth_rate_mock_1, 8),\n",
    "                     fur(mock_1_present, mock_1_future, growth_rate_mock_1, 9),\n",
    "                     fur(mock_1_present, mock_1_future, growth_rate_mock_1, 10),\n",
    "                     fur(mock_1_present, mock_1_future, growth_rate_mock_1, 20),\n",
    "                     fur(mock_1_present, mock_1_future, growth_rate_mock_1, 50),\n",
    "                     fur(mock_1_present, mock_1_future, growth_rate_mock_1, 70),\n",
    "                     fur(mock_1_present, mock_1_future, growth_rate_mock_1, 75),\n",
    "                     fur(mock_1_present, mock_1_future, growth_rate_mock_1, 100),\n",
    "                     fur(mock_1_present, mock_1_future, growth_rate_mock_1, 250),\n",
    "                     fur(mock_1_present, mock_1_future, growth_rate_mock_1, 1000),\n",
    "                     fur(mock_2_present, mock_2_future, growth_rate_mock_2, 3),\n",
    "                     fur(mock_2_present, mock_2_future, growth_rate_mock_2, 4),\n",
    "                     fur(mock_2_present, mock_2_future, growth_rate_mock_2, 5),\n",
    "                     fur(mock_2_present, mock_2_future, growth_rate_mock_2, 6),\n",
    "                     fur(mock_2_present, mock_2_future, growth_rate_mock_2, 7),\n",
    "                     fur(mock_2_present, mock_2_future, growth_rate_mock_2, 8),\n",
    "                     fur(mock_2_present, mock_2_future, growth_rate_mock_2, 9),\n",
    "                     fur(mock_2_present, mock_2_future, growth_rate_mock_2, 10),\n",
    "                     fur(mock_2_present, mock_2_future, growth_rate_mock_2, 20),\n",
    "                     fur(mock_2_present, mock_2_future, growth_rate_mock_2, 50),\n",
    "                     fur(mock_2_present, mock_2_future, growth_rate_mock_2, 70),\n",
    "                     fur(mock_2_present, mock_2_future, growth_rate_mock_2, 75),\n",
    "                     fur(mock_2_present, mock_2_future, growth_rate_mock_2, 100),\n",
    "                     fur(mock_2_present, mock_2_future, growth_rate_mock_2, 250),\n",
    "                     fur(mock_2_present, mock_2_future, growth_rate_mock_2, 1000),\n",
    "                     fur(mock_3_present, mock_3_future, growth_rate_mock_3, 3),\n",
    "                     fur(mock_3_present, mock_3_future, growth_rate_mock_3, 4),\n",
    "                     fur(mock_3_present, mock_3_future, growth_rate_mock_3, 5),\n",
    "                     fur(mock_3_present, mock_3_future, growth_rate_mock_3, 6),\n",
    "                     fur(mock_3_present, mock_3_future, growth_rate_mock_3, 7),\n",
    "                     fur(mock_3_present, mock_3_future, growth_rate_mock_3, 8),\n",
    "                     fur(mock_3_present, mock_3_future, growth_rate_mock_3, 9),\n",
    "                     fur(mock_3_present, mock_3_future, growth_rate_mock_3, 10),\n",
    "                     fur(mock_3_present, mock_3_future, growth_rate_mock_3, 20),\n",
    "                     fur(mock_3_present, mock_3_future, growth_rate_mock_3, 50),\n",
    "                     fur(mock_3_present, mock_3_future, growth_rate_mock_3, 70),\n",
    "                     fur(mock_3_present, mock_3_future, growth_rate_mock_3, 75),\n",
    "                     fur(mock_3_present, mock_3_future, growth_rate_mock_3, 100),\n",
    "                     fur(mock_3_present, mock_3_future, growth_rate_mock_3, 250),\n",
    "                     fur(mock_3_present, mock_3_future, growth_rate_mock_3, 1000),\n",
    "                     ]\n",
    "}, columns=[\"Method\", \"Number of Zones\", \"Iteration\", \"Convergence\"])\n",
    "sns.set_style(\"dark\", {\"axes.facecolor\" : \"#F0F8FF\"})\n",
    "fig, comparison_df_plot = plt.subplots(nrows=1, ncols=1, figsize=(15,8))\n",
    "sns.lineplot(data=comparison_df, x=\"Iteration\", y=\"Convergence\", hue=\"Method\", palette=[\"#CD6889\"],\n",
    "             linewidth=3, markers=[\"^\", \"o\", \"s\"], markersize=8, style=\"Number of Zones\")\n",
    "sns.despine(fig=fig, ax=comparison_df_plot, top=True, right=True, offset=10)\n",
    "comparison_df_plot.set_title(\"Trip Distribution Methods Comparison (Forwarded)\\nNumber of Zones = 5, 10 and 15, Initial Mean of Trips = 480,\"\n",
    "                               \"\\nInitial Variance = 12.5% of Initial Trip Mean,\"\n",
    "                               \"\\nTrip Mean Increase for Future Trips = 60%, Trip Variance Increase for Future Trips = 15%\",\n",
    "                               fontdict={\"font\": \"Nirmala UI\", \"color\": \"black\", \"fontsize\": 10, \"weight\": \"bold\"})\n",
    "comparison_df_plot.set_xlabel(\"Number of Iterations\", fontdict={\"font\": \"Nirmala UI\", \"color\": \"black\", \"fontsize\": 10, \"weight\": \"bold\"})\n",
    "comparison_df_plot.set_ylabel(\"Convergence (%)\", fontdict={\"font\": \"Nirmala UI\", \"color\": \"black\", \"fontsize\": 10, \"weight\": \"bold\"})\n",
    "comparison_1_df_plot_legend = comparison_df_plot.legend(labelspacing=1, edgecolor = \"#1874CD\", fontsize=10, frameon=False, bbox_to_anchor=(0.9, 0.85),\n",
    "                                                        prop={\"family\":\"Nirmala UI\", \"weight\": \"bold\", \"style\": \"normal\", \"size\": 10})#,\n",
    "                                                        #title=\"Trip Distribution Methods\")\n",
    "title_comparison_1_df_plot = comparison_1_df_plot_legend.get_title()\n",
    "title_comparison_1_df_plot.set_family(\"Nirmala UI\")\n",
    "title_comparison_1_df_plot.set_weight(\"bold\")\n",
    "title_comparison_1_df_plot.set_size(10)"
   ]
  }
 ],
 "metadata": {
  "kernelspec": {
   "display_name": "data_analysis_31013",
   "language": "python",
   "name": "python3"
  },
  "language_info": {
   "codemirror_mode": {
    "name": "ipython",
    "version": 3
   },
   "file_extension": ".py",
   "mimetype": "text/x-python",
   "name": "python",
   "nbconvert_exporter": "python",
   "pygments_lexer": "ipython3",
   "version": "3.10.13"
  }
 },
 "nbformat": 4,
 "nbformat_minor": 2
}
